{
 "cells": [
  {
   "attachments": {},
   "cell_type": "markdown",
   "metadata": {},
   "source": [
    "**Name:** \\_\\_\\_\\_\\_Huanchen Wang\\_\\_\\_\\_\\_\n",
    "\n",
    "**EID:** \\_\\_\\_\\_\\_57558749\\_\\_\\_\\_\\_"
   ]
  },
  {
   "cell_type": "markdown",
   "metadata": {},
   "source": [
    "# CS5489 - Tutorial 4\n",
    "## Face Detection in Images\n",
    "\n",
    "In this tutorial you will train a classifier to detect whether there is a face in a small image patch.  This type of face detector is used in your phone and camera whenever you take a picture!\n",
    "\n",
    "First we need to initialize Python.  Run the below cell."
   ]
  },
  {
   "cell_type": "code",
   "execution_count": 3,
   "metadata": {},
   "outputs": [],
   "source": [
    "%matplotlib inline\n",
    "import matplotlib_inline   # setup output image format\n",
    "matplotlib_inline.backend_inline.set_matplotlib_formats('svg')\n",
    "import matplotlib.pyplot as plt\n",
    "import matplotlib\n",
    "from numpy import *\n",
    "from sklearn import *\n",
    "import os\n",
    "import zipfile\n",
    "import fnmatch\n",
    "random.seed(100)\n",
    "from scipy import ndimage\n",
    "from scipy import signal\n",
    "from scipy import stats\n",
    "import skimage.color\n",
    "import skimage.exposure\n",
    "import skimage.io\n",
    "import skimage.util\n",
    "import xgboost as xgb"
   ]
  },
  {
   "cell_type": "markdown",
   "metadata": {},
   "source": [
    "## Loading Data and Pre-processing\n",
    "Next we need to load the images.  Download `faces.zip`, and put it in the same direcotry as this ipynb file.  **Do not unzip the file.** Then run the following cell to load the images."
   ]
  },
  {
   "cell_type": "code",
   "execution_count": 4,
   "metadata": {},
   "outputs": [
    {
     "name": "stdout",
     "output_type": "stream",
     "text": [
      "1745\n",
      "944\n"
     ]
    }
   ],
   "source": [
    "imgdata = {'train':[], 'test':[]}\n",
    "classes = {'train':[], 'test':[]}\n",
    "\n",
    "# the dataset is too big, so subsample the training and test sets...\n",
    "# reduce training set by a factor of 4\n",
    "train_subsample = 4  \n",
    "train_counter = [0, 0]\n",
    "# maximum number of samples in each class for test set\n",
    "test_maxsample = 472\n",
    "test_counter = [0, 0]\n",
    "\n",
    "# load the zip file\n",
    "filename = 'faces.zip'\n",
    "zfile = zipfile.ZipFile(filename, 'r')\n",
    "\n",
    "for name in zfile.namelist():\n",
    "    # check file name matches\n",
    "    if fnmatch.fnmatch(name, \"faces/*/*/*.png\"):\n",
    "        \n",
    "        # filename is : faces/train/face/fname.png\n",
    "        (fdir1, fname)  = os.path.split(name)     # get file name\n",
    "        (fdir2, fclass) = os.path.split(fdir1) # get class (face, nonface)\n",
    "        (fdir3, fset)   = os.path.split(fdir2) # get training/test set\n",
    "        # class 1 = face; class 0 = non-face\n",
    "        myclass = int(fclass == \"face\")  \n",
    "\n",
    "        loadme = False\n",
    "        if fset == 'train':\n",
    "            if (train_counter[myclass] % train_subsample) == 0:\n",
    "                loadme = True\n",
    "            train_counter[myclass] += 1\n",
    "        elif fset == 'test':\n",
    "            if test_counter[myclass] < test_maxsample:\n",
    "                loadme = True\n",
    "            test_counter[myclass] += 1\n",
    "            \n",
    "        if (loadme):\n",
    "            # open file in memory, and parse as an image\n",
    "            myfile = zfile.open(name)\n",
    "            #img = matplotlib.image.imread(myfile)\n",
    "            img = skimage.io.imread(myfile, as_gray=True) # read as grayscale\n",
    "            myfile.close()\n",
    "            \n",
    "            # append data\n",
    "            imgdata[fset].append(img)\n",
    "            classes[fset].append(myclass)\n",
    "\n",
    "        \n",
    "zfile.close()\n",
    "imgsize = img.shape\n",
    "\n",
    "print(len(imgdata['train']))\n",
    "print(len(imgdata['test']))\n",
    "trainclass2start = sum(classes['train'])"
   ]
  },
  {
   "cell_type": "markdown",
   "metadata": {},
   "source": [
    "Each image is a 19x19 array of pixel values.  Run the below code to show an example:"
   ]
  },
  {
   "cell_type": "code",
   "execution_count": 5,
   "metadata": {},
   "outputs": [
    {
     "name": "stdout",
     "output_type": "stream",
     "text": [
      "(19, 19)\n"
     ]
    },
    {
     "data": {
      "image/svg+xml": "<?xml version=\"1.0\" encoding=\"utf-8\" standalone=\"no\"?>\r\n<!DOCTYPE svg PUBLIC \"-//W3C//DTD SVG 1.1//EN\"\r\n  \"http://www.w3.org/Graphics/SVG/1.1/DTD/svg11.dtd\">\r\n<!-- Created with matplotlib (https://matplotlib.org/) -->\r\n<svg height=\"198.378068pt\" version=\"1.1\" viewBox=\"0 0 368.925 198.378068\" width=\"368.925pt\" xmlns=\"http://www.w3.org/2000/svg\" xmlns:xlink=\"http://www.w3.org/1999/xlink\">\r\n <metadata>\r\n  <rdf:RDF xmlns:cc=\"http://creativecommons.org/ns#\" xmlns:dc=\"http://purl.org/dc/elements/1.1/\" xmlns:rdf=\"http://www.w3.org/1999/02/22-rdf-syntax-ns#\">\r\n   <cc:Work>\r\n    <dc:type rdf:resource=\"http://purl.org/dc/dcmitype/StillImage\"/>\r\n    <dc:date>2023-02-09T02:18:19.914061</dc:date>\r\n    <dc:format>image/svg+xml</dc:format>\r\n    <dc:creator>\r\n     <cc:Agent>\r\n      <dc:title>Matplotlib v3.3.4, https://matplotlib.org/</dc:title>\r\n     </cc:Agent>\r\n    </dc:creator>\r\n   </cc:Work>\r\n  </rdf:RDF>\r\n </metadata>\r\n <defs>\r\n  <style type=\"text/css\">*{stroke-linecap:butt;stroke-linejoin:round;}</style>\r\n </defs>\r\n <g id=\"figure_1\">\r\n  <g id=\"patch_1\">\r\n   <path d=\"M -0 198.378068 \r\nL 368.925 198.378068 \r\nL 368.925 0 \r\nL -0 0 \r\nz\r\n\" style=\"fill:none;\"/>\r\n  </g>\r\n  <g id=\"axes_1\">\r\n   <g id=\"patch_2\">\r\n    <path d=\"M 26.925 174.499943 \r\nL 179.106818 174.499943 \r\nL 179.106818 22.318125 \r\nL 26.925 22.318125 \r\nz\r\n\" style=\"fill:#ffffff;\"/>\r\n   </g>\r\n   <g clip-path=\"url(#pf86d952a63)\">\r\n    <image height=\"153\" id=\"image2cd82e821f\" transform=\"scale(1 -1)translate(0 -153)\" width=\"153\" x=\"26.925\" xlink:href=\"data:image/png;base64,\r\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\" y=\"-21.499943\"/>\r\n   </g>\r\n   <g id=\"matplotlib.axis_1\">\r\n    <g id=\"xtick_1\">\r\n     <g id=\"line2d_1\">\r\n      <defs>\r\n       <path d=\"M 0 0 \r\nL 0 3.5 \r\n\" id=\"me55313e342\" style=\"stroke:#000000;stroke-width:0.8;\"/>\r\n      </defs>\r\n      <g>\r\n       <use style=\"stroke:#000000;stroke-width:0.8;\" x=\"30.929785\" xlink:href=\"#me55313e342\" y=\"174.499943\"/>\r\n      </g>\r\n     </g>\r\n     <g id=\"text_1\">\r\n      <!-- 0 -->\r\n      <g transform=\"translate(27.748535 189.098381)scale(0.1 -0.1)\">\r\n       <defs>\r\n        <path d=\"M 31.78125 66.40625 \r\nQ 24.171875 66.40625 20.328125 58.90625 \r\nQ 16.5 51.421875 16.5 36.375 \r\nQ 16.5 21.390625 20.328125 13.890625 \r\nQ 24.171875 6.390625 31.78125 6.390625 \r\nQ 39.453125 6.390625 43.28125 13.890625 \r\nQ 47.125 21.390625 47.125 36.375 \r\nQ 47.125 51.421875 43.28125 58.90625 \r\nQ 39.453125 66.40625 31.78125 66.40625 \r\nz\r\nM 31.78125 74.21875 \r\nQ 44.046875 74.21875 50.515625 64.515625 \r\nQ 56.984375 54.828125 56.984375 36.375 \r\nQ 56.984375 17.96875 50.515625 8.265625 \r\nQ 44.046875 -1.421875 31.78125 -1.421875 \r\nQ 19.53125 -1.421875 13.0625 8.265625 \r\nQ 6.59375 17.96875 6.59375 36.375 \r\nQ 6.59375 54.828125 13.0625 64.515625 \r\nQ 19.53125 74.21875 31.78125 74.21875 \r\nz\r\n\" id=\"DejaVuSans-48\"/>\r\n       </defs>\r\n       <use xlink:href=\"#DejaVuSans-48\"/>\r\n      </g>\r\n     </g>\r\n    </g>\r\n    <g id=\"xtick_2\">\r\n     <g id=\"line2d_2\">\r\n      <g>\r\n       <use style=\"stroke:#000000;stroke-width:0.8;\" x=\"70.977632\" xlink:href=\"#me55313e342\" y=\"174.499943\"/>\r\n      </g>\r\n     </g>\r\n     <g id=\"text_2\">\r\n      <!-- 5 -->\r\n      <g transform=\"translate(67.796382 189.098381)scale(0.1 -0.1)\">\r\n       <defs>\r\n        <path d=\"M 10.796875 72.90625 \r\nL 49.515625 72.90625 \r\nL 49.515625 64.59375 \r\nL 19.828125 64.59375 \r\nL 19.828125 46.734375 \r\nQ 21.96875 47.46875 24.109375 47.828125 \r\nQ 26.265625 48.1875 28.421875 48.1875 \r\nQ 40.625 48.1875 47.75 41.5 \r\nQ 54.890625 34.8125 54.890625 23.390625 \r\nQ 54.890625 11.625 47.5625 5.09375 \r\nQ 40.234375 -1.421875 26.90625 -1.421875 \r\nQ 22.3125 -1.421875 17.546875 -0.640625 \r\nQ 12.796875 0.140625 7.71875 1.703125 \r\nL 7.71875 11.625 \r\nQ 12.109375 9.234375 16.796875 8.0625 \r\nQ 21.484375 6.890625 26.703125 6.890625 \r\nQ 35.15625 6.890625 40.078125 11.328125 \r\nQ 45.015625 15.765625 45.015625 23.390625 \r\nQ 45.015625 31 40.078125 35.4375 \r\nQ 35.15625 39.890625 26.703125 39.890625 \r\nQ 22.75 39.890625 18.8125 39.015625 \r\nQ 14.890625 38.140625 10.796875 36.28125 \r\nz\r\n\" id=\"DejaVuSans-53\"/>\r\n       </defs>\r\n       <use xlink:href=\"#DejaVuSans-53\"/>\r\n      </g>\r\n     </g>\r\n    </g>\r\n    <g id=\"xtick_3\">\r\n     <g id=\"line2d_3\">\r\n      <g>\r\n       <use style=\"stroke:#000000;stroke-width:0.8;\" x=\"111.025478\" xlink:href=\"#me55313e342\" y=\"174.499943\"/>\r\n      </g>\r\n     </g>\r\n     <g id=\"text_3\">\r\n      <!-- 10 -->\r\n      <g transform=\"translate(104.662978 189.098381)scale(0.1 -0.1)\">\r\n       <defs>\r\n        <path d=\"M 12.40625 8.296875 \r\nL 28.515625 8.296875 \r\nL 28.515625 63.921875 \r\nL 10.984375 60.40625 \r\nL 10.984375 69.390625 \r\nL 28.421875 72.90625 \r\nL 38.28125 72.90625 \r\nL 38.28125 8.296875 \r\nL 54.390625 8.296875 \r\nL 54.390625 0 \r\nL 12.40625 0 \r\nz\r\n\" id=\"DejaVuSans-49\"/>\r\n       </defs>\r\n       <use xlink:href=\"#DejaVuSans-49\"/>\r\n       <use x=\"63.623047\" xlink:href=\"#DejaVuSans-48\"/>\r\n      </g>\r\n     </g>\r\n    </g>\r\n    <g id=\"xtick_4\">\r\n     <g id=\"line2d_4\">\r\n      <g>\r\n       <use style=\"stroke:#000000;stroke-width:0.8;\" x=\"151.073325\" xlink:href=\"#me55313e342\" y=\"174.499943\"/>\r\n      </g>\r\n     </g>\r\n     <g id=\"text_4\">\r\n      <!-- 15 -->\r\n      <g transform=\"translate(144.710825 189.098381)scale(0.1 -0.1)\">\r\n       <use xlink:href=\"#DejaVuSans-49\"/>\r\n       <use x=\"63.623047\" xlink:href=\"#DejaVuSans-53\"/>\r\n      </g>\r\n     </g>\r\n    </g>\r\n   </g>\r\n   <g id=\"matplotlib.axis_2\">\r\n    <g id=\"ytick_1\">\r\n     <g id=\"line2d_5\">\r\n      <defs>\r\n       <path d=\"M 0 0 \r\nL -3.5 0 \r\n\" id=\"m7ce59269dc\" style=\"stroke:#000000;stroke-width:0.8;\"/>\r\n      </defs>\r\n      <g>\r\n       <use style=\"stroke:#000000;stroke-width:0.8;\" x=\"26.925\" xlink:href=\"#m7ce59269dc\" y=\"26.32291\"/>\r\n      </g>\r\n     </g>\r\n     <g id=\"text_5\">\r\n      <!-- 0 -->\r\n      <g transform=\"translate(13.5625 30.122128)scale(0.1 -0.1)\">\r\n       <use xlink:href=\"#DejaVuSans-48\"/>\r\n      </g>\r\n     </g>\r\n    </g>\r\n    <g id=\"ytick_2\">\r\n     <g id=\"line2d_6\">\r\n      <g>\r\n       <use style=\"stroke:#000000;stroke-width:0.8;\" x=\"26.925\" xlink:href=\"#m7ce59269dc\" y=\"66.370757\"/>\r\n      </g>\r\n     </g>\r\n     <g id=\"text_6\">\r\n      <!-- 5 -->\r\n      <g transform=\"translate(13.5625 70.169975)scale(0.1 -0.1)\">\r\n       <use xlink:href=\"#DejaVuSans-53\"/>\r\n      </g>\r\n     </g>\r\n    </g>\r\n    <g id=\"ytick_3\">\r\n     <g id=\"line2d_7\">\r\n      <g>\r\n       <use style=\"stroke:#000000;stroke-width:0.8;\" x=\"26.925\" xlink:href=\"#m7ce59269dc\" y=\"106.418603\"/>\r\n      </g>\r\n     </g>\r\n     <g id=\"text_7\">\r\n      <!-- 10 -->\r\n      <g transform=\"translate(7.2 110.217822)scale(0.1 -0.1)\">\r\n       <use xlink:href=\"#DejaVuSans-49\"/>\r\n       <use x=\"63.623047\" xlink:href=\"#DejaVuSans-48\"/>\r\n      </g>\r\n     </g>\r\n    </g>\r\n    <g id=\"ytick_4\">\r\n     <g id=\"line2d_8\">\r\n      <g>\r\n       <use style=\"stroke:#000000;stroke-width:0.8;\" x=\"26.925\" xlink:href=\"#m7ce59269dc\" y=\"146.46645\"/>\r\n      </g>\r\n     </g>\r\n     <g id=\"text_8\">\r\n      <!-- 15 -->\r\n      <g transform=\"translate(7.2 150.265669)scale(0.1 -0.1)\">\r\n       <use xlink:href=\"#DejaVuSans-49\"/>\r\n       <use x=\"63.623047\" xlink:href=\"#DejaVuSans-53\"/>\r\n      </g>\r\n     </g>\r\n    </g>\r\n   </g>\r\n   <g id=\"patch_3\">\r\n    <path d=\"M 26.925 174.499943 \r\nL 26.925 22.318125 \r\n\" style=\"fill:none;stroke:#000000;stroke-linecap:square;stroke-linejoin:miter;stroke-width:0.8;\"/>\r\n   </g>\r\n   <g id=\"patch_4\">\r\n    <path d=\"M 179.106818 174.499943 \r\nL 179.106818 22.318125 \r\n\" style=\"fill:none;stroke:#000000;stroke-linecap:square;stroke-linejoin:miter;stroke-width:0.8;\"/>\r\n   </g>\r\n   <g id=\"patch_5\">\r\n    <path d=\"M 26.925 174.499943 \r\nL 179.106818 174.499943 \r\n\" style=\"fill:none;stroke:#000000;stroke-linecap:square;stroke-linejoin:miter;stroke-width:0.8;\"/>\r\n   </g>\r\n   <g id=\"patch_6\">\r\n    <path d=\"M 26.925 22.318125 \r\nL 179.106818 22.318125 \r\n\" style=\"fill:none;stroke:#000000;stroke-linecap:square;stroke-linejoin:miter;stroke-width:0.8;\"/>\r\n   </g>\r\n   <g id=\"text_9\">\r\n    <!-- face sample -->\r\n    <g transform=\"translate(66.514347 16.318125)scale(0.12 -0.12)\">\r\n     <defs>\r\n      <path d=\"M 37.109375 75.984375 \r\nL 37.109375 68.5 \r\nL 28.515625 68.5 \r\nQ 23.6875 68.5 21.796875 66.546875 \r\nQ 19.921875 64.59375 19.921875 59.515625 \r\nL 19.921875 54.6875 \r\nL 34.71875 54.6875 \r\nL 34.71875 47.703125 \r\nL 19.921875 47.703125 \r\nL 19.921875 0 \r\nL 10.890625 0 \r\nL 10.890625 47.703125 \r\nL 2.296875 47.703125 \r\nL 2.296875 54.6875 \r\nL 10.890625 54.6875 \r\nL 10.890625 58.5 \r\nQ 10.890625 67.625 15.140625 71.796875 \r\nQ 19.390625 75.984375 28.609375 75.984375 \r\nz\r\n\" id=\"DejaVuSans-102\"/>\r\n      <path d=\"M 34.28125 27.484375 \r\nQ 23.390625 27.484375 19.1875 25 \r\nQ 14.984375 22.515625 14.984375 16.5 \r\nQ 14.984375 11.71875 18.140625 8.90625 \r\nQ 21.296875 6.109375 26.703125 6.109375 \r\nQ 34.1875 6.109375 38.703125 11.40625 \r\nQ 43.21875 16.703125 43.21875 25.484375 \r\nL 43.21875 27.484375 \r\nz\r\nM 52.203125 31.203125 \r\nL 52.203125 0 \r\nL 43.21875 0 \r\nL 43.21875 8.296875 \r\nQ 40.140625 3.328125 35.546875 0.953125 \r\nQ 30.953125 -1.421875 24.3125 -1.421875 \r\nQ 15.921875 -1.421875 10.953125 3.296875 \r\nQ 6 8.015625 6 15.921875 \r\nQ 6 25.140625 12.171875 29.828125 \r\nQ 18.359375 34.515625 30.609375 34.515625 \r\nL 43.21875 34.515625 \r\nL 43.21875 35.40625 \r\nQ 43.21875 41.609375 39.140625 45 \r\nQ 35.0625 48.390625 27.6875 48.390625 \r\nQ 23 48.390625 18.546875 47.265625 \r\nQ 14.109375 46.140625 10.015625 43.890625 \r\nL 10.015625 52.203125 \r\nQ 14.9375 54.109375 19.578125 55.046875 \r\nQ 24.21875 56 28.609375 56 \r\nQ 40.484375 56 46.34375 49.84375 \r\nQ 52.203125 43.703125 52.203125 31.203125 \r\nz\r\n\" id=\"DejaVuSans-97\"/>\r\n      <path d=\"M 48.78125 52.59375 \r\nL 48.78125 44.1875 \r\nQ 44.96875 46.296875 41.140625 47.34375 \r\nQ 37.3125 48.390625 33.40625 48.390625 \r\nQ 24.65625 48.390625 19.8125 42.84375 \r\nQ 14.984375 37.3125 14.984375 27.296875 \r\nQ 14.984375 17.28125 19.8125 11.734375 \r\nQ 24.65625 6.203125 33.40625 6.203125 \r\nQ 37.3125 6.203125 41.140625 7.25 \r\nQ 44.96875 8.296875 48.78125 10.40625 \r\nL 48.78125 2.09375 \r\nQ 45.015625 0.34375 40.984375 -0.53125 \r\nQ 36.96875 -1.421875 32.421875 -1.421875 \r\nQ 20.0625 -1.421875 12.78125 6.34375 \r\nQ 5.515625 14.109375 5.515625 27.296875 \r\nQ 5.515625 40.671875 12.859375 48.328125 \r\nQ 20.21875 56 33.015625 56 \r\nQ 37.15625 56 41.109375 55.140625 \r\nQ 45.0625 54.296875 48.78125 52.59375 \r\nz\r\n\" id=\"DejaVuSans-99\"/>\r\n      <path d=\"M 56.203125 29.59375 \r\nL 56.203125 25.203125 \r\nL 14.890625 25.203125 \r\nQ 15.484375 15.921875 20.484375 11.0625 \r\nQ 25.484375 6.203125 34.421875 6.203125 \r\nQ 39.59375 6.203125 44.453125 7.46875 \r\nQ 49.3125 8.734375 54.109375 11.28125 \r\nL 54.109375 2.78125 \r\nQ 49.265625 0.734375 44.1875 -0.34375 \r\nQ 39.109375 -1.421875 33.890625 -1.421875 \r\nQ 20.796875 -1.421875 13.15625 6.1875 \r\nQ 5.515625 13.8125 5.515625 26.8125 \r\nQ 5.515625 40.234375 12.765625 48.109375 \r\nQ 20.015625 56 32.328125 56 \r\nQ 43.359375 56 49.78125 48.890625 \r\nQ 56.203125 41.796875 56.203125 29.59375 \r\nz\r\nM 47.21875 32.234375 \r\nQ 47.125 39.59375 43.09375 43.984375 \r\nQ 39.0625 48.390625 32.421875 48.390625 \r\nQ 24.90625 48.390625 20.390625 44.140625 \r\nQ 15.875 39.890625 15.1875 32.171875 \r\nz\r\n\" id=\"DejaVuSans-101\"/>\r\n      <path id=\"DejaVuSans-32\"/>\r\n      <path d=\"M 44.28125 53.078125 \r\nL 44.28125 44.578125 \r\nQ 40.484375 46.53125 36.375 47.5 \r\nQ 32.28125 48.484375 27.875 48.484375 \r\nQ 21.1875 48.484375 17.84375 46.4375 \r\nQ 14.5 44.390625 14.5 40.28125 \r\nQ 14.5 37.15625 16.890625 35.375 \r\nQ 19.28125 33.59375 26.515625 31.984375 \r\nL 29.59375 31.296875 \r\nQ 39.15625 29.25 43.1875 25.515625 \r\nQ 47.21875 21.78125 47.21875 15.09375 \r\nQ 47.21875 7.46875 41.1875 3.015625 \r\nQ 35.15625 -1.421875 24.609375 -1.421875 \r\nQ 20.21875 -1.421875 15.453125 -0.5625 \r\nQ 10.6875 0.296875 5.421875 2 \r\nL 5.421875 11.28125 \r\nQ 10.40625 8.6875 15.234375 7.390625 \r\nQ 20.0625 6.109375 24.8125 6.109375 \r\nQ 31.15625 6.109375 34.5625 8.28125 \r\nQ 37.984375 10.453125 37.984375 14.40625 \r\nQ 37.984375 18.0625 35.515625 20.015625 \r\nQ 33.0625 21.96875 24.703125 23.78125 \r\nL 21.578125 24.515625 \r\nQ 13.234375 26.265625 9.515625 29.90625 \r\nQ 5.8125 33.546875 5.8125 39.890625 \r\nQ 5.8125 47.609375 11.28125 51.796875 \r\nQ 16.75 56 26.8125 56 \r\nQ 31.78125 56 36.171875 55.265625 \r\nQ 40.578125 54.546875 44.28125 53.078125 \r\nz\r\n\" id=\"DejaVuSans-115\"/>\r\n      <path d=\"M 52 44.1875 \r\nQ 55.375 50.25 60.0625 53.125 \r\nQ 64.75 56 71.09375 56 \r\nQ 79.640625 56 84.28125 50.015625 \r\nQ 88.921875 44.046875 88.921875 33.015625 \r\nL 88.921875 0 \r\nL 79.890625 0 \r\nL 79.890625 32.71875 \r\nQ 79.890625 40.578125 77.09375 44.375 \r\nQ 74.3125 48.1875 68.609375 48.1875 \r\nQ 61.625 48.1875 57.5625 43.546875 \r\nQ 53.515625 38.921875 53.515625 30.90625 \r\nL 53.515625 0 \r\nL 44.484375 0 \r\nL 44.484375 32.71875 \r\nQ 44.484375 40.625 41.703125 44.40625 \r\nQ 38.921875 48.1875 33.109375 48.1875 \r\nQ 26.21875 48.1875 22.15625 43.53125 \r\nQ 18.109375 38.875 18.109375 30.90625 \r\nL 18.109375 0 \r\nL 9.078125 0 \r\nL 9.078125 54.6875 \r\nL 18.109375 54.6875 \r\nL 18.109375 46.1875 \r\nQ 21.1875 51.21875 25.484375 53.609375 \r\nQ 29.78125 56 35.6875 56 \r\nQ 41.65625 56 45.828125 52.96875 \r\nQ 50 49.953125 52 44.1875 \r\nz\r\n\" id=\"DejaVuSans-109\"/>\r\n      <path d=\"M 18.109375 8.203125 \r\nL 18.109375 -20.796875 \r\nL 9.078125 -20.796875 \r\nL 9.078125 54.6875 \r\nL 18.109375 54.6875 \r\nL 18.109375 46.390625 \r\nQ 20.953125 51.265625 25.265625 53.625 \r\nQ 29.59375 56 35.59375 56 \r\nQ 45.5625 56 51.78125 48.09375 \r\nQ 58.015625 40.1875 58.015625 27.296875 \r\nQ 58.015625 14.40625 51.78125 6.484375 \r\nQ 45.5625 -1.421875 35.59375 -1.421875 \r\nQ 29.59375 -1.421875 25.265625 0.953125 \r\nQ 20.953125 3.328125 18.109375 8.203125 \r\nz\r\nM 48.6875 27.296875 \r\nQ 48.6875 37.203125 44.609375 42.84375 \r\nQ 40.53125 48.484375 33.40625 48.484375 \r\nQ 26.265625 48.484375 22.1875 42.84375 \r\nQ 18.109375 37.203125 18.109375 27.296875 \r\nQ 18.109375 17.390625 22.1875 11.75 \r\nQ 26.265625 6.109375 33.40625 6.109375 \r\nQ 40.53125 6.109375 44.609375 11.75 \r\nQ 48.6875 17.390625 48.6875 27.296875 \r\nz\r\n\" id=\"DejaVuSans-112\"/>\r\n      <path d=\"M 9.421875 75.984375 \r\nL 18.40625 75.984375 \r\nL 18.40625 0 \r\nL 9.421875 0 \r\nz\r\n\" id=\"DejaVuSans-108\"/>\r\n     </defs>\r\n     <use xlink:href=\"#DejaVuSans-102\"/>\r\n     <use x=\"35.205078\" xlink:href=\"#DejaVuSans-97\"/>\r\n     <use x=\"96.484375\" xlink:href=\"#DejaVuSans-99\"/>\r\n     <use x=\"151.464844\" xlink:href=\"#DejaVuSans-101\"/>\r\n     <use x=\"212.988281\" xlink:href=\"#DejaVuSans-32\"/>\r\n     <use x=\"244.775391\" xlink:href=\"#DejaVuSans-115\"/>\r\n     <use x=\"296.875\" xlink:href=\"#DejaVuSans-97\"/>\r\n     <use x=\"358.154297\" xlink:href=\"#DejaVuSans-109\"/>\r\n     <use x=\"455.566406\" xlink:href=\"#DejaVuSans-112\"/>\r\n     <use x=\"519.042969\" xlink:href=\"#DejaVuSans-108\"/>\r\n     <use x=\"546.826172\" xlink:href=\"#DejaVuSans-101\"/>\r\n    </g>\r\n   </g>\r\n  </g>\r\n  <g id=\"axes_2\">\r\n   <g id=\"patch_7\">\r\n    <path d=\"M 209.543182 174.499943 \r\nL 361.725 174.499943 \r\nL 361.725 22.318125 \r\nL 209.543182 22.318125 \r\nz\r\n\" style=\"fill:#ffffff;\"/>\r\n   </g>\r\n   <g clip-path=\"url(#p85a730d2b4)\">\r\n    <image height=\"153\" id=\"image6fd4da5fdc\" transform=\"scale(1 -1)translate(0 -153)\" width=\"153\" x=\"209.543182\" xlink:href=\"data:image/png;base64,\r\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\" y=\"-21.499943\"/>\r\n   </g>\r\n   <g id=\"matplotlib.axis_3\">\r\n    <g id=\"xtick_5\">\r\n     <g id=\"line2d_9\">\r\n      <g>\r\n       <use style=\"stroke:#000000;stroke-width:0.8;\" x=\"213.547967\" xlink:href=\"#me55313e342\" y=\"174.499943\"/>\r\n      </g>\r\n     </g>\r\n     <g id=\"text_10\">\r\n      <!-- 0 -->\r\n      <g transform=\"translate(210.366717 189.098381)scale(0.1 -0.1)\">\r\n       <use xlink:href=\"#DejaVuSans-48\"/>\r\n      </g>\r\n     </g>\r\n    </g>\r\n    <g id=\"xtick_6\">\r\n     <g id=\"line2d_10\">\r\n      <g>\r\n       <use style=\"stroke:#000000;stroke-width:0.8;\" x=\"253.595813\" xlink:href=\"#me55313e342\" y=\"174.499943\"/>\r\n      </g>\r\n     </g>\r\n     <g id=\"text_11\">\r\n      <!-- 5 -->\r\n      <g transform=\"translate(250.414563 189.098381)scale(0.1 -0.1)\">\r\n       <use xlink:href=\"#DejaVuSans-53\"/>\r\n      </g>\r\n     </g>\r\n    </g>\r\n    <g id=\"xtick_7\">\r\n     <g id=\"line2d_11\">\r\n      <g>\r\n       <use style=\"stroke:#000000;stroke-width:0.8;\" x=\"293.64366\" xlink:href=\"#me55313e342\" y=\"174.499943\"/>\r\n      </g>\r\n     </g>\r\n     <g id=\"text_12\">\r\n      <!-- 10 -->\r\n      <g transform=\"translate(287.28116 189.098381)scale(0.1 -0.1)\">\r\n       <use xlink:href=\"#DejaVuSans-49\"/>\r\n       <use x=\"63.623047\" xlink:href=\"#DejaVuSans-48\"/>\r\n      </g>\r\n     </g>\r\n    </g>\r\n    <g id=\"xtick_8\">\r\n     <g id=\"line2d_12\">\r\n      <g>\r\n       <use style=\"stroke:#000000;stroke-width:0.8;\" x=\"333.691507\" xlink:href=\"#me55313e342\" y=\"174.499943\"/>\r\n      </g>\r\n     </g>\r\n     <g id=\"text_13\">\r\n      <!-- 15 -->\r\n      <g transform=\"translate(327.329007 189.098381)scale(0.1 -0.1)\">\r\n       <use xlink:href=\"#DejaVuSans-49\"/>\r\n       <use x=\"63.623047\" xlink:href=\"#DejaVuSans-53\"/>\r\n      </g>\r\n     </g>\r\n    </g>\r\n   </g>\r\n   <g id=\"matplotlib.axis_4\">\r\n    <g id=\"ytick_5\">\r\n     <g id=\"line2d_13\">\r\n      <g>\r\n       <use style=\"stroke:#000000;stroke-width:0.8;\" x=\"209.543182\" xlink:href=\"#m7ce59269dc\" y=\"26.32291\"/>\r\n      </g>\r\n     </g>\r\n     <g id=\"text_14\">\r\n      <!-- 0 -->\r\n      <g transform=\"translate(196.180682 30.122128)scale(0.1 -0.1)\">\r\n       <use xlink:href=\"#DejaVuSans-48\"/>\r\n      </g>\r\n     </g>\r\n    </g>\r\n    <g id=\"ytick_6\">\r\n     <g id=\"line2d_14\">\r\n      <g>\r\n       <use style=\"stroke:#000000;stroke-width:0.8;\" x=\"209.543182\" xlink:href=\"#m7ce59269dc\" y=\"66.370757\"/>\r\n      </g>\r\n     </g>\r\n     <g id=\"text_15\">\r\n      <!-- 5 -->\r\n      <g transform=\"translate(196.180682 70.169975)scale(0.1 -0.1)\">\r\n       <use xlink:href=\"#DejaVuSans-53\"/>\r\n      </g>\r\n     </g>\r\n    </g>\r\n    <g id=\"ytick_7\">\r\n     <g id=\"line2d_15\">\r\n      <g>\r\n       <use style=\"stroke:#000000;stroke-width:0.8;\" x=\"209.543182\" xlink:href=\"#m7ce59269dc\" y=\"106.418603\"/>\r\n      </g>\r\n     </g>\r\n     <g id=\"text_16\">\r\n      <!-- 10 -->\r\n      <g transform=\"translate(189.818182 110.217822)scale(0.1 -0.1)\">\r\n       <use xlink:href=\"#DejaVuSans-49\"/>\r\n       <use x=\"63.623047\" xlink:href=\"#DejaVuSans-48\"/>\r\n      </g>\r\n     </g>\r\n    </g>\r\n    <g id=\"ytick_8\">\r\n     <g id=\"line2d_16\">\r\n      <g>\r\n       <use style=\"stroke:#000000;stroke-width:0.8;\" x=\"209.543182\" xlink:href=\"#m7ce59269dc\" y=\"146.46645\"/>\r\n      </g>\r\n     </g>\r\n     <g id=\"text_17\">\r\n      <!-- 15 -->\r\n      <g transform=\"translate(189.818182 150.265669)scale(0.1 -0.1)\">\r\n       <use xlink:href=\"#DejaVuSans-49\"/>\r\n       <use x=\"63.623047\" xlink:href=\"#DejaVuSans-53\"/>\r\n      </g>\r\n     </g>\r\n    </g>\r\n   </g>\r\n   <g id=\"patch_8\">\r\n    <path d=\"M 209.543182 174.499943 \r\nL 209.543182 22.318125 \r\n\" style=\"fill:none;stroke:#000000;stroke-linecap:square;stroke-linejoin:miter;stroke-width:0.8;\"/>\r\n   </g>\r\n   <g id=\"patch_9\">\r\n    <path d=\"M 361.725 174.499943 \r\nL 361.725 22.318125 \r\n\" style=\"fill:none;stroke:#000000;stroke-linecap:square;stroke-linejoin:miter;stroke-width:0.8;\"/>\r\n   </g>\r\n   <g id=\"patch_10\">\r\n    <path d=\"M 209.543182 174.499943 \r\nL 361.725 174.499943 \r\n\" style=\"fill:none;stroke:#000000;stroke-linecap:square;stroke-linejoin:miter;stroke-width:0.8;\"/>\r\n   </g>\r\n   <g id=\"patch_11\">\r\n    <path d=\"M 209.543182 22.318125 \r\nL 361.725 22.318125 \r\n\" style=\"fill:none;stroke:#000000;stroke-linecap:square;stroke-linejoin:miter;stroke-width:0.8;\"/>\r\n   </g>\r\n   <g id=\"text_18\">\r\n    <!-- non-face sample -->\r\n    <g transform=\"translate(235.691591 16.318125)scale(0.12 -0.12)\">\r\n     <defs>\r\n      <path d=\"M 54.890625 33.015625 \r\nL 54.890625 0 \r\nL 45.90625 0 \r\nL 45.90625 32.71875 \r\nQ 45.90625 40.484375 42.875 44.328125 \r\nQ 39.84375 48.1875 33.796875 48.1875 \r\nQ 26.515625 48.1875 22.3125 43.546875 \r\nQ 18.109375 38.921875 18.109375 30.90625 \r\nL 18.109375 0 \r\nL 9.078125 0 \r\nL 9.078125 54.6875 \r\nL 18.109375 54.6875 \r\nL 18.109375 46.1875 \r\nQ 21.34375 51.125 25.703125 53.5625 \r\nQ 30.078125 56 35.796875 56 \r\nQ 45.21875 56 50.046875 50.171875 \r\nQ 54.890625 44.34375 54.890625 33.015625 \r\nz\r\n\" id=\"DejaVuSans-110\"/>\r\n      <path d=\"M 30.609375 48.390625 \r\nQ 23.390625 48.390625 19.1875 42.75 \r\nQ 14.984375 37.109375 14.984375 27.296875 \r\nQ 14.984375 17.484375 19.15625 11.84375 \r\nQ 23.34375 6.203125 30.609375 6.203125 \r\nQ 37.796875 6.203125 41.984375 11.859375 \r\nQ 46.1875 17.53125 46.1875 27.296875 \r\nQ 46.1875 37.015625 41.984375 42.703125 \r\nQ 37.796875 48.390625 30.609375 48.390625 \r\nz\r\nM 30.609375 56 \r\nQ 42.328125 56 49.015625 48.375 \r\nQ 55.71875 40.765625 55.71875 27.296875 \r\nQ 55.71875 13.875 49.015625 6.21875 \r\nQ 42.328125 -1.421875 30.609375 -1.421875 \r\nQ 18.84375 -1.421875 12.171875 6.21875 \r\nQ 5.515625 13.875 5.515625 27.296875 \r\nQ 5.515625 40.765625 12.171875 48.375 \r\nQ 18.84375 56 30.609375 56 \r\nz\r\n\" id=\"DejaVuSans-111\"/>\r\n      <path d=\"M 4.890625 31.390625 \r\nL 31.203125 31.390625 \r\nL 31.203125 23.390625 \r\nL 4.890625 23.390625 \r\nz\r\n\" id=\"DejaVuSans-45\"/>\r\n     </defs>\r\n     <use xlink:href=\"#DejaVuSans-110\"/>\r\n     <use x=\"63.378906\" xlink:href=\"#DejaVuSans-111\"/>\r\n     <use x=\"124.560547\" xlink:href=\"#DejaVuSans-110\"/>\r\n     <use x=\"187.939453\" xlink:href=\"#DejaVuSans-45\"/>\r\n     <use x=\"224.023438\" xlink:href=\"#DejaVuSans-102\"/>\r\n     <use x=\"259.228516\" xlink:href=\"#DejaVuSans-97\"/>\r\n     <use x=\"320.507812\" xlink:href=\"#DejaVuSans-99\"/>\r\n     <use x=\"375.488281\" xlink:href=\"#DejaVuSans-101\"/>\r\n     <use x=\"437.011719\" xlink:href=\"#DejaVuSans-32\"/>\r\n     <use x=\"468.798828\" xlink:href=\"#DejaVuSans-115\"/>\r\n     <use x=\"520.898438\" xlink:href=\"#DejaVuSans-97\"/>\r\n     <use x=\"582.177734\" xlink:href=\"#DejaVuSans-109\"/>\r\n     <use x=\"679.589844\" xlink:href=\"#DejaVuSans-112\"/>\r\n     <use x=\"743.066406\" xlink:href=\"#DejaVuSans-108\"/>\r\n     <use x=\"770.849609\" xlink:href=\"#DejaVuSans-101\"/>\r\n    </g>\r\n   </g>\r\n  </g>\r\n </g>\r\n <defs>\r\n  <clipPath id=\"pf86d952a63\">\r\n   <rect height=\"152.181818\" width=\"152.181818\" x=\"26.925\" y=\"22.318125\"/>\r\n  </clipPath>\r\n  <clipPath id=\"p85a730d2b4\">\r\n   <rect height=\"152.181818\" width=\"152.181818\" x=\"209.543182\" y=\"22.318125\"/>\r\n  </clipPath>\r\n </defs>\r\n</svg>\r\n",
      "text/plain": [
       "<Figure size 432x288 with 2 Axes>"
      ]
     },
     "metadata": {
      "needs_background": "light"
     },
     "output_type": "display_data"
    }
   ],
   "source": [
    "print(img.shape)\n",
    "plt.subplot(1,2,1)\n",
    "plt.imshow(imgdata['train'][0], cmap='gray', interpolation='nearest')\n",
    "plt.title(\"face sample\")\n",
    "plt.subplot(1,2,2)\n",
    "plt.imshow(imgdata['train'][trainclass2start], cmap='gray', interpolation='nearest')\n",
    "plt.title(\"non-face sample\")\n",
    "plt.show()"
   ]
  },
  {
   "cell_type": "markdown",
   "metadata": {},
   "source": [
    "Run the below code to show more images!"
   ]
  },
  {
   "cell_type": "code",
   "execution_count": 6,
   "metadata": {},
   "outputs": [
    {
     "data": {
      "image/svg+xml": "<?xml version=\"1.0\" encoding=\"utf-8\" standalone=\"no\"?>\r\n<!DOCTYPE svg PUBLIC \"-//W3C//DTD SVG 1.1//EN\"\r\n  \"http://www.w3.org/Graphics/SVG/1.1/DTD/svg11.dtd\">\r\n<!-- Created with matplotlib (https://matplotlib.org/) -->\r\n<svg height=\"485.535765pt\" version=\"1.1\" viewBox=\"0 0 542.6875 485.535765\" width=\"542.6875pt\" xmlns=\"http://www.w3.org/2000/svg\" xmlns:xlink=\"http://www.w3.org/1999/xlink\">\r\n <metadata>\r\n  <rdf:RDF xmlns:cc=\"http://creativecommons.org/ns#\" xmlns:dc=\"http://purl.org/dc/elements/1.1/\" xmlns:rdf=\"http://www.w3.org/1999/02/22-rdf-syntax-ns#\">\r\n   <cc:Work>\r\n    <dc:type rdf:resource=\"http://purl.org/dc/dcmitype/StillImage\"/>\r\n    <dc:date>2023-02-09T02:18:23.992488</dc:date>\r\n    <dc:format>image/svg+xml</dc:format>\r\n    <dc:creator>\r\n     <cc:Agent>\r\n      <dc:title>Matplotlib v3.3.4, https://matplotlib.org/</dc:title>\r\n     </cc:Agent>\r\n    </dc:creator>\r\n   </cc:Work>\r\n  </rdf:RDF>\r\n </metadata>\r\n <defs>\r\n  <style type=\"text/css\">*{stroke-linecap:butt;stroke-linejoin:round;}</style>\r\n </defs>\r\n <g id=\"figure_1\">\r\n  <g id=\"patch_1\">\r\n   <path d=\"M 0 485.535765 \r\nL 542.6875 485.535765 \r\nL 542.6875 0 \r\nL 0 0 \r\nz\r\n\" style=\"fill:none;\"/>\r\n  </g>\r\n  <g id=\"axes_1\">\r\n   <g id=\"patch_2\">\r\n    <path d=\"M 33.2875 461.65764 \r\nL 535.4875 461.65764 \r\nL 535.4875 9.67764 \r\nL 33.2875 9.67764 \r\nz\r\n\" style=\"fill:#ffffff;\"/>\r\n   </g>\r\n   <g clip-path=\"url(#pbd2974be36)\">\r\n    <image height=\"452\" id=\"image07c8ee5226\" transform=\"scale(1 -1)translate(0 -452)\" width=\"503\" x=\"33.2875\" xlink:href=\"data:image/png;base64,\r\niVBORw0KGgoAAAANSUhEUgAAAfcAAAHECAYAAAAkm2MkAAEAAElEQVR4nOy9adx3VXXef/nv3SFpmzad0yGDSTOoSVAIKjMyI8g8CIogIqKiKGhUFCNiGJQoIQIKyqCIgAIi8zwpgxCNGhMxaZOmbTrPbTr3/6L57vM9z70ONxit+vus681znvO7zzn77L32Pntd+1prPy3J/8kf42/8jb+RJPlbf+tvpcJ/+A//IUnyMz/zM+PcXnvtNY632267JMnjjz8+zp1zzjlJkn/yT/7JOPcv/sW/GMf/8T/+x/JZTxX/5//8n/L8f/tv/y1J8pWvfGWc+2f/7J+N47/7d//uumvuuuuuJMm/+Tf/Zpzze/7UT/1UkuRP/+k/Pc799//+38fxv/23/3b27E1x7733Jkk+97nPjXP/8l/+y3F89dVXJ0n+/J//8+PcH/3RH43jG264IUnyr/7Vv1p37z/4gz8Yxw888MA4/gf/4B8kSX76p396nNttt93G8f/8n/8zSfJf/+t/Hecee+yxcUxZ/U5/5s/8mXH8oz/6o0mSv/SX/tK6axrfHXAf+R//43+MY/q1f//f//t/j2P6gfu1+zDH7st77rnnOP7bf/tvJ0l+4Ad+YJz7c3/uz43j//Sf/lOS5G1ve9s4d+SRR45j+sHZZ589zt1///2zsiXJX/yLf3HdM//qX/2r49y//tf/Optiiy22GMePPvroOP7d3/3dJMna2tq6a5KpjxtPe9rTxjFjg59P/f77f//vxzn3Ufqex98f/MEfLI+/2/Cud73rO12Exib4/77TBWg0Go1Go/GtRX/cG41Go9FYMcw4J6hfU8ymhqG6ttpqq3HOtPZv/uZvJkluueWWddebwv5mYMrN9B/nodGS5Pu///vXXQ/tvGmZ/9pf+2vr/vbHfuzH1p37wz/8w3F8zz33JJmo7iT5xje+MY6hL//Lf/kv45xpdShR06DVMXRlkvze7/3eOP6n//SfJknOPffccQ5q9ed+7ufGOb/n3/ybfzNJ8oxnPGOc+wt/4S+MY5YqfvInf3KcO+igg8YxdL9p0H/0j/7ROL7zzjvXlbPx3QvTzdDlXnL5X//rf41jllp+4id+Ypzz33opBri/cy/buO/PsZeETjrppHEMtf1bv/Vb657zV/7KXxnHts2vfe1rSZK//Jf/8jjnpQjGkN///d9fdy6ZliU8PpgWh4L3O7keWLr0Mthv//ZvJ0l+/dd/fZzzuPb//X//19dy3ZrqB/T1ZD4G/bt/9+/Wlcng/n/2z/7Zcc524LF+02f5m+C28xjS+O5Ce+6NRqPRaKwYZp47s8i/83f+zjjn2RweMTPEJPnkJz85jn0eILaxF/vNiOgqbz1Jvu/7vi9J8uUvf3mc+9KXvjSOma0eccQR49yP/MiPrCvfP/7H/3icw5OxV2Aws/7iF79Y/o7361k3rEcyCRef/vSnj3MPPfTQOEas43N+FuK7P/Wn/tQ4B9uw9957j3NmUBAU7rvvvuOc2xYRoUVHiOSS5O///b+fJPnoRz86zj3yyCPjGK/G92wv/rsLFslV4jl72z7GzpYEogjE3AfNIMH02bbsCTJuWKRmwR5Ctx/+4R9eV6bNNttsnPv6178+jmG37M37/fFezei5v9NfzWRZEPgP/+E/TDIXlf74j//4OH7wwQeTzD1rmDSzCa5nxjUL7iz+xcv27xbQ3n333UnmLKPfDwbE9WjPm3K5nXlPsyoey5/1rGel8d2J9twbjUaj0Vgx9Me90Wg0Go0Vw5opbmgnx2ZCa/t3KNpkLiL5zGc+k2Qesw3VthEV73IYXAeVncwFbwjViD3f9Hfot7/+1//6OGeqDsrPVNnP//zPr7vn7/zO74xjynLaaaeNc6bCLrrooiTz2H4La6D/LJjz78QAm8o3Lc/yyAknnDDO/cIv/EKS5D//5/88zpmW5/5LSw3QqBbJXXLJJeMY+g3RZDIXGB166KFJ5jSkY3hNJTa+M7CgzMdQ9CxxJfN+D01rIZf72Kc//ekk8zj4bbfddhzTtz0GWGDKuPLsZz/7Cctv22TJyEuBiEb9Lu7rHgOg0C3EtVCMMdBUvPsz9bfDDjuMc+57lRCOv/17f+/vjXOuZ45N9TuXBRS7x2eLhzn2cpjrnCUAj1Ue96gzl4llAb+bbYflFS91Nr470J57o9FoNBorhv64NxqNRqOxYlgzxQM1a8rMcaDQWo6fruK3rXrdiI6H4jYtb7U+VNL2228/zh1++OHj+Prrr08ypXRN5vQaan6XyVQWNLWpKOrEZTctDhXo9K2HHXbYOD7xxBPXvaeXKqCyrFT9oR/6oXGMMtU0o5W40PWmGaHX/Jy3vOUt45g6NbXoCAFSXpoGNA371a9+dXafZL5sQaraKmLiqaCKmV4Cimm3d9P/y3BftfqZpSurya1mhw72OdToydQ3qjj0ZKL9bZteMjrggANm/ybz8aC6L2V2mUxnYxvuIxXt7+U+P5P6cR9wH6Rvug8TW58kO++8c5L5cttznvOcdWW2Wp568tKZbbtKeesysXzi+zsFNCp3R9lUY62vZ0x3ORwRs7Sc2vjOoz33RqPRaDRWDGuOeWTGaC/VcZYcV15oMo9/fCJ4tokQzAIdBG3J5Al6humZ7X777beuTN544QUveEGSeVYmC1qIpz366KPHudtvvz1Jsssuu4xz1aYUL3zhC8c5e8SU1bG+ZgZuvPHGJPOZ/h133DGO3/e+9yWZi3ksrsMb8eYbZMizgMibYlTlrMR19lQsNiKe1p616xGRjkWCbgfqz2KcTd8nmXsVeBKO1a028rAXalYJZqK9+f8LC9JsW9Sv28Z1Tt8idjuZty0bRhnXXHPNOL7pppuSTOzPpsCjNe67776Ft/i/YIyw5+3Y+GqTGIPMc9tss80498//+T8fx44fB87uaNsHtn3uZTaBMcjs2Oabbz6O8czNoJjRg3F0H3c7MYZazOcMe5///OeTzPuYhXIwB2YIOLbn7rGY+7vMje8OtOfeaDQajcaKoT/ujUaj0WisGNZM1SHIMCVlEQ4wVW9qGDhe1sfAKR2h5Ew/maYldvbWW28d5xxzzvUWsUH1JxP1/LznPW+cM8VN+R2nudNOOyWZ7+FumvH5z39+kjmlZ3Ea9Bdx/0lyxRVXjGPS45oy837IiHRM87lOKLPFPFB2Th1pmhHq2tSlxW/Qe06J63sR527q1hQ/VKFpUos1ofNNU/JMU+1e/uC42mQkmeh2CyS9rGD6sTFfNnM90p/dnl6SqURTGwll3UeBbc92wpKS77kkztv0+R6LvHkT7+fxyxu20N9t415qoO+7j3qMwLaWBKQI2aplJNurKfBqGcrLeYxlpt19PePFkoiQpRiPZRZGMlZ7GYv+6nJYZE39eVOhxncH2nNvNBqNRmPF0B/3RqPRaDRWDGvVTk1LlBv0nJW2jnmEgrIy3VQcqKh8w3Q0FJQV0bfddts4piymoE3FsVOUd4wiNt5gR6Vk2iHN50zZ8Z6mtEwz8nxT7aa1XvKSlySZx+6b1qIdrBj2jls835Qhx6alL7/88nEMhe9lEquXoWz9nrYDqD4vn7ieoe+c2tLpaWk/U4bYjmlK71bGEoBpSh9X5ViKIf5uhnc2q+BdDv8kMAXtY+h425jbHkW1+7ojatzOwEsyFcXucWEjZTxwZA9pjv0eHjeqsm299dbjmCgb27MjQThvG/KSFLS/07e6foiDZ1e1ZFLJO/b94YcfXvf8pdh7lgLcX7y8wtLg0lIBZXL+DPaYT6b6cx+iHZ1y3FE2Vv43vrvQnnuj0Wg0GiuGtcpLrzaTSabZmwVxBjNPe+YI4jwrtmiLuGR7X/Y+Eb85A5zjTSmLxULEtifJlVdemWQe42sPgFmwr7/nnnuSJF/4whfGOc/QmeE67tf1yAze8b/vfOc7xzGet+Pkq+xdZg7sVSHks9eBh+K6q/aNrjbscJm98YvFb3hqzlFgj5MYW3sq3kgEZsHxwXgA9ojsfeGV+Xe3E+9q27Inx/ub1flWwe/+rfKsv90we2SPlH5t78ziNMRhtlELXMmn8I53vGOcczsQ525Wx948x0t9lPM+R5y7GT3bCd6xxbUed4jV9kZIjvnGzuzZWmiMqMxjpQWJlNlME+I/l8NZLvGoXc9mQavNaOxl40XbczebwLhsxs8sAO/iMYIxxhsBedyAEa3yVzS+s2jPvdFoNBqNFUN/3BuNRqPRWDGsWbwBReM4cFNIUKpOa2oKCarKqWShkE3JVbHQjp00VcTzTUGbnoKWMgVseg+a2EIu4tSTiRL87Gc/O85Bz1msYprxuOOOSzJPL2uBEDHfrhvH2ELjmrJzTDZ1YsGdqTAo+B133HGcI97VtPWRRx45jnmWKWTTc4gDWcbYtHxQ9K4HP4v6817Su++++zhmKcKCPqg839PtDA1qys+2AbXq313n383YSET37YBFpabgaUcvidieob7J35DMKXL608/+7M+Oc1U6UsdXG4wHS6lk/Syw5557JkkeeOCBca7ac9xLa16eoQ89+uij45yFZghQL7jggnHOMeWMkRYOVilvvUQJRe7lMgvq6ONLy6KUyUsq1QY//t3tAN1uQZxTfTOuVqm63W89VtE2zovQ+O5Ae+6NRqPRaKwY1uxlM6PzbNAeN+ed7c0eSLU9KzNkC7G88QEeocvh2a5nrsAiGrw+b/nqmT4Z7CwmssiEzGt33nnnuvsveRqPPPJIkuS0004b5zwDx+P3DNqzYc77d8+MEQxW27wmk3dq8Rxelz1be9Fsz+r2cj3wu0V0tgMEdc7EZxYAMZHFOM6gx7s6NIljP8deBZ65vbgqY6JDEquMYH9SWBhJ29pL/JPC7QC+lfcH3v7Tm3/g5TozmTO/VVuN2sum/GbMvIEPHr29RAvyYLUchvmJT3ziCd+lyprnOkNU5meSedKwvVuIhkDW2xr7d0LpDIvzCDO1vVOPHt+qEFfbsP+WMcJlrkSSHgOq690vK4/cYy6hqR6zPW75+Y3vLnTLNBqNRqOxYuiPe6PRaDQaK4Y1b36CIGRp4xjEFVXWpCT50R/90cUHmf6xoASKycIP35MymXIzxQ3F9NznPnec22OPPcbxz/zMzySZU/kW1rDs4AxxlSjL1DDHjm3fcsstxzE0rmNs/f6I+BxT7oxfwII+x3IjnPH1CApNHZp+A6ZjDe5voZXrgbZ1OU0pUieuZ5cf+s4ZraBzTR3atqgzt7ep4yqj4reDJjRt/v+Khtwodv5PGmfvdqTNWaJK5vbOBkim3ZfuBQ4++OBxjOjMdefyE1PvPl6J6+jLLrNtzKJVBLoWyXn5hmfZhp05DrFptSSRTHS74+At6gUe64gV9/71999//zjeKKNiteRU2aPHT1/DeZ/zGIGdW3xM/Xn8cn/1EkHjuwvtuTcajUajsWLoj3uj0Wg0GiuGNdNG0PGmdisqyFSVqTBTVID0sFadmsKG4nGMbZUi1fRRRTUdcMAB45xTnKIyN+Xl9yN292tf+9o4B31nBb3VojzTlB9xt8lEyztO3Hu7o7Y3pVjRfz7ndJ3QoKYxeaZjyx0/Dkybu56gdinbpn9Lmzgtqak6qFfT6lY/87em/FD1mnZ3nWITXjKx+hi61upgxzV/q5TzXhLh/Rzf7HdiicB1t5Hyvfr9qcTBP9m/tY1aDc+x+5iXZ7baaqt19zJFDkzPO8KAPmx7dPQHqaXZsGkJ7gP0J9uwl3zoWx5XfuM3fmMcP/bYY0nqmO1kilQxVe+8DtiBfzeguA8//PBxjjHIy4JLm/lUcD8BLj/v/FTu4+tpf49b2L7bqxp/q017Gt9ZtOfeaDQajcaKYc1ebBVD7LhjxBOewdpbJxtctQmMYyftkTLz82zS3h+zxCWxCaIqZyljVp5MWbnsXdkTPOWUU5LMN2nBQ3AGOs9cjz766CRzj8mCQIQ1FiZWYkNvPGMvmHe2F2txHvid3/mdcbzzzjsnmbeXvTPihi2AcZnI1GXvyHH01Kln6N6eFQbG93RZ8AT9fAR7bjsf40m4Hixuw058jevxW4Uf+ZEfGce8n/uAmQNEZ647C/7wrtzvbDvUo/uDGR4YJL+z64fzfmaVS8JeOh63Nz4x00acuvttFb/tjZB8L47NAPh6xgCzQmZGOLZtfvrTn04yZcBMlje+AWYb8PjdRx2bT2bMZz7zmeOc2wG4nv3+nPe4BUtqEZwZwQruQxt55BWeyv2xEwtpqXvXg9uOd6m29m58Z9Gee6PRaDQaK4b+uDcajUajsWJYs5gH8cSSEAkK3Ht2m2KC9jMFDu1jmvJTn/rUOIaGdKpV7xcP5WlKzGWGJr7tttvGOdNvXOdNM84888xxDKVYCdpMs3mzGagqp031phqXXnppkrnAx6lgidU2pWdqlthb063e5IX0v35P6GiLkn7t135tHENTmu6tqDTHF1c0pGlG04QIyFzPpuCxA8fZc38vH7hMvN/SntbQuRa82R4tDPqTwOmWsTcLkUzbVyl1nY+g2rzDdlDR8n4n+qaXRyyKxU5cp/Qhx3mTHjVJvvKVrySZL6m4Tn0v4CUh+oPrwUtOd9xxR5K5bXlZABGky+SlM+rEG7MQM+569HIeZbHgzhS1rwOuU+rEdetxkevdTk7VzXmXif5gWnsjbESrfyvBGOSlL97Zy0Dug9+OdM+Nbw3ac280Go1GY8XQH/dGo9FoNFYMa6ZgoFZNZ1oxzg5Lppqc9hWKxkpi1MOm1JxCFMrSceZWygJf7/JBOXpHJii1ZKL/TPk5zhR61TQhlJt3rrrvvvvGMTSq1bVOyYi62LS+aXsUut5hzZTeOeeck2ROUVut+uxnPztJsuuuu45zUH6mvZ0ClGtMt5q2J77dlKHbhPfze3opA4reCnoDytMUM4pk0/dVmkvT/6YpuaeXCr6VNCF15SURbMP2aAqe2H7bqJepUI6b2jRtX0UAeHmEunIfcp2xlOMlHShi25PV5JTPESG+Pyp0qPBknjaV331/L0OxpGXb+/jHPz6OP/ShDyWZp7f1GFDR2MSk+z3dDvRN24vHJfogaWo3vR47sm26b2ETHj+rCIAqPWu11/3/C1RLEV5W4F28lMH472gn2+NSf29859Gee6PRaDQaK4Y1x0/fc889//ekvB97LQjm7HV45oaAzF4N8Ezcnv8P/dAPJZnPZqvMaPxdMp9hMzO2Z23BH7GxFrdZrEOsuj1SZt2eoVpURDY3e1f2hKg/l9liIjxeezJ+fwRI9p4cN0yM7zve8Y5x7t3vfneSZJ999hnnLEykzVzmN77xjeMYZsFsguOG8ezNMLidaAfbg+0AD8vviTdgIVYl0jNDUMWX2yOxbX6r9kS30Awv2R6b6wQBlj1CtzP14LpznSF6s/fkvsP72yM0SwAL4GdSVtet+yBMlIV9zi6Ix+p4fjN69FF77u5P/K37iI/pG+4jth3HtwPYAPcL1xlt5t9t+9iUhbwwScmUec71VNme674SHlqQR/y46/E7DQtDsQ/3N9gxs09+597P/bsX3TKNRqPRaKwY+uPeaDQajcaKYc17CyPasgjFFDeitSr+OZnTXgBK0WIT01LQQk5Za9od2sc0YyXuII1sMt+kBTrJVLz3cH7ggQeSzGOAoVmdgtOUHEK7Ku41mQR1rscrr7xyHBPzv7SBA9S4KWZTYfyt6xExlMtkCpx6NDVrahexlNvBtPZRRx2VZL684U1avOEMcPkQMbL0k8xpWFCl2PQ7OYUqoinbnenubxVc99Csbi/T5tDRXs4yNYvtOu+D6xw637S/l3e4v5/vd4ZGthgSut0bNvmZbP5kCtoUc5XK1YBuNp1rWt3LFsBLRm9+85vXPefaa68dx9U+8iwVLI0rlMXn3N8YT3zOy1BgSTBG37BtkMI5mS9LAHJxPOMZzyjv+Z2Ax3L6kfs4qbQ95pqirzazaXx3oD33RqPRaDRWDP1xbzQajUZjxbBmCsa0HDA1C9Xkv3OMLRSYz/G3phkdlwwFb5rSVBH39DNNSULZOSZ9iy22GMdvf/vbk8zpXN8fyrJSafuZPj799NOTzGnvaknCVP7mm28+jm+//fYkcyrf6uTjjz8+yZwS9O57UGHkHUiSG2+8MUny1re+dZxzKljqvKILXVbHOpvSRFVsitjtiErb6mTTnOQRMF0LVW/FrRXXtJn3zK52QPPSkRXfVZtUqPZrTyabrfpItZtWUscw27Z4lilo12OVT8DHLEW4nty3sAnnYKCebY+OUKAsLpN3BuP5XsKDyl+Clypocy+Nucyc9zKNaXli2k3PE0e/1MaMK1WceTLRzKaVq9wCpt29vFClbnZ/q3Y0BBvV3bcbfmfT7diM24klBLeN7dFLh43vLrTn3mg0Go3GimHNGebwWO19XXfddeOY2fbLX/7yce5Zz3rWOGaGbU+MTFAXX3zxOMf+0ckk5PK+zI49RTBj78cZ6NiExuIuswAnnnhikrlnbzYCD8yeM3ttO+bbAiRmvvaO7BUx67cX5/27EYhZDEQGuWSaTZsBef/73z+OqR972ZXQy14sbep3chYxPBFfbyEY5725hoVu733ve5PMZ/j77rvvuuvtpQJ7TP6dHATYVTLPNEg7WsiFOMv4jd/4jXF88803j2NElLvssss4Z08GD8U2Tpt6H3DnI8Arsxdn1ojNcBxT7XrmWW4n53B46KGHksw9azNReIyOQ997771n75vM+yB2YHbJdeLyg2pDE28I5Wtge9x2Pkao+9hjj627Z1Jv6vSqV70qyfI+4tihmaYqvtzZKm3b38z+5L4/7eDMl5UX7z5axYy7PwK3d+U5VxsNPRlwLzOGnNsont1jsm2D8d2sj8c1bM/fnArODuhNiegPtmfGcre9ceSRRyaZGNhkvhHSgQce+IRl2Qi0ub8pRjW+A39n/B3b9NpkPv5XaM+90Wg0Go0VQ3/cG41Go9FYMcw4Gyggi4pMHUOPmdauRCimcKCqTKvcfffd45i4Xos4TD1AgZue8u/QTqaqXH7oYm+icvbZZ49jUlYS755MyxOm2h17zxKBqRxTWZTFlJiFObyThVreWIbneini2GOPHcfQOd5MZo899kiSHH300eOc6ww62WWykKza4Md0MZSlKTdvjEPcsulipwMFTyUmnff3NbYt7NH1VAk3HXPue5HCdPvttx/nvFRBm5l2p21Nt1pgxDNtj277asmmgu3NdPFGdUJZ3Eco64UXXjjOmYI/5phj1j2/ouKNjcR1Fjk+WVrfIkX/Xm0cQ9ps05gbpb2uaFDD4wZ17jHgqYDrbSc832Wuluuq/BTGEkVeUfjVvTai2E31c7wknONe3rirymtgipmlKcPfBy/DkG/B96+eZQocOt7lcB+Gjvf47brzt2jTciRT23r8qoTKbluPpdSF66RasjHcnytUfaQ990aj0Wg0Vgz9cW80Go1GY8WwVtGDjg01XQHtZerVlCjHpn45dspC02NQMNXOWslEa1VUvO/rcphCgkJxDK8pw9/93d9NMqfKoNj97r5nRW+5TJy38tt/Cx1uRa5Vs8973vOSzNPkmtqFzrFqFHX2i1/84nHObQu96Pd0maCzXSb/7UY0KhSUKbNf+ZVfWVcW080owr0k4R3AqCeXw+XjmY7Zdgwv7egd2lzP2223XZK5Gt+2z/KTU+Ziu6bRrJKmbyzR5thEFTWQTPXkd7Ztc973NCVHfzAVvtEuZPyt+0WFpd+h6K123+heFSobS2q1PJEYrmfXGcdLSz/YoX/3ciORMNWOdIbpWlPDUPyue5cP2La4xu/ra/jdUTq+f6WM97ICY+gSxYtNVRR8Nf4l9VJApVJ3xIojTVharJThST2uVNh5553HMXbkZcuKyq/o92TKq1HVXTKl5DW8/AK87FrZoan8Ki21aX2O/W30MWOAx6X23BuNRqPRWDGsVRsHVAKgpN5f2zMNZjrVZgKeYVq4wizO8ab28vlbe1S+P7Mve4T2WCmf38NeDbMrz3p5T8+MDK4/+eSTxznHHPIsi3k887v33nuTJK94xSvGOZf/iiuuSDKPSyZeP5n2k/c7UVY/x7NtxCNLe6NzL7Mq9ngpn4UvFnrxt2TfS+Zx7pWQjD23nYHO8bK0g0Vujh+HOXA72U5ga5yrodrj3ZnPLMqqspvhSdle7V3hFdiePEOv+oZn+MT72juwF0zfrLz1ZIpvd3ZACyeBvWyL4yo8WS/cIr2ngspjr7x11zOx+0ug/ty2S95hVY4qU6D7YyW0w56TWjxHm9mLc7w/WSht4853gMfuPl55ybCRm74T72+79riFzVqUihjVLJ2FsrAV9pKXGJgK999//7pzlSDP8LPAHXfc8YTXWFBHm1QiPMPfLLNniIerDY2MJc+ddqxEdhvBbe9jPHaPBe25NxqNRqOxYuiPe6PRaDQaK4Y10w1Qp6aIq32jTV2agoGmNZ0BDWsqyLQP9JvFAxbsQT2YhjTlCbVhkYepMKgRizicPpeymmbjGlNyN9xwwzjecccdk8xpHYuyKsGK6xHK1NdbmAMsutphhx3GMVRetde0lzz8eyX4MK0Ojel3rkQgfjfbAfVrit3vzHGVF2FpT20o6lNPPXXdOd9zaVMi3q/aIz5JXv/61yeZ15OXDaBWvdRAmX2NqVPO20ZdD9Dqfg8vRRAzblrax7SPaUTT6ogLnQa42lzFFHoVp/7t2NzEy2EeN3i/KlbX592vvSwCTL0C231FfdrGvSSFTfl3P5P+6vt7+ajahIv7e5nEts94UL1HMrW97c2x2sBLT7ZnbM/2UNH27uM8y0JUH4PXvva149gUPkK2JdoeCt72XKWS3W+//cY509ncyxtrVcJFj7WMUab/fX215FLZ5k/91E+NY7fj0ngD+Fb4PbimKnsytYmXUVzP0PEea9pzbzQajUZjxTAT1DF7sKCuyrLmmZtnGlW4VeXJVNssWnxgUQDHnkHbU6sEd1Xo0V133TXO7b777uMYb8KzSbx5z6wOPfTQcYzgxTM8H/Ou9s48k6es55xzzjhngRMzQrdDlWmqCmO0iK6aQbruq9AZh5r5d2a7nmF7lojIZsnroKz2KmBr/J4G3lGVoS2ZGCazPlX2raUwHu61lH0LO/ZsmXf2u1dMl71APxM7cZm96RHCxKUZPHZkT8T9hdm8y8ezvlnBG7CNVvda+p3zFubZ6+B4IyGW65R7meWzR1qxZ1WonOvJYyGslL1ktjVOaju3Rw5z4k2w8Lz9Hu6P9Ht7hBVDYaFrJeZ0mTcKwTLThQDY5eP+FRORTN8Ce8Heihq4bd32/K37gzfRqsR1VduaMYQl2MiezBAsZQ0EFs/xfLO17o+V+NjfB74vrgfGRX9bzTRxjVnxKsS1PfdGo9FoNFYY/XFvNBqNRmPFUGaom/1BQd1a4GOaFRrBIhNoJ9PmVfy4KS/THVDbph5NPUArmfo0jcvzvc+3Mzxxva95wxvekGROF5teQ9B21VVXjXMXXXTROIYeNOVm6pY6NR3sDEtvfetb1/1etZPfmWss9DLFjmDONJf3Ca+oKNPR0F6mHqtNO5wJ8LDDDhvH1InpKSioig71/bfYYotxzhQ2tJvr1qB+bMO2wyqWucoq6DrjXqbEqnjWpcxh1LMFPKYPq6UKl5m6Mt3q+uNZfib1uLRf+pOl65f+bum+m2JpMxoodtOUFSxq4m9NyxuMRUuZAIHrrsoOtrT5CHB/cJs/61nPSjKPCedvLXb0Jlr0EZe5EkMabudK9OX+Vi1/uQ/zLPfBqkwG9cce6cn8ndngx4LmqpzOBOilPyh209VVtrqN4uzdjtDx/o65bqoMdB4jiCn3UoXbge/fkj3zt/4+8B2tlpwNt4PLTDs3Ld9oNBqNxgqjP+6NRqPRaKwY1kxp4uabAq42BnAaRtMdpCp02lUoCNMaph44b8qroogdB27aH5rC9JNpGWhqaLJkTndzL6stSQvLXvDJXKFaqdWt4mYJwe9h6pYlAC81OOE/aW2Jp0/m1Cdx36aCdtpppyRzmtGUG+1oKsflo01NxbtOofArJW0y0Wa+Z7XHvesJVa/vaXvDnrz/symzKnrDbQvt5WUgU13s526a0JQp9Vvt+2yq3ClEeU/bu+la+pvVtxttMFGlU/b13gCDcpm+4xrv2+449ir9bBXnvlGaWtvok6Xqk3rjmorSdL9++tOfnmRKBZrMbYP6WUrrSTtW6bUNjzWmiznvcx73oKZ9PTbh57gPMcYs7RPOuOm29bjI810mj6v0Z4/5vn9F21OWar/yJTh9Lrbv8dVLGfT9pTwhtJ83nrnpppvG8Z577plk3q+h7b30ZbDU66VYjxuMS35nxqJkimDwuOFxrUqLbQr+iTZy8jfBoO28ZFKNMbbn9twbjUaj0VgxzDLUMXPzzK6a2XrGY0Eds1CLQCqxk2eWzNIcm+nZNp6IZ4PVxgae9VdbwtqjtKdXbRjAVqAXXHBBeU88e3sNrhP+1luZnnDCCeOYej7++OPHOW9Cs+222yaZb2XqmeP73ve+JMnHPvaxcY5Zu9vD7YAg0B6nPaGHHnpo3XvYQ2Dm/bM/+7PjnL0Se9+bvmcyeZ/VZjZmCGyPbHlrz9h/yz2XNo6pNsLYZZddxvFWW22VZO5x+W8pS7XZjGHPmhm67+PfEfHYo7I9Vt5TJcjzrN19h/r1fbj/U8k6Zy/9yV63kTBvozj5ja6zAKra1MceIWJS2/iS8BJ4rKMdzai5bwB7YUsZ9gB2tGRPPKt6jmEv0GPEM57xjCRzL9a2he24TirG1P1+o21iKy+0qhO/s4/pJ47n9/WVeM5x8FVMPVtmG1UGOtej35nvmMcisykwbWZNqnLY3qpxyeMn9eS/81hZ2bvriXdy3bbn3mg0Go3GiqE/7o1Go9ForBhmtHy1n7vdfGirKlY5mWgKU1lQEJVYJZnoXD/TMe9QJxaeVDHvd9555zi32267rXvOo48+Oo4t3qDMjpetNoVwKkFw5plnjmO/H2XxUoKpouOOOy7JfP9nx6xzndvGlOQ73/nOJHNqk+sd2+7lDSgiiyFNd0MFeqnh4IMPHsds6LK0xz1wO5mO5tjvibDl6quvHudcj5R5JhLR9ZTF9JRtg+u8pGH6DXHKUkw6z/fSDXVapVj29bZni0459vX+20rAZJoWmzS16iUpaFZT1BvFSgPHofueUPSm5w844IBxvJH4jt9trxvR/n4+tu86qyj2Rx55ZBzTh6v0rUm9kVI1Rnm5ye1QpUWt0souieMAwsBkol69hGjanDb1OdsmIr4loRfjtmPOPdbyu/OAUE++j+ls3mlpSYJvgdvBabnpT07fWt3Lyw+mwFkucMpeqH4vwTk/xgc+8IEk87GwWiYzFV7V49I3jfIvLQNVFPtGSzrASy5V6njbaHvujUaj0WisGPrj3mg0Go3GimGtUiqb8qv27jUdYboYSthxu1AQS9QgFI9/N+VVqTRNqUFVmYI2Hcy7mApxqlhT5wA65/TTTx/nqqUI7z1uBSfUrynsF77wheMYenKJ9iH+ukrjm0y0U5We0PSWr4eusbLaVFV1fZUy0rR1RQu5HZ2GslLLU0+mpZfyIWx6jctqBb+XTyiLbcPlw05tY25nrqviyL38UZWvssGkpomrNJJL4G/dB00psqe434myPBUF/FKq2Aobxb9v9PtGqCjLSy65ZN05t8nv/u7vJpnbu5dfyOfgfmVA63vpyuMSlKvTLVdwf1ra/RBAPbvuHddMmb084fGX866vKmrD/dKo4rO9pAU8VnH84IMPjnOmw6tyuo9Wy50etxjjXKYddthhHNN+1bKB29bt4FS5wPZEf1qyjSr3i795KPO9PO024138niwLL6WfrZbEq0g3j8/tuTcajUajsWJY84wKr8aeRrWvtL15CzKYdVgwwblqtpPU4gLPTpi5VkKoZJpl7bXXXuOcZ8gce+a39dZbj2NmRz/3cz83ziEosffjWf+5556bZC5eeOMb3ziOEdZ45maGgFnekqCOmPKlvaaZsbkeKJ9FPdXMz8JBz/KoJ2c+u/7668cxHiEZoZL5bJjMbksby/B8i89oE89WXefUn9ve74SHY+/Cx5U92zYos23DYqYqbwPMwpIAiLbxrNzZ1uhvG+25vREs1jEzwX0tGqXN/cxvxpveyJtfynpXZaCrmAML7jbKVoenaBvDRpPJ815iQhCy2Z7smdO3K2/d8Dl78bAIznhY5dRwf3J2SOB2xPb8zCrzmUXQti1s32NExYp4XCAHhBk12xv2TE6KJLnmmmvGMSyBs0xWYkaPAS5/xWJ6jOH9zdpstI87/d1jjb35D3/4w0nq3B1JnXXV9YztOQ6+ElPaXimzbb2y+6UcCNiEx6r23BuNRqPRWDH0x73RaDQajRXDmt18KEVT9aa1KtffYp7qeiiWpX1ooZ6X9jDmnv69SmXoa5aOgakoaB8vD3BPv4fp5Io2N50LbeXfvVRx6623JpnSnyZzepBlAdNvvh4KCtGQYbHMZptttu53U/mHHnroOIZW8uYbpvxYVnCdkKY3mWhY00+uE5YdvLwA7eUlCdsjVJ6XN7w8AlVnkZ7bm+scu2+wBFG1nVEtPdle3Ed4P1ObrhPa+amI6JboP+D+AI3s/bE/97nPJZnHCle0+BLtDrVs6tO0OVii+qu/rfBUNpsxNQvchyqxqZcTq99N/XJciVKTjdusuobnm64lZWxSC0htz9imbcC/k+PB45vrqUpRXdm764kxaCmVKn3Mm7l4jKAPv/71r1/3HMP92vXD9V5uq+hyL39UYlfHxnNsQZqFfeeff36SeT24P1e5WXwv4uctqjUQ3LkeWSLwkrHbkfrxmOxnstTrZdX23BuNRqPRWDH0x73RaDQajRXDLM4duqdSmycTzVCly/Sx6Qzuv7SHLZSjqVlTt1BIpl1MEUF7Le20ZOriibC073MFK+uBqV3UyQ8//PA4Z6qI602hmP6jHr3kYcoSZaqfCT3n5YvDDz98HEPxmDJzClHa1jvZfelLXxrHVerKG2+8cd37bbPNNuOc25z7m0aEivLygRXdS3GmgHf19VYcc3/fxzQpMcym3V1/1L/p0oqWr3besj25jxHnbpqv2t1pCdXvPsdSjdsJqn6//fYb55ZSzX4z4F7uo7Z9lgBM21cUvm28WiLwOXIbbLQf+0ZYShHKvZbuX+0c9mTh+1SpjW1PzotAO1X2ZnhpzrbP/X2Nba/K4VBFMznVK/3Ny4bu47TpqaeeOs553GF5xFEBLh+0v5dRHCFBH692Zqz2jU+m75fHAtcT5Xcf9fOrb5ntAJtZ2l21iknnnR0v76UIcm14idK2wVKGFfjtuTcajUajsWJY8yyS2YdnIZ59VAIB/86MyjMrZoH2qHxNFTPoWOyN9jZmFltlTUrmM6YK1T64wF5cBc9Q7T0RR8l+5Zv+znnPshzzzh7G/t3iuUrwB8wAVHske1MIb7JC21p44nhR2rHa9ziZvHyL13wv/tabNXDO17j8lVdlESJiG8epewaObblt/Xw2+Kk253BZXGfc333BXgHvZOGiZ9tkNbQ9uJ45799dvgqVgKjKYWDP1152her3pWuq837Wk812d8wxx4xjC/4qoR1tX22qk9QxwhVc99U1/t3P2ij/hwW4m2IpTp3+6BwKth3YNwvOKibHZbMnWHn5vr+fCyrbqu6zEWtiltJ7tLOh1v333z/OedyohJNG9c2qUG3u5Dh3H/O7vXV/n2CZN3qm28G2w7EF14xhSxs+0Y4Vk+Jn+ZntuTcajUajsWLoj3uj0Wg0GiuGNVNJ0AAbUfE+V8Wc+3poI4vwTC1wbLrXv1MmU5MWOEFxmH4ylgQzgPc3vUVZl0SAFUzf8UziSpNlARYwxc5SgukvH/Osigrz+1rUVG2wYPEa5bMQzDQl7WAqyW1G/d1+++3j3LbbbjuOuc7UKfSXaW3TX5TV1KGXL7jeVFS1JOPljY985CPjGKHZUjtTl449Bab5XOcI2SwwMkVebc7h96eeN4rJXloygkZ9Kra7EUVf7SP+zdD6png3ikveKD1uRfW7fN4nHcw21fhjanWj8WEjWtjPXKLwQZV21cB2PVZ6rCO/hseVKo+H+7DFoqDaBMuoaHfbq+l7xiD3UYN39sZaFhH+/u//fpJ5ml8fO23tpvdM6twALEdapOdxgeurtNLJZBNLe9hX8BhEnXh52c/i/l4yxo4c2+56roS8Bvf0mN6ee6PRaDQaK4b+uDcajUajsWJYq1K9mnp1/LmPgSke7mXKsqL1qz1rTbX4+dBGS6p5qDArv40qdt9UHOcrVX1FWS3Bf1stEfiZVlID1yOUq5c8TPk92Xhexzrfd999SeYUqOkvFKpLyuaKGjZFBJ3k93SbYhOm+qGubSNuJ9LKmmq66qqryvKBSs1vde7S8g1wf+D9/J68h8tpNT30pSm9areypTasbK6i6Cs61jBdTJ08Wfrd1yz9Xj1rIwq7ot+fDKDoraCHmnZf2uj5xkZ0/EaoIhhs2xtF+QDXc7VzZjUuWdnt98emqj3ekzoHg+2Yd7IaH3hJ45FHHhnH9HF2ykzmynhs17H3HpcY10zVu49XO+l53HrmM5+57v68p1Mwu86A4/U3iuhwO1XfFAM63uO3x7gqkqL6DtlGiXmv4vWTyd6alm80Go1GY4Wx5v8gGvAM0l4Lnrs36vBMA+9zKU5+PLRIwm8BUJWtzjNhz4iYpTnxf/VMl8n3qmZRXG9vusoitrRxwEaoxG2e2VUMiduBWaS9N2aT9gjt7TObd904Dh5Y0GFvnfv6nGezeC0W+1QbXNgLxUNY8uiq/aldZurPbeg6oU6rjV2MJS/4iWKVDYtxqj6wURa1jbxwg/pzO1TefsW0bOTZuj1tg0sbYGyKpXwBwMyBf7fwE1QZ9DYS2dn2gD3b6vclVOzaRvkGDDzajTx41+1Gmw5hj24nC70on9veG9P8+I//eJJ5zoyvfOUr45jNodjYxHCeEtsbeSO+8IUvjHNmCyirBXU777zzOEZ0a3bNQty77747yVyc5nYgo6bthd99jb9p7NfudzJoE7eN+20lHPcx9eNrNsqZwrfEY5WFjdhjlfUzmcYbj5XtuTcajUajsWLoj3uj0Wg0GiuGtSq+vErh6d+NSgxlSrKisKt4U4vsTKFw/6U9jKvY/Eok4jL5PSoKvnqPSjzh36t0lEuxkdXf+vlQem4bi9OeKM7dqOjapWsQqViMU1G7htusSulYxdNaXAZt5nqs0qYuYSNR1FOhu58sWJIybW3qlPesYoWTqf6X6DXwZAVZT+Y62tH29FTqhnddur6Kg38qgFJ9KhvYVLT5N0vBV9hIJOglL/BkU97670yRYzNOkWzb4jpSGCe1UMziYvct2sxLb079zBLpj/zIj6y7p/NLOD0s5/fcc89xrlrSsbjNSwHVxmKVONr25vtTJxbecex69Fh46623Jqn3jU+mOquWnH1+SQjM+O5zvhfH1bLf0hJYRbtX3+NZPZV3ajQajUaj8T2Lpz322GNj+sBst9qyNZlmXw4h8CyPWdQXv/jFce7ee+9NMp/V26NldvWZz3xmnLNHRqjDYYcdNs45cw8zPgvqXKbPfvazSZLzzjtvnLN3Q5lf/epXj3PPfe5zk8xn7RYR7rHHHknmW7/6+IwzzkiS7LLLLuPc61//+nH8pje9Kcl8Nutwqm984xtJloU11Ta51YyvEub5mZ5N8qwlEdlGGc+Y9bvMZglgY1yPPMv2UG0nvBFD8u2GQ2/Ao48+Oo633HLLcXzLLbckSd7+9rePc/YKfvmXfznJFJqYJC94wQvGMe981113jXP2MG644YYkc4bFdoptmFV597vfva6c9mrIYmbBmr0rQqfsMd5xxx3jGA/C7+TyM4Y4jMfiOjytKptakhx33HFJkn322WecO+2005LMPd+KtfC4Y68GFsLXeNzhnZzpzt4hNmnb9fuxJa3rHGbBz3E94rm77rlPMvUhC1CpG9/30ksvHee8bTPlt20+/vjj45gNeiqhrVkRsxaUyeOT+3CV2dLjEmX2NbZnQtzch/x8xkrXCfd3mTzWVeybjwnFc3vatj/wgQ8kSfbdd99xzuGF1113XZK5l+33r0S9/O6/sxiSTZVcN7/xG78xjvl+2t7bc280Go1GY8XQH/dGo9FoNFYMa84WhPDGVJMFUPzuhXzTrFAwpk6h+CuRXJJ8+ctfXneNsVFGLsri3x3fyH0tSDPNC73pvdeh5U3LEAPq47322mucY1/iZKJtLDx517veNY5ZqvilX/qlce6II44Yx4hc/HwDuskUOJmJTG+R1SiZ6F5TQlVGLJ+r8hFsJHhbytz2RGJMt41pUujoisb6fwlT8MBxvaZRP/3pTyeZ9yEv+UDzWghl8Rd18rrXvW6cM/UMfWgh1DnnnDOOsffTTz99nDvllFOSJNdcc804541A6GPYZZJccskl45gxwLS0KUGuN0X8uc99bhxXOSDcRxFQuUwWJN54441J5vu6O1sdMLWKHW20x/qSUIt6hPZN5mMhZbWN+z3vvPPOJPNsbvxuWt50LpuvmIonNt33NN3rOoFid4a4Zz3rWeOYJYKNYq696VEVW2/bZfnH9mbbZ6nFuQz8zaGd3Q7uD9SP7anKCVKJpJeyUVJ+j6+2DZZ9fU/bPtT3lVdeOc55jKJ9lgR1PKsSlvscm+okybXXXpskOfDAA8c52wm5CfieJu25NxqNRqOxcuiPe6PRaDQaK4Y1083QEFbpWSXI/rimBE0xQRc7rR+0/Ve/+tVxzvQW1zv20xQJcZRVnGAy0chWwx9yyCHjeLvttksyp9dMhUFnu3yoRR0P6s0MoM+W9hGnHh988MFxzgpPaEzTS1CPyaRKttrcNCXUTUWBm4qq6tmx61UcuxWmpsihzv27y4ea3tEVlXrZ11D+Sj2bTPVre/Dzvx2o8gA40oGymkb0UgZ24I0sTK1Wm3Mce+yx4xgVu23UtgWt/773vW+cc3TIbbfdlmSe4pPoDvcBxxLTr61w999Cyf7ET/xEKkDDWqH/kpe8ZBzTD/xOpjxf+MIXJpkvb5huZlnCUTKHH354krm9mO6FpvQz/bf0Idurf6d93c7u79zXFLbfif7gPs69THE7ygd4b3TblpctgPswSzmOevDvjCEeK93O2MyrXvWqcY7lEy+dkRI2mZanvDxhQIH7nWzP2IzpaC/Z0Kam6n3MdUSpJNOSketr6623HseMr7ZXR0XwLfDygpfh6DtuR0cTUX4r16uU7NX1thePnyxr+DtiWr7Kq9Gee6PRaDQaK4Y1x7viSXm2d/vtt49jBDOezVaiKs/COLa37ZhJRA3VrNR/a69hSZACPBtn5mvBm8H19pwRUDmm0HH2Rx11VJLk4osvHueIu02mOH9vlmDvD6+CTQ+S+WwYtsJeqsVxzO7sKeAB2GN0vgEYCntsrnPq1PesMkV5tulZJrNp28ZDDz207vqKdbF34ndmNmvPvhLmGba96v5VWaptMZPJjuwRApfJAiO86Ne85jXjnEVVlA9vOZmLLWG63vrWt45zFtZwf8eE23aw5xNPPHGcw+Pdb7/9xjn3h8033zzJPFbYTBr26A09nNeB+rG9wJglk0do27DQjf5g7+dtb3vbOK7yb1TZF237le26nbD9antSw3HiZsXwqmxbfj9YP3u0CN7skdmjpR5tbyeccMI4Pvnkk9eVz3WGp2mPs9pUyWORBdGMxfbSEYfZm7Y9V1ulug/BDLu/OGYdkZ/Hoo3yWth75Z3MJmPHzqVgL5d3dt24fOSScJlcDjPbwN8n2vxrX/vaOGeGBHbQWf+AmXR/mxlrzRQ5/0Ylvm7PvdFoNBqNFUN/3BuNRqPRWDGsVRS3N3AwxY1Qbomahe7wPbmXaQNTGNCwTqdpQJsRe74poDgssjAtBZ1k2sW0ESIi006IeXyfQw89dBzzLi960YvGOdLcJhPt5nrwHsmIN0yNOs4dut4Us+k36EPTStBjpm2g4pOpnixKMnXJsywC8fOh/U3ZmXbi/qbVKwGW3+PUU09NMqeoff+lOH9QbdBgKq2i402JQn++4Q1vGOdM+1OXpgmpc1O8TotK37DgzctcLOm4nhG8JVOdkyshmQvdWCpyCmjHvlLmaqMh6PdNy0+6ZKcmNnV6wAEHJEm23377cc4pTlkWsO05FhuqsRJT+v1cPqduph+SQyCp49zdX2kzL62ZQub5tj2Lqmgzpxg17V5tWuRUrtS/y4RQy/2mSvXq5QXbFv3VVLrHNWzT9mp753ePlb6e9vGYz7jsXAteJoI6Np1c0eqbbbbZOOfnk19kaZOqamnO78+xxxXaybHxVa4K9yHD+R6Ax82tttpq3e+252qzNKdupj85BwFLhBZhn3nmmeOYPuwx0Uuc2Nssdn5dKRuNRqPRaHxPoz/ujUaj0WisGNYcIwsdYarddDm0vekG02/QIZWC0/c0dQotZtWq1aLcy0pVP5+0gFa777DDDuOYFLC+v4+vv/76JPXe44ZVrSg8TftaSYxa0nVjapV6soLTtBX0mGNgrZaHErRakrYxPWb6j3a2qtT0GPd0O5mmJHbWdK+pZdTbpmaJX06mXY2q3e2W6HfKZJqv2jXOyyymIfnbN77xjeOc/5Z2Nr1Vtb0pwWovZ0d/QF86nbHbDkrTtHi1f7cp8l133XUc0x+tZrcd0h/cX4j7td1bqUv5TVGbGvaSEnBM+vOf//wk84gS25npdGCaElXzJz/5yXGO5YtkWr6ymt/1W4G/tW2Z8sQOTI2aGq7yHXgZq4pL9u/YkX8n34Gpdi+/UGfOe2A7oR+YljbInXDBBReMc37/HXfcMcm87r1sAPXrerrpppuSzPt1pWC3GtxjBDbl+nR0xz333LPuXo7EwM6tkPc78Sz3QcYNjwUe31kqto1bAQ8F71wUPgZe5rFt0t+qSK5k+i54eZuYe6e59TfBbQJ8PctPHrPbc280Go1GY8WwxmwumTx3zxLsKeGdOX7bXg8eaRVfaK/BsyDu+Zu/+Zvr7pNMXoFnZp6xMHPbfffdxzlnlsPrMlvgmR+zI8+8gPdaNiizr3FWPryOW2+9dZzzbJWZo8U0Zgaov2rWnkxemeue2NNqJpxMbIJnhhbk4cnYs3aMLiISeyLOCsXM2h6j4+yJ+67yIiyB2bbf01409/IMudpUwueqLGLVMzd9LsBrso1auIOH4t+rTVDsNVj4aO8Z2J7xFvxOPqb97NnDoHijIpcPL/7II48c5ywgou/5GrNj7EdvNsB9FNbowgsvHOfs+TPuuD9ZXEfGSbfd/vvvn2QuILJtU79VZrBk6mO2d4vG+N2erZ9PXZg9M7AjjzvUievG98TTrJjPZGJt/B7uDwiBXSa3CeO6GQrbO+PdAw88MM5VrI2FxLSDWUDfH1bJIjx71Gy+ZW/f9sx1/n4Y22yzTZK55w0TZmbRtgXDYkEd90mmvmN2yMzr1VdfnWQuGPa9+GaZyXGb0b6uE2Cm/Kd/+qfH8dLGak/0e3vujUaj0WisGPrj3mg0Go3GimHNdDCx5KaDTaEgjCFOL5mLhaCYTCVB15jiML2HAMy0gmmZSshQxSeaKrKQjPv7d9NGb37zm5PMqSyuMcVt6peYSW8243qAgjZN6H122YzHlJ3rHNrOKUYtuqr2tkfw4ro/6aSTxjFts5RykXY2PbbFFluMY8R9bidvvMD9l/Zmr2LOob1NTVa0uelxvx9LKmwisunzuZcpsSo1p8U6b3nLW8YxdW7bhQZ23VmEV6Xx9d9CFULtJfM4dZaM3Aec7hP60EtLflaVawLbssitolttY7ZNbN99xGJQ2snUp+PQzz333CRzitybGrFMZYp8t912G8cs2bkeWE50v/FYRp24bfx87MBltuiL865bjwEsnyy1A8eVWNRLjB5LaTMvXbnMFdVvCp+UvxZ6eZmsSonrPuqlIoC9VmmdXSbndfByI2OgRXyuR/q2+6Xp9EqU5iUnrnOdYNsWZrs/8J5efr7ooovGMXvTe6nVS82MtR4X/E35hV/4hSTzevZSDII6j6XUo/OteHyF6reNeVzkOi9ftOfeaDQajcaKoT/ujUaj0WisGNbuvPPO8R9oAu99Cx2QJB/96EeTzKks09EV9QoFUu1Q5meavjIFBM1gesnKTKgLx2F6tzWoNtN8pr1QLJqWgY72ntT333//OGa3M1N+jpeFdvHvpkSJCXWdGMcff3ySuUraMfPVfu7PfOYzk8ypSe/rDBVohaavh851O/he0EpLO6hRz6aVKFMy36UMnH322Unmywymr9797ncnmVPtpu+g4lzmygaXlKa8s+k34nqTSbnq1MfQi1a1OsYXmKaz8hzbNeVmlTbqZqvmXT+ozK2C9r2g6hzJAOVHrgHfJ5mWjNyH/E5Qt25bp+DETr2DmlN4Yvum3Q3exfbi97/88suTzHNZOFYcmMKGrq5S0vrYVLzL57S1wJQn1LFjkY0qPS1lqpazkinqwrsEOuUv/dXLUH4Ox35nL+1hs+zS5zIlE53uuuec6XvnYOCeVRrdpG5zj+WMa6bVvTzAuO2cH46swk5tr9Sj06i7nuhvzhfgpRIv/wAr18lX4HHFy0N8H/3ufhbt6LGO68nLktTRPF5CrJY3PKa3595oNBqNxophzR4n8aiehTh+EA/CnobFbfxe7c/tmZOFDlXWO8+auZdnMRbj4JUcffTR45xnq8yi7FVYDESZ7ZUwy7IgwnG3iIU8cyNeM5nYDHtcxIMmk5DrmmuuGefsSbGRiRkKe+GVCJG2s3jLgg97LcDX40H4mWZQgGfDvj/t7IyHlbfuduR3n6tESbYdexDU75JHiAdj4ckSQwQsZMMjted+0EEHrSszG+AkkwDUZTYTRtta9Gl7tVgIuD9yf9e9+wvtQ5asZPLMnSnOngj9AUYqmXtH5JBwvzU7Rl3YE/F74B0jNErmbEYlmrUd40nZa7ntttuS1NnKkikXh+vG41YFvx992Nfbo+Sd7fFVqPI6OLbcQjPOP/zww+Occ2UwHjmDWyWCMxxrzbgJY5bM2wxWz4whLINFemZrub/r3mMNtmvP27ZB+7m/+HfK535vLx079XvAKLovu0y8HwLEZC7iQyhtBsTtxDu7bd1HYTN8fZXHxOxeJdT19Zx329hzxzZmOUHSaDQajUZjpdAf90aj0Wg0VgxrjmWGtrI4wsId6E/HyHpTC2CRSiU2MsUMxW2B0itf+cpxDJ1uKt50KkIMUxwWSCESsrjNVFW1Dzn3Ny1fxVuaEjStBC1kqsj32nvvvZMkn/jEJ8Y5i3VYFjBFXaUyNJ1Z7atcpSV1PVnkwT3ddr4/5bfYxBQ+8ay+vwVQpEB1fDfnTFMaFuxVoH5cZrcDv9teTO9x3m1fxS07RwKCF9/niCOOGMfYiQVlXp6B0jTVb+qXZa7LLrtsnLPYiDoxLW46nbp0TDr0npdUvHzCxixuO5Yfkon6dd6H6667bhxXtLzp5C984QtJ5tQkKWuTibL1EqH764tf/OIkc1qe+nF7u54RbbnfehmK+y9tOsR4ZBrUgIb18kiVTtTx0diW34NNqJaud9tTfxY++v5VuuWlVLPA1DJ14XqEbvffWRDHNR/84AfHOQuu+dtquSmZ7BQbSebpb/kmWYToZQHsuOr3HjOdS+LQQw9d955esiFNs9vJy1wsFZs2d0p2gPAumYsUWZKqlg2q9NnJ1Lf8TLctf9v7uTcajUajscLoj3uj0Wg0GiuGmVwYl9+UmGlKaFziTpOJMksm6sRKYlSWVt+aCoP6MAVtKgzayfSXKSIoGlOTVm4SE+pdfxwzjlLZsfc333xzkjndahUi9J6VqqSkNUy9OjYUCtuqfS87UOdLqQahBE3PofZcoimhdRwVYJqy2u3M9USdOzrCtgH95uWHKl7Ue7xXWKLoK1Q7+Rkb7frG70vpb6G4WEZJJvrLympToyxjmTJz21JPlXo3mfqQqUfvcw7cNqYPoT9Nz2EvXq6qUtb6GtOgLHv4OaYcObYC33YEpekyewzATvyeH/nIR8YxNuM6/exnP5tN4eUNbNNLBdXyi8tRxYwbpmYZKz3W2A4qVDk9vHxBf7Zy221GxI53IzOgdH1/tyNwLLWXtIji8XIbqCIakmlcOPjgg9edc5l8T0dTUVa/00477TSO99xzzyT17nrJZGde/uXYEU5eZqJOPBa4HVke8vjoY5ZAfb1TN9NmrluPuxWFTh90OTx+PdE1RqvlG41Go9FYYax5Ns2swV9/i0yYhXkGby+f3z0zYzbvTVacFQ9BhIUEzgZXxZFWgrrHH398nLN3SXYsz2YtOsND8u8ICr2Hr2eLzHD33Xffcc4xvIhx/ByL54hTtVgRUVMy1Z9nwJ45Irzx/ZmNuhyuU7w3e4wWXTHLtPdR7V9tMWSVAc8e7UZe+ncazLw3YguqDYDMRD396U8fx3iX9iTMZtBmFlBWe5L7/u4DsEUVK5FMdlxtLmTvyfbEGGAmijjyZOqv9swd11ttSOL93qkTi4qcjY6+63h/b+BjDwjgibnf+v545Etx6PQtMxD2rnimxzKPexVT5Xsh5PM1HJthsO1Rjx5rLDSmv/p3i65oR48bHsvJxWGmyHZI/Zs1Ir7b9myWk2fuscce45w3p8KeLaasMkr6PVwnsHNLeSGwHXvOPN9/Z3EvMIPh75htE9g2aMelOHfYM4v0zNzyTTIrA8NtdqnKtrnEBpjFBe25NxqNRqOxYuiPe6PRaDQaK4Y1xxSyCcKSCAUaw+IxCy1IVWsqHxrBFK+pLMRGpoecqhC62fSUYyahcJY2aWE5wMsCpohOOOGEJHOak72JnR72lFNOGcfQ0aYBTbFTFtPmpmiI3Xesr2N8oX0s6jGN+thjj607B9VlatCUJHXud3f5aDMLVxwXDfVsKqlKaet9vE17VbTYnxTfKnHeUtm4/2mnnTbOIYAydWfaHts1tWnKEarNoikvQ7HHtGl1p/6sNjRx3wJebqMebE9ORfuLv/iLSeb2cNhhh41j7PTKK68c5xw/ft99960rm2l1+oNTzloAS/mrzWCSSeBqe0PIa0Gc6V5oUi8leFwDrmfToNW45eUT2s/jn8cg/tZlZtzymHr77bevu2ZJ2FjFQhuU33ZvurYSyjkWHFGb78+yqW3cFDNjjDcScplZknHbWAhL2m3nUKhyihi+F6JkLxFWG2tVQlrnerCQjTHMVLuv5/mmyP19YQnDwkCPhSx9eiyl73issO2w7MCmOEnyzne+cxxje7MlmzQajUaj0VgprNmTY5Zqz9kzUzwZhzjZi2d7WM/g8QjtNdirsHcILFAi5MSzOXvZ3NdZ8+yBIAzyM1/2speNYwRoO+644zh34YUXJpnPgiw043rPhM0s8E6eeXm2SZ1WoqZkEvS5zvxOeCueTVMWex/2OmgTsyp+P8JG7HF6tsps2CGJ9jiZzTvsy7PV70ZgRxsxAN4+ldm6296bSuABWLRk2/iZn/mZ2d8lc++NeuTvknk702aVYC6ZbMP9hXY866yzxjlsPJn62yyMRh4Etm+xpr0WvK7zzjuvLJPZJOD6O+CAA5LMt0B2JkOXC7BtqftN5dF6fDPoe+6jZq0474xgHnf43e1UjUsePxkDXM7zzz9/HNNmHisscqxEq+6vleDZ7B3Htie/87bbbrvunqDKnpdM7Wi21MwD4jaXwywtZbUI2tuM4137nraHiq3AY3fb2p65l9mzahvzKhwymdrHY6GzuvKs/fbbb5xzH4ARMIODPZppcZ0TJmrP3UwRYXH+prTn3mg0Go3GiqE/7o1Go9ForBjWLG6DxjWtbrobissUyTnnnDOOEcyYooEuMYVhSo97mrp0/B6/+57+W8Qbpq3PPPPMcczGDN4D2XQy72+R3tve9rYkc1rE+61DYZvqcewntLyXHHwv3t916/3eoXiW6oR2suAD+rBqz2Sistx2pq2gg03JuU4RiZh2dztCcVWipW8XNhLpfavi7E25QX85V4NFhBVt7nqCfjQtbWENbWrq1CC+2m3rpRj6m+N+WQJwNjTT2QipLLLzRhu0rccFt3MVY/v2t799HFN/ricLTMkBYVGSbZP3M53NUoH7YEW92t4tvqPOTWG7nehPFgF6KYXrqixiybT8Ve3nburUFDPHth3n74BCNy1f0dGGywed7Ex/fj40r+le6HT3AY/lCPK85FNtqLXU9hUQUCbTkpHrxO3IGFWJZ932rge+Ge4Dxsknn7zud2+WwztbUO2Nb6D4vczkv2WMdj4Alm8QSyfzbwZL5a961avGObcD36dZJrzy7RqNRqPRaHzPoj/ujUaj0WisGNasEoSCMj1ldTUUySGHHDLOfexjHxvHxMuaJoRmtKrUcZDQ4aaYvVc0ikJvLOC/hfYxhV1tnmL6yRQTG1CYJiVe37HrXhZACW166KabbhrH0Ium/KyapSwus8u03XbbzZ6T1PG6pqq43pSalwXYxMbUqjffgMZ1e1txzbHr3jQpbW4FaAUvRWwEvzOoqPZvNoYeKm+jOPdKdVvtaZ3UcehW5VK/3mjD+Q643uk23Y7Q8aYMbVuUxVQ/e03/6q/+6jjntiPNsqlNq3uhBG3PVvhDw+62227jnCliKFkvFXgf8yOPPDLJnAK3Wh5lv5e+aJOlOHWoZyuzPS5ANzsFs5cauJdpTts2Y6SvMR0NDez+SL/fKP+C7c31SJvYxhwNwLPIlbDpsxjXvLRW7YNebWTkunc9UJZLL720vCe273rw8gXtZ4raSxGMy/5m+P7YlM/Rdkv5Wrin69Fx8txrKVqKMpvq9/eBb5qXzhyVwJJPNVY674Bpd+D2dH+knt0H2nNvNBqNRmPFsGavg9mJZ7OeReK1EWOaJB//+MfX3dQzIsQjnmV4FsQM2CIPxw0zy3O8qYH36xmLPQBw2WWXjWMLLdiw5UMf+tA4x4zMwg4L1fB67DV4YwUy0Pn3KmbSszlv34fXVTEgyTSb9/25l7eltKfEzNl1axEh+Qpcz55h47257hy7ymy4yoJlVN74Ep6sIO7bvUGN7RX2ynkRnBeCzHVvfvObxznXGV4qsd3JnMHBq/I1VX9xv7V3R/3a86ZvmSHw9XhKto1LLrlkHLNJCxksk7lt0t/NrpmtYFMRe3/nnnvuOMbefX9v0cnvZ5999rpnul+5Hqr8Gh4XKIs9X4sYq6x/vhfiOntStn2urzZ/qjZ0SiZ2zGOu7YA696ZCVRy/xyp7l7AQ1da1yZTHwF4yDJFt0Nk0gdvL7wRb4LHOmeEQjZkxNMuL7dqe/H2CmfE70w5+ZrVlbLUldpKceuqpSeb24ncCthd74diG2TO3E88yW4GQ2WJL29anPvWpJHPxqssM2zLLjLmuxI1Go9FoNL6n0R/3RqPRaDRWDGsW4wDvg2u6GMrA1IGpBWL5Tj/99HHu85//fJK5SMJ0MCITi/gsToDacDktykLEYkrRdAjUhsVhprqgcCyQgn5zPfie0NWmakzxQCEtbfAAbWNRkeuROFAvVfh3ymfKrVq28O+8v9vTVBu02FK6Tcrs5ZVqsx63w7cD1T7mT3aDmCUs0fo8y/HNpMY0dekcCtiJ7dl7m7PhievO+QSwQwvmTO1Wm2ogmEsm+s/Xs3xiGm/XXXcdxywlmFp0imneb4stthjnTMFzX9uO6UHO295MrZ5xxhlJ5ks2buett9569m8y0ZC2Z4O+Z2rV/R5US1tJvZe26fKKtvcyFuVynfMs39tl4hr/7usZK1n2S+ZLoIwXUOGbvpNFkMCpvrmXaX9ExV7ScX+A6r/iiivGObcz44HbwWWmrI7proRkXrqqRIbug9SZ28NgLLVY0vdEYMumNMncNlkCqIThybTk5aUGfz82LUcyfVNt915qAK57hNeGxZLtuTcajUajsWLoj3uj0Wg0GiuGp/3AD/zA4AaqlI1WiFYpTE1NQyeZkuQaU3a+HgrFcehWRlaUa5WykZSwyZy6YFcl0ypWCkNBmRZiCWFJtYpK0rGRvieUKxRsMqfxqFNTYh/84AfH8ete97ok83owVQU1a9oHGtJKVFOjUK5e3mDJJJnoHNOUrnvexTkOTP1ee+21SZJ77713nPP+3KT8tWIa27Ha3FQYVJzTpjoqAVrL9JspP479TqZxaRMvf3jJiSUfL8/wt247AyWyI0qOOeaYcQxFb3qd9KtJ8r73vS/JnLY3VUcf8zn3Qc5XMdmOCKn6sPutY+uxPZfZ7UicvG2rSu25lHIX2HatRKYfmqKmb7jtqr2w/U5eJoOGdT2aTuZZfg/3N2zL1/v+1a5zjIG2wR/7sR9bV2bboOuUHcG8hOi0pocffniSeds7XwLXuV97LCUCxKmHeT9f4zohxarb08/nmUvK9Wrpy8sH2JZj713nlMv9hWOPmV5mcv0Ctwl9w3kLqvG7GiuSOr2txyX+1t9WbMOqen9fsC33QdsWyyeznR3XvWWj0Wg0Go3vaax55sts1YIOzwSYJXmGau8SD6nKEGfP3bMcZtZ+TuVpedZeHbvMFkow27agw7N5YK+BGZmzW/mdqTPf0x4lsPfhmS2xis5K5/phNu84dTMDzIZdJkRTFnZ4tshs1LNJ1zmzbd/T9YwHYGGLPSVEjhbceRMErnMMK+9sr4CZejLVv23MZcI2/J72qHmW4/GdkZF2dlYolw+RoO0JD8NZwB5++OFxzMzbTJA9EerEHpnjjqu9yzdir6oY3Co74tJGGfyt7c2ZJ2FjXM+OScc27clUmeOWsrlhe/ZanB2SfmKxEO1Q1Vcy2YZttCpfJTxMJq/IHqHHNfqJ+0uV2dP1UOGjH/3oOPb7AY/PeKwWf9nOYJhe9rKXjXNuJ9qXTaKS5Mtf/vI4RqhHNstk6k9LIj8Y0RNOOGGcMyuEWJP8DsncXulbFpXed99945iyevysskAatJPZAJePjImVwND3d3sv7e0OKjZg6XdswvWA7ZN3JZl77jCftlEzJGRF9Tu3595oNBqNxoqhP+6NRqPRaKwY1o4//vjxH+hi05COW8blN0VhURb0mSlHjk0h+Bhqokr8n0wUkMUsphwRVTk23vRWVSbTZ9C0pq922mmnJPN4UsQsyZSm0YI13x9BheMYLSbi/W677bZxzvQbwh5Tl6b/oOVNqUFdm8Kt4uxNU3opAKqvitVNJqptaf9saCXHyFrkyLKHY0MRqbi9nMPASwDA9VTRvZWY0jbs+GrsyNeYlieGFmoxmfqGaflK/GbRj/d6pn1sL15K4P02Whrz71Xsv8HyESksN72Ge3mPevdrbMPLTBZBsmRjuriyHYuivBSCTZgOtuiK+vW44dj+TcuZTHW2lJ4WatQ2ZrES443r2RQ+9602FUqeOKbeZfJ7Mp54fHM9885+psV1LPmQ7jdJfuqnfmoc009cNr8TtL2XmbBHiw39npTfdes+Rn9xnLzvxbhlutn3wk48/nupg7rwWMY5L1Fuu+224/jQQw9NMhfqsh96MtmzlwO9/LHRUktFuxu0g+2Zsd5LYx7rEAe6TP4+YCezfCxPWMpGo9FoNBrfc+iPe6PRaDQaK4Y1p5GEFrLy2/QZNIPpgGoHouuvv36cg/owHQtdmiSveMUrkswpO9MR0HuoBZP5vtRVTPkdd9wxjlEim/YxjcpShFP5vehFL5r9m8xpG+gU0+qm+jm+6KKLxjmo/GSi6L38YUCbmVZyPCz3Ny3P8oOXJ2Z7+/4xlea2M50NHM9p+g6K3UpVLwHQfqYcTWcDPx8Fqa/x75S5oq983ssjpqWwM8cCu06oM0ct2PZpH9OQUHa2Mau8jz766CTzdrDtQeebFjdFj22ajjVdTPkdqVHtC13hwx/+8Dj2zl7Uk9/dbVLZo/szdmTbcZ1RZi8TOWqBvmEb91IE9Wc69OCDD173fl4G41nul34nbNe0tulwfreNux2gs92HfS+OrZKGWl7a25x6rpYt/bde4nNECmX1bpa+nvv6nNXZ0OFuG8ZHjxVue655yUteMs55XMK2vDxQRW243x511FHjmPHGESUeA/g+Ve3gHdS8jEY+AJZfk/lYR/tUO3H6vkv0vMejJ0K1/OBrTcHT92xjXirAzvzO7bk3Go1Go7FiWLPnzezA5zwbr2bgFjow27ZXwixvadMKPBALmar7//zP//w4Zy+YMnlTCd+LWSyxjck8+xazSM/KmeFapGGxDxu7eDMcAw/BQioyOSXTphv2+CwyIfvXkudOPTuTFHtdu+7sqVT7S/v9EEvZU3HbU2bPZi3+uOmmm5LMvY4q45dnyMxMl/Z4Z4/5JTEN97dteHMTvF8L5swK4RXYYzNDg024HvAg7H25HfFQ7F1YMFht8ON7VRvvVOK7an9qo/Lm/R72lPAazMrYA6hg75FNO/zOFdz2Fl1hk35+5T3+wR/8wThXxTpXm8jYm7ftAzOXZgv4W9ubPSXGELMyPqYPV7kyfM+qP/ka9w3a3uOCQZy7r3e+AkTDZpXcjhW7xzu7zGaVsOcDDjhgnPNYSdvZXj3GcF+Pb9WGKWbc3Ifp2x73qvwZ11133Tgmt4C/EwbjgcdPtxNskPulPe5KTFnZnuuZOrMIme9MMgk/3de9WQ420Z57o9FoNBorjP64NxqNRqOxYlhzLDeuPXtWJ3OKHQrb13hTDWDBHDTjLrvsMs45XhbafonSg86wAOg973nPOIY6MW1kwQeiCccSO94X6pc9fH2NKV7TMtBvTllrKqaKRbZwBgGX6SULpBBtWYRi2of6M11NyklTwNXzXc4qPa0FG6abaR/TX463xTZ8f9OowFQZf2tKzmlHiTO3mNIbQEBRWTDne9FmpqhNvWLHV1555Tjn5Rtw2GGHjWPuZfregry77747yZwONgVNf3IfMehPtgcDetP0XCVkqza6MDXq5QHeycsoXnKiD3qzGFOW22+/fZL5PuJesmHZwTRmFefujT6cjhR60gKjivqs4HYwsIOl/eDBUtrRas9wl4n69zn+1s90v0aUajrWfZzNiExbu78yLi3ljcC2aK9kLiqraHn6kNvToB3d77y0xFhlezRFzfv7O+NlKtrP/b4S5bo/8P1y3Xqp4J577kkyt2f3h+pdq73hPVZ5wyv6u22n2ju+SknrscIpx1k+WRo3KL+/fe25NxqNRqOxYuiPe6PRaDQaK4Y1U5LEipsKMh1R7Rz2a7/2a+MYGsQ7AEFpmraxOhmKwhSvqTSoDdPiplD43ZSfyw9dA8WbTPulJ1NawvPOO2+co05cZlMo0FtOaehUhqgpl3bCg4IybW4K6ZxzzkmSvPGNbxznrJCF6vLyBspJl3Npv+FNy5lMVJSpetc5ZV1SH0M/uh2t1IWWMy3PO2+55ZbjnCl27mkq3VQX9egyV7va+XpTfihQrcw2oE+tgmbJxO/h5Qvq3G1vypHyO6+D6WwoTduz04HSZqbYHemx5557JpnbLqmTnRrYdDH3MlVumpM69fKDU9WyR31FxyZT/ZlOdvpYFM+m4r0POTblOncfr4Cd2h5suxw75to0LWp4U6N+Jtfb3r1swHX+nbK4X5pGheb1WGWKnvYzxWy1P0ppj9l+P6hhx8F7CZZlQKfkxQ687Gl7o568bDrbU/yPy+JrvPxC37E9+50Zt9wO7o+MS6b92e3NfdC2y3JolfcgmezYFHn1TcHuk/kYRu4Bx9a7v/Nc90Fs3+OTI8CIcPBymd+JsXSWFyGNRqPRaDRWCmvO7MYsaWlWzCzLM8tTTjll3e+OocXT8MylygTlWZZnNFX2K8/AmQV7Buzy4/XYE7FXw4zTnjuzVHum9lQQ5zlG1CIZrvN7WDzHLGspkxEehNkAe4fcy+eYLdsrqGJsXU7P8qg/v7M9SgRe9k4sKjMLAN7//vePY7yO008/fZwjD4Azo5HhLZnsbEmMAxzH7r+lfap975PkgQceSDL3KmyneAXOy4BtX3vtteOcY5FpB5dj3333HcfUk70XM114t7Zhe9Q81zN8twkehNuOeF7bkz0l7m+BkHMHVKJZi2rxsnfbbbdxzp45rJM9ewuDaD/3UdsTGc+W9mYHlXhuSQBKndlbt6eGUM3nzPDQzvZo7V3yLHuHtFk1/iWToJGsnck8Cyb9xHVvz72Kf7cdMm64Hq666qpxfPLJJyeZs2e8s4V7bifs1HXvOoEt8EZEFschRDOr4z5O+9me3Q4wE6572sxiQgvaYCg8FlqEyPt7/HY7Yntmp5zpj7HUY437G+Vzv6VtljbBwk79nXN7U+dmddpzbzQajUZjxdAf90aj0Wg0VgxrTsGHYM50RCWgctyw6TtoCtMyLPr7PqYWoONNM5ousTgDWCQCRbIkuINyrTazMbzfMPSiY42dFhB60FTNBz/4wXH86le/et07GdC4pgxNRfEu0MbJfGMb6HxTclCqptxMXdIOpn1ct7SJ664SU5qmdL4AaFS/h5dnWPIxhQ1V73h407Esf7zyla8c57wUAT353ve+d5xDUJYkBx10UJI57X7aaaeNY1Lm+j1NDyJi4T7J1DbeyMJphqEZ999//3HOtgW9ZrrUgjvar7KHZGoz05xOBwo9uZHw0G1Pf3esrmnEKpWqRX7QzO5jpnEZIzwGVOk8XSdOkcrSmWlIi76qdwIei7zUQT25nP6dMpnudX+u8mv4mOttz9zf58iLkCRbbbVVkjndazv6yEc+su4aU8/k3XA9mRrGtp3zw2MpduzYd/qb+4jrjD7uuvMx/eTyyy8vr2eM8nt6DEJY6qUpvzO/E7ueTO3kPmDbZyzyuODlEURrzmPiJVQEcwj3knmdU1bS/SZze2cM/K3f+q1xjpTqTo3uPk47eSnYSxW80yy3SRqNRqPRaKwU1iyWYWZtz9xedBVe4hkd2d48M2U2u+QxAouzPPvg+Z6FVds42rN2+RHx+JkWMyFk8CwK79ShCA71YBbnGeaOO+44jpmtetZv746wM59zmdkq1V7yZZddNo4R3lj8xWzfWcbs3VBnS+FxzDxd924z2tneiWe7FZvBZjbJNJv2/RGaeVZuzxzbtBfr8EPezwxC5TFW4UbJFMqCx5Qke++99ziGuXEfoPwOVbNYh3Z0PTmsi+PnPOc545zfj5m772kvmXq0l22BFjbnPkI7eeMT1wmbGpm1sPjNDMym5UwmZsDv7DGCOjGr5LA3PHZ7R/by8YDscdKfq01IkqmdluwVT6gSb/m8f/cYwn19/+pe7g+0k6+55pprxjEM1rHHHjvOWVT1whe+MMncY7TQFwGqGUePUQi4zNb6/h6PAOOaxxWPG9ipmSwLxWDHHLblemYstr3aNhER2nb8LMR59sKxJzNuFrzdd999SeZjRSUk9ljlvsOzbA8O+8W79lhldg3bs43Txyw09f2pM9+nCm92+F177o1Go9ForBj6495oNBqNxophzaKtimqy2Aea2HSGqQGuq+LkTf+YguZeVbazJfhveeYJJ5xQXl/tn+3yQ6F4b1zK7zht00Ivf/nLk8xpQtcZQje/s/egf+ihh5LMY98NqGPTU6Z2oc8s4qCdTNWbToUKMjVpWgiKu9rYJZmoaVPUG226UcVSezMeKPglqgmRjDdysICTY+ozmS87QP2anjv11FPHcbUpiM9dfPHFSZJDDjlknKMeqxwByVT/blvTkFB1rltTirSDaW/bK/G4pl4t/EH85j4IvefYcy9j0ebul7Yt3sVLUxYoQcM6VnivvfYaxyx7+P7uT1WOBC/3UacWh9HfXLfVssBSFjLGkKWNZTZCtZFItVzoc9V7GsTzO7YdKj6ZxhvnRXjHO94xjhkX3O9tZyzpmNa2kI0+it0nUx961ateNc657Vm6++QnPznOuZ0QzS69O3bqXBfVxmW2F/eHqp5Z3nnRi1607u+SqY9VG18Z/t3Xs1ThJUSyQCaT0NcCUdsmNuelApbBPG54WYB2tL27zHzHvWTTnnuj0Wg0GiuG/rg3Go1Go7FiWDO9B0ViSs+xndCHprKs6IOGteoW2tu0htMHQqeYtjCgHkxHVFhS6kLTWrlo5SPvZwqFOrFC1LHYUEjeiMNqdujP1772teOcaU4UzVaQWiUJFWW1uulqaDurXimrKTOnkaT+3bZW0/O7Vdqm9GhnU0FLdQ5cftrBdlAplk13E2/rFKHe2x2VvKl4Ry3ssssuSebt6DJBE997773j3C/+4i+OY+hL35N7EdGQzJeuoAKthnc9QfW5zJWy3FS7042yZOM0k15SYhnKKT6pUy9pWG1PO7vuHU8L7e52Mn1IXLBpd8fgQie77n1M/Xgs8TFLFF6eqTY0qdTsS6jo+Or5S+MOlKnpedcPfcvKcdcPcCpvxqJbbrmlvAY7dC4Hx0JfccUVSebLI9VyqCOTPO5gW7Zn6HZT4SeddNI4Zrzx0pjHlSp6w+9EO331q18d5xylRKrwKj1sMkXU+J4sLzgqysua2JPHfI91jDcus9+f75zHdC8tYjtOc+7IKZbx3G8553HB5WMscpSOlz1ZCnGOhPbcG41Go9FYMax5JsAsqhIXJNPswgIizww571k5WNqyj9muxVkWheEhLG1mgyfo+xvMLC1MYeOAZBLiEaOfTLNAsxb2VBBSeFZuAREZyextW9jHjGspBhfvzs+vRIaOS61i783K4IlZbOP7M7N1mT0LpH4/85nPrCtnMrWjvZ9q+1nHNzMbtjDR7QQD5Nh0trVMJk/TM1x7NWQ58+8G73TGGWeU9995552TzLdZpH7tcfn+nDdD4Vk/9eO6q/IJ+Jw9KTZ68mY21YYqZjsQark9PevHA7GNuV9jp7YN2yvnK8bOZXI5bad4SBYW2jYZo6qMj64nC5CoX58zKo+8yvHgOqnu5XHLdUJMu+uMPup7eiyssr056x/nzSSRDTOZMrc51tk5EHiuWQv3LcY990fYReLVk/mWrGR8NLO5lJPkieA+ZjugnTzWuR0Yl6tNXq677rpxrspHYM/beR14lscys0bUj6/3N4sMdP5mmHlgjHB+D/qIWQ8zjnzHXE/uT4jzLNJrz73RaDQajRVDf9wbjUaj0VgxrFncBhVnyq4SpixRLRUdb/Ea8P2hPkwDWuzD8y0qqjaNqGjtZKLCTG2alufYQi0oQ9MyFlBBQZlSM60DJWla2pQlYilT0N4EhpSUpppMI3LeFA1iKdNDFplwfkkkiODQgjwLrNg0xAIeU5KUz3XmlL5Q4NXe4E47aoqbY1ObjoHFDiyWsUCoig31MSkjLSJ0DDEx+W5nbMP1aNCfvLRVCb18T9N3vKupT7cJ7+/38FIC5710hsCz2jApmfqt6VrT5vy+JLSlD7lfu79Vaav9/owRbge/P8sKjisGS7HzjAdVquukjlOv0gz7PTzGVFha1gDQwZUN+hrnEzB1e8kllySZbyj1spe9bBwfeuihSeY5Erw8w7i9lNqYfuiyY2/ut7RHMuWAMJX+zcBjhQWFtKnHZ28+5W8FYPx1H/XyBPkzquW0ZKLgLfJzH2UTLwv/vCzM/f3t87cRsanPmbYHrpNNr03mS5yMKy5ne+6NRqPRaKwY+uPeaDQajcaKYc0UB7DasVI+VvGayURzVPSZ6dJqj2XH9ZoygwpzbKPB9aZFvO80FI0pZqstiU+86667xjmoIFObplmhqPxOViJDx5g+c/mhuny937lSVFeUoN8DGtO0jI+h5V0PLjP0n8tkqo2dw1ymjdLPWq0KjWtKkmc6RrSi6E13mvplVzcrRF3P2KvrzvQX9JnrwYA2M6WHHXg5y/2h2snO9CD153qsog68pON2xLZNa9tOK0U3v9OGyTxdJm3j9/A9oabdNrvvvvs4ph0dneF2qvaa9tIadellIrcZann38SrOvFpKWFpCrNIp+17Y3FLUAse2DdO82Lnfg2PT3tU+6LYtlwl1tpdhHMv9ile8Ismcqr/wwgvHMfXoOvHOk/QNL0EyXuyzzz7jnJc1r7766nX3rL4PPle1idv2gx/84DhGze8IAX9fqFOfYzyxDTsnCTHjXu6zvXKdlzi97Mo3098sv9NG0U7YjPsD426VGj2Z+oaXWTwGoPDvOPdGo9FoNFYYa55ZMhv1DNSeOzO6KsOcr/Ns2LN54Nkws9EqVjeZvHzHFBqUzzMez2bxKuw9+f68i8vMPf3u9q7wFJcyECGEsOfqe5G5brfddhvn7HXQDn5nizO4l8VCvD+xrr5PMrWNhX2egWMH9hJdp2TF2ygrnXH88cePY0QqlTjNm8nY9phtn3XWWeOcZ67bbLNNkrkY5td+7dfGcZWhzptikFXLbIUZGmbY9nJpZ+eHcPZDch/YxpyJEDtb2ge8EgF6hk+b2BOwV8R1VTY4ey8VlhgAvDfbi70WPByXw14RZfI9/c70QQsjXT/UpT1W4HHDz9/Ic6csrscq30DVL5Opby5teMU7+/fqntVGTD7nZyKatfDRoioEdxaF7r333uOYDHZLOUcQ17kP4j3aiz3wwAPHMSwkYr6k9uKX8pBU7WM7ZNMhswnVxmauJxgI20vFdNnbt5dNm/nb5Y2/yD65xJLSTyyM9P15vtuR620v/uZUsfGuJ97P41d77o1Go9ForBj6495oNBqNxophzVQSLr8pDtPJnDcVZuoWoYjpLagPiwNM8VTxkabXEDos7f9MDLDTE5oCgZoxnWsRya//+q8nmVMkUGqma70RCNS2KRTHJCLO85KH6xG6x3SygSjC9WjRGeX386FcvS+y6WjEUD7ndoCmdEy1Aa22JLbc9D7JnJbnelOvCNruvvvucQ5qMUk+8YlPJJm3pylN2sFUlAVKbmdgYQxpgk11eTMHll2Ia/X9l8Qy2KljiU3L0w9s4y4/tl2Jt3z/Svzl8nnJploaq/qT6U4v30Dtuu5sjzzfZTK1y/ml322Hm5YpmcYVU7s8cyk9LPXrd/I9qzL5euzMywsGf2u612MIZTbFTn92e3qfdGLGLTY888wzxzE25X7v90MoBv2eTJsvJZMQzKm2XSeIthxTzvKLx0+LsDfffPMk82Uo1xn39+8eN7AD/2574F39nfFyJfdyvD5t4o21bG8sM1lE57GCMdLLu+5Dlb26byDq9VhnMSvfPI8R1NOSgJPy+909blB//k61595oNBqNxoqhP+6NRqPRaKwY1vbff//xH6gsU0mmK6DFTO06rhiaw+eg95ZUqVV6SNNj0GamvHzM7zfeeOM4Z6oM+tHPMe1VxSRCwSzFdkKHmLY3bQMlV9FTSfLLv/zLSeYqa1MwUOOmDJ12kLp01EK15zZLDi6fl0fcjpR1iXavlPEuX0XRO1qAMlt5jqrVtuHyEbdLPHsy38WKXbT8zqYPoapM+VnlzXOX9riHen7Na14zzmFHS/YIfejd82x7e+yxR5K5utax0lB1joU2BU49m1Y3NQvl6t+hZr105T7C890OVhKzPMEue8m8zrA9v5PzKVSpXt3O0Lx+5yr+utoBrrp3MvUh9zvbMPWztMc89zed6zqFwnbUhKljqFc/EztwX/FSA22PQjxJTjzxxHF8+umnr3uOQfuZDq7SptrevIxXRSVgWz7HHu/JFPnzzYL2cTu6D5M3wu/hZYGK9mesdN4Ep5LFjt1vbY9VhJUpcMYIj+/V8o77raOdqFMvMTKW++9M/3Mvj0+2PfqIlxjbc280Go1GY8WwZgERHrtnm47lZnZgT8Eznmq/Yma+S3tqf6vgGbCPq41vHB8I22DRE+II4ko3BQyHPXd7Ory/Y6o9W+ZZRx111Dh3xBFHjGNmXy6nZ3EI7ryfPDNLewV+JjPcjfZXrrKxJZPXYSFYFeNrBuTSSy8dx9Sp95qmHsxaHH300eP4mGOOSTKfQXuGTNu6jas9km0P9iiZDVcZ4vyufucqFtnCSTxi/463nkwMkH+vsmvZi7TXwnVmA2wHPN/sGWwFTMem969YF19PnfnvLIStsrl5DAAeV+xp8be2A4ud8MLN6FEP1XOSyU6W9nPnfLVZzNL1Lj9t7v5kNsN9B1A/7iOPPPLIOMY7tpjRXvz222+fJLnyyivHOdsrcH9wtk7swHkl7P1RLtsW7+dzX/nKV8bxEovwRKhYQJ+rmLAqh4GPLZ7Dtq666qpxzpvp4Lm7jbbccstxjNDZm+V4IyO8ZzMDznxJmdzfnEWTXCS2F+zQdet2ZPz0PW379Ps777xznGvPvdFoNBqNFUN/3BuNRqPRWDE87Y/+6I8GBwKF89GPfnT8geMsoXMOOOCAcc6igooC45xpnUpkYuqx2oDClKCFN9A1Fgv5WQiMLBzx86G499prr3EOCsTCDdNnFkuBN7zhDeMYmvXkk08e5x577LFx/PSnPz3JnCI27US8q6lL02tQcdwnmdrBlFW1CYvrrhIQLYE6NVXkdKYf//jHk9T7dCcT3e/lBagq05SmuliWYD/yTctJbgHbhpdKSFlpCtmxqywRWMDjNqGuLrvssnEOO/AzDz/88HEMvWYxYZXPwDSe7ZUcCRYAmb5j2cHLYRbmANOI9K3zzjtvnDMdC/242WabjXNeqth5552TzJcf3A7QqKYJvaREf1tKXcx1zrHg5RVElLYT9qb3koavqUSt7mM8y0s+rlOWIz0uuT9tBMYtb+RR5ZBwH8R2XE6LsujDxx577DhnQRtLCR43bGfnn39+knlM+J577jmOX/7yl8+ek0z9wcsXXgbib92vbK/VxmSm8rET09HexIvzXo7zUgTtjI0mE+3ufuF3os4dM/75z39+HFP/Xh6oxkqn+r7pppvG8eOPP55kXg/u49zfYyFjhOurylNi2/D11SZX7bk3Go1Go7Fi6I97o9FoNBorhlJqagrEtBQ7EH36058e50g/mMzVrgA6xLREpU42pec4TX43FWPqlGc6Dt2AXmNXsqROC1vtQWz6yJQcFJDL5N2ZOLbi2Gp86JalFKJOSwiqNJhLqTFBtZe028HUahU/XSmy/Z5f/vKXx/ENN9yQZK4e9vtTv6bCoI5Nt1q1Ck3qdJmmByv6zGkgaR9TVY7Vhr50PZnC53pTq9zfy0CmuFkqMRXvticG13HDtgNoZtPyhpdVKnAvU9TAO3e5baFG99tvv3HObYuq2NdU+SncH7xsAWXodqrSspq2dj6DrbfeOslcKex8CRUYd0ynfjOwbRqMB1b1bwT6kN/TY9kb3/jGJFNa5GROUXtpEbge3vnOdyZJvvSlL41zHteIGrG9mTq+4447ksyXwQ466KAneqUBq/qrMYRU00ly+eWXj2Ooc9uDxwjGSrej+wB9y2MEbWaK21FfPNNt55wm7BZp2N4Zt9gpM5kvUdLOS7tmVhEOLAv42VU9eEz1MePGbGfD8umNRqPRaDS+Z7HmGTazJ8+QTzrppHGMgOC+++4b59jcYwmemQILPoA9Y7MF1czZ98TrsOdu4Q7XV7G8fq5n0/ytvX17pDzTs2KXE09xKWMXWPLCmAX6GotDPDMGsAxVXH9S17nPMYP3vX3M757pGz/7sz+bZC7ysAixuideruvedY7n/qIXvWicsxdMWXyNPWqyPnk2+xM/8RPrymTGye3IzNueDp6/7ckiQGKUnVHQXjrMgD1rC3NgESrPO5myDpqBsBAMNqeyN8fbu54QJt5yyy3jnDNhVWJLM00c254tzmM88eZKZqdgRjzW+J3wOCtxlmOVbXu0j8teefFmbSwCrLxso/LYzfA8ESxIg5VIJo/d9uiNQBBtWRBnkNXPbW+BKe/nOrMQjrHDrA1405veNI6dGZO+96lPfWqcYyxIJpswm+CxFI+6sqdk6nv2gl332Infg/HXz/FYV+VNqISNZprcx2E47K27Tqv+4vLD6pntgP3zWOA+SD27bWwnjBfOkdCee6PRaDQaK4b+uDcajUajsWKY7ecOjeyYQafuhGp0bOQmN5v9m0wUhSlsC8H42yoOMZkoElOjFl8A9jJO5tQvFJLP+V4VfQm95+UJx2wjYnGZnaoWStBUjoVaHFsQ4TojhaBpRj+rWmLgd1ODFZXvcpj2qfaYdztVmwIZxEq7nh944IFxDC1lKgm63c8xvUbbeYMd1wNUlu3BMevE3DuG1vGsPNfiLdctlK3rjHpwfLWXH0jx6Q1qXGeUz7+b/uP9TVtXSyGmGZ1b4IkEd7ZnC4iOO+64JPMUno7dR0DkurfYh6Ut51142cteNo5pRy8lmKKHWvUylusHmELfCNRpJfxbQiWqNYXu8jEuLgnqoMirpQRTr65HNobxOXJeJNMGRhaPVXuOL4ngyL3wrGc9a5zz8kdF90Nxm4p3/DXt5DwhFgRSPxafGYwXVd0n07fAy40ev6GjPY5Xe8Q770NlGx5D+N198N577x3HtJ/LZCqeOjVVb9ul/sjDkSS77rprkvmGSR7LaGd/UyzkZenP36n23BuNRqPRWDGs2WuqBCf2/qoMTdWWi0/2XLLxBhDMrjwzqmbjSyEvzIL9fIsbmJE6XIqZlT0Ve0+IQ5w1ziEriGQsZrEIEQ/G5XDYXRUG5fevPM7Xve51SRJv4euZK+9nb92zQLw6t7G9cBiBpUx2eCj2SpxpEBbCzALikB133HGcs5eOx+1ZeZUpyuW0d8Wx29GCFO61ZDvVxjPcyx6PPS28aLe9w/PYwMJtX3mp7pd+Jzxz26PrnDAmlw9YROcNoxAZ2hP44he/OI7xqiwuczvSDvZOHKIFW2Pvz3ZEf/PvZlAqAWnFZtiTqsaIattpM0luR+B3rsY/24ZRbe7E/e3NO4sl7XPhhReOc94k5uyzz04y9/gsJsW2HPblbZ8rsa3ZQUIlvckK9uy2dd3TZva8PcaQmdNeqMuPYNAMiJks+onvWWUatD1VWVGrjIwecysRthkSZxjl/f1MjzGUz+Ovx5gqZJzvoG3M70m/d7+tNglzRsL23BuNRqPRWDH0x73RaDQajRXDmrPlQGNYCFDFNFq0U4kKTEFATVSChWSiykw9GpTPtLrjFznv5QMfI3xyDKuvRyxVvYfLaVEUMbymTUyRIIqw8MR1Ak27FEfPfU0jmq6B8nU8KdR2JTZMJlrNNJzpIdre9FtFH1X7VCfT+5tONjVN+Stayc90fDiUnOvObUvbe3nEwhmWPxxzfcopp4xjNkgyVe+yuP0B9KDtycsG2Lvj5U3tQsGbprSQjd+9yYvrhOdbRGdU+QzAwQcfPI6r+GcLoSpK0XSsl3RoW9uL65QlAv/u8rOBj6lXL9XQjhsJB90HabulZaQqS5j7Y4WljJVgozj3jcR9v/ALv5Akefe73z3OmU7m/RzL7DEGmFZ3f0dotyQC5G9N63vpD9x9993rnuW285IO40WVVS6ZYsW937mFmZTJ/d5jEDbp+2PPbmP3QZY/PFY4FwUUtzMC2vapP4/ZLhPj9tJyH+XzN6caV72kw1jne3oMYoMhL/m0595oNBqNxoqhP+6NRqPRaKwY1kwNQGOYknPCf+L+TAX5bytVKzCt7mPoFqsNTUdXv/v6atMJo6IvTW1AqZrWgT5zDKmvQQ3v1JEG9JmVi1aOQ/uYwnZaVGIVTan5uEo1CDVtWtlxqywVmDp0+kPqz1SVKc2K/jKqTVaq/eRNYaPQd9uazuZejje1opmyOMeAqXSWXJaWR7i/af1qswdfD6VoG7TdQ7e7HUx3E2PseFTTyfztBRdcsO49ff8l0E7+O84t0YRvectbksztvUptaerV/Z728VjiJSuW3GxvjiCA/vSGJVZU0ybeM7uC65E+vLR5RxWd4zwA9AdTo1XdV+mMfX2FpfSz1Jlpa9+HJVIvH9x+++3jmHHFdVuNf46kcHrbiq6vnmkVOffyczyuYbseF3wvcmG43zt6hPf3cp6p52rDlCr1sPNScC+X+eabbx7Hp512WpK5PXvcYjzw9f5bxjMvJdje6FtVHLzPOb8G9VBFfPhZs+9kGo1Go9ForBRm01e8nkqYkkwzW88YPIvCO61mxRZ6+RgPaCnOvRLEVDHrFrt4kwLHAANvykFmIIuamIXZ+/AxZfJszXXGzNMzL29swyzLWZucmQhxhD02zxw5b8+4imG1kKzaHtazWerUGeoef/zxcYxXYI+qqhPPPC1oqfIcUA++xl4w71exKsn0zrZHl//iiy9OMvc07EWzvaxtxHHLtKnrnvLZI7Tt4oFUwr5kEiiZbbAXT5sceeSRZZlga1zmjbx5ft97773HuSqudylzI96ZPT57XzADvic2nExevhkYe7w77LBDkrnnaNtCuGTPfiNgex6/qi2WLYpyrouNQJ25beydbrTxDHB/4vkeN1zn5A6wt7/LLruMY2La7Y1XzILzHVh8B3NjBof3dB+rssm5nt2OCDfNBLnOK7bA/YF69CYtzrC3xRZbJJkzm5TPY569aM77O+BNlX7pl35p3T3NGHJ/14PHALxnt73HNcYOi/S4v8dCl5n+6G+nvXTEdTN7T6PRaDQajZVCf9wbjUaj0VgxrJnmhC5YEqFADZhiMTVMTKYpauhanzMtw7HvuREVbzoEWswiEgtWKiGXKRgoLlO/lMX1YKqIlJCme02PveIVr0gyp+lcZkSK3tDEFI0pTWCKpgKUp6kg1ynvR+rFJLn22mvHMVSV45dNsyJCcduYkiRlrsVppvUpiylq4mktzvIxIhO3jZ8P3Wx6yjQmFL1pSLcjYh5vYuJ2oCw+R1mWYpah30xBe1MjaHWLhkyNQs06r4LrBHGabaui5U1JQtm5vUyzEke/URy5c1F4SYd3NvVoQSHUrmOJbZvYhON2fT0UOxSs4Wuqvd2reHbDfdx0ODAduxHF/s3gAx/4wDh+//vfn2Q+Vvr5LEtY4OljKHjT6gbLpsTTJ3NBHtdZ3IadmAqvqH7n3PA3gb7jZVMvnbFc6fHRbfb1r389yXzJxOm5sVkva1J+i5iPOuqocUzfcb+rNnapvgnJNN4spW5njPI1pu2xOb8n17hfu+253teYgoeun+UBSaPRaDQajZVCf9wbjUaj0VgxrJlOqOh4U23Qg6YLTL2iUjeNWamofQzFsZQSEZhSND0Ire90lS984QvHMdSJn+nyc6+KYjGFbfUyFJHpYNMh1JPjgv237DDk5Ylqr2q3TbUfvcsHTCWZluJvH3rooXHOqS0pn8vpOPrtt98+yZyO/sQnPjGO3/ve9yap91VOJjrJlJp/B46+oE5MRVX7iDufgN8farbaFzmZlh1cDvcBnmtan/L5PSv4d6jFZKIkrZJ2pAb7Rtt2bJvUvyliU9NcV9WD93A3zUqZjjjiiHHO1DCKZy95WEn8ta99Lcl8ScdLCVCNpindXzhvatZ2Vu2/7XeuAI1Z0aHG0m6V9M2llLTuGxWoH6ubq6Uc359j19Nzn/vcccwYaHt3ethqKcW2u9tuu637O4+71a54nDMV7/S0LFHuvvvu41ylHHcfq5aMfE21N7pp+SpPivs4sflOH2tUO/Ztvvnm45g6WRrfOXY9uvyM1f7dts37u52pBy9p+HfeuVrSTqY683Pac280Go1GY8Uw89yZCXhGYHFFlfDeQgnESvYyudfShiPMzKo9q5NaEGPhD9fbk/HsZZtttkkyiaeSuejLMzbAbNueij0x3skzSM+mK1Rx8N5ruYLr2YIRZpTVXtKeFft4KY8AcBw+sMAIUdjnP//5cY448mTKqmWPjf2hk6mu7MlQp36OPVbsze9uURWzVc/qq80g3N62J7wrz5DdTryLhZPUqePUq814zMT4/dhUw4I5i6LMtgDXGfd1H/PzQbXf+THHHDOO7ZXAurgvO1sb/cDefrVfvL1pe3rcy2JGs06IsbyZjT0l7uu2AR5X/HzsfebJFF66f3d/49j3fCqCuoolsKdY4Q1veEOSed3bjhCAOX+FPT3szN64+xMsq4VkPsZLrzx438eeO7kiyBeSzG2PsdL17DLTTm5bvzP9xKyH+ztjoMdCxgXb2yOPPDKOaRuLAC2ApaxLG1Zx/6XxlfvbntxfsCnbFr+7Ly+xSpuWw8ezTLBPeHWj0Wg0Go3vOfTHvdFoNBqNFcOa6aNq/2qLrqAcTQma5uS8aX2wJIDhb03/m26AGjFtbxEKf+symcKBwjfVU9GcpmapBy8PHHDAAeP43HPPnf1dMqdeuWclGEummPFbbrml/B1quYr1NarNCByzbfEaVJ9jTA3ilr1phWktaCkLKE2F0b6mqtwmxO6TajSZ9m02zeY4T97ZqVYdKw0sGjJNC/3nd/azEOH4nG0H2zStT/06F0F1jGgymae55FmI0JI53U07eE9rx8lj+6YRTZmCiqpHaJTMlxrId2B7f/7znz+OySFharHa792/u0zQk2471xl93/bq/sRSRfWeGwnrlsC4sbSZDqg2wEmmMptiNm2PzW60x7speER6Hjeq8XdpeYC+edddd41ztgP6q8855h1xXiWy9ljn36GBl/ow/cnXVAJRv6fBu3rMth1hJ64zxk2Pj17u4ne3Z5VOeknkV/1uO6w2UPOyLssm7gMshdje/M7Uv89Vttu0fKPRaDQaK4z+uDcajUajsWKYSaihQU0Bm26B2qj2TU4m6tZqdqgeUyBVfLZpRlP00BXVrmebPh+YFoEesxLYFBP39TkoGtMuBx544Dg+//zz1z3z1a9+9bpzS7T8jTfemGROIfv9oIGXUmfyzn7PKj2tac6DDjooyZwCtqqV+PdKkbwEq3KpX9/TSx3QzH5nqGvv1VztIW9lehXT7evdzixvVDSZ728Vc7V7k1PFcn9Tg6ZmWQIwzeg6hUb0UoPV8lCmpuy8IxbUuWlx09VVVAr3vOKKK8Y5RyBAGTpyxOmcub5SyCeTHTgixe/PsZdxbBtEEHz5y18e57wkRfu6Tuhbrtuqv7k9TWlSj0uKZuAlRpevUpRXcD0D09Zue8rvPuAlnSpa6eqrrx7HZ599dpK5PfhZxMw7ksHKe57r50Pzmrb2MfV7xhlnjHPPe97zxvF2222XZE7FV+nFPY57SYbn2x7c9+gH7sN8f9x2Hpf4FnkZyuMKdLftycdVPXmphLKYNveziDZwO1Sp3d2XqXM/s1pSt220595oNBqNxophrYp/9mzXXjgzIc+WK6/IIhH+1t64UXkaPsfzPbOy6IDfP/WpT41znv0w4/PM0DMqZlyuB2b4FpQdfvjh68rpOEnHLRPzbi/S8aSIsjybNHOw5Gk+EaoMRW4HewDAs0meae+l8mQqUVNSswzed5p6rmKdnYXLM9P7778/yTyDWzXDthflGT4Z05y9ym1fMVVVfLizgNEHLE7zMbNpexdVXoYqo1YyMRxLG2lgR2479xdEWf6dzJG2cXv+eFU+V4nfbE+uE8pnT8T1zAZJZpIMnuVxxXkXYBGqLI5LHiHvurThEu/qOrGnh3dnj83x3Xhn7tdmsmApbLv0ezMYd9555ziGIVmKKSfDXOX5JtN45P7gPsw+7/bWXX9VThL6g230hhtuGMc33XRTkjm7dPPNN697phlD5zPAXm3jbhPGUNeJWV5swv0J0alt0McwSWbPXGd8P1zPtqPqm+nxlW+Nv0NmaNgoycJGyldl9zPsmVfCc/eR9twbjUaj0Vgx9Me90Wg0Go0Vw5pFJmBpj+Nqow1TA1XMKYI8Cx4q6rOK6UsmOr+KwU8myvOss84a50xtmN4Epiy5/0knnTTOQcmZ6jdVzj0t9HI9sDnJRRddNM6Zooc6McVStUO1WUFS09GUyaIoU2HQvX53HyM+czym6fKHH344yVxg6efT9q4nvx8Uu6kq9hH3vvamlRAjmdJy+XhWtQe8z7tMbgfoUdt7lfKxEg7yPpuCdnK+AIPyuZyOo4feswDVgEr0BjuVyNBCKqhZLw+4TqFmXTfu49DlS6kxsUe3jSl4+mMVz+/72l4qOt12shEq0ZNpd8a1pbTMlMXLD1WbeFxDGLgEU/jgjjvuWHduSdR6ySWXJEn23Xff8neLIIHbjOcv0f7A7+G0rRUYI5z/whQ+yw7O6eFxg77lcWvPPfdc9xz3cY9BLHX4d+zcbetn0t+9lOBlAey5EhYu/V7t/e5xw2MpbeIlEeDvgMdK7NHLCxulFG/PvdFoNBqNFUN/3BuNRqPRWDGUfr0piIqKqpTlyUQdWBlvKhBUyvkqteMSHDuKstM0aJWiz+dMh0B1XXXVVeMccbVePpil9fvjYythTesQD2vFsRWy0G5LqQTJJ2BaxjQpFJCpTahZK5pNzXLN0k5G0JRL+QQqVGpPK22dJpj6MVWFgv6aa64Z50wNEy/rpRUrZakT063eFa7aMco0Ku/qSIqKjrY9oso1tUmOgGSyHVTCm16/6X2Sefw0SmKnn3Xc8Ec/+tF1z6/UzVYkgx133HEcW9nOvZwS1zRrdS9Tx9iRqUlHj3De/cl2hr07dbLbkX7gsaSirt121In7peuJ8152NEXt9gNuM9Io27aISkgm27Y9Y3veC34j2rtSRPs51bKj4T5KO7i/uH6oU9cTbVulM06mpRj3a5cZutz3dNtBsVvVbzthqcE26P5Wpa1lycvv5neuxjj/Turlat94H/ucc108+9nPTjIfi13+ik6vUsm6nBWF73quFPrtuTcajUajsWKYTSGYUXhGYK+D2YVnGZ4tM3vbKMtZ5aVvFAfvmZ9n24illrK5MfvxbKmKI/eMh5mhZ5PHHnvsOMarciyuBVbMPB3n7ZkhG4H4nS0IQfyxkdCrqmfPen3/auZXxcP67yyQerKwUMwiGcpVxTpXWbh83h6l4+S32mqrJHNv3F4wXr5/r2bwSzG21K89Rjxae5aup8reDGb77jcuH2JMe3f2Infaaack8/hoP9/eM6DvnHjiiWWZ8C6dAe4b3/jGOH7BC16QZO5J+P2wTXuRzupHf+PdkjkzwH3tuft36sy2jSfp9jQDQ9u7nqscDRbqmumi/s1w2EsHZu/spePJ2aPd9LclVN56MvUNv3NlZ0v2TF24HjfKWVLd0+B636cSBy950dgMOSmSeQZTxgD3NzMXMLa2Pd7TzzTjR516rKli2n3O94eVsSjV9s646u9HxZhu5K27L3O929Pvx/ejM9Q1Go1Go7HC6I97o9FoNBorhqckqIPGWKLlofV8DVSPKSvTxVX6WVPUGwEawon7K7rDlF212YzfAwrEtIj3A4aO9zt5D+Vf//VfTzIXXFj8xuYipnpMwVfxskub0DxVmJLz+7HUsJTOs6L1l1LRAsdvE59tARHvBL2eTBtNJFObfv3rXx/nTDthR457tW2xfGO60cfQWksUOuWzvSAUc3u5TCwbLKU95flLe3Lzrqb5TMu/9KUvTZLcfvvt45wp/CrNMP3WcdZeaqBMXppyDgcoVy+pmI6GfjTdSgrmJLn88suTzO3BlCL3tQjPfYt7VfuQu+79flWeAfdh+p7byW2KeG6vvfYa57x8whKClxps24ip3DYVLrzwwnXn/J6m9Xm/Kl4+mdrU/WHLLbdcd68lO+A6Xw/cthaKAce2V0Jd9zuPK9iBY86dH+STn/xkknkfdPlYBjQFjqDNY261RPnMZz5znHMqcTb2sm24X2Gn1X7syWRbS/lg+D5VY+qS4LmCf+eb637Vnnuj0Wg0GiuGtSrz29KMoUpu75klQgp7/szyPBP3MTPvJTEHM5Eq+51RZXBL6q3wKvidELxYYGPBHB6In0MGt2QSb/iZFigxi6tESUuwYKXaQGMpVAVUoXAuP7NR/17V6UYMgq+xp4Yn5Lanfv0+tkcEK64bi5ooiwWWZib4W7eDn1Vtsenn0z72aPH+/MxKLGSPyLYLa7MkOsV2zGiZ4SFcy3Vir4Iyu0yE4bhMZl14/6WMiNTj0lailNmhj96Ug+MqzDCZbNcCVIsEqf/tt99+nNtnn32yKU499dRxzPa2rjsf4+lVQiy/i731yqO2F1yxkEYlpLP3CGxvBs+qvO1k8h6dqQ4v9smAe220na3vT1nMAnpcoz+5zPbCq2+NQw75fWn8p808bpG9cYstthjnXD6+SWbH/DusmMdHtx1jgBlqPx+bWtrgp/oWVV58hSWxZHWuPfdGo9FoNFYM/XFvNBqNRmPF8LTv//7vHzwkwibv92uhAb+btrHYiVhEU24cO5OQKTvOV/GgyUTnOH7Z1CsiGIQXm/5eib5M7fLcikKu4jGTSSRjAZDBvUwv+V7Ezlq0ZPHHOeeck2RORTnbHZSwaUTo3qWsdlBIFth4Iw+oMlNmfiaUo4Vgpm6pH7e9RV+8y0te8pJxDjrZFHMV22/KyjQpG/u4HPvtt984Jj7eQie3I3ZQicuSieJ69NFHxzlyFJgiNmVHmUyVO0YXOtsbSdgeoV69POD7Y1v777//OOc2R8zpdoSedD1slOHNv3Pe7WTKkd9dDlOW2IypdlOi7G/tdjZNSps5fhranPdN5iK+TZ+9aZkshAO2Lfqjy2QRIeXzNX4+9Vf1QTZMSpIPf/jD43jvvfdOMs/lcNlll41jnweuR5YlXE7XD8//5V/+5XHOgr/zzz8/yXzp6rTTTksyX3Z0H6EenAekoo6rTVB8bAqcPubfLeKrNh7zuS984QvryuFxhfI7tt72zPjqPugxgnb2pj/+/lDPxxxzzLpyJpPNONMqfcPLlq4HbxQFPAaRMdHt1J57o9FoNBorhv64NxqNRqOxYlgzxYIKcCPluWnGD33oQ+MYRXhF3fo5VnhCUTixvvcr5nfUr0lyzz33jGPoFtPaPoauqdJyGqY9oKBN21QbMFTP8d8u0fa8q683bcXGBVbom34DpopoE8fymhomztPldD4BaCnTuV4W4Ni0tm0D+sx053ve855xDKVr+quKlKhUo6bUTBezvOG6q9Lfuh2gzZOJtvP9/f68a9VOSxQ0yzxeZnKdVek0HSNMhIApu2ppyRS503Xyt7Z3llf8HKNSeT9RKtInA48h2I6VvLYtlvls416KYCnJ9swyl+OXTVszxvg9rPCHeq02k0mmJZ0qLbTv5bb10hvwWMjSmdvGKUwr2z/iiCPGMUuTN9988zjne5F/g82Lktr2nYrVORR4f4+vjOleOnKdVTlF3M78rZ9psGzha1wP1J+XN9xO9EMvRdAHqg3GfL3L7v5EDoOl6AfG2J133nmc8xIm3w0vJbtNuM72TJ07CodU04ZTcV966aXj+N57700yH4vac280Go1GY8WwVnlS9n4sfkAI55mjRQXMiH70R390nCMm0t6HZ1RkkrJX4Rk813umb6+JmfvSZgwIRqoZpmFPA+/WG59Us3LXU5X5zbNql9+z9Qovf/nLk8zZjFtvvXXd3y1lOftmwPtV2fuSyQNa8lQQOC1tAFTFfPK3fg97SnjUnslXXrRn8p65ci97+84qBSvkstnTo33tNVAm37PKfriUnYryOSbcoiz6juvBtstz7em4HagTsxEbZRIEG3nrG2XdWzrHcZX5LJk8YmfAs0088MADSebjCnHuZq+qDaVcj/69EjBV2Q8Nx7RzXHmZyTRumS3g2LZhkSEen7OtWTSFMPLBBx8c58w4IkysMsQlk8C32sI3mTJj2gt+61vfmmQ+zl9//fXjmHF3KaYbVCLrZKoze762d8ZQ9zHXD/Xnd6b8rnszaVdffXWSuUDTbfeZz3wmyVzE5z5aefQeVzj2mL/nnnuOY/qrxeh8E92eFl5ij25Pg/LZXtpzbzQajUZjxdAf90aj0Wg0VgxrldBsae9eKC7THccff/w4hk4xBcL9TUNasIGwyJSf6W7i4E2hmJanrL6mSt/o+29EP25E4UMveimhompM1VexmYbbAYqIfbSTOb3IJjWmqKtyVKliTV9VSzJLgjvoR9OgjuOH3vQznXIX+s50J89f2nceatllsqCEONA99thjnDMtDx197bXXjnNV7Ktty+3Aef8OPegYVFO72IaFjQZlqqhHY2kDHyhNU8TOG8G9vHzCvdwvXafQh0spPjdKq1qJZo0lOn5T+Hr3LY6dKwPxmIVeppursnj5gjplw6RkvlzIeLJE69OP3E7+W9rBFDJ9w7S0U7lSfrfdY489No6xOb+z+yN26Phsx1/zt46/9vOpHwsHSXdsoaxzn5DedillLuerzWaSqQ+6HWyHCN08rljcTN+0PSNe81jndoB29z2rpQwL5lwmlihM5bORUTIJ5Wxv7uOIC21voFpydll32WWXcc5t/7znPS/JfHm6PfdGo9FoNFYM/XFvNBqNRmPFsGZ6EOoE1WUyV3ZXdH21t7tTuUJ/mQJx2tOKWvZzoCYqqt/3X9rjGDrF1yztab4pluKnud57RluRDG22pGxE4el3MtUE7WUqiNj3JPnYxz6WZE4lcbykoIc6dZl8XO0MZpoRmGK97777xjH1aMrR1CopjW0HPGspRwF16nwDpuVRiHovaCt9ub/r0WV6ohShfr7rpIrbdfmsUgeuR57vHav8TGzHz7Qdci9HT1hJDL1pahf1rt/Ttss9TSNW+Q5sbxvtTuXfl1T2T4RqiaBaunMfcpw7dkQuhGROLVfRL84XUNH6fk+WJpd2WeR6U6f8revGNCrXOFqIVKrJfFwFd9999zjeZpttkkzRNskUs51MdWHltp9PufzMxx9/PMl8acjj9+677z67dzK3Ha5bWupkOdDtXS11LC03Vvelv7gNbTtVzg23CeOzy+TlC+zE/dIq98refX/uxZJHMtmWy2Tb+cpXvrKuHF4KwJ7vvPPO6T3XlaLRaDQajcb3NNacJQeP3XsM2xNiRuaYRHtNeDpf+tKXxjlmFGYAPLPhnp4leRbITMXejb10yvK5z32ufEFmYRt50Z5FVdhoAxqLx6oY2cpTsNfhDRzw3P1Mb/pBfKSznLEJjcWOFTzbrLxMv5N/ZxZp8VYlFvLv9kCIUXY8KB6vZ73VO3vWbo+ZmbnbnljdZIoTtadigRFMle3NngzxvGZV2LDFDIVjYB966KEkm+yrrOxXiJX8zn4+ntaS4I77VvtLJxMzYM+dv7VH5LbDXi0MNNvAcbWpTjIJuCw8dH+GTfLvFSoBqOF6xGtxbLpZK5gJx867nYA9Jde5x5sK9DM200rmtovNuJ5pBwvWqr3L3bYIpZJ5fweOk6edPvCBD4xzzlCHR++x2H3LniLANnyNmV3K57axlwrLaZGfQfuZdfFYCUNjpsksarXfO3bq+vK4xv3N4Fa2YSbH3wfHkm/6zGQ+BgKLQdlQy0wSTBNMSDLfWKyyxyrniMf39twbjUaj0Vgx9Me90Wg0Go0Vw5opvWqfclOSUC+mikxHQ5GYqoLWN9XvtHsf//jHk8yFWqYpEWKZirdIxHRLBeh40zoVlgR5m97H8D1ND0KXVFS84d9Nz912223r/tZUPzG+FnKRR8B0qSnwaoMGA0pvSfhCPZt+c1wxNLXpscMPP3wcQwn7+SypmFpEwJNM9NZSml8oVVNibpNqkxfv9871pt9Mt0ORkVcgmehJU8ym/1gWcJldJ4ieTM2axmQjD9ezn4VgrhKyJhN96N9ZenO/rPbU9rt7+YN2ch+wPXJsitf3os38ThtR8O4btK+pXeJ9fZ9tt912HLM84bHGabOrVLBeGqs2cfFSBaIyU9RL5d/0mb63NxSBerVY0lQ/e7Pb3l2njLEWXfl64uQtWnWbcZ1/5z08zvqbwLh90UUXjXPOacJ11RJgMtm++4AFebyr36Maa01bY48bpcT1uOPyIdr18rPHEJaEPJY5H8EZZ5yRZN7Oe+211zimj1u4yFL2TTfdVJaPccPLB4cccsg4dp4A0J57o9FoNBorhv64NxqNRqOxYlgzhVPtwGZKkGNTUdAFyUQtm1aHJqz2Yk4m1bBT8Tmmm2UD03xWk6KQtbKwQhWHnkyKdVNNG10PTJtY+V49Z0mtX4F2qFShyURJOua7UtI6KqGiGU1lUc+mKU2PsWxhCtu7FkE5Wtldxf2a2qTNHAngSAvUpKaivBRQ7V1u26BNrFQ1rY8d+v4ztWmR+hJUe0onydZbb51k3oeqZS7XTUWxV6mBDdOxBursavmF5Zyk3v3P56o0ve6Dpoahdt2vfcxSi9XBpvX526W4ZM67nao4dC91UGe2cfZTTyY7sb1Y2U6ZTDH7XhzbNnwvxsqqD1ftmUzRG6bqff/zzjsvybztTScTkfLSl750nPOyKcsSPvfe9753HFN//v2WW25ZV06WB5Jp2dXtUaWi9fjo3+knrjuPVdVyoq9n/Hd/oc28i+Dv/d7vjeMTTjhh3TW21ypXiJdAgb+d/v685S1vWXeu2rV03333HccsxVx44YXjnPsjCn33Iec4qNqpPfdGo9FoNFYMa55dMIty/Jxn65z3rNpeNvsue9bPLNOz1UqocOCBB45zCA6SaebrmZU3IcATcuxhtVHF0sYGwO8MlgRxlGmje1bXLJ2zR4kQzrNFz1wRvFQZs+wx2lNBBOnfPZumnexF2lNilup2rGaj1X7qycRc2J5oR4vgnIULNsdCKXtn1J/bzmIgssDZ+7LHSP3ZXm2boBKr2DZcD9huxVokU/0tZW2rxG1LYqQKeIz27qgf21MlbrMnY8aOd7FHZbakEhm6TmH6zF7Z3mG4zOC4zfhb2zuCP3tZVR+u+khSx5y7TNikGTH3d6637Zqx5FluR2DG77LLLhvHMHIWH1uoBftpFtRCYPq4hYG+fscdd0wy3zjGdkp/8jm8dD/H+RC4J5uxJHN7pW3dB2wblb1Xce4eK13nxMd7rIL98wY3FqpVIj3bPoI539P2yMYxRx111DjnZ4F77713HPv7RPvbXg844IB1f+d4eZjVHXbYYZzzBmzk5PA7tefeaDQajcaKoT/ujUaj0WisGNYsJINOMWVX0YM+Z5oWuqiioE21WGhGilLH2/t6rluKoYXa8HtUoq4lCr1K2A+WBEZVOX3/pVjyTe9V1VMyxea6nlwW6sTvybFpcdPJiIV8jWlW7m9KzXaAGMv3tPgNqszvZNuAoq/2tTdN6aUE6FwLV7wMVIlcKuGg718JyYxqKcbx4die6a9KbGl78VIIZbGNVOIxLx9Uy0zuA34nqHFTq9i2qUlTu1DMSylzOfY59xfK77o35cj7e8nE1DF2YoGmN/iBHjXFTH/30pLFZ9D1rgcL5rBT0622J1IaO72264f6c3pujwH0Qy8b8LvL+dGPfnQc33///Unmgrhrr712HFM/fo8vf/nL4xgxlnNFGEcfffS6Ml155ZXjGIrdeUwuvvjiJHMbPPHEE8cxFP1ZZ501zpmCR8zq/uB8BfQ3L9lUG1YtjalVeluWWtwvLdjmbyvhXjLR8n5nL8+w/OJxyfkU+FvT+lVqX7cj46rtzWPpgw8+mKTOA5JM9ef3aM+90Wg0Go0VQ3/cG41Go9FYMayZJkUp7B16TP9BK5kuqGKATU/xu2k20yVQdaYwXCauN0ViiqXa4cfU80aKdujFKm7Y50zvQV27HqpdhZb2Vq/+1oBy9FLE0o5dANrKtLopeqhTK5pN53JcLT/4esN/Sxyp7cVKZN7ZZadNHf1gmpUyuR5dD9jO0j7l2LPtwWr4pWURgG24TFCOpgldz9BjpPpM5naEmt514/JDUft309nQ3W47L39UO7TxHihqk3kfJD+F29h2VEWs+G8pv8+5/ER/uB28VALF7Xqu0vN6Zy7+1u3gd2ZJy2OF+x1qe1PxTgGNzVlh75S83NcUtNXy2IRzgvD+S0tj1K/T5LpMpLx1zPZGeO5znzuOaR+ruF0W6tnUL+X3cplp+auuuirJPOdGFYdv23B/r74fVe4BjwFuc2zby0Tc03V79dVXj2OWIpZyTWCP7te2Ry9pAb8ftL5pe+faYKnF9sh+7R6fbDssR7oebLt8M5zmtj33RqPRaDRWDGsPP/zw+A8bsng26hk22cEsEPKMiZmS9/HG07DAxrPFjTK34ZU4M5pZAGZE7KOdTLMg39/v4ZhEYko9Q8fb9wyxioW2wOeaa64Zx3haziHgdwaVuMzlc2xpFZ/t2SLlM1PhdwZur0oUZs/XXg8sgmeL3vjA8eng5JNPHsdkIvRslndy3drzp+3s7XsGjJjIwkN79ngNFtvYI8X79e/VnuPsg51M9mgv1l4LIsNHH310nPNe2MCx+xuxS/ZuKgalEglWAtGlvA1VHL29FmzX7WQBLM8302SmjYxnZhjsKWEbFmvaU6L+7DEhPFrK9oadWnRkURRek8vpZzKGPfvZzx7n7EVXm4t86lOfGse77bZbkrmXSsY02xjvnkyemjd8MhvAeLO0yRX1g3AumYsUGTeW+hN5Bpwhr2IE7T1yf29ispEQubLhJeaVunI7+Zjr3If4Pnj881hVCZrdJhaegqqPenz0hlS0s+vB9fziF784ybw/sjlVlSshmcZKC0D333//ccy3eZbLYl2JG41Go9FofE+jP+6NRqPRaKwY1kzxQME4ftl0MHSKaUoLLaAZTMtXsZ2mK6BeLRKpBB9LtA302q/8yq+Mc6Zt+N0iDwstEG84fnrXXXdNMqdTTfUT+2kK23QyFI/3ZTfFv1EcPOU3bbPRXtjEoW+33XblPaEvTYea0iR9pEVXfj7v53Ywvcc7uZy/+qu/Oo5Zlqn2i/cyUJVDodp73Nexh3pSi+QshFra/ASYzsZ2vZkD70xMcjK3V8RQps/cJlCnTjHqHA2Uz/GuXmqgft0HbA9QeaZOibFdSmNLm1R5E3y8FBdMf/a5annFS3B+J/q+l+4srkOE6I1viA+3KKladjBN6f5KO1u8ZVqed7WNexmLcdFLQn5nBFweQ3im45tN+++5555J5u1kcTPpRpeWMmnHpdTFHNve/E5sXuLNSfbYY49113jJZu+9955dm8z7KGOZ69Ftxt96XHGZ+d20dpXS17ZX5Wvx/VmG8zjsMpFe1n3I78zzbTvVRkguM3HqyWTv3oCH74v7mIW0X/3qV5PMlzk222yzcfyxj31s3TPbc280Go1GY8WwZq8GAZi9cUR2yTTz9JaA9n6Y3VgkAjyLsiAOkYsFWRauMLvyrL7y/D2bs7CHWdRS5jVmbJ55MXO1uMGzLLwBMwR+PvW0FGrBO1UhHcm8/kElvrN3xSyzCpNLppntUpkQ83jjAtcj9WfvxyKTajMdszFcbzEmv3u2ae+Me9p7sWdO+XxPvxNMk+vWbc/vS9kNKxEkXrBFdO4PCKyqcBnD5XCdwpzYc6/avrKnZBJDmRmgTA4ls1dSCS8ruA9tlLnSoHz2rjxuYLP2SG0TiGntySAE9lhie60yFfr+vLNtx4wjXpHLuRQiDDwe8CxYPv/OtsDJvB3J2mfxF5txJXO2A9ijhBFwnXisRFxoUavHWhgoCwM/9KEPJUnOOOOMcc5sA8JKs7l+J+rZ9lZtceyQPfdHyr8kxuS74P5GndgGvEEP7Jrt3n2IsrpfGowbL3nJS8Y5M03ve9/7kszFlmaQeK5Zkyq80fYG3Ie80RK2Mduyuix9o9FoNBqN71n0x73RaDQajRXDmhfooUBMcZiKg+5hcT+Zx/ohfDGNCK3l+5g6hvqwGMbCFigYixdMNUFt+D38LMQT1Tk/12WCenWZqljspQ10qtjOaq/sikJO5mIsYAqH65zBiDhJP9tUUxW7b2EPgkIvT0DJJVPs7X333TfOWSjG8o3LiTBxCSx//PAP//A453bGjky3Oh6VdzJ9ZRqV93M72nagx0wD2p55lyqjYJX/IUle8IIXJJnHNzsmfPPNN193vcV5LP+Y4rUoi/NeLvOzoDe9oQlLHWyGkszrodrUx30EezOF7SWLKu+Cl9GgOb2k4v7G/f1M04+0n8W/tMnSuMK7VLkgXKaDDz54nPOyBccus+lu2sFiToP2tW1AE7vfe+OX008/PUm9n3kyLRWYnregD5hqRxyWJDfccEOSOUXsnB/E5vN3ydQfvMHNlltuOY5ZKjn33HPHObcdfcv9eqNsl35/+r7btmrnyp49PjsnCfd3PZrORrjoMrm/Ye8ea7ycSR92OT3GkMHOuVF4lscKMhImU0y7l1S8qRBjiMfS9twbjUaj0Vgx9Me90Wg0Go0Vw5opFFSQpgQrlbvpDtOLpCK0ctA0L4CaTCZq1lSRKW5ot2o/c5+v6Fz/7VLsJ/Sh6wH60bSIwf1Ny7hM3L9SjSZT/ZjaNPVKzLkp9GoPe9P30JROsenrKUsVZ55MdNAWW2wxzr3zne8cx1UKUtPVHLtO3GbQi34+9zTV7neqlP+mzzj2MpIpfChDP9MqbChTX1PlAXCZ6A+OaHA70k6m4RwBwFKBbdx0N33IUSwuU5Wy13QyS2O2F+zAanG3DW3ma3wMXe5+VdWzqXi3CeX3NVW+gqVUshVYznM9+Jg2MS3uPnjssccmmacBth1Wanj3UacbBe5v0KdW+EPLe0x0ThGWxhy/bMU1duKlANPyGy0n0j6ukze96U3r3sM5PaCuTWFXKaBJubrp84kk8bkq34Ht0UtjjBtuD79TZTu0g9vT+6lzvb8DvifLP/72mS5nidXLF44wYFxy6l8iIZIpIsYRNxVYJtn0GNgGWZr0+Nuee6PRaDQaK4Y1i9eYadjTsNeAwMiiKccv4pXYk2HWb7GMZyFk1Koy+CTTbNszM28ig3jEm054ZshMxrNlzxIRd5htOPzww5PMvTN7LRasgCpTleMs7clwjPgqmc+m8dyNKqud2QZmmZ7heuZZZZCrxJQWu1gEWMVa+xzCHN/T15PHwGXmnd22nrUTd+x32kisUwm17FHa3n0eWIhWZc+ifpwDwbN6yur4Y/chPAjbhkUy2KFtwJs7YXuOybYoCu8YUVAy9dejjjpqnKs2lnG/cJ3jdVUZC5PJA3I7+nfeaclT4m+XRK+bliOZ2tnemdsT0Zc313A9kw/ATFCVK8PltPfFGGdBnpkBvGzbM8+yN297pZ6quksmL9nvefzxx49jxjjf094j49nXv/71sszEuXuspG/53d0OsLDvf//7x7kqr4Tr0W3L31Z5Cfy7vzPO4QCbUvVll+PSSy8dxwjCza75nWg791u3GaJVb+tswR317++ExxDYVYslGZ/Nmp933nnjGPGcxz9/E2BTZllN02g0Go1GY6XQH/dGo9FoNFYMaxXFbgrEdAcUjakBUyxQLxWFbPrMdAd0jGlOx5NCMzhO0SITqDyERJsCit6pBCvhTkVfLe2zzd7FFp44Pa3FUMB0N5StqfwqXtXXeKmEOtlqq63GuSpVoWE6HpiG5flLe8zzzKV4VFIX23auuuqqdfev4p+X6hl6cmlDEgu0QJUjwDZaCaWqvATJZDteZqIeXZ/VJikWINn2aVO/k/MNVAIm06hQjRZ3ef9vlrRsm/RxC+8M+pBpcfdh6sf1WG1I4uUw9wHO+50rQZ1RiQirccVLIjvssMM4Puigg5LMxbumYYHbvtqQaamdWGYyjWrRFu9kipx3tnjYgj76iPegN6gH4qSTeR9kLPVYaDoZ23vooYfGuUsuuWQcQ70feuih6363PfoYOzzllFPWPSdZFvAC+pbrucrVsZQ2m+uqZSaDjXySadxz27iPc97jkpdHdtxxxyRzQdtb3vKWcQwd77ax7WKnXupgDLnzzjvHOed1oM6rZclkovg9frfn3mg0Go3GiqE/7o1Go9ForBjWTPm99rWvTTKn7xz3jNrUlKDpCmilKu2pVZmmUKCyrIA3pcc9TTt7v2EonM9//vPjnKlfjk2BVPB7OFYcePkCmIas9pJe2qGNOnfdm2qqKHSXDwrcuxJxjXeRMnUKFWVq1ZQiyxZXXnnlOGe6mTj2SsWcTJShy26lMFhKIwlMtVNm244pP6iqpdh66tS0uH/fKDUx11WphW3jfg/KbyWsyw+t5hwB3hGRZ5lyszIeVexs9yfVOb87Fpl+a6re78Q7V9EVydSHHI9fvZMpYEeH8CwvPTlqgb999NFH193T5XI7Q4k6xbGXrkjD6TIbtK3r0eMSduY6se0A13OliDYYQ9zXHR/+2c9+Nsm8ntxO2JZpfUcAOGoCWLHNuO7x0e1MhIHj7BnjnCrV1/MuXl6o4D72VH5nXPWSh9+JOrVtUE8en53ml3HPY43tmXt53PBSMcp7j4+m0LED21O1k6nbkXGlGv+SqY/6mR5jsBOXuT33RqPRaDRWDE9LMlwVZi8WVDhLGUIwz9w840LMZMEFsyCL4OylMzP2DNYx6zzLse8W1+H1eJa01157jWOy7rnMjuOkrJ5p41VYZFHNpn3Omabwyiwus9iHWegFF1wwzjlmshJ42YPAQ7Kgjmx6ntn5nWgbz/Yq4aTbc6eddlpXDovk7LHSzhYunnbaaeOY3Abe+/z2229PMs8nYO+S3AeegVdltr2ZQcGr8Kzc1wOzAZ5Nc2wmiVn/cccdN87Z80bg5fa2R0c/sICz2sPeAk23PZvE3HTTTeOc+wOiL3tkVT4BM1mwBGanvDkU3oTzCdhj5F18T9sRQi+/h71XWKlqs5hkqj/3tyOOOCLJnGnxO9N3/RyzkAh47dn7uNrcxPZesWse14gZt23Sti6zY7ZPOumkJFOmuk2fg014LLVgEKFdVfakFj7CFiTJBz7wgSTzsYx6NCtgVoa/9e/2YhlLlxgUzptBsceKbZotNqvFuO9xpxLCGmSGcz3aM//whz+cZM4WOI4dtsbl8DeLd/H463GPccX9kT7qtre98i62p9/8zd8cx/Q998v23BuNRqPRWDH0x73RaDQajRXDWiWceelLXzrOmeKBnjNtYjrklltuSTKn96ARLfQybQNlZwrFcZzbbLNNkrmgzGWCAjF16nvxt6btTYtxnYUx0C1+po95Z9O9pnigaSvqLpnEPqZyXH4odNezy4/AyilOoZBM//gYSs7t7WdCq5tyY4MDl/XlL3/5OGc6HfrNyyfnnHPOOCYdqstM/Zi+8rIC4hDHcbt8CPb8TlU+BQtE/Tt0r6nbKq+D079SjxYL+p0q+tG0PQIw0/KmsFk2sG3dd9994xhhkAV5fn/s3csvLEP5nl4q4G/9Thaw0k5OkWyKnrZ36l4LnKCrTfWb4mZJzrR+tcmNxUaUyX2kEvL6PU29cr2XAhwzj727D/uYOl3apIXzLhN92HSsyw/1bIraott3vetd6373ciZ1Wm285fNVfohkqgtfwzkv1Zr6ha72MpH7EOO768ZjZSVQddtXm93wTTGqTbKWhIOMv6b6XSe881KMfiXG9BjAuOqcG/4mYjtup2qPedtWtczkPsb9/R1rz73RaDQajRVDf9wbjUaj0VgxrJnuhZYyXezdenD9L7744nHu8ssvH8fQJT/5kz85zkGJsvtbMqcpUQ6atrAyEeph5513HudM31V0silDKBTTgFa1Er/pHdqII1/aQeynf/qnk9TK7CT53Oc+t+6Z1Q5Djg2taHnTgF5qgLo1vUX9Pf744+OcKUdoNe9iVcVZEuuaTMssSb0HsdX0RCWY+nU7QEGZ0mPZ4JFHHln3HsmkTHc6zir206iWQkxVWS2PGtX2ZKqNeFpTZdim28N2whIDkQDJXDlP6k/nZTC9BmW49E70t6Udq+hnpnOpey95OMcBFL/pUNPZ1Ikp4N13330cQ2+a5vSyAGp+pz017Q9N6T7sdNSMRx6LqBOPXy4fY5kjCWy72JT7iJ/PnunVsmQy1Y/r0W1Cndo2qEersP1OjBe2dy9t0V+s0ma3MJfZ7ejlRKhpL6V6GY1lC/dhrnf0hvsD9eclHb8zv3t88/iLbZo2t53Svq57l5/xwtdQp14ic9vwfl4a899iux6/Pe4wrnmscJsRQeCog2pHRS8R0mauJ78n/c3v4Xqm/B4/23NvNBqNRmPFsOaZAF7D0h7HeECe7dmDYfblWbnjtyvgSS3tA86M0LMoC1+YOdu7qeJlLQ77yEc+sq78jhln5ueZlcGzKiFUMs2+LGizSBAPwV6avR68Bc+gYQv8u9uBslhs4tkwnoZjI93OVfYqe/G0o/cZ98ySrIFmIzzbxaO0l8yxvR+3I2wK8e7J3E7wKsxA2KvBM7f4zPcnvtzClmpTIXsqvLO9PG8oguDNDIWFXDAr9oxtr9j+0qYVtInzAVQb71Sb5fjv7Anhqdhe7MlQJ7feeus4Z3aNOne/dDvxrj7nsmC7FiBVuTIs2KO/efwh10MytYk9JrMZ9O1qQ6dkYh+XxMOMR65n2xlsCnt/J9P4uRTPD7PgenDfICbe5bSnRv26Huzd0Q5L2Q15Z9czuQU81vibQP1XwkGfd38x08T93Q7OQ4JtuL+Y6cI2/R7Vpj2+njHO/dbMMn3DjJ9zLNBf7K27zSi/38llxvaqzXLMgLgPIEL3d8bMKLbhem7PvdFoNBqNFUN/3BuNRqPRWDGsmXqGYjFVZKoJCuoVr3jFOGdqAOrDNGq1v7ZFJFAkppcsOIHW8aYSplMoq+lUixI4tmirEpl4wxTimk2tVqk1vRlBla7TSx7333//OOa868HHUKKm8k0bQfF4AwUofMd0u21YAvAmJKZwoLAsOjKdjG045tx1jrjPdK0pfmLiTZvTjq9//evLa6iHF73oReOc7QRazOIt06S8s8tsSpF7mfq0bUCVmR5znQDXM3biXBGVAMqCOwugoLadhnK77bZb97emCU3v0Xcq6tJLNqb3+N193X/L77ZRU7+07RKtD43spSdTr8Txm/Y39cz93e9pW1O8FtRxvWl106S0vccKjzuUz7S/qV3u63pymUnH6qUK4OU8j7/YvscN2yv3tz1Vcfym0N1mtI/txfdnjHE9YmemqKt9yt32fj/octeT2ww7NZXv5UyWeP17FX/ufkv53fbOrcKyhMdU35O2dx/zGEH9uh78rcDOLRy0uK5aUuL5TkeMSDmZxmXn3PDSHPXv8a8990aj0Wg0Vgz9cW80Go1GY8UwSz9rdTao9iw3veZrUEw71Sz0l1WbpqqINTStYioJOqii95fKaQoJCsapUqu0qaaYeT+r2av4adOE3tkLes+Ul+PPofN9vallaDfnGzCdDpVnGhV6znSr6TFoJVNBpnCg/PxMH0N1mSqivZOJqlragQ1arkr/uqQAhbIzpeZYaWKYTalVO0Y50sD0GksRS9dz3qpb2taKY1PgvJOXDxyh4OUfYJoUGtJ0q22TerS9mA5mWaSiyE2N+p1YfvDSkpdsaB/XjaNLWIowFe/raXNTq1ae06a2Le929nM/93NJ5raL7XnJxeMKFLfbyeWjb3gZyctc2JzrsYrYISdGMl+6w3bcdrSTy+lxD7X6Ulpq07DAtgct73NVamWPS0vjMmApw3XvesQ2nLvE78RY6ue4TLSPx3z3hyolb5UbwOPGjjvumGROy7vu6Dv+3WNltTxS5e+wst22Da3vpSfv8MZ4VO1Q6aUhf3OqnULdH6vIrvbcG41Go9FYMaxZZIIXvbSRBh6xZ06eBV5xxRVJ5p4WHoi9ac9GwXOe85zymcx8lzYOYOZmT8lePDMeezcWwlVxxbAEFk85dp/390y+guOvDWZc1WwxmWbuntmZLaEu3HbOIAUs6KBOzBb4/ghCLMjzDJ139uzeng73tbDEs0lEND7HLNWshtsZO7z66qvHuWrfe3tHle34Pe0R441Ue48nk23Yk0DwYo+uir23jbs/HXXUUevuaa8Im7Jt2QPAY/UzLaBCJGTPGdbFe267j8AKOfbdz8RTsYDI7YAduO3tFeH1uI85uyJ1/uIXv3icsxdfbZqBN2/vxfbKNWY4bBu8i+vZAirq17/bzrADe2RV7gK/M8/3c+zlUn9+D7cz/cXjkm0XWChmhoWyWPDs92OMtm3DTFR7iyeTnXissZcOs+J+7TLDPrqdPEZhs2ZGbVuMe7YN3sn18LznPW8cY+f+ZphJYrwww+t70V+qPd6T6fv0mte8ZpyrNl2qNthxv7z77rvHMcyIvwP+ZnLscaU990aj0Wg0Vgz9cW80Go1GY8UwSz+La78kXoBCciy0qWGoQFP1pHysqPhkEiWY4jBVBFVlkYkpHP7WggfTOhxbVGXhC/HzpoahVUyRmNJE+OK4XIuRoI1cj47VhuoyjeelAjYVsaDCtA7Uud+DtrHIzUsJ1I9TS1qkSD34XLURR0W3+p2gS5O5iIXy2TZ4f/+dN/qAgqqERMlEX5rmNHUM/Wca0pQnNmV7cX/Atl0PxHfbBk3vYc+Oa/30pz89jqEEK0oumWhOLyVYZAN1bQrdtgV96fvzTr6n6WxoVtujhYvQ7n5PizGhYd0H/E7YhJdkTHFD+W6//fbjnOlFji1aQuzq97SoyseATX2Sqb97/LI4D9u2bVVpUZdyJHAvx3STL8H1XMWMu+yuE9rxxhtvHOf8fOrC+TF8PfCypscd6sJLItzLyzym7VleMV3sd2bc9Fjl66GbPe54CZXx35u8uM6A64GlDLet7Z2+637v36l/j1V+JnVhe/ASJX3TS5xezuS5Ll8liPOyLs+0gNPtxLg2yzGw7o6NRqPRaDS+p7FmT4aZp0OsLBQAFhc4ZGWfffZJUoe5LHlXsAAOpXAIGl6Bww7syQB72QYzHr+nvYIqfITtJi3CsEiEWb1FHt4elexjnhlabISnZO/Fs0R7isBeAYyAvWi8H8/cLHxhFulZvWfLbFNreGYJQ7Ik6GBmao/NbIxn64A2sVdgYQ73fP/731/eB0/GtmE7w1u47LLLxrlqC057tFU5LaxhVu+Zuj0VPPs777xznHN2Qurf7Wkw67dIzoJC2ved73znOGe2BI+6yqy2tHELHrHt3fUAm+I+ZE8Mr8NeoO8P62SPzF4H3p3LbNuuvBrasdr8yM8yw1BlZnOZCKFy+ZYyZ+L9uQ/7negnZoIYN33PSnTrdnIf3GabbWb3TpJ77rlnHONFu+6qECrDdU75vdkNfbPa5CSZbMf9qhI5elzw77SD2QxnhASuR9c5ZfE78/3wuOJ6rELQXCZsYqkdeJZZI38/YBr9Tdh3333X3d91wjvZHlwnvJPZXH+bKb/foz33RqPRaDRWDP1xbzQajUZjxbBm8YYFK8AUBrSPqTDTFVCNprqAaXfTCaY3QSXisyChylBkAZNFY1VmOVNR7D9uqgtK1GWz2AbK0rSNRYDcc4cddijLTJ2ZnrMQDmrZ1KdpH55rqopjU6emVim/f7ewBuFNlWkpmWg3LzVUcfCmUP18aEw/k3t6GcLZ3BAOnXHGGeNclanP4jbHAF900UVJ5u1t6pVlFb+TaX0oMovXKLMpOfcH3tk0nNuZOqv2n04mys/PtJjyF3/xF5PM68G2V+1FDZXvpSs/nz5WZQZLpv5kyg8b9/UWpfr5jAemzV1+bNdLU7bDar956rzafGPT64HHMp5vG3d/o6weHz3WQZmyhJfUG1IZ2KtpZdsObW9xmEGbmQJ3O9G+Xhb1+3FfL8f5eu7rdqDuTZX7d5ZwZ3SwbIs2cX14jKg2ganGbF/v/gIs7oWOt234nrSjz3mpmPMW8fn+tJ/r2YJv6sKbnXm8OPjgg9fdk7wRXkL0N4OyuN94ORDbbkFdo9FoNBorjP64NxqNRqOxYlgz3U0c6FIKUihVK5pN8UBvmnaBLjCtbXCNn2l1cqVsNF0B5WmFf6W8N21kQEVWNKGpKNMd0OKm7f38zTbbLMmcGrSaE+rUdWfFdxXX7fhvaFirQaHcTAGbriUG2RS01ZjExLu+3SZQSKaXDN7P72maEnrT9lTtjW6KHhW46S9HHUCfmbKzopl8AYcccsg4ZyqLtjcF7jbj/U37szTlcz4mr4Mp7kqh7/3QKzW4bcN0MDZ34YUXjnOmFHffffck8/7G+5k2dztXS2NVPoJq+SGZbMI0o9sWWt7v4XbiWUuRHtzf19MHXffOpVG9k9uEd6pyDBim0F0+xk2XcyNQfr+Hl0oqirqKta7qbtP7AkcLVPXsZ1Z1Sp1Vy4LJZFvuN9WSla9xmalf25bHMLC03Md4Uy17uu1MwXMv143/FjvwOUevEAXkFMpeniGCjLEgSe66665xvNdeeyWZ91tyYXh8POCAA8Yxf+t68pIK3ze3U3vujUaj0WisGNbscZJxbddddx3nPFPg2AIfe5lkgfPMihmyvaM77rhjHHvGBZxJilmgvR+DWabfw+I6ZvAWyxjMOO1xUiaLv+wJEK/6yCOPjHMWxPHOFmcZzK4cW27PnZmjzxE7n0weqb1YZqv2cqutH10me/b8bibHs3H+1rNue0LUn3+37VQeDjN0ey9VvgF7ZP6ddrInYjYCL90eZeWF25t3m3Nf1ynnbM8XXHDBOP7CF76w7nfnFth7772TzBkKl4/2sZftd/7whz+cZM4qmZWCwXnpS186zsGgOIOcy0d/tedXidMskjO7RtvaXnwvrnMftWePB+VrXCdVO1abf9iTog/ZHnx/bMfem+21Er9V2eTMsFS/+56wJa57jxvUTyVITqY+aMGdbRObsA1XMeH2Yt0fqo1jgPuY78kmYfbM/bfY8xLDQpltzx6jqCu3k0GdePzm/pUwL6nt1XbC9fTlZJ634rd/+7eT1MK+ZKp/P992iu3bHvnm2V7e8573jGPszKwIDHGSvOpVr0oy9+bbc280Go1GY8XQH/dGo9FoNFYMa053h0tvatVAVGDa20IDRDyOM4dmsKDAgjeoXcc3m96qxDSmgxEg+BpTZSwbWJBh2ggKzFRYlaTflCZ0sZcXTHF/4xvfSDJPO1rtu2w6uqLTTcv7b6GwHnjggXGu2lzD70Q9uR68JAItZeq1Eo057teCOShH3j2ZU0gI+bzkQp1aoFmldfV9nv/8568rvylBx5ZC6XlfZNsOZfZ77rbbbuMY6tmUIXZoOtXpX7EdU8SuU2zGwpnDDz98HEMJ+v5O40uaYbez2wF60mlJWS5zelhTn9ibKUGXj/o3XWs7YHnINKTtFbGm7dk0apWG2JsesWe325kxxn3ddcaygvtllX7Xdef0u/ytqVcvJWC7fn61iYzjn7Fn39ObwPD+pqDdX0nT67r1uIRN+JmVyNHLI7Z96GrfsxJLunx8CyzQdD1hZ7bXjdKbV+K6KuVtMtWlaW+WCjzmWkgMbW4bd5nuu+++JHN7sqCZ93fd2Z75pnqs8dIf93UfpM68zO3vMGOd34PY+CT52Mc+liTZaqutxrn23BuNRqPRWDH0x73RaDQajRXDmmM7oQRPOeWUcQ6KI5koECsLTaEQ1+cYXGC6wVQZNKyXB0zBmIYAjvOErrAa2/RYRdEYFd0BFWWq3LQKNKHrzssT0C2mVfx8aB3TNhvR9qYsWT7xM00RAauoub/pM6teUWc7NtOUI1janQnazrT4gQceuO5d7r333nEO1ampuWpHKFOnhx122DhG2W978lIINkd7JXNqGZux7dhO99hjjyRzZTu2SWRJMqfNsecle6OevXTleqYdoQaTaedEY2m3M9IIm5qlzUybm9rETk0Xm+bkOi+NWUnMUolj6yv1suleL8WwfFJFdyQTfepYYvqAl+O8FMISgMthkNfCYwW0dzLVj/uVlxaxWduejxkX2RUzmezY9mTbrCJS3M70LZ9znRHFVO0rn0x25nHFYxjv5CVSlgW8+6fHf/7W9uw2qRT6Huspi5d5nvnMZ45jKHRT/a4flnir301723aJnKp2Tkwm2/GSiPsTduZnur9XuUAc7cXfeqzjmiV7onxVOV0m94H23BuNRqPRWDGsWVTFLNUL9V/84hfHMTNsX+O4OmaU9jSYAXuWYjaAmYZnJJ6Z4T3bO/HMlbJ4NurZNjNoewKeZVE+bxLALMuegmemzHbxPDctH1jaS5myeDZoIRkz3yWvg7I6nhWPu4rzTqZMfYbriVmgxZIWv3Ff17NnqHjRbmfbDp6aPRXqzzN9H1e2Q4x/MnlfnkGbBcArW8oUiIimyiCXTLbnukOk6E2BnBsA23AOA3sQMBxmhSx+w2O2x2VxGTblDHc777zzOMbLnW0gUcT7smlOMnk17reOxeaZvqdjlalz9xHbJnbgdnQ7430uZU5D6Ob90qkns0dmt7i/bdieEM9y29u2eX/3S9cPz/c72Q5pB/dB7MTvbsAquQ97DKG/eKyxaBbb9ZjssZp39fP9TjCi1QZDbm+DtrONuXxVjgO3A95xxUD4Xq5b1znjlsca/nYpzwjMhkWCBpkp7RnbNukvZhsqNnspzp7vq9uWZ7m9PFZRT7Ynj7+8i9upPfdGo9FoNFYM/XFvNBqNRmPFsGYaEmrBQgOLM6AmltKKQn+aDqkEcaZ9oIhMr5mSqzYs8TFUloUxpmFJFWvq1EI06CDTHVtuuWWSecygN5aBTrGQ6qabblp3zyp2PpkoS4u7TIMifHE9m8JBROJziOdM9fMeyUTjesnDQi7a3mU2NUyd+3fq1mUlPeqm5QdOW8qe506t6yUhqE/TWxYo8X4WwTk2lTLbHirq1nHqjnWGOl+KOwamIWlH17PfGbHQ0sYtUHEWQ+6yyy7ryrzPPvuMc97gB8rT9Bz0octk20EQ94IXvGCccx9BPOd+bTuD4q+WL5KJTvZShGlMrvdSh3NMQINa/PWhD31o3XMM6s/LD6Zz6Xsev1wniL6WqFmWtFynpsOrDasYyzy+mXqt+piXzrA9P8fjEjkabOOmwLmvl3QsjORZlfjX7eV3wt6XUq3yu+vW7887u0wIWZOpP5oCd3w64jgLNBGteinAoA95/HX5aDuL05ybhbpw3RqMe7Zh8lMk0xhQpdX2t9HH2InL4fGVJRd/b9tzbzQajUZjxdAf90aj0Wg0VgyzXeGgW0xVmRaCevHvphc5b7oa6mKJkquUo74/FInphmopwKlYq/2SlxSqvLOXBYhDNf1l6hU6h72zk3kq2irm3M+H9vI5KzepKyt5SSGaTLSW6amf/MmfTDLfgcw74VUUua8Hpoh9DTTsc57znLLM0GJeXjDFTYSEaSXo9Oc+97njnJWyxHrbxkyzUlbT7n5/YnBdz6997WvHMfZ88803j3NuR2J7/U4sRRxzzDHjnNXsLAuw5JDMoyqIwDDNaBoUetB0q3ekws7db62WJxWsl2Sg002dehmLZRHbresMO/TygO2ANvNymZfzWN4yzelYZ+hypy52LDjtb3ukrF5S8fIE9Wja3HVGm7qevXQHHe93MrVKVImXptyfWOYzhU00gelY1xN9zP3K6mnu5ZhzL4XwTNuW+wbj1nbbbTfOmfolTbPHAOhil6naG91jlY9ZIvA1btttt902ydxe3Y7UqSl01ynvvPXWW49zLJE6CsX2xlKDqXiXmXHdy7Luwyw7ODLHSym0o+3FbVLtN8+yhJcnHFlUpen1N4nvg3M1tOfeaDQajcaK4Wnf933fN9RCzIIsirr00kvHMR6KBRue+TKbt5dZ7V3uTE94bxYtVYIRz1C9jzkz39e//vXjnGd5eLm+nixeSfLKV74yyXzmxWy58taTSdxgT8ex++9+97uTzGNI7UEwC/Y97SlxL3u+FpkgdHNsPh6EvQczGJ7Bb/oeycSweB9xi9fw9Cw89GwctuHss88e5971rneNY2aUvp56tsDG96zi/Ks9t/13bhO8EovgzPrQvo6x9WwaT9Mbruy6665J5jZq26GdLbZxO3Pe4jD/LXbg97T3BpY2CKL8nukjnHzNa14zzrkPVzkQKtbGgjuzQtizvRMDT8fCR2ero57NztmTQ4Dq/njEEUckSfbff/915XSZ7BnbtvDaljxS6tfZMM040ma23Wq88Dn60MMPPzzOeSykj1fCvGTq92YL/PwqG5ztpPJY/U54t85QxxjmevBYB4PhrHJmdWBd3DbOhwAT5/dwmX1+0/dIpr7vd6IPONumGTlyH1SZUpPk7W9/e5J5HzBbwP39TNsRbI/7rceAatyCvfP44/IxrlT5VPwsl6k990aj0Wg0Vgz9cW80Go1GY8WwZtcfatUUsSl6aM6l1JaV+AEKxVTMAQccMI4RrliEZzoZoYPptSrW2O9hOgRax2VGfJZMdIvpbMrv5/g9OfY1Xip4//vfn2SeEtFx8FCmSyl3oYm9CYvrFErXoi5oL6fMrTYrMK1jyot39ZKKqVfq1xS2yw+d7zq7+OKLx/E555yTZE698k6m4Xw9x65720aV3tF2AvVcpXH08133pvWhJ02VIcpaWrKBIl+Kn+ZvfY3fif6y0d7qLrNtn7L6PXi+Ra2mERGS2Yb9O4I508X+nbKaLnWbUn4LjBwDDNxHXecVoPUtsKz2m18SrdI33I5uM2zLY4nLx7Gf6d/pJ+4v5A7w8oTzCdDfHe/vvA0sX5jiNkVPWW0vbgeOl2yP96+WRS2EtSCO8dtUveuZJRX3Qf9Of/RY4/JjUx6rbGe0k9+Jcx7L3J8Qblpk5+URbMv24HGLpQYvbflvaYel7wft4HeqxsJqWdK/VwJY21t77o1Go9ForBj6495oNBqNxorhaUkGx4HLb9rEtA/xtI7/M9WHctJUE9SHaQvHaUJBmRI0xcK9rrvuunHOSluUj6YwrCKHxjQFYuqa51sNCi1kWsVUEFTTkjoYyvSxxx4b57zsAI477rhx7PjEG264Icm8Hh955JFxTJysY3ChiEwBm6LmnVwPVoBCNfk9bQfc37SPVbVQXY5J/+AHPziOUQK77VGem4ZzSlxoSF/jpQYo1Ur1n0x19ra3vW2cc51hc45/doQA97LtYpu2IS+PAMfqug9Bn5nC9Y5XULZuR1OeLMm4HgzS9zrVKstp3lXNS1PQsLYX2wnUrXcM9O58KI1dj24T2tc0pmlSKPqlXRRRl7vfv+Md70gyp+8dgUAfcSSBxwVsx+/kZbBqRzHbAZEsVvW7bxBh4WUB6sT3dnQKdmI62XHP0L3OUeAy0V/dzlUaYKvIXadVVAb39O56HvOh5X1Px5wzrrm9N9tss3GM7XmZyUslLAn5etcz+QqcO4B7mna/4oorxvGVV16ZZN4HDSIxiPtP5rZFnS6lJ2eMcX4M1w/92W3zwhe+MMl86crjIveyvZAHJJna0al/23NvNBqNRmPFsOaFfrwuewWeOZL9yzMSZ8968MEHk8xn4NUs5pZbbhnHZDZ7+ctfPs7ZU0NoYc/eMzdmed7gwTMiPPKlvXuZhToumDJ5luTZJDNTx/36/vytRRi+HiHExz/+8XHuzDPPHMeVYK/a/9qzNLwmMxBmQDa9dzL3pPAWLHx0m3Eve4SezTOztWfs8uMJuk5oJ8eYHnbYYevKZE+gEs4sCYR4F9eJ3wmP2zG6b3rTm8YxdlBl9/MM21nxTj755CRzb9t1ih3YdhwXTP2YgbB3hr1aVGVPCOGmM2rBDPg93A547PZ+bFtcf/31149zbDaTTF6H+4A9atgQb+7hNoFB8rhhZgSP1tfg/dreqlhpsyLeY552cJ042x0MlvuLWS1s1/3Sbcbzze7BSlVCKd/TrIrrkf5mj+2kk04ax9iBx2yDvmF2zf2B/lqxoB6T7cXStmYTLAiEfbO42PZMnVVjTTLVrzNXenzn2F44DIT7tRmWW2+9NclcEGzbw/bdtrYDvHSLOW1HMAbelMesFuO37enee+9NMrdhsvclU34QsyZmBGF5Zxll02g0Go1GY6XQH/dGo9FoNFYMa6bgoedMge+9997jGCrP+287xSrX7bXXXuMcYhlTVj6GRnQcuAUllM80pDeYYK9sx81avAad4k0hHMcJvPkHtJGFWBafQek5XtUUDZSc6SNTfohtTG+5zNCbSxt5EHNqqoc6NY1XxWKb8rLghDKZ1rbAhjozbeSlDNrBVJHpN57le7Ls8brXva4sE/X4sY99bJyrhGQus5dsSDlputmUI8IaU/Gmm6HnfA2UnPdTd9sgyvImKabIsaP7779/nDO1DEzz+f60uW3LYh7ax5QkduBUpl6S4V5XX331OGd7pJ3dB70U4XausOOOOyaZiwzdpownlcDT501TQsOajnUMMDSvxwrHanNP26Npe/qgqVOPEdzXG1aZumUs9aZI3Mt91HXHsdvbSxnQybbniy66aByzPOLx1emeqVNT4LYJxJgf+chHxjn69dFHHz3OeUmH6/2eXhZgyc3iYotm6c+uZ7cJS1oeP73cR/34HBS+xyIL2oC/cxUtb/j+LH940x1v8kJ/dz289KUvHcf0PS/ZsHzkVNe+J6mHvfTlPsh4M0vlve4tGo1Go9FofE9jzbMwjvfcc89xzrMfhHCehXnmiffqmaOFFsCzUUJKLF5zmA0zNs+yLIQg3Ok973nPOOdZJjMZe9b29PBQHBKCl+pQryWhA3AIFX9bhUck02zaITFnnXXWOD7yyCOTzAVE9miZWXoWt9tuu83KnsyFaryn645ZeZK8+MUvTlJnDkumTFnOWGhxHd6hn+8ZMF6f2QrK51m/PUrYFs+aPdvl+Uube+Ah2SOz10KbfPrTnx7nHP6IJ+g62W+//WbXJnMvnba3522vgPe3d1YJwezdmG2BmTBrYi8bj9EMBGFG7qvVpkJuL/cXxFT2phHPJpPIx6yJ25l2sL3aS4ehctt4PLCHAqjfpYxevJ/byW2CnbodLL6rsmD6b7FTe5ke63iu78P7O+zLXjj15xAsM1X0E/c719knPvGJJMlnPvOZca7agMjMgd+JNrO3T9+zeNZlxrYdFmaWFHGgz3nc4/luJ5eJd7W9+psFm+FMftS5mUuHFfN9skjP7YgY1tdb5Mh4YMGcBd30BzNFZrsrUS116pBns3OIig899NBxzqGrePZu2/bcG41Go9FYMfTHvdFoNBqNFcOaaS0oHFPxH/jAB8bxPffck2ROfZq64PqK7jD16Lhl4vscQ2uKY5tttkmSvPa1rx3nLFSASjSF4bhfKBaLXW677bZxDJ1uuuOQQw5JMqcZHafJsoLjTX0MPfiSl7xknHOcZZWJy7QQZTXlZgrGlC2A9jJ1aooHWsoCJFNdUIqupypjlSk5i2CgD5f2QGZZxdQpNuGNKPyewMs8tiNEY6b5vORDpi4LNE3hQ9f7er9fJcakfKZbTce+6EUvSjK3HWw8mahf09Z+p2qv6GqjjKVsblxvoRd0sKl22wHvYmrUbY8YyG1XZV+0wNRiI+rM9kB2wmSyc9PRVRYyi7+4p8vkY2yjEucmU50sZbiDGvYy0fbbbz+Oqw2pHIPMGOlnco2XlkwX83zbsJdkiP33O5miZtnFY4DHRd7JY77B765H7NUUtNuG5zuXg9uZHA4HHnjgOOclF5YovCTk/s5ypAWoHiMQOfp60/rAfZwlQueqcH+uxL/Q3snUT1hS9nsk0/v7O+UlKdrHguhKtOrlSL6zblv3V+rf34z23BuNRqPRWDH0x73RaDQajRXDLD8pdMaNN944zllBCj1pWsd0CHTSNddcM85BDZv2MO0CnWHKECreZTIN6NSUUFxWuzv2HnrManuXGUrYdCypYK0adfpF6DdHFXjzEFT2VjS7TCg8raY3BQQt5iUP017UnxWsUKJeUrHaHwrH9JDpNRS2ricvr9COpp+8/EH9eF9mK0SxHZdvo+UH1KameE190o6mt2ybvIvtpVJeW31sCh2a0/eEcnM5HSEADQs9n8zpZGKIrVz3Mhc0r6l6txNUnelW1x/X2Z6hniv6P5lof6t3HUHAvWyDXtKhb5r6NLXLeVOKjluG1vfygylJ6rxa8nHb+Hrs3fcxhU2dW2XtZSzior1M5bSqlN+x++6vvL/7C3Dbm6JnCcDjoxXXLDX4nb0UAjzWeqzDZm2vrlOe73GPvuflA5eZenQ92M4YX5fyQmDbXopwrDdLtLYdtxlLGW4nnuklFVPYRB34m+N64jovqVT38mZfpu1Jye628XjBcoCX+yiz8zLYnhlfvRznY9rUSwHtuTcajUajsWJYs4ikmm36mJmKZzEWQzGztKfCDN+zDHupPN/eh70OhGz2qDxzw1O0R+qZKdmCvJ2jBSl4gvaEmGXZ43P5mPl5ZuV65DrPis8999x1Za4Ea8k0M/fM0bNEhGAIHJOJGXB7kRksmeKePcO0uAxvwZ6CBU7Mpvfff/9xzoIU6t8CIMfRIxTxbJX3N8PhmHG8M8/qHW/KzPuMM84o3wnv1LNZt7Nn+8D2jEfvv0OgudR2eGVkv0vm9XDQQQclmbeN6/nmm29OUsfOJ5Nte7MZz/axGT8T2OOyJ4O9+3dnR4TJM+titoS/db+rYt7d9mZLyGvhujd7x3M9hlDPrht76byf+6B/516Vt55M/chsxCc/+cl15X/FK14xznm8wPZ8PeOmBZhmBGGaXDdmUBjDPH6xHW4yCcFsrz6uNqzxWM6W3rYd6sdtZ9YFlsD39jMZD5byXzBuWITnMYR+4HY0M0E9mzmAgXKZfT1jgBmSaqtsv5PrCWbDDIx/x/YtsjYbQTuZIeFZ7gPkLjFs72Yz6IO28fbcG41Go9FYMfTHvdFoNBqNFcOahTW4/KaDLWba9O+SOaXKvUwrQXVZnOWYbygaC3ScLvSzn/3sunuaYiGF6e677z7OVZvEWLRkWggKykn6oepNL/mZbNZgatIxsNApFhZCeSXJTjvtlGROoVscB1VlAZB/R+Ro8RrXWDBWbfpjMY5jdKGlnMqUdMPJRAH5+ipFqqlb04csB5j6hf5y3X3uc58bxyypWHjo1L+8v1P/Or6bOjPdavqP5/udTPtTP6bvsAnbqyk96tm0tOk12sm25f6AMNNldptAkbtf2t6hed3fgM+5j2Pbtgf/fv755yeZCzQPO+ywcYzNuW2NSuxJv06mZS42PklqytHvzJKY28Fl5tgiN9c5fc/t7aU3UoyyDJPMxcW0meu0Su/r5TqWjFxmL4/wzi6T73n55ZevK6c3PaIf2J5N87Lk5ud7eYg2cfpa2mzfffcd5yy6pW9Y8OylPShw9zvT3Xwzlihw4GVJp+Kmv/md/Pum7+Gy+JlehqI/eWnMyyt8c6p4/2TagMffnOp6fzsZPy1aNW3PeOBU2F4apO/OlkfSaDQajUZjpdAf90aj0Wg0VgxrTncHDWC1pN186EFThqYWiF80jQk1YTW7VdYo400h+2+hxbxzWJWu1GVyTDn3tYLfqQyhokxxoNQ1Jfayl71sHPO3fk+rQS+44IIkcyrJO9VB+3h5wNebygOmmvjbKpbYlJ3LD01p+sq0EZSnn+2oBag+U1GuM6hZU6NVDLCv4ZwprWc84xnjGIWpr/FSBuedBtKRFFU5rJbnet/TSl3oOy9/UD4vZ7kd+N1LNk7h/I53vCPJvG1Mh1cKfy870CZe8nB/heY1hU4Uy5LSlmtMW7ueTjrppCRzmtL9ibKYYnb98LdWiR977LHrfvczXafYpO0Re/c1tj3KsrRUAJwG18cowl0Op03lue63s720i+Ub7N114+uxCbeDfwfO6WHbPO6445LMx0/3LcYGR5SYjqYd3B+I7nC/tCKb8cD7yrvM2223XZL50pqXDRi3iQ1P5vkEWA5wO7sstDO5Q5KpzfxuXnbFdlxPBt8Ut5P7GMsSrgfXGUtGXm50KnLeySnNGYtJp5vM+z1l8vK0bQs77/3cG41Go9FYYaw5ZpE4TQs6KnGGxTD2/JmZe4bOLMWzJF+Px2cGwPHbzKbxPpK50ICZo7Pq+W9hCSx8cTwqMzLvfU4st89ZqMYsaikWeZdddpk9O5nXEzNze6SuZ+IjneHola985ThGcGIvHXGbZ8A33HDDOEYA5dmePUZm89ddd90499a3vnUcM/N2Oe3lEoNr1sTPYmZbidOW7okIb2m/9uqevp6NY2zjlSdkj9O2S/v6GuKKPVM3M4Bt2DO2YA52y79bkEednHrqqeOcBXUwQGYrLPaEgXH5qF97oWZg3E7AQjT6joVOZp2q+1RiTWfpsggQD6gSWiVTm1fiX/c7A9ZlKeabNnU5zab4GFjshFdoe/P9qzqnTVxm12m1yZbrDC/a45c9Pe7vsda2xe8ea6s4fAsb+RZU9ZFM9WARtDNX4uUuecnYlu3Bgj7Ex1VOimQa7/xNQHTrMnmMIGeK82dYsPziF784yZzJMQPivgE8RiCedk4Q5+Lgm2Pbe/WrX50kec1rXjPOma2mb9neHO8PqzWz93WlbDQajUaj8T2N/rg3Go1Go7FiWDPFA41p8YCpNuhHC9qc+pLzpjYRtFl8YLoD+szpZR2zDp1tWsc0biUEcywgdJLpMVMsxHlarGNqGZhCqTaD8GYICEJMu5tChwY2/eZjlgNMA/r9KavjbqHnXDeOs0ck6HhTl+lTn/pUknkcuf+W2FW/kylF3tkbTDj2FbGT6wnazG3jjWGgFN02VeyoBUYGdLzFOKbnsBlTk65Tyur2RrhiqtxCK+zcNKGXZ3hWtTyQTDSn68Gb0HAvx3y7vyFAte1AI9qGDc67nt2faDvboGla04PA7QSd7uUD/075q7SlyVQntleWFUzVux7oD15y8dIcdeK2tQALUZRTTNtOgHM9eNxgKcn9kee7HoyK+nbfwI4ttvT9Ed0u7fmNbfudq5h6ixAZl6rUtcnUJlVK8WRq56o9/bceS7wciT1bROd6xg4ce7+0BAD45rkP+jtHnZp+d5thc7Y9L3Mxbvk7aRH3AQcckCQ566yzxrlDDz00SZ1nI5nGItezy8x5jxvtuTcajUajsWLoj3uj0Wg0GiuGNdMt0BCmFE37QNeY3rIynfSIpjugLkwxmKLh9/3222+cq2JHTf352PcC1c5fpr1NCwHTLtAdS6pTfnfdmVKDCjNVsxGt79+5v+k1q2KJj7RiGbWnl0lM0ZCW1cswps+IA3U8/aWXXjqOoZhMMZuWwk5cj6bloZFNvVb7pZsWh/JzfVX0WRXvn0z1tKRops4dO1qlGzXFTUy3l5lMI5J60vXk5xO76t35/E7E6bNElsypOurC7exlAWzOSypQdqYJXQ8suVD2ZL7sQD1ZoW87stIZuL8Q828b/sIXvrDud8fue2mt2mGtigpwbD85EtzvHTVBXbhOvL+36XhglTnRId7ty3YAHe1xgSVKq7idLwC4X/uYdrDteaykHl33/luO/W62kyrCALiPGjzTSybO8cAY4PHN4yLHvt7H7IrneP7zzjtvXbm8PAL87l4OZLxYilOnPzhKx+MSY4RT2jqnCc9ybL/tjO+P7Z0IAy8tOfIJ2/e310sVwBFc7bk3Go1Go7FiWLOnhcdpsY5/Z8bnmaHFF8SC/+Ef/uE4h5ft2aA9UlgCn/Pf8sxKtJPUMbqerTNjdMy6Z2QWEQHqwR6dZ34cewbqGfZtt92WpM5olUxeiT0FizeYufqZ7HmdTB6Qn8l7eAbrdrzwwguTJHvttdc496UvfWkcM8P2bNYeJzPniulJJo/fs3Z7Z3jRjttF2OjZpu+JyMb3dJ3iaTgrndvTGZ6q35lBe9Zu2+C5zk6Ip2DP2+100003JZl7VGaAiJP3Rhy2/auuumpdmW2H2JwFaf4d8ZuFN/zuclhYiBfqujGDwbs6P4W9YAR/VeayZBLLWghVicdsB7ZtPF3XM166GQaXuYrDt9iT+jFDsscee4xje2LAGynBatmjq7IneiyjHXxvi5dhAdwvzaRhex43nGMBLAknGUMr5jSZ6r8Sh9nDt/fIWOW+btCH/c3w94GyeHz072wkdfHFF49zFgkylnrDKeywEl4n0xjj3CNmZWCwzPB6Mxz6juvZdYLg0fVojxzG1HWP7TiTnp9P2/Bt8Xsm03jjumnPvdFoNBqNFUN/3BuNRqPRWDGs2fWHZqhijZOJ1jGNaEATbCSwMXUAdWKKwhQKtJYpxSr9n8VhTsiPEMG0tuk96BCLI6AMTa2avuMaU8Sf/OQn15UFCjaZpxIkvaxpo9e//vXjmM0ULCAyjQr1awqZeqriMZNJ7OO0pg8++OA4hl5025hWQsBlatZ1Ai3lerQdQVO67qHT/R6uE5YCTOXffffd45hUuabxXE/AdPPNN9+87m+ruF6X/4477lhXZtu4bRtYPOalDKjhI488cpyzYA7b3WeffcoyQbvbNqHVk0mk43aA2vXmSr4nv7uPeBmrEoBaLIl40EIxLxsgijJtbjBumGK2qJd2MA0JHW9a3M+sRLNVzLrHDS9vPP/5z08yF+khGE6m9nUfMwXPeOWxCtv38oRzUWBnHl8d/82zbFu2g+c85znrnlntYW97tO1gH65n7uVzbhvK4uVAU+yOPwfOaQIt73HH/Qna3b9bxEj7e6zi++H7+PvBUq4FkLYX7Nj2ZOFjVY9+Z8YIj3XVPuzEuyfTsqnHt6233nocM0Z4zHZ/YqmnN45pNBqNRmOF0R/3RqPRaDRWDGtWAaJIXFJbQl2YknTsK/SpqdUqZtJ0BipC7wTndKLQQo4btlIXGtrX/PZv//Y4hnI0fefyQd2Y4oD+MiXmWGeopiuuuGKcM10CvWc609QuNLB3DTIlCNXl5QnvLEaqVy8/8B5uO6vMqcdHHnlknDOVVqWXNB0OHG964IEHjmOoLLejFdvEZJ5yyinjHHsw/8qv/Mo4txQVAZx6E9rKFPFWW201js8888wkcxrPVBt1ZaWslzX43Ypl6szUp5XZ0INesvGyAG3qdjI9CP3otvXuVdjO0vOxXfdrqFfbcxVfberQFDnv7Lqz2h17NS3vOoXSNYXs8kOZeqwwpcm9qogV0+JuO/r4UnpZYOW41frsTGYK3P2pslPbO2XxO9FHvXTk+5CW2xETtm3etUoJnkxj6Qte8ILynVhqcXSJ1dnYiZcDeabbtspvYdtheSCZ3tl90HVOnbpObKeM+1abe1mDcdttTzu7nK4zxjXT9j7mekdX2N5J5b2Uh4Sx3Mt9HktpU9czfdip0f0dY/mIdOnJPEKA70/T8o1Go9ForDDWnJUK8Ui153YyzYIdm2nByTHHHJNk7ukw8/JM3p4M+7B7NmYhGrN+e7EWgTBj9O8V7HFaWEOcpt8Z78kzPwuM8GC8B7C9AmaJnrk5tpVZoGdmZhbY0/euu+4a5+yJMQt0nCa/2yP0vswI+nyNPUL2fnc7VQyMZ6AuPzNzz5A920d8572eyYtg1sVeBbG1FtMYtJljxi0kYzbu97R3hddkMYxn6Ai5bAcWEQI23UkmT8R1Z0+EjI5mn+yR0o5mVSo7dB+y13H11Vevez71ZO/HYh7s9Prrrx/nHD/O9a5b2KNk8ppsoxaqkZkNpiaZ2zuejuvefbQS+lKnfiej2vjFoH7sRdrO8Krcds44Rp2735v9wg7sUeJV+T3dzohSvfe3bROPD0FtMh9rqYtKHJxMfcvsnQGbU2XztI3ZM6ee7MU6wxzjicuJKDSZ+sGrXvWqcc7sGwyP29EswOmnn55kPhZxf4+/blvGgKVxhXY2m+r+Rr6DSmy+dF8Lqmkfj3uMUUtx7tirx1ePG8Djc3vujUaj0WisGPrj3mg0Go3GimHNdDMUjqldUwNQWKbfTMeQGs8xhdV+vr4eWsrxfX4mMdDexMRUEyIUUxSmJHm+qRL/bRUXDb3mzTGcmhK62PGeLj9pT71U4FhsaB/TfE5fCO3l2FL/zhKG46Mps6kob1YAvWghk5cKiI/2MoupLuDljd12220cQ+l5Gec973nPON59992TzOsbeuzDH/7wOOeYd9rJ7WmactO/S+ZUF2lRXeYqLtn3N6XIeW/wQJu6bkyVITZ1e732ta8dx7SJ+4MpvUrgef75549jxHeuR1Nx1aZHiKos8rOYB8rQ9mgKHIp5KYX0pn+XzKld7NTvbNq/ohe99McY5aU7hLzuA14mo9+bOvW4Rv1UmwIl0/KV38P9iXZwqljHWtOmpqBZknF7kashmUS37qNuE+rMbWfbYTxyH6lSoLqPWCRJnRx00EHjHEsqhoVm5Pew4Nex7dSfbadaNvByWRWnb1qe5bxk+i54aYx68pjvbwZ9xPVo26L+TjzxxHHO92J5xGOJhXAs3XlZ0oJw6sR9iGOX49prrx3HjMt+pjeOYUl8tpSaRqPRaDQaK4Wn/eAP/uCYEjFL9CzMAiK8P8+yHGqBKMuz4V122SXJ3It1uBTeqWc+9t6YRXk25/AWMqd5luMZNjPTpfA+ZnSHH374ujJ7swR7QsyO7BV4tszMzF6gvQqYC88m7VXhEXsWZw+lEmxQP0tbMwJ7mRYAVVnIqg0kfI3vxbvYk7AH8OY3vznJfDZbbXZgAdKThctk1odZrj1D2yEzdwvuvAEGmQSdLY7MctVWwz5vj8/1xPFSxkbKbEGa+wNiK7Nf9kCq59MHfM8TTjhhHCNydDndH7mnxWsWNVl4BOyp8X62MbcDnrnHEgvNaB+Xf88990ySbLfdduOcxW+MUa4HH1OmpWxw9H33J9sZoUtmK/x+9AP3ccpvz5nsfckU2uS6qQSBHgvtBR966KFJ5iyj/xZB3SWXXDLOOSshbFBlBx7/bG/UicNZd95553GM7bgefX/aoQqZTmphpI/pR9U2su73FnBiW2ZdLF7GdvwehL8lU52YWXUfrt55FqL2x+/qMvubuul7JFMf9jnXGYI/syrtuTcajUajsWLoj3uj0Wg0GiuGNVNJUMdLoisokA996EPjnGMmERNBa/saU9QWl5HZx+Is07nsJW1K0BT8/fffn2QuDLHoAMrRVJWpY4RP3p8bYYqpKNP61Nls79yCVjLFbIEQ9J+pxwoWx7nM0FqmeqB1lmj5ikY2vQW95usrodcSuL7arCZJzjrrrCTzDEu0jZccLECi/lwOvzPnXfemt3iXKktYMtmk29nATp198JBDDln3nMoOXI+2HZ7v390OXG+62H/Lxj/uD17SgYp0vgCoX9ez6wF7djlMDdOmbk9vQkMss2lzg+tN3/tvqedqQ6dkqj+XDxrS9VDZjs+ZRqUPeaxzH4H+rLLeJVPfdB81WB7yMhHLD15msbiO8dM2bmDvzlXhzHAI9rxEaDtlDHKOAi8rYDMWayKsdD27fCw7eDMY2xljqeu5otWXaHmu8+8eDzhfifB8jcd3+pZFq6azscNqj/ZkouU3ysTqc9XvS+1cXYO9+ly11DwbS57w7o1Go9FoNL7n0B/3RqPRaDRWDE/7gR/4geHHo2Q2zWjaiPhClKrJnFomxaApNSgoq0YdW0+cuik/007QPVZZm5bnmaaDHWcJBYOSNEk233zzcUy5nNIWFaUpNdOkUFRWYFpdvNNOO83KlsxpH5YSTM+5ztjAx+/sjT54vik1fvfyh+8JDeoNDlxm2tlqTLc911sxbMqz2teZNLrJRKXZtqhT24apsOo5psf+//bupVe7onj/eA2eN+LIkRNMVDSKMSZGQQwoHlCQYJBIIp4IRiMDYzRxIIpoVKIkGoiCBg+gKKCJx5FCnDvylfwn/++6P/dD7x9jd7pGa/e911rd1dW9uq66ujq2vbD6ivHs70J6Qcv1x8x5n9bmDhG5SIRzVxC/e1w71EM9yz5OP9qoO1aycxnXpo0N4rZOQZ+mfxXeC150/7B6bD+t9XSfenD3RWl8syMhbHNIFFKTLe8OhlJUC+t/6Utfmpnzw2iEoHuXNiws3+/ag2O0+chwn6GE6qe9CPPWj6YtDe51DD388MPHdaGQzvaeOe+TO++8c2bOQ3yGMporzVWxOhxF2/BZ7TKynwvVamO2ufnG9KrXXXfdcd0c6hjw4LHGgax/9ZP+VjtCZk59apio9OV+Z7Sd+s7wg3p49NFHZ+Yc6s8GZ87HUWI+guZlv0mODe0waS523Pt/tcn5W3srJbHzz/bct2zZsmXLlksmV/SSW928//3vP8pcSbQ6MKuSHm0rFg/FyKP0QBIPD2lF6EEWruDzXs2U5MoxspCrPb2OPEFXhl7nPZdVbua0GlU3qz2LkpZcWbbaNuOVHmmrYVfVeryt+vUaJF+0CnQF2ypO3azIOpJplFAGiTOrQy0kpqwyEXrPigSoF56npUdn1r/2EqsHPdbeb3+r89U71dkq0+CKnKce62ftwd9DjfTM9S7bT2ubrH8ELj0NiTN58XoCPj8PQNQoueg4Xe9PtP3GuF6oYzyv5yKCaeV61itSlnJRBr9kRT5zjHWt96YnlMdrm8xxIJKY+L9dOwZEDBOJiSFpzlUf/ehHj+s8bvdfX3vttcd1fS46J4KSzvSctc3uM5tmuRxmTnO0Y6jsjn4HvL++EV2yzc3fesGOnWzLe/zf+sR6mkclj9l5rzG0OsZ65qQTkVkRkGzHfCzKCqkSaYqEKDKwqssq86aZId1bX52dF0ReQ238Tm7PfcuWLVu2bLlksj/uW7Zs2bJlyyWTK0KiwWOSA4QBSpgvBC3cHrQhYaLnC3us9kxLHBGi6VroUlg/cp0QhVBddbloj29kqlUaxg6nmDkRoWZO5AZTR1rnnmXaUgkbEZTUrZBlxB33sArNPvnkkzNzSr07c4I+hdWFIdODMJ2Eu+AgSX7eH2wkNCkpKghJOFZ4Lf3bzuBgyYJKBCftTduUXJeYQ6H2uVd5pWdtw7BDfdoZ6TPn+kskPgaLCa2uSFf27Zvf/OaX1c86G/oKzlf3hkIi3EjmWR3e4fMLT/hMIeb0YNvNZVH/aU+mGA26NYy12l/uuDZs8apXvWpmzvXYeLAdhheyd2F5YdL6XttyLszOtHf1t0oTHJF25qQL718dUmXIIUKbelilnbbOSiE3dW+d2wPtXNnZ5DOnlMKGsbID84TYD4UvvvjFLx5lHnRUmxy31i87EI6W2FieFb8f6jx7t07ZQfv+Z87HY32jPds3zSHacyHCmZP+DOdp20lk8Znzb0khO8NIfUucvwz5NEYdN847jz322MzM3HDDDUfZ9ty3bNmyZcuWSyb7475ly5YtW7ZcMrkiNHz99dfPzDlc8e9///u4jjkp9CtcHHTr+dntb3QfuaedBb/dd999R5ms25ibsleF36qrEIZwcqzfiyCWxx9/fGbOoa5gUhnB6ilY/dWvfvVRZorSYPk3vvGNR5lwcFCVOpExHLPS8ILtT39CQelMmFJIbsW2VM9BYcJfsklj+AupGSpZpXoVqot5KqxUnwmzyYqtT2ROW+fnn3/+ZXWS1Zueyhswc4J4Z04wpvCdIaXgaFmt2ZZhGCHHTpISDvbs92BY2+wOgOxURrD2XD8ZkhDKSz+elpbu1aPPD/Iz9GQ/xbwXBtTO6seLznsvdKc9y/gOnrSd9mPivNEY0QZXaVe1F3f5lLJXCNo2r07SE/rtftvpHNK1eqp9F6Xp7R5DNkLo2aHphoWTY5bLlhf2T+fWc3XevDstmms9O1yG/0MPPTQz5+FZQ5DVXz05rzQ2fachpWxLe3GOKozoGGhsGO5zXNe3zrnqsXdpD4Yru7bN/p6d2w5tr/YL61dXT1t0b302YehsFc60Tttz37Jly5YtWy6ZXPHr38rcVdbKE3IFb7a6N73pTTNzvsprNX/bbbcdZWbZKduP2dZefPHF4zqSi/sI3VPZatOVm6vlCFKrA3JmTkQRV2mRYCKuzZzrof2ornrdXxia4Wp0RU67yMvufvf7u2+6Q3bcixwhxXeqk1aJlul9hmbY955n/7rXvW5mzhES7SA0Ry9XYkyrVVe4kmhWdVodhqPXEarjqt4VeLbhalfb6j4JaaIxtX+VUUokRs89/boX2Ixhrer13lYkRJGgJ5544rjOa7nrrruOMlGdDuaxzj3f/A56MiFVelTqqXGgHj0oJDvQc9a2s13b/Oyzzx7XDzzwwMycE8lEWEI2JCjldYkS2uZIs3q+ohnXXHPNzMz87W9/O8r0ehLtSZLfiiC68shFlZrL9OhEPkOt3NvuHBDy8tJLLx1lzoWhRhcdAJQdiio988wzx3WHgEksDB1MXzPnZMoQIPOE2CchhnrJIjiRjq2nhOf6xPlZ22sMr3I1+ByJsrVfVMfvQ/pb7defOfWftrM6T/6FF144yrTDdOG8kMfu/4lU5bmLxDjGsscvf/nLR9n23Lds2bJly5ZLJvvjvmXLli1btlwyuSKEHjlFiFzo97Of/ezMnB8iYIq+4G5hpeA/oShTJkbYk+wjNBo5wn3wQrP9ftEZycHIwjbuPQ3SFA4JghaiFtIMIjJxvxBKdRGuFdaJ1PZK5/naDp9V/e27IGTrJOQWBG4YRqJX+pVoJTTqdWKfBnVJ2FsR+tT9Ku2o+6u7x/CA5LfCIv6unQS7SaA0rFCfrfIqzJyIj/fff/9R9vWvf31mzu1Fgs8Pf/jDmTnPQSB0mx25f3m1r1ndmboye/VwEQmu6f/WW289yoJ+LzpwpDCZtuMc8KEPfWhmzvvG8ZCeDY9o24avksi7M6cQQPkjrr6/sIy2G3QsNCl0m2gbQq+FIEzH7P8aBkzK8zFzIrU5BiRIrc4hD+IXqhfOzaaEayOszZzsYHUw18zp8BTnLcNwTz311Mycj1FDMdnJ6pm23b7pXfa9c3l9v8prcNH9hg36fhgyae/7zOmbY0im+hkm8p195wy5WL/Gk+90jCX2t88vhHsR+S3io3kRCiHYXxInC3U4f2k7zTFnIfGX1XjLli1btmzZ8j8t++O+ZcuWLVu2XDK54glAQSjCgDIKgxbuueeeo8wT5IIKn3vuuaMsCEUI1j1/sTA97zfW58wJSpTRLNQVdCq7WHZ1InwnDBrD1f2FhRpkfXpecHqSDS6sE3TsftUVs1wR6goelLUqxFS5sFHQs5Cb9Q9mvehkrvYaC/UIwwYbrSDWmRPDVEjPPAHBwNpBUL/nqfv+4GJTR8pQTefudRZmbVeBDFNhr2BQ26Ttp193etx0000zc4LfZ87Z6t0jbC90m+3aT4Z0arP2YprKxqPhCXNR9FwZ04WkhPkMbcV0vuhEqqA+YWvr//TTT8/M+RixT26++eaZOR8PwovZs/kItF3DCVffrz0JzdaPjhtDW0Hb7i5xPMWMNweBeq4fbZOhluxdPVc/5yIZ+Imn0xk6K2Sk7uzTnrXaZz5z2qevjTuXpiv7uTGm7rTnxHnFubByYWul+qkTIfp0IfM9Vv/MaV678cYbj7L0Y51We/tXJ3HOnMbBRam6u9/5U9tpPBuaE5YvFGKoYwW7N39Z7rfN3Rnp4exkxtmyZcuWLVu2XCq5sjof1tWwq6hWfpLTXBlHlHPFcvvtt8/MOVnGlV3kuf7v6ufnkbpy8jrR+5JQssqc5oos79J9t2WOcxUlAagk/xIyXCHfcsstM3PufbjiamWoHiTZdG0/WJdWwbajvhHB0IsuB4GoiPswQy70uJRWnurR1XTEF70bV8u1RY8z1EZiyoMPPnhc12Y9EVfAEVIkBSmtjG2nZM3Id3pcrvbrX1fDeV/umdbjTT/qXk8n5EAEQZJhetRzlxAYmmI/mTktNGR16IQem3kb0r/tdJ97e63t++9+97vHdf3zhS98YVaSTUrK1Lbzzj75yU8eZSKKjXeRskTdOsYaIyIYjtHGnrazypImGqEXHdog+ct+CoFSZ6usefZJfa6Nf/CDHzyuzQ+SSIKszaIu3rPaC+4c0tiwfqGM2pvIY++0P51/E/tBLz7v1/3+ImHNhdqj/dCz9MLrZ9smUbZvlvVY7a0XwVB39Y/jTs89QqSInHNEurKfs0ezCzovhj5q47ZPgmyyPfctW7Zs2bLlksn+uG/ZsmXLli2XTK4I37V3VaholVJSOEDYPmjj3nvvPco+9rGPzcx56kiJBEEPkoYkmQRHWE/hkCA7ITf/17YkKwhJWCNyn0QqUy4mngGvHtKZbRL+Cw6SkGE9g5Aky/is6r9KbRnBcOZcT5EIhXrUU/WzHr4zOEg9CaVVLqQn3FzYRJJecK6pUIXkEn93H3v5CIQMJZkEkxZGmTknqdQ+U1Ou0omqk+Ba04IKrwXfmSJ0RfBUd+o52N+QhveX10HbsM8jr1mn+ty926YT7X7H9etf//rj+ne/+93MnMPWn//854/r+sdUqMLR5U4QmpUU1RxhnYVMG1sSTLN9x5DQavdLphRmXYW2hNgLYynCwfWJ0KuhlHTq++vb1YFNMyc4V9hbODg7Ef63H7MNx5jpSLNn7W0lEhMLWRnOUv70pz/NzPlcYvsaL8656mSV6tUcCs1LErclOTbvGHorJOLBXUpzkfOGeR3qO8MLKyKxc6Gh6OzEftKeG1uGgv/73/++7Pke5JROnPOdF5rDfM/23Lds2bJly5ZLJvvjvmXLli1btlwyubLa+ykUJHQRo09IUTgjmFUYM6hM1qkShOT+ZqGFoAdhnRXr0/uF71Yne8m2D6ISdi9NoxCtoYLqJOwsBBScYp1WZ4Ib8rB+P/7xj2fmHAa1/cFewka9vxO+rv49RrIwptBoIRcZ/sJfwY+yvIUPg2HVmRKsZd/Uz8Klnnb26KOPzsy5jQmFpTPtzfBHkOcjjzxylBmWqK6rE9RmTn0m3NuOEEMepmguPCRs7glxMZmFLj0fO3hNmNIdELXJFKWlh5057f5Ypa8Vvrefe6f94O/B7uaCcF9y92lbQq9BturxAx/4wHGdbXiP0rvs564NhymNF9/pvFU/WWb+i/rU3UTB3pYbDnylXTzNBxel2m4+sUzYPjt1XnFsvOENb5iZ87ni05/+9MvqZPpvIfBCQXffffdR1hx10el3hVsNbWkbr5Rie5Wm11CJp44mjofmNevU2LJvfWahAucCx3NiqGF1drrit6BwrnOR77/jjjtm5pxhXz86Z69s2x1WZ3va/7/+znIY/J813rJly5YtW7b8z8kVVxR5xO7RdTXfSsgVqvssI1+YRSyPV4/LFUskFgkJvrNrV2GuXBNXi3ooq32U7k9vxSRR67HHHpuZc89Wz72Maa7M9J7cc5ms0Ag9d1eRvVfyhCvbvAX1lM7tDw8uqE6u9F0Ztkr1rPvf//73x3UrQlfIEpB6lit4sw624rSf8qr02Fy5hoBIstOjXZEl9USybf9PT6I6XeQxpnNttxW6SIzoVp7ahz/84ZfdM3PSU+euz6xJjiJqIlXlizAjl/be/bYpO72IILTK9ib5LaLYav+zbXKMrchtogF6gun5on6onxwPeZmOAetXXbRXx2uemqiNth/ByXPKVwcQ2Q49vXSpvfW7dXYOyDsUDXA8VT/vESFK5/aDOlvlg9COQy+1k9rncxxP/W47V+id3wznsuzMemib9YO61ba6lnS7Ir+tDhVa5Rbxf32mdpK9O1707P/whz/MzLlO/D50n/k7QsXcD29eiOqnnhwv/e78uj33LVu2bNmy5ZLJ/rhv2bJly5Ytl0yuCMG0H7j9wzPnUNQKInfvbPCgqWYjhQnhGgooBCB5S3Ja91kPz5APthI2d49wvwslCREF6whnRLLzPUKjQXoX7ZMMHhTOFRILrhFCFj5cEXOUYM7Vfn733Qrh1D4hYqV+ENZfpen9z3/+c5QJkadzyToeqtH/Cn0anrm6njMn/anblazCNDMnm7DvV/Cf9ryChrUn7fDqes6cIEch6Pe+973HdWPMPdOGT4LATRsqjHvDDTfMzDrMM3OyZ8u6tkzYvTCV4aoVtCvs7bP63TpdpPNEO5S0lgh5ZofWObHvVzCl0KhjLGjV9LXae3oUzr0obLD6Xej46t/Vk21a2bFwcXOZ84O2Wepn50/niGxKWFzba97TnlcH29i36dRnrs52t23qpmf5TueA7FAbkdRb/zrehNAT56qe77fPvl/Jai63zH7q+erO+b82q4f+V7tXstNVimXF37fnvmXLli1btlwy2R/3LVu2bNmy5ZLJFeG/GOsXnekdtCCbUwim/ZlCNMEqMshlIbb/XeagsEvXQihCu13LGBYC6VpIcQX7CP1WP2EXYZvYoOpBSLPfhemEc2uTeyuFB9O/8JewVHU1d8AqvCDzsjO5LzrPvfobPnHXRBC6UJO/B3tZZ/fodl26ypkT5Oned0MVwdGrkIfX9pPvjIFq6Mj7X/Oa18zMOatfO6st9l3tl8XsM+sHQw72Q/1j+ML91aVqVVaQnzoR3qt/ZVQnq5MJZ2aef/75mTkPuWjPQbudwjdz3k/pacWCnjnZtszzv//978d1Ia+L9ozXJ85F2Y5jyDHauBaOVee133fKsn6l0FjhRu93f3rzqmmKE/tLPdUWQwH+bxC887NzaXu+TR3seK1/3J3hdTCvORSyA/Xh/NrYky3uXFWbHCPCyY0t5yVhdeeG1f3pTz2lH21YO1idoOa82RzoN8l5bXWy42qO0jY9LbMTDy86zTIxz0nP1EYN1zn2jrL/8+lbtmzZsmXLlv85ufL973//+KNVVCv5mfPVaPvYXfmY8D7v3JVlq26zOz300EPHdd7CRYcltEpzZSSJJHn3u9/9smfOnLxnPXvvb8Xjyi5Sk23TK8hrk3i4Ire5GtUjvvr/Zs7PYH766adn5lyPelrd59noETEuyidw7bXXzsz6XOKZmSeffPJldXY1HELiM/UOe68rSL2WVqF6oa1CJVPqCZV7QD2o58QVcN7LzEmPvlPPOE9WEuEq94D9VJ1FrLTdVvN6ZCIsrebVrahWaMpqn/rMSf96BZKisgM9rTxBCWW2+Z///OdZ22bO7SiP2Xdqz5GZbLP31/fmjbAfy0SoFymSlS5EWG666aaZOSfm/frXvz6un3jiiZk5R13USXZ+3333HWUeqNI40Ytc5cewnWWWVOzn0A4PmFFnIUyruWJmTTzUtrvf+U3bTNSt++S7do7I9kV4tYPGpnOhnn/zhrbl/Fz9RWVEsvLcnZ/t08aDKGR9prfs/JnOL0KgV+Rgpf7xmSKG2YZ18vslWTXpXX5zvK5PHAPOZbYl2Z77li1btmzZcslkf9y3bNmyZcuWSyZXhBz//Oc/z8w5FL/aM2gg3z3tXUtOCAIREhTi7tzkO++88ygzVBDMKUQiFNYZ0h4mIFknSNTnP/jgg8d1dX3f+953lAUtC5UL6xdiEJaRuBLUFHQ4cw6tButL2JBwEmS4InfNnCAk4bMXX3xxZs7hXPUUFOZ7gmNnTjDtak/yzAliEnYXpux3yUCmT6wukkRWkKEQfDCjB7P4/OBs4UphxiBBIejCDzMnqFDdvvWtbz2u77333pk57/v2qWtj2nMQtTDk6iAQYbpVGl1hQtMA/+tf/5qZU5jl6ncFua4O6HFvvXoKRlX39k0H32hv2mapNW2T4/23v/3t2XOu/j2Y1TL3LUfcFHaPlKQ9Cw2319u56Fe/+tVxnW0Ia9u+QgTq1voFsXuuvUSvIGHnpUIIhmEMKxSecn5SPvOZz8zMOQTseG2M/exnPzvK3Dfd2BG2V3+NDcMXHWokidl5JZuRXOYY/+tf/zozF6f/bmyp21UKa8e4ocHmtexh5gThP/fcc7OS3uV7hLWz/R/96EdHmWO0+UjYXHJx3wJ1ayih9tumyKbmKVkdOuT87hjuwDBDPttz37Jly5YtWy6ZXJHMlMfoIS6udlsN33LLLUeZpK7II6vE/a5QTaKfd6snUhaumXVmHp/fKvQHP/jBy9oxc1qdSWqKGDhzIkfYzk984hMzc95OiVbXXXfdzMz89Kc/PcqeeeaZ47pnSRByZdq1aIRkozwACRk+q3Iz5K0yLLlNpixpbmdytRkR7aIjNN/ylrfMzDmxxpXnKptcB+zMnDykjoicOa3KJei4Gk5sp15FNqVuJeqJWgAABk5JREFU/d/arNcRwjFzsg0RFr30PAAPcfna1742M+ee+/e+973j+pe//OXMnPedh8jk4Ug2FI3I07LOrtazA7159dyxn5alBz0+JS9Z78oxtsrmJlEsT+Si7IXa2UryOkLhZs7noOqtvVWm9yJBNHKc3pkIUKLteV2bnUtWpFzRiLI4zpyQupUe9AK/+tWvHtfZvu/0f8uYaZv0wvM+RT1EWK6//vqZOZ8L9exXWf1Ce7RX69d4/8lPfnKU2Q8RnZ1XPDq452pP2naol976yp7++Mc/HteRNUWdtd3q73NWW3hXh/LMnMam3zSzUP7lL3+ZmXOypGhNXriIYs90/rTOzz777Mycz0X+byiFBNHtuW/ZsmXLli2XTPbHfcuWLVu2bLlkcmV1rrPkiK985SvHdXDN448/fpQZwP/Upz41M+cQRDCCxJZvfetbx3Xwm5Ch0EPQslCSv0e6Eq6VsJEI6wjjBmXdf//9R9kdd9wxM+dwqSSS4L0ILjPnmddeeumlmTkn2Eiu6FmrQ0hmTiRD6yzBqWdJAKodQmpC9e0dFYoyy1jwnfCUbV6dUa8ED3qPsFRtFdbv3OMVmdA6C4dKfOl/JTZqu0Fd7qF94IEHjutrrrlmZs4hN6G4dGU7Cg8Vppg513NnzwtDSuxJT4Z53F8dNKq+f/Ob3xzX1dW9xEKvEXIkBq4Oo1BnjWEJdUJ+KzvVTrpPcq1hgcboRWOw5wvrCzcHx0vmTE9C6eo5SFOiq3VOJx5u9J73vOfqZp6F8MzV8Ytf/GJmZn7+858fZV6vMoZlR86ZZk+szyVVGVprHNgOCYHB4RKBte0g8AiOM+fhvu985zszc67TVRY157XmIG3HEOfqEBXDTJGzDbs6LzXvOcYKPc2cwpl+P7Itcyk4hhubq/3mMzPvfOc7Z+Y8FGG4sLHhMwvHzZz0Y/jEMZguDBGmP0NP9l39bN9rG73LcOH23Lds2bJly5ZLJvvjvmXLli1btlwyuaLrH/P9Ix/5yFEmtBF8KmQo0ziI521ve9tRFkwrm/Cb3/zmcd1ea/cpCocEtwjbyCRur7gw37ve9a7jOoi7g1NmzqHd4FHh7N4lfCR0XLmwjvtZg4bbkzxzDpcUirCdQpY33njjhXWaOen5ta997VFWP8qwdJ958JhwoSzu7l+lUZw5pTh1d4WhllIhChU98sgjx3X6W52PrR5f6cAT+zk2rO98+9vf/rI6CX+5zz2oTZjUfqgfrV+wmPCZjOm77rprZmb+8Y9/HGUvvPDCcV3IyF0mQm3t3liNu5lTm2VmO97qc1naPdPnuPe+Nrs/2bBC/SyEe+uttx7XwajlyZg5b3825xh3H3460fbUSW12PAZj3nPPPUdZbHLlopwd1VnYXYg7OzPEF1w7c9KF4ULtpHG4OjjG0JXQbbD6t7/97aPMfqifDFk4ngojuXPHMFfzkbC747nwj3pqDlI3SvW7/fbbjzLHRvdfBFEHYWvvhqmCsJ0LY/3PnOYLGfiFOgwFGDbIHm2n180Lhmwcb/2vc7rfpNUc4bzc/zpvFK50fjOfTN9Zd5Sop8a7IZftuW/ZsmXLli2XTK7o/bXf1DL3LLY/fXXE5MzJw5JwkbjCdIUfmUYyjCv89r9LWHNFlsfsKse9znmceut6nNYrqX2u2lfHWdpOV5Z5JerR1WqEvKeeeuoo09NaHe8nySTvzLq3slYPej8+f9Wmj3/84zOzPi535kRY9DhJ92nm5UsQknCSztV94mpVneahXHRka2Kb9QgjIEmUsk+ri33nYRO33XbbzJz2ts+cdCJpyHwF2aOoh95he/vf8Y53HGUSIxMPhdDLz7vSE5Dsk0et7fT+hx9++CjTA4h8Z3+bza5+dly6l7r+k0QnArI6Ojd0StFG7adVBr/eqcd19913H9eViwRpO42dFWqiOJfomXd/xwbPnHtq6cxxn04uOqI479Y6OcbyzCXF6lGGWN58881HmR53fe4Y03ZXB9c0p6s7veCr6zZzPgZDTM3G6Xhr3pdoWxbImdNcv/qmzJyQkRWJWt17nX6dP61TY1uExOc39vwOahvZnrlbzJAaOfBzn/vcUfaNb3xjZs6PRRZh6VAikUe/CdVFdG177lu2bNmyZcslk/1x37Jly5YtWy6Z/D/JNLIp0MBcygAAAABJRU5ErkJggg==\" y=\"-9.65764\"/>\r\n   </g>\r\n   <g id=\"matplotlib.axis_1\">\r\n    <g id=\"xtick_1\">\r\n     <g id=\"line2d_1\">\r\n      <defs>\r\n       <path d=\"M 0 0 \r\nL 0 3.5 \r\n\" id=\"m4e2d44d459\" style=\"stroke:#000000;stroke-width:0.8;\"/>\r\n      </defs>\r\n      <g>\r\n       <use style=\"stroke:#000000;stroke-width:0.8;\" x=\"34.609079\" xlink:href=\"#m4e2d44d459\" y=\"461.65764\"/>\r\n      </g>\r\n     </g>\r\n     <g id=\"text_1\">\r\n      <!-- 0 -->\r\n      <g transform=\"translate(31.427829 476.256077)scale(0.1 -0.1)\">\r\n       <defs>\r\n        <path d=\"M 31.78125 66.40625 \r\nQ 24.171875 66.40625 20.328125 58.90625 \r\nQ 16.5 51.421875 16.5 36.375 \r\nQ 16.5 21.390625 20.328125 13.890625 \r\nQ 24.171875 6.390625 31.78125 6.390625 \r\nQ 39.453125 6.390625 43.28125 13.890625 \r\nQ 47.125 21.390625 47.125 36.375 \r\nQ 47.125 51.421875 43.28125 58.90625 \r\nQ 39.453125 66.40625 31.78125 66.40625 \r\nz\r\nM 31.78125 74.21875 \r\nQ 44.046875 74.21875 50.515625 64.515625 \r\nQ 56.984375 54.828125 56.984375 36.375 \r\nQ 56.984375 17.96875 50.515625 8.265625 \r\nQ 44.046875 -1.421875 31.78125 -1.421875 \r\nQ 19.53125 -1.421875 13.0625 8.265625 \r\nQ 6.59375 17.96875 6.59375 36.375 \r\nQ 6.59375 54.828125 13.0625 64.515625 \r\nQ 19.53125 74.21875 31.78125 74.21875 \r\nz\r\n\" id=\"DejaVuSans-48\"/>\r\n       </defs>\r\n       <use xlink:href=\"#DejaVuSans-48\"/>\r\n      </g>\r\n     </g>\r\n    </g>\r\n    <g id=\"xtick_2\">\r\n     <g id=\"line2d_2\">\r\n      <g>\r\n       <use style=\"stroke:#000000;stroke-width:0.8;\" x=\"100.688026\" xlink:href=\"#m4e2d44d459\" y=\"461.65764\"/>\r\n      </g>\r\n     </g>\r\n     <g id=\"text_2\">\r\n      <!-- 25 -->\r\n      <g transform=\"translate(94.325526 476.256077)scale(0.1 -0.1)\">\r\n       <defs>\r\n        <path d=\"M 19.1875 8.296875 \r\nL 53.609375 8.296875 \r\nL 53.609375 0 \r\nL 7.328125 0 \r\nL 7.328125 8.296875 \r\nQ 12.9375 14.109375 22.625 23.890625 \r\nQ 32.328125 33.6875 34.8125 36.53125 \r\nQ 39.546875 41.84375 41.421875 45.53125 \r\nQ 43.3125 49.21875 43.3125 52.78125 \r\nQ 43.3125 58.59375 39.234375 62.25 \r\nQ 35.15625 65.921875 28.609375 65.921875 \r\nQ 23.96875 65.921875 18.8125 64.3125 \r\nQ 13.671875 62.703125 7.8125 59.421875 \r\nL 7.8125 69.390625 \r\nQ 13.765625 71.78125 18.9375 73 \r\nQ 24.125 74.21875 28.421875 74.21875 \r\nQ 39.75 74.21875 46.484375 68.546875 \r\nQ 53.21875 62.890625 53.21875 53.421875 \r\nQ 53.21875 48.921875 51.53125 44.890625 \r\nQ 49.859375 40.875 45.40625 35.40625 \r\nQ 44.1875 33.984375 37.640625 27.21875 \r\nQ 31.109375 20.453125 19.1875 8.296875 \r\nz\r\n\" id=\"DejaVuSans-50\"/>\r\n        <path d=\"M 10.796875 72.90625 \r\nL 49.515625 72.90625 \r\nL 49.515625 64.59375 \r\nL 19.828125 64.59375 \r\nL 19.828125 46.734375 \r\nQ 21.96875 47.46875 24.109375 47.828125 \r\nQ 26.265625 48.1875 28.421875 48.1875 \r\nQ 40.625 48.1875 47.75 41.5 \r\nQ 54.890625 34.8125 54.890625 23.390625 \r\nQ 54.890625 11.625 47.5625 5.09375 \r\nQ 40.234375 -1.421875 26.90625 -1.421875 \r\nQ 22.3125 -1.421875 17.546875 -0.640625 \r\nQ 12.796875 0.140625 7.71875 1.703125 \r\nL 7.71875 11.625 \r\nQ 12.109375 9.234375 16.796875 8.0625 \r\nQ 21.484375 6.890625 26.703125 6.890625 \r\nQ 35.15625 6.890625 40.078125 11.328125 \r\nQ 45.015625 15.765625 45.015625 23.390625 \r\nQ 45.015625 31 40.078125 35.4375 \r\nQ 35.15625 39.890625 26.703125 39.890625 \r\nQ 22.75 39.890625 18.8125 39.015625 \r\nQ 14.890625 38.140625 10.796875 36.28125 \r\nz\r\n\" id=\"DejaVuSans-53\"/>\r\n       </defs>\r\n       <use xlink:href=\"#DejaVuSans-50\"/>\r\n       <use x=\"63.623047\" xlink:href=\"#DejaVuSans-53\"/>\r\n      </g>\r\n     </g>\r\n    </g>\r\n    <g id=\"xtick_3\">\r\n     <g id=\"line2d_3\">\r\n      <g>\r\n       <use style=\"stroke:#000000;stroke-width:0.8;\" x=\"166.766974\" xlink:href=\"#m4e2d44d459\" y=\"461.65764\"/>\r\n      </g>\r\n     </g>\r\n     <g id=\"text_3\">\r\n      <!-- 50 -->\r\n      <g transform=\"translate(160.404474 476.256077)scale(0.1 -0.1)\">\r\n       <use xlink:href=\"#DejaVuSans-53\"/>\r\n       <use x=\"63.623047\" xlink:href=\"#DejaVuSans-48\"/>\r\n      </g>\r\n     </g>\r\n    </g>\r\n    <g id=\"xtick_4\">\r\n     <g id=\"line2d_4\">\r\n      <g>\r\n       <use style=\"stroke:#000000;stroke-width:0.8;\" x=\"232.845921\" xlink:href=\"#m4e2d44d459\" y=\"461.65764\"/>\r\n      </g>\r\n     </g>\r\n     <g id=\"text_4\">\r\n      <!-- 75 -->\r\n      <g transform=\"translate(226.483421 476.256077)scale(0.1 -0.1)\">\r\n       <defs>\r\n        <path d=\"M 8.203125 72.90625 \r\nL 55.078125 72.90625 \r\nL 55.078125 68.703125 \r\nL 28.609375 0 \r\nL 18.3125 0 \r\nL 43.21875 64.59375 \r\nL 8.203125 64.59375 \r\nz\r\n\" id=\"DejaVuSans-55\"/>\r\n       </defs>\r\n       <use xlink:href=\"#DejaVuSans-55\"/>\r\n       <use x=\"63.623047\" xlink:href=\"#DejaVuSans-53\"/>\r\n      </g>\r\n     </g>\r\n    </g>\r\n    <g id=\"xtick_5\">\r\n     <g id=\"line2d_5\">\r\n      <g>\r\n       <use style=\"stroke:#000000;stroke-width:0.8;\" x=\"298.924868\" xlink:href=\"#m4e2d44d459\" y=\"461.65764\"/>\r\n      </g>\r\n     </g>\r\n     <g id=\"text_5\">\r\n      <!-- 100 -->\r\n      <g transform=\"translate(289.381118 476.256077)scale(0.1 -0.1)\">\r\n       <defs>\r\n        <path d=\"M 12.40625 8.296875 \r\nL 28.515625 8.296875 \r\nL 28.515625 63.921875 \r\nL 10.984375 60.40625 \r\nL 10.984375 69.390625 \r\nL 28.421875 72.90625 \r\nL 38.28125 72.90625 \r\nL 38.28125 8.296875 \r\nL 54.390625 8.296875 \r\nL 54.390625 0 \r\nL 12.40625 0 \r\nz\r\n\" id=\"DejaVuSans-49\"/>\r\n       </defs>\r\n       <use xlink:href=\"#DejaVuSans-49\"/>\r\n       <use x=\"63.623047\" xlink:href=\"#DejaVuSans-48\"/>\r\n       <use x=\"127.246094\" xlink:href=\"#DejaVuSans-48\"/>\r\n      </g>\r\n     </g>\r\n    </g>\r\n    <g id=\"xtick_6\">\r\n     <g id=\"line2d_6\">\r\n      <g>\r\n       <use style=\"stroke:#000000;stroke-width:0.8;\" x=\"365.003816\" xlink:href=\"#m4e2d44d459\" y=\"461.65764\"/>\r\n      </g>\r\n     </g>\r\n     <g id=\"text_6\">\r\n      <!-- 125 -->\r\n      <g transform=\"translate(355.460066 476.256077)scale(0.1 -0.1)\">\r\n       <use xlink:href=\"#DejaVuSans-49\"/>\r\n       <use x=\"63.623047\" xlink:href=\"#DejaVuSans-50\"/>\r\n       <use x=\"127.246094\" xlink:href=\"#DejaVuSans-53\"/>\r\n      </g>\r\n     </g>\r\n    </g>\r\n    <g id=\"xtick_7\">\r\n     <g id=\"line2d_7\">\r\n      <g>\r\n       <use style=\"stroke:#000000;stroke-width:0.8;\" x=\"431.082763\" xlink:href=\"#m4e2d44d459\" y=\"461.65764\"/>\r\n      </g>\r\n     </g>\r\n     <g id=\"text_7\">\r\n      <!-- 150 -->\r\n      <g transform=\"translate(421.539013 476.256077)scale(0.1 -0.1)\">\r\n       <use xlink:href=\"#DejaVuSans-49\"/>\r\n       <use x=\"63.623047\" xlink:href=\"#DejaVuSans-53\"/>\r\n       <use x=\"127.246094\" xlink:href=\"#DejaVuSans-48\"/>\r\n      </g>\r\n     </g>\r\n    </g>\r\n    <g id=\"xtick_8\">\r\n     <g id=\"line2d_8\">\r\n      <g>\r\n       <use style=\"stroke:#000000;stroke-width:0.8;\" x=\"497.161711\" xlink:href=\"#m4e2d44d459\" y=\"461.65764\"/>\r\n      </g>\r\n     </g>\r\n     <g id=\"text_8\">\r\n      <!-- 175 -->\r\n      <g transform=\"translate(487.617961 476.256077)scale(0.1 -0.1)\">\r\n       <use xlink:href=\"#DejaVuSans-49\"/>\r\n       <use x=\"63.623047\" xlink:href=\"#DejaVuSans-55\"/>\r\n       <use x=\"127.246094\" xlink:href=\"#DejaVuSans-53\"/>\r\n      </g>\r\n     </g>\r\n    </g>\r\n   </g>\r\n   <g id=\"matplotlib.axis_2\">\r\n    <g id=\"ytick_1\">\r\n     <g id=\"line2d_9\">\r\n      <defs>\r\n       <path d=\"M 0 0 \r\nL -3.5 0 \r\n\" id=\"m8586ebe00f\" style=\"stroke:#000000;stroke-width:0.8;\"/>\r\n      </defs>\r\n      <g>\r\n       <use style=\"stroke:#000000;stroke-width:0.8;\" x=\"33.2875\" xlink:href=\"#m8586ebe00f\" y=\"10.999219\"/>\r\n      </g>\r\n     </g>\r\n     <g id=\"text_9\">\r\n      <!-- 0 -->\r\n      <g transform=\"translate(19.925 14.798437)scale(0.1 -0.1)\">\r\n       <use xlink:href=\"#DejaVuSans-48\"/>\r\n      </g>\r\n     </g>\r\n    </g>\r\n    <g id=\"ytick_2\">\r\n     <g id=\"line2d_10\">\r\n      <g>\r\n       <use style=\"stroke:#000000;stroke-width:0.8;\" x=\"33.2875\" xlink:href=\"#m8586ebe00f\" y=\"63.862377\"/>\r\n      </g>\r\n     </g>\r\n     <g id=\"text_10\">\r\n      <!-- 20 -->\r\n      <g transform=\"translate(13.5625 67.661595)scale(0.1 -0.1)\">\r\n       <use xlink:href=\"#DejaVuSans-50\"/>\r\n       <use x=\"63.623047\" xlink:href=\"#DejaVuSans-48\"/>\r\n      </g>\r\n     </g>\r\n    </g>\r\n    <g id=\"ytick_3\">\r\n     <g id=\"line2d_11\">\r\n      <g>\r\n       <use style=\"stroke:#000000;stroke-width:0.8;\" x=\"33.2875\" xlink:href=\"#m8586ebe00f\" y=\"116.725535\"/>\r\n      </g>\r\n     </g>\r\n     <g id=\"text_11\">\r\n      <!-- 40 -->\r\n      <g transform=\"translate(13.5625 120.524753)scale(0.1 -0.1)\">\r\n       <defs>\r\n        <path d=\"M 37.796875 64.3125 \r\nL 12.890625 25.390625 \r\nL 37.796875 25.390625 \r\nz\r\nM 35.203125 72.90625 \r\nL 47.609375 72.90625 \r\nL 47.609375 25.390625 \r\nL 58.015625 25.390625 \r\nL 58.015625 17.1875 \r\nL 47.609375 17.1875 \r\nL 47.609375 0 \r\nL 37.796875 0 \r\nL 37.796875 17.1875 \r\nL 4.890625 17.1875 \r\nL 4.890625 26.703125 \r\nz\r\n\" id=\"DejaVuSans-52\"/>\r\n       </defs>\r\n       <use xlink:href=\"#DejaVuSans-52\"/>\r\n       <use x=\"63.623047\" xlink:href=\"#DejaVuSans-48\"/>\r\n      </g>\r\n     </g>\r\n    </g>\r\n    <g id=\"ytick_4\">\r\n     <g id=\"line2d_12\">\r\n      <g>\r\n       <use style=\"stroke:#000000;stroke-width:0.8;\" x=\"33.2875\" xlink:href=\"#m8586ebe00f\" y=\"169.588692\"/>\r\n      </g>\r\n     </g>\r\n     <g id=\"text_12\">\r\n      <!-- 60 -->\r\n      <g transform=\"translate(13.5625 173.387911)scale(0.1 -0.1)\">\r\n       <defs>\r\n        <path d=\"M 33.015625 40.375 \r\nQ 26.375 40.375 22.484375 35.828125 \r\nQ 18.609375 31.296875 18.609375 23.390625 \r\nQ 18.609375 15.53125 22.484375 10.953125 \r\nQ 26.375 6.390625 33.015625 6.390625 \r\nQ 39.65625 6.390625 43.53125 10.953125 \r\nQ 47.40625 15.53125 47.40625 23.390625 \r\nQ 47.40625 31.296875 43.53125 35.828125 \r\nQ 39.65625 40.375 33.015625 40.375 \r\nz\r\nM 52.59375 71.296875 \r\nL 52.59375 62.3125 \r\nQ 48.875 64.0625 45.09375 64.984375 \r\nQ 41.3125 65.921875 37.59375 65.921875 \r\nQ 27.828125 65.921875 22.671875 59.328125 \r\nQ 17.53125 52.734375 16.796875 39.40625 \r\nQ 19.671875 43.65625 24.015625 45.921875 \r\nQ 28.375 48.1875 33.59375 48.1875 \r\nQ 44.578125 48.1875 50.953125 41.515625 \r\nQ 57.328125 34.859375 57.328125 23.390625 \r\nQ 57.328125 12.15625 50.6875 5.359375 \r\nQ 44.046875 -1.421875 33.015625 -1.421875 \r\nQ 20.359375 -1.421875 13.671875 8.265625 \r\nQ 6.984375 17.96875 6.984375 36.375 \r\nQ 6.984375 53.65625 15.1875 63.9375 \r\nQ 23.390625 74.21875 37.203125 74.21875 \r\nQ 40.921875 74.21875 44.703125 73.484375 \r\nQ 48.484375 72.75 52.59375 71.296875 \r\nz\r\n\" id=\"DejaVuSans-54\"/>\r\n       </defs>\r\n       <use xlink:href=\"#DejaVuSans-54\"/>\r\n       <use x=\"63.623047\" xlink:href=\"#DejaVuSans-48\"/>\r\n      </g>\r\n     </g>\r\n    </g>\r\n    <g id=\"ytick_5\">\r\n     <g id=\"line2d_13\">\r\n      <g>\r\n       <use style=\"stroke:#000000;stroke-width:0.8;\" x=\"33.2875\" xlink:href=\"#m8586ebe00f\" y=\"222.45185\"/>\r\n      </g>\r\n     </g>\r\n     <g id=\"text_13\">\r\n      <!-- 80 -->\r\n      <g transform=\"translate(13.5625 226.251069)scale(0.1 -0.1)\">\r\n       <defs>\r\n        <path d=\"M 31.78125 34.625 \r\nQ 24.75 34.625 20.71875 30.859375 \r\nQ 16.703125 27.09375 16.703125 20.515625 \r\nQ 16.703125 13.921875 20.71875 10.15625 \r\nQ 24.75 6.390625 31.78125 6.390625 \r\nQ 38.8125 6.390625 42.859375 10.171875 \r\nQ 46.921875 13.96875 46.921875 20.515625 \r\nQ 46.921875 27.09375 42.890625 30.859375 \r\nQ 38.875 34.625 31.78125 34.625 \r\nz\r\nM 21.921875 38.8125 \r\nQ 15.578125 40.375 12.03125 44.71875 \r\nQ 8.5 49.078125 8.5 55.328125 \r\nQ 8.5 64.0625 14.71875 69.140625 \r\nQ 20.953125 74.21875 31.78125 74.21875 \r\nQ 42.671875 74.21875 48.875 69.140625 \r\nQ 55.078125 64.0625 55.078125 55.328125 \r\nQ 55.078125 49.078125 51.53125 44.71875 \r\nQ 48 40.375 41.703125 38.8125 \r\nQ 48.828125 37.15625 52.796875 32.3125 \r\nQ 56.78125 27.484375 56.78125 20.515625 \r\nQ 56.78125 9.90625 50.3125 4.234375 \r\nQ 43.84375 -1.421875 31.78125 -1.421875 \r\nQ 19.734375 -1.421875 13.25 4.234375 \r\nQ 6.78125 9.90625 6.78125 20.515625 \r\nQ 6.78125 27.484375 10.78125 32.3125 \r\nQ 14.796875 37.15625 21.921875 38.8125 \r\nz\r\nM 18.3125 54.390625 \r\nQ 18.3125 48.734375 21.84375 45.5625 \r\nQ 25.390625 42.390625 31.78125 42.390625 \r\nQ 38.140625 42.390625 41.71875 45.5625 \r\nQ 45.3125 48.734375 45.3125 54.390625 \r\nQ 45.3125 60.0625 41.71875 63.234375 \r\nQ 38.140625 66.40625 31.78125 66.40625 \r\nQ 25.390625 66.40625 21.84375 63.234375 \r\nQ 18.3125 60.0625 18.3125 54.390625 \r\nz\r\n\" id=\"DejaVuSans-56\"/>\r\n       </defs>\r\n       <use xlink:href=\"#DejaVuSans-56\"/>\r\n       <use x=\"63.623047\" xlink:href=\"#DejaVuSans-48\"/>\r\n      </g>\r\n     </g>\r\n    </g>\r\n    <g id=\"ytick_6\">\r\n     <g id=\"line2d_14\">\r\n      <g>\r\n       <use style=\"stroke:#000000;stroke-width:0.8;\" x=\"33.2875\" xlink:href=\"#m8586ebe00f\" y=\"275.315008\"/>\r\n      </g>\r\n     </g>\r\n     <g id=\"text_14\">\r\n      <!-- 100 -->\r\n      <g transform=\"translate(7.2 279.114227)scale(0.1 -0.1)\">\r\n       <use xlink:href=\"#DejaVuSans-49\"/>\r\n       <use x=\"63.623047\" xlink:href=\"#DejaVuSans-48\"/>\r\n       <use x=\"127.246094\" xlink:href=\"#DejaVuSans-48\"/>\r\n      </g>\r\n     </g>\r\n    </g>\r\n    <g id=\"ytick_7\">\r\n     <g id=\"line2d_15\">\r\n      <g>\r\n       <use style=\"stroke:#000000;stroke-width:0.8;\" x=\"33.2875\" xlink:href=\"#m8586ebe00f\" y=\"328.178166\"/>\r\n      </g>\r\n     </g>\r\n     <g id=\"text_15\">\r\n      <!-- 120 -->\r\n      <g transform=\"translate(7.2 331.977385)scale(0.1 -0.1)\">\r\n       <use xlink:href=\"#DejaVuSans-49\"/>\r\n       <use x=\"63.623047\" xlink:href=\"#DejaVuSans-50\"/>\r\n       <use x=\"127.246094\" xlink:href=\"#DejaVuSans-48\"/>\r\n      </g>\r\n     </g>\r\n    </g>\r\n    <g id=\"ytick_8\">\r\n     <g id=\"line2d_16\">\r\n      <g>\r\n       <use style=\"stroke:#000000;stroke-width:0.8;\" x=\"33.2875\" xlink:href=\"#m8586ebe00f\" y=\"381.041324\"/>\r\n      </g>\r\n     </g>\r\n     <g id=\"text_16\">\r\n      <!-- 140 -->\r\n      <g transform=\"translate(7.2 384.840543)scale(0.1 -0.1)\">\r\n       <use xlink:href=\"#DejaVuSans-49\"/>\r\n       <use x=\"63.623047\" xlink:href=\"#DejaVuSans-52\"/>\r\n       <use x=\"127.246094\" xlink:href=\"#DejaVuSans-48\"/>\r\n      </g>\r\n     </g>\r\n    </g>\r\n    <g id=\"ytick_9\">\r\n     <g id=\"line2d_17\">\r\n      <g>\r\n       <use style=\"stroke:#000000;stroke-width:0.8;\" x=\"33.2875\" xlink:href=\"#m8586ebe00f\" y=\"433.904482\"/>\r\n      </g>\r\n     </g>\r\n     <g id=\"text_17\">\r\n      <!-- 160 -->\r\n      <g transform=\"translate(7.2 437.703701)scale(0.1 -0.1)\">\r\n       <use xlink:href=\"#DejaVuSans-49\"/>\r\n       <use x=\"63.623047\" xlink:href=\"#DejaVuSans-54\"/>\r\n       <use x=\"127.246094\" xlink:href=\"#DejaVuSans-48\"/>\r\n      </g>\r\n     </g>\r\n    </g>\r\n   </g>\r\n   <g id=\"patch_3\">\r\n    <path d=\"M 33.2875 461.65764 \r\nL 33.2875 9.67764 \r\n\" style=\"fill:none;stroke:#000000;stroke-linecap:square;stroke-linejoin:miter;stroke-width:0.8;\"/>\r\n   </g>\r\n   <g id=\"patch_4\">\r\n    <path d=\"M 535.4875 461.65764 \r\nL 535.4875 9.67764 \r\n\" style=\"fill:none;stroke:#000000;stroke-linecap:square;stroke-linejoin:miter;stroke-width:0.8;\"/>\r\n   </g>\r\n   <g id=\"patch_5\">\r\n    <path d=\"M 33.2875 461.65764 \r\nL 535.4875 461.65764 \r\n\" style=\"fill:none;stroke:#000000;stroke-linecap:square;stroke-linejoin:miter;stroke-width:0.8;\"/>\r\n   </g>\r\n   <g id=\"patch_6\">\r\n    <path d=\"M 33.2875 9.67764 \r\nL 535.4875 9.67764 \r\n\" style=\"fill:none;stroke:#000000;stroke-linecap:square;stroke-linejoin:miter;stroke-width:0.8;\"/>\r\n   </g>\r\n  </g>\r\n </g>\r\n <defs>\r\n  <clipPath id=\"pbd2974be36\">\r\n   <rect height=\"451.98\" width=\"502.2\" x=\"33.2875\" y=\"9.67764\"/>\r\n  </clipPath>\r\n </defs>\r\n</svg>\r\n",
      "text/plain": [
       "<Figure size 648x648 with 1 Axes>"
      ]
     },
     "metadata": {
      "needs_background": "light"
     },
     "output_type": "display_data"
    }
   ],
   "source": [
    "# function to make an image montage\n",
    "def image_montage(X, imsize=None, maxw=10):\n",
    "    \"\"\"X can be a list of images, or a matrix of vectorized images.\n",
    "      Specify imsize when X is a matrix.\"\"\"\n",
    "    tmp = []\n",
    "    numimgs = len(X)\n",
    "    \n",
    "    # create a list of images (reshape if necessary)\n",
    "    for i in range(0,numimgs):\n",
    "        if imsize != None:\n",
    "            tmp.append(X[i].reshape(imsize))\n",
    "        else:\n",
    "            tmp.append(X[i])\n",
    "    \n",
    "    # add blanks\n",
    "    if (numimgs > maxw) and (mod(numimgs, maxw) > 0):\n",
    "        leftover = maxw - mod(numimgs, maxw)\n",
    "        meanimg = 0.5*(X[0].max()+X[0].min())\n",
    "        for i in range(0,leftover):\n",
    "            tmp.append(ones(tmp[0].shape)*meanimg)\n",
    "    \n",
    "    # make the montage\n",
    "    tmp2 = []\n",
    "    for i in range(0,len(tmp),maxw):\n",
    "        tmp2.append( hstack(tmp[i:i+maxw]) )\n",
    "    montimg = vstack(tmp2) \n",
    "    return montimg\n",
    "\n",
    "# show a few images\n",
    "plt.figure(figsize=(9,9))\n",
    "plt.imshow(image_montage(imgdata['train'][::20]), cmap='gray', interpolation='nearest')\n",
    "plt.show()"
   ]
  },
  {
   "cell_type": "markdown",
   "metadata": {},
   "source": [
    "Each image is a 2d array, but the classifier algorithms work on 1d vectors. Run the following code to convert all the images into 1d vectors by flattening.  The result should be a matrix where each row is a flattened image."
   ]
  },
  {
   "cell_type": "code",
   "execution_count": 7,
   "metadata": {},
   "outputs": [
    {
     "name": "stdout",
     "output_type": "stream",
     "text": [
      "(1745, 361)\n",
      "(1745,)\n",
      "(944, 361)\n",
      "(944,)\n"
     ]
    }
   ],
   "source": [
    "trainX = empty((len(imgdata['train']), prod(imgsize)))\n",
    "for i,img in enumerate(imgdata['train']):\n",
    "    trainX[i,:] = ravel(img)\n",
    "trainY = asarray(classes['train'])  # convert list to numpy array\n",
    "print(trainX.shape)\n",
    "print(trainY.shape)\n",
    "\n",
    "testX = empty((len(imgdata['test']), prod(imgsize)))\n",
    "for i,img in enumerate(imgdata['test']):\n",
    "    testX[i,:] = ravel(img)\n",
    "testY = asarray(classes['test'])  # convert list to numpy array\n",
    "print(testX.shape)\n",
    "print(testY.shape)"
   ]
  },
  {
   "cell_type": "markdown",
   "metadata": {},
   "source": [
    "## Detection using  pixel values\n",
    "\n",
    "Train an AdaBoost and GradientBoosting classifiers to classify an image patch as face or non-face.  Also train a kernel SVM classifier using either RBF or polynomial kernel, and a Random Forest Classifier.  Evaluate all your classifiers on the test set.\n",
    "\n",
    "First we will normalize the features."
   ]
  },
  {
   "cell_type": "code",
   "execution_count": 8,
   "metadata": {},
   "outputs": [],
   "source": [
    "scaler = preprocessing.MinMaxScaler(feature_range=(-1,1))    # make scaling object\n",
    "trainXn = scaler.fit_transform(trainX)   # use training data to fit scaling parameters\n",
    "testXn  = scaler.transform(testX)        # apply scaling to test data"
   ]
  },
  {
   "cell_type": "code",
   "execution_count": null,
   "metadata": {},
   "outputs": [],
   "source": []
  },
  {
   "cell_type": "code",
   "execution_count": null,
   "metadata": {},
   "outputs": [],
   "source": [
    "### INSERT YOUR CODE HERE"
   ]
  },
  {
   "cell_type": "code",
   "execution_count": null,
   "metadata": {},
   "outputs": [],
   "source": []
  },
  {
   "cell_type": "code",
   "execution_count": null,
   "metadata": {},
   "outputs": [],
   "source": []
  },
  {
   "cell_type": "markdown",
   "metadata": {},
   "source": [
    "_Which classifier was best?_\n",
    "- **INSERT YOUR ANSWER HERE**"
   ]
  },
  {
   "cell_type": "markdown",
   "metadata": {},
   "source": [
    "### Error analysis\n",
    "The accuracy only tells part of the classifier's performance. We can also look at the different types of errors that the classifier makes:\n",
    "- _True Positive (TP)_: classifier correctly said face\n",
    "- _True Negative (TN)_: classifier correctly said non-face\n",
    "- _False Positive (FP)_: classifier said face, but not a face\n",
    "- _False Negative (FN)_: classifier said non-face, but was a face\n",
    "\n",
    "This is summarized in the following table:\n",
    "\n",
    "<table>\n",
    "<tr><th colspan=2 rowspan=2><th colspan=2 style=\"text-align: center\">Actual</th></tr>\n",
    "<tr>  <th>Face</th><th>Non-face</th></tr>\n",
    "<tr><th rowspan=2>Prediction</th><th>Face</th><td>True Positive (TP)</td><td>False Positive (FP)</td></tr>\n",
    "<tr>  <th>Non-face</th><td>False Negative (FN)</td><td>True Negative (TN)</td></tr>\n",
    "</table>\n",
    "\n",
    "We can then look at the _true positive rate_ and the _false positive rate_.\n",
    "- _true positive rate (TPR)_: proportion of true faces that were correctly detected\n",
    "- _false positive rate (FPR)_: proportion of non-faces that were mis-classified as faces.\n",
    "\n",
    "Use the below code to calculate the TPR and FPR of your classifiers."
   ]
  },
  {
   "cell_type": "code",
   "execution_count": null,
   "metadata": {},
   "outputs": [],
   "source": [
    "# predY is the prediction from the classifier\n",
    "\n",
    "Pind = where(predY==1) # indicies for face predictions\n",
    "Nind = where(predY==0) # indicies for non-face predictions\n",
    "TP = count_nonzero(testY[Pind] == predY[Pind])\n",
    "FP = count_nonzero(testY[Pind] != predY[Pind])\n",
    "TN = count_nonzero(testY[Nind] == predY[Nind])\n",
    "FN = count_nonzero(testY[Nind] != predY[Nind])\n",
    "\n",
    "TPR = TP / (TP+FN)\n",
    "FPR = FP / (FP+TN)\n",
    "\n",
    "print(\"TP=\", TP)\n",
    "print(\"FP=\", FP)\n",
    "print(\"TN=\", TN)\n",
    "print(\"FN=\", FN)\n",
    "print(\"TPR=\", TPR)\n",
    "print(\"FPR=\", FPR)"
   ]
  },
  {
   "cell_type": "markdown",
   "metadata": {},
   "source": [
    "_How does the classifier make errors?_\n",
    "- **INSERT YOUR ANSWER HERE**"
   ]
  },
  {
   "cell_type": "markdown",
   "metadata": {},
   "source": [
    "### Classifier analysis"
   ]
  },
  {
   "cell_type": "markdown",
   "metadata": {},
   "source": [
    "For the AdaBoost classifier, we can interpret what it is doing by looking at which features it uses most in the weak learners.  Use the below code to visualize the pixel features used.\n",
    "\n",
    "Note: if you used GridSearchCV to train the classifier, then you need to use the `best_estimator_` field to access the classifier."
   ]
  },
  {
   "cell_type": "code",
   "execution_count": null,
   "metadata": {},
   "outputs": [],
   "source": [
    "# adaclf is the trained adaboost classifier\n",
    "fi = adaclf.feature_importances_.reshape(imgsize)\n",
    "plt.imshow(fi, interpolation='nearest')\n",
    "plt.colorbar()"
   ]
  },
  {
   "cell_type": "markdown",
   "metadata": {},
   "source": [
    "Similarly, we can also look at the important features for xgboost."
   ]
  },
  {
   "cell_type": "code",
   "execution_count": null,
   "metadata": {},
   "outputs": [],
   "source": [
    "# xgbclf is the trained xgboost classifier\n",
    "fi = xgbclf.feature_importances_.reshape(imgsize)\n",
    "plt.imshow(fi, interpolation='nearest')\n",
    "plt.colorbar()"
   ]
  },
  {
   "cell_type": "markdown",
   "metadata": {},
   "source": [
    "Similarly for Random Forests, we can look at the important features."
   ]
  },
  {
   "cell_type": "code",
   "execution_count": null,
   "metadata": {
    "scrolled": false
   },
   "outputs": [],
   "source": [
    "# rfclf is the trained random forest classifier\n",
    "fi = rfclf.feature_importances_.reshape(imgsize)\n",
    "plt.imshow(fi, interpolation='nearest')\n",
    "plt.colorbar()"
   ]
  },
  {
   "cell_type": "markdown",
   "metadata": {},
   "source": [
    "Comment on which features (pixels) that AdaBoost and Random Forests are using\n",
    "- **INSERT YOUR ANSWER HERE**"
   ]
  },
  {
   "cell_type": "markdown",
   "metadata": {},
   "source": [
    "For kernel SVM, we can look at the support vectors to see what the classifier finds difficult."
   ]
  },
  {
   "cell_type": "code",
   "execution_count": null,
   "metadata": {},
   "outputs": [],
   "source": [
    "# svmclf is the trained SVM classifier\n",
    "\n",
    "print(\"num support vectors:\", len(svmclf.support_vectors_))\n",
    "si  = svmclf.support_  # get indicies of support vectors\n",
    "\n",
    "# get all the patches for each support vector\n",
    "simg = [ imgdata['train'][i] for i in si ]\n",
    "\n",
    "# make montage\n",
    "outimg = image_montage(simg, maxw=20)\n",
    "\n",
    "plt.figure(figsize=(9,9))\n",
    "plt.imshow(outimg, cmap='gray', interpolation='nearest')"
   ]
  },
  {
   "cell_type": "markdown",
   "metadata": {},
   "source": [
    "Comment on anything you notice about what the SVM finds difficult (i.e., on the decision boundary or within the margin)\n",
    "- **INSERT YOUR ANSWER HERE**"
   ]
  },
  {
   "cell_type": "markdown",
   "metadata": {},
   "source": [
    "### Custom kernel SVM\n",
    "\n",
    "Now we will try to use a custom kernel with the SVM.  We will consider the following RBF-like kernel based on L1 distance (i.e., cityblock or Manhattan distance),\n",
    "\n",
    "$$ k(\\mathbf{x},\\mathbf{y}) = \\exp \\left(-\\alpha \\sum_{i=1}^d |x_i-y_i|\\right)$$\n",
    "\n",
    "where $x_i,y_i$ are the elements of the vectors $\\mathbf{x},\\mathbf{y}$, and $\\alpha$ is the hyperparameter.  The difference with the RBF kernel is that the new kernel uses the absolute difference rather than the squared difference. Thus, the new kernel does not \"drop off\" as fast as the RBF kernel using squared distance.\n",
    "\n",
    "- Implement the new kernel as a custom kernel function. The `scipy.spatial.distance.cdist` function will be helpful.\n",
    "- Train the SVM with the new kernel.  To select the hyperparameter $\\alpha$, you need to run cross-validation \"manually\" by: 1) trying different values of $\\alpha$, and running cross-validation to select $C$; 2) selecting the  $\\alpha$ with the highest cross-validation score `best_score_` in `GridSearchCV`.\n"
   ]
  },
  {
   "cell_type": "code",
   "execution_count": null,
   "metadata": {},
   "outputs": [],
   "source": [
    "### INSERT YOUR CODE HERE\n"
   ]
  },
  {
   "cell_type": "code",
   "execution_count": 11,
   "metadata": {},
   "outputs": [],
   "source": [
    "from scipy import spatial\n",
    "\n",
    "def mykernel(X1, X2, alpha=1.0):\n",
    "\n",
    "    D = spatial.distance.cdist(X1, X2, 'cityblock')\n",
    "\n",
    "    return exp(-alpha*D)\n",
    "\n"
   ]
  },
  {
   "cell_type": "code",
   "execution_count": 17,
   "metadata": {},
   "outputs": [
    {
     "name": "stdout",
     "output_type": "stream",
     "text": [
      "Fitting 5 folds for each of 100 candidates, totalling 500 fits\n",
      "Best: 1.000000 using {'C': 2.782559402207126, 'alpha': 0.005994842503189409}\n"
     ]
    }
   ],
   "source": [
    "from sklearn.model_selection import GridSearchCV\n",
    "\n",
    "# import warnings\n",
    "# warnings.filterwarnings(\"ignore\")\n",
    "\n",
    "# sys.path.append(\"..\")\n",
    "\n",
    "class cus_svm():\n",
    "    \n",
    "    def __init__(self, alpha=0.01, C=1.0):\n",
    "\n",
    "        self.alpha = alpha\n",
    "        self.C = C\n",
    "\n",
    "    def fit(self, train_data, train_label):\n",
    "\n",
    "        tmpkern = lambda X1, X2, alpha=self.alpha: mykernel(X1, X2, alpha=alpha)\n",
    "        clf = svm.SVC(kernel=tmpkern, C=self.C)\n",
    "        self.accuracy_ = clf.fit(train_data, train_label).score(train_data, train_label)\n",
    "        \n",
    "    def score(self, test_data, test_label):\n",
    "             \n",
    "        return self.accuracy_\n",
    "\n",
    "    def get_params(self, deep=False):\n",
    "\n",
    "        params = {'alpha': self.alpha,\n",
    "                  'C': self.C\n",
    "                  }\n",
    "\n",
    "        return params\n",
    "\n",
    "    def set_params(self, **parameters):\n",
    "        for parameter, value in parameters.items():\n",
    "            setattr(self, parameter, value)\n",
    "        return self\n",
    "        \n",
    "    \n",
    "if __name__ == '__main__':\n",
    "\n",
    "    clf = cus_svm()\n",
    "\n",
    "    parameters = {'alpha': logspace(-4, 4, 10),\n",
    "                      'C': logspace(-4, 4, 10)\n",
    "                      }\n",
    "\n",
    "    gs = GridSearchCV(clf, parameters, cv=5, n_jobs=-1, verbose=True)\n",
    "\n",
    "    gird_result = gs.fit(trainXn, trainY)\n",
    "\n",
    "    print(\"Best: %f using %s\" % (gird_result.best_score_, gird_result.best_params_))"
   ]
  },
  {
   "cell_type": "code",
   "execution_count": 16,
   "metadata": {},
   "outputs": [
    {
     "name": "stdout",
     "output_type": "stream",
     "text": [
      "accuracy: 1.0\n"
     ]
    }
   ],
   "source": [
    "# tmpkern = lambda X1, X2, alpha=0.005994842503189409: mykernel(X1, X2, alpha=alpha)\n",
    "# clf = svm.SVC(kernel=mykernel, C=2.782559402207126)\n",
    "# clf.fit(trainXn, trainY)\n",
    "# predY = clf.predict(trainXn)\n",
    "# print(\"accuracy:\", metrics.accuracy_score(predY, trainY))"
   ]
  },
  {
   "cell_type": "code",
   "execution_count": null,
   "metadata": {},
   "outputs": [],
   "source": []
  },
  {
   "cell_type": "code",
   "execution_count": null,
   "metadata": {},
   "outputs": [],
   "source": []
  },
  {
   "cell_type": "markdown",
   "metadata": {},
   "source": [
    "Does using the new kernel improve the results?\n",
    "- **INSERT YOUR ANSWER HERE**"
   ]
  },
  {
   "cell_type": "markdown",
   "metadata": {},
   "source": [
    "## Image Feature Extraction\n",
    "The detection performance is not that good. The problem is that we are using the raw pixel values as features, so it is difficult for the classifier to interpret larger structures of the face that might be important.  To fix the problem, we will extract features from the image using a set of filters.\n",
    "\n",
    "Run the below code to look at the filter output.  The filters are a sets of black and white boxes that respond to similar structures in the image.  After applying the filters to the image, the filter response map is aggregated over a 4x4 window.  Hence each filter produces a 5x5 feature response.  Since there are 4 filters, then the feature vector is 100 dimensions."
   ]
  },
  {
   "cell_type": "code",
   "execution_count": null,
   "metadata": {},
   "outputs": [],
   "source": [
    "def extract_features(imgs, doplot=False):\n",
    "    # the filter layout\n",
    "    lay = [array([-1,1]), array([-1,1,-1]),  \n",
    "               array([[1],[-1]]), array([[-1],[1],[-1]])]\n",
    "    sc=8            # size of each filter patch\n",
    "    poolmode = 'i'  # pooling mode (interpolate)\n",
    "    cmode = 'same'  # convolution mode\n",
    "    brick = ones((sc,sc))  # filter patch\n",
    "    ks = []\n",
    "    for l in lay:\n",
    "        tmp = [brick*i for i in l]\n",
    "        if (l.ndim==1):\n",
    "            k = hstack(tmp)\n",
    "        else:\n",
    "            k = vstack(tmp)\n",
    "        ks.append(k)\n",
    "\n",
    "    # get the filter response size\n",
    "    if (poolmode=='max') or (poolmode=='absmax'):\n",
    "        tmpimg = maxpool(maxpool(imgs[0]))\n",
    "    else:\n",
    "        tmpimg = ndimage.zoom(imgs[0], 0.25)        \n",
    "    fs = prod(tmpimg.shape)\n",
    "    \n",
    "    # get the total feature length\n",
    "    fst = fs*len(ks)\n",
    "\n",
    "    # filter the images\n",
    "    X  = empty((len(imgs), fst))\n",
    "    for i,img in enumerate(imgs):\n",
    "        x = empty(fst)\n",
    "\n",
    "        # for each filter\n",
    "        for j,th in enumerate(ks):\n",
    "            # filter the image\n",
    "            imgk = signal.convolve(img, ks[j], mode=cmode)\n",
    "            \n",
    "            # do pooling\n",
    "            if poolmode == 'maxabs':\n",
    "                mimg = maxpool(maxpool(abs(imgk)))\n",
    "            elif poolmode == 'max':\n",
    "                mimg = maxpool(maxpool(imgk))\n",
    "            else:\n",
    "                mimg = ndimage.zoom(imgk, 0.25)\n",
    "    \n",
    "            # put responses into feature vector\n",
    "            x[(j*fs):(j+1)*fs] = ravel(mimg)\n",
    "               \n",
    "            if (doplot):             \n",
    "                plt.subplot(3,len(ks),j+1)\n",
    "                plt.imshow(ks[j], cmap='gray', interpolation='nearest')\n",
    "                plt.title(\"filter \" + str(j))\n",
    "                plt.subplot(3,len(ks),len(ks)+j+1)\n",
    "                plt.imshow(imgk, cmap='gray', interpolation='nearest')\n",
    "                plt.title(\"filtered image\")\n",
    "                plt.subplot(3,len(ks),2*len(ks)+j+1)\n",
    "                plt.imshow(mimg, cmap='gray', interpolation='nearest')\n",
    "                plt.title(\"image features\")\n",
    "        X[i,:] = x\n",
    "    \n",
    "    return X"
   ]
  },
  {
   "cell_type": "code",
   "execution_count": null,
   "metadata": {},
   "outputs": [],
   "source": [
    "# new features\n",
    "img = imgdata['train'][0]\n",
    "plt.imshow(img, cmap='gray', interpolation='nearest')\n",
    "plt.title(\"image\")\n",
    "plt.figure(figsize=(9,9))\n",
    "extract_features([img], doplot=True);"
   ]
  },
  {
   "cell_type": "markdown",
   "metadata": {},
   "source": [
    "Now lets extract image features on the training and test sets.  It may take a few seconds."
   ]
  },
  {
   "cell_type": "code",
   "execution_count": null,
   "metadata": {
    "scrolled": true
   },
   "outputs": [],
   "source": [
    "trainXf = extract_features(imgdata['train'])\n",
    "print(trainXf.shape)\n",
    "testXf = extract_features(imgdata['test'])\n",
    "print(testXf.shape)"
   ]
  },
  {
   "cell_type": "markdown",
   "metadata": {},
   "source": [
    "### Detection using Image Features\n",
    "Now train AdaBoost and SVM classifiers on the image feature data.  Evaluate on the test set."
   ]
  },
  {
   "cell_type": "code",
   "execution_count": null,
   "metadata": {},
   "outputs": [],
   "source": [
    "# first scale the features\n",
    "scalerf = preprocessing.MinMaxScaler(feature_range=(-1,1))    # make scaling object\n",
    "trainXfn = scalerf.fit_transform(trainXf)   # use training data to fit scaling parameters\n",
    "testXfn  = scalerf.transform(testXf)        # apply scaling to test data"
   ]
  },
  {
   "cell_type": "code",
   "execution_count": null,
   "metadata": {},
   "outputs": [],
   "source": [
    "### INSERT YOUR CODE HERE"
   ]
  },
  {
   "cell_type": "code",
   "execution_count": null,
   "metadata": {},
   "outputs": [],
   "source": []
  },
  {
   "cell_type": "markdown",
   "metadata": {},
   "source": [
    "### Error Analysis\n",
    "Repeat the error analysis for the new classifiers."
   ]
  },
  {
   "cell_type": "code",
   "execution_count": null,
   "metadata": {},
   "outputs": [],
   "source": [
    "### INSERT YOUR CODE HERE\n"
   ]
  },
  {
   "cell_type": "markdown",
   "metadata": {},
   "source": [
    "How has the classifier using image features improved?\n",
    "- **INSERT YOUR ANSWER HERE**"
   ]
  },
  {
   "cell_type": "markdown",
   "metadata": {},
   "source": [
    "# Test image\n",
    "Now lets try your face detector on a real image.  Download the \"nasa-small.png\" image and put it in the same directory as your ipynb file.  The below code will load the image, crop out image patches and then extract features. (this may take a few minutes)"
   ]
  },
  {
   "cell_type": "code",
   "execution_count": null,
   "metadata": {},
   "outputs": [],
   "source": [
    "fname = \"nasa-small.png\""
   ]
  },
  {
   "cell_type": "code",
   "execution_count": null,
   "metadata": {},
   "outputs": [],
   "source": [
    "# load image\n",
    "testimg = skimage.io.imread(fname, as_gray=True)\n",
    "print(testimg.shape)\n",
    "plt.imshow(testimg, cmap='gray')"
   ]
  },
  {
   "cell_type": "code",
   "execution_count": null,
   "metadata": {},
   "outputs": [],
   "source": [
    "# step size for the sliding window\n",
    "step = 4\n",
    "\n",
    "# extract window patches with step size of 4\n",
    "patches = skimage.util.view_as_windows(testimg, (19,19), step=step)\n",
    "psize = patches.shape\n",
    "# collapse the first 2 dimensions\n",
    "patches2 = patches.reshape((psize[0]*psize[1], psize[2], psize[3]))\n",
    "print(patches2.shape )\n",
    "\n",
    "# histogram equalize patches (improves contrast)\n",
    "patches3 = empty(patches2.shape)\n",
    "for i in range(patches2.shape[0]):\n",
    "    patches3[i,:,:] = skimage.exposure.equalize_hist(patches2[i,:,:])\n",
    "\n",
    "# extract features\n",
    "newXf = extract_features(patches3)"
   ]
  },
  {
   "cell_type": "markdown",
   "metadata": {},
   "source": [
    "Now predict using your classifier.  The extracted features are in `newXf`, and scaled features are `newXfn`."
   ]
  },
  {
   "cell_type": "code",
   "execution_count": null,
   "metadata": {},
   "outputs": [],
   "source": [
    "newXfn  = scalerf.transform(newXf)        # apply scaling to test data"
   ]
  },
  {
   "cell_type": "code",
   "execution_count": null,
   "metadata": {},
   "outputs": [],
   "source": [
    "### INSERT YOUR CODE HERE"
   ]
  },
  {
   "cell_type": "markdown",
   "metadata": {
    "collapsed": true
   },
   "source": [
    "Now we we will view the results on the image.  Use the below code. `prednewY` is the vector of predictions."
   ]
  },
  {
   "cell_type": "code",
   "execution_count": null,
   "metadata": {},
   "outputs": [],
   "source": [
    "# reshape prediction to an image\n",
    "imgY = prednewY.reshape(psize[0], psize[1])\n",
    "\n",
    "# zoom back to image size\n",
    "imgY2 = ndimage.zoom(imgY, step, output=None, order=0)\n",
    "# pad the top and left with half the window size\n",
    "imgY2 = vstack((zeros((9, imgY2.shape[1])), imgY2))\n",
    "imgY2 = hstack((zeros((imgY2.shape[0],9)), imgY2))\n",
    "# pad right and bottom to same size as image\n",
    "if (imgY2.shape[0] != testimg.shape[0]):\n",
    "    imgY2 = vstack((imgY2, zeros((testimg.shape[0]-imgY2.shape[0], imgY2.shape[1]))))\n",
    "if (imgY2.shape[1] != testimg.shape[1]):\n",
    "    imgY2 = hstack((imgY2, zeros((imgY2.shape[0],testimg.shape[1]-imgY2.shape[1]))))\n",
    "    \n",
    "# show detections with image\n",
    "#detimg = dstack(((0.5*imgY2+0.5)*testimg, 0.5*testimg, 0.5*testimg))\n",
    "nimgY2 = 1-imgY2\n",
    "tmp = nimgY2*testimg\n",
    "detimg = dstack((imgY2+tmp, tmp, tmp))\n",
    "\n",
    "# show it!\n",
    "plt.figure(figsize=(9,9))\n",
    "plt.subplot(2,1,1)\n",
    "plt.imshow(imgY2, interpolation='nearest')\n",
    "plt.title('detection map')\n",
    "plt.subplot(2,1,2)\n",
    "plt.imshow(detimg)\n",
    "plt.title('image')\n",
    "plt.axis('image')"
   ]
  },
  {
   "cell_type": "markdown",
   "metadata": {},
   "source": [
    "_How did your face detector do?_\n",
    "- **INSERT YOUR ANSWER HERE**"
   ]
  },
  {
   "cell_type": "markdown",
   "metadata": {},
   "source": [
    "You can try it on your own images.  The faces should all be around 19x19 pixels though. We only used 1/4 of the training data. Try using more data to train it!"
   ]
  }
 ],
 "metadata": {
  "anaconda-cloud": {},
  "kernelspec": {
   "display_name": "base",
   "language": "python",
   "name": "python3"
  },
  "language_info": {
   "codemirror_mode": {
    "name": "ipython",
    "version": 3
   },
   "file_extension": ".py",
   "mimetype": "text/x-python",
   "name": "python",
   "nbconvert_exporter": "python",
   "pygments_lexer": "ipython3",
   "version": "3.8.8"
  },
  "toc": {
   "base_numbering": 1,
   "nav_menu": {},
   "number_sections": true,
   "sideBar": true,
   "skip_h1_title": false,
   "title_cell": "Table of Contents",
   "title_sidebar": "Contents",
   "toc_cell": false,
   "toc_position": {},
   "toc_section_display": true,
   "toc_window_display": true
  },
  "vscode": {
   "interpreter": {
    "hash": "cedcef35e40db5b8b3726c5ee913a75dcac12b545efe94519e6c4c12e0b05f84"
   }
  }
 },
 "nbformat": 4,
 "nbformat_minor": 1
}
