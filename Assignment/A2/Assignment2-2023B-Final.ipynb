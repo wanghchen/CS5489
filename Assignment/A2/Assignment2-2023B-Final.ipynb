{
 "cells": [
  {
   "attachments": {},
   "cell_type": "markdown",
   "metadata": {},
   "source": [
    "**Name:** \\_\\_\\_\\_\\_Huanchen Wang\\_\\_\\_\\_\\_\n",
    "\n",
    "**EID:** \\_\\_\\_\\_\\_huancwang2\\_\\_\\_\\_\\_\n",
    "\n",
    "**Kaggle Team Name:** \\_\\_\\_\\_\\_Unknown Wang\\_\\_\\_\\_\\_"
   ]
  },
  {
   "cell_type": "markdown",
   "metadata": {},
   "source": [
    "# CS5489 - Assignment 2 - Game Music Tagging\n",
    "Due date: see Assignment 2 on Canvas"
   ]
  },
  {
   "cell_type": "markdown",
   "metadata": {},
   "source": [
    "# FINAL SOLUTION"
   ]
  },
  {
   "cell_type": "code",
   "execution_count": null,
   "metadata": {
    "ExecuteTime": {
     "end_time": "2023-02-14T13:49:14.824617Z",
     "start_time": "2023-02-14T13:49:14.188832Z"
    }
   },
   "outputs": [],
   "source": [
    "%matplotlib inline\n",
    "import matplotlib_inline   # setup output image format\n",
    "matplotlib_inline.backend_inline.set_matplotlib_formats('svg')\n",
    "import matplotlib.pyplot as plt\n",
    "import matplotlib\n",
    "from numpy import *\n",
    "from sklearn import *\n",
    "from scipy import stats\n",
    "random.seed(100)\n",
    "import csv\n",
    "from scipy import io\n",
    "import pickle\n",
    "from IPython.display import Audio, display"
   ]
  },
  {
   "cell_type": "code",
   "execution_count": null,
   "metadata": {
    "ExecuteTime": {
     "end_time": "2023-02-14T13:49:14.827510Z",
     "start_time": "2023-02-14T13:49:14.825559Z"
    }
   },
   "outputs": [],
   "source": [
    "def showAudio(info):\n",
    "    myfile = 'musicmp3/' + info['fname'] + '.mp3'\n",
    "    if os.path.exists(myfile):\n",
    "        display(Audio(myfile))\n",
    "    else:\n",
    "        print(\"*** mp3 file \" + myfile + \" could not be found ***\")\n",
    "\n",
    "def load_pickle(fname):\n",
    "    f = open(fname, 'rb')\n",
    "    out = pickle.load(f)\n",
    "    f.close()\n",
    "    return out"
   ]
  },
  {
   "cell_type": "code",
   "execution_count": null,
   "metadata": {
    "ExecuteTime": {
     "end_time": "2023-02-14T13:49:18.489715Z",
     "start_time": "2023-02-14T13:49:17.973975Z"
    }
   },
   "outputs": [],
   "source": [
    "train_tags  = load_pickle('musicdata/train_tags.pickle3')\n",
    "train_mfccs = load_pickle('musicdata/train_mfccs.pickle3')\n",
    "train_mels  = load_pickle('musicdata/train_mels.pickle3')\n",
    "train_info  = load_pickle('musicdata/train_info.pickle3')\n",
    "\n",
    "test_mfccs = load_pickle('musicdata/test_mfccs.pickle3')\n",
    "test_mels  = load_pickle('musicdata/test_mels.pickle3')\n",
    "test_info  = load_pickle('musicdata/test_info.pickle3')"
   ]
  },
  {
   "cell_type": "code",
   "execution_count": null,
   "metadata": {
    "ExecuteTime": {
     "end_time": "2023-02-14T07:53:41.581437Z",
     "start_time": "2023-02-14T07:53:41.571571Z"
    }
   },
   "outputs": [],
   "source": [
    "# compute delta MFCCs\n",
    "def compute_delta_mfccs(mfccs):\n",
    "    dmfccs = []\n",
    "    for m in mfccs:\n",
    "        tmp = m[1:] - m[0:-1]\n",
    "        dm = hstack((m[0:-1], tmp))\n",
    "        dmfccs.append(dm)\n",
    "    return dmfccs"
   ]
  },
  {
   "cell_type": "code",
   "execution_count": null,
   "metadata": {
    "ExecuteTime": {
     "end_time": "2023-02-14T07:53:42.563128Z",
     "start_time": "2023-02-14T07:53:42.481187Z"
    }
   },
   "outputs": [],
   "source": [
    "train_dmfccs = compute_delta_mfccs(train_mfccs)\n",
    "test_dmfccs  = compute_delta_mfccs(test_mfccs)"
   ]
  },
  {
   "cell_type": "code",
   "execution_count": null,
   "metadata": {
    "ExecuteTime": {
     "end_time": "2023-02-14T13:51:05.917323Z",
     "start_time": "2023-02-14T13:51:05.901851Z"
    },
    "scrolled": false
   },
   "outputs": [],
   "source": [
    "tagnames, tagnames_counts = unique(concatenate(train_tags), return_counts=True)\n",
    "for a,b in zip(tagnames, tagnames_counts):\n",
    "    print(\"{}: {}\".format(a, b))"
   ]
  },
  {
   "cell_type": "code",
   "execution_count": null,
   "metadata": {
    "ExecuteTime": {
     "end_time": "2023-02-14T13:51:06.545353Z",
     "start_time": "2023-02-14T13:51:06.536119Z"
    }
   },
   "outputs": [],
   "source": [
    "# convert list of tags into binary class labels\n",
    "def tags2class(tags, tagnames):\n",
    "    b = zeros(shape=(len(tags), len(tagnames)))\n",
    "    for i,t in enumerate(tags):\n",
    "        for j,n in enumerate(tagnames):\n",
    "            if n in t:\n",
    "                b[i,j] = 1\n",
    "    return b"
   ]
  },
  {
   "cell_type": "code",
   "execution_count": null,
   "metadata": {
    "ExecuteTime": {
     "end_time": "2023-02-14T13:51:07.052465Z",
     "start_time": "2023-02-14T13:51:07.039416Z"
    }
   },
   "outputs": [],
   "source": [
    "# train_classes[i,j] = absence/presence of the j-th tag in the i-th sound\n",
    "train_classes = tags2class(train_tags, tagnames)"
   ]
  },
  {
   "cell_type": "code",
   "execution_count": null,
   "metadata": {
    "ExecuteTime": {
     "end_time": "2023-02-14T13:51:07.511445Z",
     "start_time": "2023-02-14T13:51:07.498637Z"
    }
   },
   "outputs": [],
   "source": [
    "import csv\n",
    "\n",
    "def write_csv_kaggle_tags(fname, tagnames, Yscores):\n",
    "    # header\n",
    "    tmp = [['Id']]\n",
    "    for t in tagnames:\n",
    "        tmp[0].append(t)    \n",
    "    \n",
    "    # add ID numbers for each Y, and usage if necessary\n",
    "    for i in range(len(Yscores)):\n",
    "        tmp2 = [(i+1)]\n",
    "        for t in range(len(tagnames)):\n",
    "            tmp2.append(Yscores[i,t])\n",
    "        \n",
    "        tmp.append(tmp2)\n",
    "        \n",
    "    # write CSV file\n",
    "    f = open(fname, 'w')\n",
    "    writer = csv.writer(f)\n",
    "    writer.writerows(tmp)\n",
    "    f.close()"
   ]
  },
  {
   "cell_type": "markdown",
   "metadata": {
    "collapsed": true
   },
   "source": [
    "## YOUR CODE and DOCUMENTATION HERE"
   ]
  },
  {
   "cell_type": "code",
   "execution_count": null,
   "metadata": {},
   "outputs": [],
   "source": [
    "train_wav = load_pickle('train_wav.pkl')\n",
    "test_wav = load_pickle('test_wav.pkl')\n",
    "train_sr = load_pickle('train_sr.pkl')\n",
    "test_sr = load_pickle('test_sr.pkl')"
   ]
  },
  {
   "cell_type": "code",
   "execution_count": null,
   "metadata": {},
   "outputs": [],
   "source": [
    "import librosa"
   ]
  },
  {
   "cell_type": "code",
   "execution_count": null,
   "metadata": {},
   "outputs": [],
   "source": [
    "def get_waveform_audio(music_data):\n",
    "    wav_audio_list = []\n",
    "    sample_rate_list = []\n",
    "    for info in music_data:\n",
    "        filename = 'musicmp3/' + info['fname'] + '.mp3'\n",
    "        y, sr = librosa.load(filename, sr=16000)\n",
    "        wav_audio_list.append(y)\n",
    "        sample_rate_list.append(sr)\n",
    "    return wav_audio_list, sample_rate_list"
   ]
  },
  {
   "cell_type": "code",
   "execution_count": null,
   "metadata": {},
   "outputs": [],
   "source": [
    "train_wav, train_sr = get_waveform_audio(train_info)\n",
    "test_wav, test_sr = get_waveform_audio(test_info)"
   ]
  },
  {
   "cell_type": "code",
   "execution_count": null,
   "metadata": {},
   "outputs": [],
   "source": [
    "\n",
    "import datasets\n",
    "\n",
    "from transformers import AutoFeatureExtractor,Wav2Vec2ForSequenceClassification\n"
   ]
  },
  {
   "cell_type": "code",
   "execution_count": null,
   "metadata": {},
   "outputs": [],
   "source": [
    "train_X, val_X, train_Y, val_Y = model_selection.train_test_split(train_wav, train_classes, test_size=0.1, random_state=4487)"
   ]
  },
  {
   "cell_type": "code",
   "execution_count": null,
   "metadata": {},
   "outputs": [],
   "source": [
    "feature_extractor = AutoFeatureExtractor.from_pretrained('facebook/wav2vec2-base-960h')\n",
    "\n",
    "train_dataset= datasets.Dataset.from_dict({'audio':train_X, 'label':train_Y})\n",
    "val_dataset= datasets.Dataset.from_dict({'audio':val_X, 'label':val_Y})\n",
    "test_dataset = datasets.Dataset.from_dict({'audio':test_wav})"
   ]
  },
  {
   "cell_type": "code",
   "execution_count": null,
   "metadata": {},
   "outputs": [],
   "source": [
    "def wav_embedding(examples):\n",
    "    return feature_extractor(examples[\"audio\"], sampling_rate=16000, truncation=True, padding=\"max_length\", max_length=160000, return_tensors=\"pt\")"
   ]
  },
  {
   "cell_type": "code",
   "execution_count": null,
   "metadata": {},
   "outputs": [],
   "source": [
    "train_dataset = train_dataset.map(wav_embedding, remove_columns=[\"audio\"])\n",
    "val_dataset = val_dataset.map(wav_embedding, remove_columns=[\"audio\"])\n",
    "test_dataset = test_dataset.map(wav_embedding, remove_columns=[\"audio\"])"
   ]
  },
  {
   "cell_type": "code",
   "execution_count": null,
   "metadata": {},
   "outputs": [],
   "source": [
    "X_train = [train_dataset[i]['input_values'] for i in range(len(train_dataset))]\n",
    "Y_train = [train_dataset[i]['label'] for i in range(len(train_dataset))]\n",
    "X_val = [val_dataset[i]['input_values'] for i in range(len(val_dataset))]\n",
    "Y_val = [val_dataset[i]['label'] for i in range(len(val_dataset))]\n",
    "X_test = [test_dataset[i]['input_values'] for i in range(len(test_dataset))]"
   ]
  },
  {
   "cell_type": "code",
   "execution_count": null,
   "metadata": {},
   "outputs": [],
   "source": [
    "import tensorflow as tf\n",
    "from keras.models import Sequential\n",
    "from keras.layers import Dense, LSTM, Bidirectional, Dropout, Conv1D, MaxPooling1D, Flatten\n",
    "import keras_tuner as kt"
   ]
  },
  {
   "cell_type": "code",
   "execution_count": null,
   "metadata": {},
   "outputs": [],
   "source": [
    "timesteps = 128\n",
    "input_dim = 1250\n"
   ]
  },
  {
   "cell_type": "code",
   "execution_count": null,
   "metadata": {},
   "outputs": [],
   "source": [
    "X_train = array([array(X_train[i]).reshape(timesteps, input_dim) for i in range(len(X_train))])\n",
    "X_val = array([array(X_val[i]).reshape(timesteps, input_dim) for i in range(len(X_val))])\n",
    "X_test = array([array(X_test[i]).reshape(timesteps, input_dim) for i in range(len(X_test))])\n",
    "Y_train = array([array(Y_train[i]) for i in range(len(Y_train))])\n",
    "Y_val = array([array(Y_val[i]) for i in range(len(Y_val))])"
   ]
  },
  {
   "cell_type": "code",
   "execution_count": null,
   "metadata": {},
   "outputs": [],
   "source": [
    "\n",
    "model = Sequential()\n",
    "model.add(Conv1D(filters=32, kernel_size=3, padding='same', activation='relu', input_shape=(X_train.shape[1], X_train.shape[2])))\n",
    "model.add(MaxPooling1D(pool_size=2))\n",
    "model.add(Bidirectional(LSTM(128, return_sequences=True)))\n",
    "model.add(Dropout(0.2))\n",
    "model.add(Bidirectional(LSTM(64)))\n",
    "model.add(Dense(64, activation='relu'))\n",
    "model.add(Dense(19, activation='softmax'))\n",
    "\n",
    "\n",
    "# Compile the model\n",
    "opt = tf.optimizers.Adam(learning_rate=1e-4)\n",
    "model.compile(loss='binary_crossentropy', optimizer=opt, metrics=['accuracy', tf.keras.metrics.AUC(curve='ROC')])\n",
    "\n",
    "# Set up early stopping and history callbacks\n",
    "early_stop = tf.keras.callbacks.EarlyStopping(patience=5, restore_best_weights=True)\n",
    "history = tf.keras.callbacks.History()\n",
    "\n",
    "# Train the model\n",
    "history = model.fit(X_train,Y_train, epochs=15, verbose = 1, batch_size=32,\n",
    "                    validation_data=(X_val, Y_val),\n",
    "                    callbacks=[early_stop, history])\n",
    "\n"
   ]
  },
  {
   "cell_type": "code",
   "execution_count": null,
   "metadata": {},
   "outputs": [],
   "source": [
    "# tup = model.evaluate(X_val, Y_val)\n",
    "\n",
    "y_pred = model.predict(expand_dims(X_test, axis=-1))\n",
    "\n",
    "write_csv_kaggle_tags('submission.csv', tagnames, y_pred)"
   ]
  }
 ],
 "metadata": {
  "anaconda-cloud": {},
  "kernelspec": {
   "display_name": "base",
   "language": "python",
   "name": "python3"
  },
  "language_info": {
   "codemirror_mode": {
    "name": "ipython",
    "version": 3
   },
   "file_extension": ".py",
   "mimetype": "text/x-python",
   "name": "python",
   "nbconvert_exporter": "python",
   "pygments_lexer": "ipython3",
   "version": "3.9.12"
  },
  "toc": {
   "base_numbering": 1,
   "nav_menu": {},
   "number_sections": true,
   "sideBar": true,
   "skip_h1_title": false,
   "title_cell": "Table of Contents",
   "title_sidebar": "Contents",
   "toc_cell": false,
   "toc_position": {},
   "toc_section_display": true,
   "toc_window_display": false
  },
  "vscode": {
   "interpreter": {
    "hash": "65823957a68b0b2da630a6d4fb347087e5d672291b406226e58912072c7d8692"
   }
  }
 },
 "nbformat": 4,
 "nbformat_minor": 1
}
