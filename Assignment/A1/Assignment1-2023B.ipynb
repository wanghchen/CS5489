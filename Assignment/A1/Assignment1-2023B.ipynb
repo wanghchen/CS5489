{
 "cells": [
  {
   "cell_type": "markdown",
   "metadata": {},
   "source": [
    "**Name:** \\_\\_\\_\\_\\_\n",
    "\n",
    "**EID:** \\_\\_\\_\\_\\_\n",
    "\n",
    "**Kaggle Team Name:** \\_\\_\\_\\_\\_"
   ]
  },
  {
   "cell_type": "markdown",
   "metadata": {},
   "source": [
    "# CS5489 - Assignment 1 - Movie Rating Prediction"
   ]
  },
  {
   "cell_type": "markdown",
   "metadata": {},
   "source": [
    "## Goal\n",
    "In this assignment, the task is predict a movie critic's rating of a movie based on their movie review. The ratings are from 0 to 3 (0 stars to 3 stars). Here are some examples of movie reviews with different ratings:\n",
    "  - **3 stars**: _\"\"robin hood is it , you scumbag ? \" the general was a modern day folk hero to dubliners in the 1980s and early 1990s . the general's writer and director john boorman , oscar nominee for deliverance , creates an astonishing and captivating portrait of an iconoclastic criminal . brendan gleeson from braveheart gives a marvelous and revealing performance as the general . with thin , stringy hair , a ruddy complexion and a belly that looks like it never met a pub it didn't love , the general doesn't look like anybody's idea of a hero . using his meaty hands , martin spends most of his time outdoors trying to cover his face , even though his easily recognizable physique belies this crude cover-up . the supporting cast , including adrian dunbar as martin's right-hand man , noel curley , and jon voight as inspector kenny , are all well chosen , but the movie excels on the strength of boorman's crisp direction and the complex and likable acting by gleeson . that the general was a rogue is never left to question , but the movie makes it easy to understand how such people can , nevertheless , earn the public's adulation . understanding what the director was trying to accomplish can perhaps best be seen in the medium of the presentation . boorman chose to shoot the movie in black and white . why ? the result is a fascinating and revealing portrait of a real and complex character , one whom you'll love even though you know you shouldn't . and in the process you get a better appreciation for what makes people admire the unadmirable . the general runs 2 : 09 . it is rated r for some violence and profanity and would be fine for teenagers .\"_\n",
    "  - **2 stars**: _\"this is an overlooked noir thriller--shamefully it couldn't get a british film distributor to give it a wide release when it opened . jack wants to do things in a honest way to win , whether as a writer or as a croupier , who makes it a point of telling us how much he hates cheats , yet by a twist of fate , part of the forced psychodynamics of the story , jack ends up like all the other cheats , choosing to be dishonest . the cynical message inferred , is that one can't change human nature , that sooner or later one will have to make a choice and bend the rules to accomodate who one is . in a plot that can be faulted only for its contrived surprise ending and a death of one of the main players near the end , that adds absolutely nothing to the story , what remains striking , is the passion the croupier has for casino life and how it relates to his passion for writing . but , as with the many other subplots , its theme is never fully realized . when compared to three recent films about gambling , \" casino , \" \" the rounders \" and \" reindeer games , \" there is no comparison , this one was the more real and pertinent one . it is only too bad that \" croupier \" couldn't feel more committed to the power of the lyrical voice-over and less to the canned responses of all the odd twists it had to throw into the story , that diminished the bleak truth it was harping at -- of how life itself is a game of chance and the casino is only a cheap imitation of life . in the end , the film's stylish depiction of the casino milieu , its thrilling noir ambiance , and the character study of the croupier , override the film's failure to end the film convincingly with the kind of payoff that this thriller warranted . it turns out , that this compelling story is just as much about being a writer as it is about being a croupier . but the ace it has up its sleeve , is the distinguished performance by clive owen .\"_\n",
    "  - **1 star**: _\"roger moore , still at the peak of his bond form , shows no sign of tiring of the role . well , just remember it's in california . you can figure out the basic idea . walken is surprisingly underutilized and restrained in the film . why director john glen didn't let walken cut loose remains a mystery ? one particularly imaginative sequence in the picture has bond about to be drowned in a sinking car . bond films delight through their travel views of luscious locales as well as their action . in this episode , in addition to paris , we have a magnificently sunny san francisco , albeit mainly the touristy fisherman's wharf area . with a strong cast of supporting characters , including walken , jones , and patrick macnee from \" the avengers \" and with moore in fine form , the movie , nevertheless , is often a snoozer . the action sequences from steeple chases to fast inflating dirigibles are imaginative , but the story never establishes any rhythm or builds much sustained energy . the net result is a story that has us yearning for those much older bond films that never lost your attention . it is rated pg for comic violence and sexual innuendo and would be fine for kids around nine and up . my son jeffrey , age 9 , gave it  , saying it was too hard to follow .\"_\n",
    "  - **0 stars**: _\"this sci-fi'er left a lot to be desired . it didn't work out in 3-d , its original intention of how it was to be shown , as the public's taste for that fad cooled , or in the conventional 2-d , how it was actually shown when released . for the first 30 minutes or so i felt i was stuck in a detention classroom for dummies ( ah ! even if these machines could do a 1 , 000 times the work man can do , they were also a 1 , 000 times deadlier than man , and this reactionary story dwells on the negative side of what machines could do , even if the machine in this instance is a magnificent brain . the action in the film , which is none too thrilling , is in watching how many of the 150 workers will get killed and what novel ways are the killings to be done . if the film was funny or its technology was more interesting , or if the killings weren't so melodramatic , and the acting not so staid , and the patriotic jingoism wasn't so shrill , i might have found this film bearable . but since that wasn't the case , i found the film to be an academic bore .\"_.\n",
    "\n",
    "To increase the difficulty, the movie reviews have been pre-processed so that sentences that mention the actual movie rating (e.g., \"I rate this movie 3 stars\") have been removed. There are 4 movie reviewers, and the reviewer ID is given for each movie review. \n",
    "Your goal is to train a classifier to predict the movie rating (0 to 3) from the review text (and possibly the reviewer ID). \n",
    "\n",
    "\n",
    "## Methodology\n",
    "You need to train classifiers using the training data, and then predict on the test data. You are free to choose the feature extraction method and classifier algorithm.  You are free to use methods that were not introduced in class.  You should probably do cross-validation to select a good parameters.\n",
    "\n",
    "\n",
    "## Evaluation on Kaggle\n",
    "\n",
    "You need to submit your test predictions to Kaggle for evaluation.  50% of the test data will be used to show your ranking on the live leaderboard.  After the assignment deadline, the remaining 50% will be used to calculate your final ranking. Also the top-ranked entries will be asked to give a short 5 minute presentation on what they did.\n",
    "\n",
    "To submit to Kaggle you need to create an account, and use the competition invitation that is posted to Canvas. You must submit your Kaggle account name to the \"Kaggle Username\" assignment on Canvas **1 week before the Assignment 1 deadline**. This is to prevent students from creating multiple Kaggle accounts to gain unfair advantage.\n",
    "\n",
    "**Note:** You can only submit 2 times per day to Kaggle!\n",
    "\n",
    "## What to hand in\n",
    "You need to turn in the following things:\n",
    "\n",
    "1. This ipynb file with your source code and documentation. _**You should write about all the various attempts that you make to find a good solution.**_ You may also submit python scripts as source code, but your documentation must be in the ipynb file.\n",
    "2. Your final csv submission file to Kaggle.\n",
    "3. The ipynb file `Assignment1-Final.ipynb`, which contains the code that generates the final submission file that you submit to Kaggle.  **This code will be used to verify that your Kaggle submission is reproducible.**\n",
    "4. Your Kaggle username (submitted to the \"Kaggle Username\" assignment on Canvas 1 week before the Assignment 1 deadline)\n",
    "\n",
    "Files should be uploaded to Assignment 1 on Canvas.\n",
    "\n",
    "## Grading\n",
    "The marks of the assignment are distributed as follows:\n",
    "- 45% - Results using various classifiers and feature representations.\n",
    "- 30% - Trying out feature representations (e.g. adding additional features) or classifiers not used in the tutorials/lectures.\n",
    "- 20% - Quality of the written report.  More points for insightful observations and analysis.\n",
    "- 5% - Final ranking on the Kaggle test data (private leaderboard). Only the Kaggle username submitted to Canvas will be considered. If a submission cannot be reproduced by the submitted code, it will not receive marks for ranking.\n",
    "- **Late Penalty:** 25 marks will be subtracted for each day late.\n",
    "\n",
    "**NOTE:** This is an _individual_ assignment.\n",
    "\n",
    "**NOTE:** you should start early! Some classifiers may take a while to train.\n",
    "\n",
    "\n",
    "## Kaggle Notebooks\n",
    "\n",
    "If you like, you can use Kaggle notebooks to run your code. Note that you still need to submit your code to Canvas for grading.\n",
    "<hr>"
   ]
  },
  {
   "cell_type": "markdown",
   "metadata": {},
   "source": [
    "# Load the Data"
   ]
  },
  {
   "cell_type": "markdown",
   "metadata": {},
   "source": [
    "The training data is in the text file `movingrating_train.txt`.  This CSV file contains the movie review, reviewer ID, and rating. The class labels are: `0`, `1`, `2`, `3`. The training data also includes the ID of the reviewer who wrote the review: `'DSc'`, `'JBe'` `'SRe'` `'SRh'`.\n",
    "\n",
    "The testing data is in the text file `movierating_test.txt`, and only contains the review and reviewer ID.\n",
    "\n",
    "To submit to Kaggle, you need to generate a Kaggle submission files, which is CSV file with the following format: \n",
    "\n",
    "<pre>\n",
    "Id,Prediction\n",
    "1,0\n",
    "2,1\n",
    "3,0\n",
    "4,3\n",
    "...\n",
    "</pre>"
   ]
  },
  {
   "cell_type": "markdown",
   "metadata": {},
   "source": [
    "Here are two helpful functions for reading the text data and writing the Kaggle submission file."
   ]
  },
  {
   "cell_type": "code",
   "execution_count": 9,
   "metadata": {
    "ExecuteTime": {
     "end_time": "2023-01-27T02:13:03.804704Z",
     "start_time": "2023-01-27T02:13:03.794287Z"
    }
   },
   "outputs": [],
   "source": [
    "%matplotlib inline\n",
    "import matplotlib_inline   # setup output image format\n",
    "matplotlib_inline.backend_inline.set_matplotlib_formats('svg')\n",
    "import matplotlib.pyplot as plt\n",
    "import matplotlib\n",
    "from numpy import *\n",
    "from sklearn import *\n",
    "from scipy import stats\n",
    "import csv\n",
    "random.seed(100)"
   ]
  },
  {
   "cell_type": "code",
   "execution_count": 2,
   "metadata": {
    "ExecuteTime": {
     "end_time": "2023-01-27T02:12:07.246034Z",
     "start_time": "2023-01-27T02:12:07.242685Z"
    }
   },
   "outputs": [],
   "source": [
    "def read_text_data(fname):\n",
    "    txtdata = []\n",
    "    revid   = []\n",
    "    classes = []\n",
    "    with open(fname, 'r') as csvfile:\n",
    "        reader = csv.reader(csvfile, delimiter=',', quotechar='\"')\n",
    "        for row in reader:\n",
    "            # get the text\n",
    "            txtdata.append(row[0])\n",
    "            revid.append(row[1])\n",
    "            # get the class (convert to integer)\n",
    "            if len(row)>2:\n",
    "                classes.append(int(row[2]))\n",
    "    \n",
    "    if (len(classes)>0) and (len(txtdata) != len(revid)):        \n",
    "        warn.error(\"mismatched length!\")\n",
    "    \n",
    "    return (txtdata, revid, classes)\n",
    "\n",
    "def write_csv_kaggle_sub(fname, Y):\n",
    "    # fname = file name\n",
    "    # Y is a list/array with class entries\n",
    "    \n",
    "    # header\n",
    "    tmp = [['Id', 'Prediction']]\n",
    "    \n",
    "    # add ID numbers for each Y\n",
    "    for (i,y) in enumerate(Y):\n",
    "        tmp2 = [(i+1), y]\n",
    "        tmp.append(tmp2)\n",
    "        \n",
    "    # write CSV file\n",
    "    with open(fname, 'w') as f:\n",
    "        writer = csv.writer(f)\n",
    "        writer.writerows(tmp)"
   ]
  },
  {
   "cell_type": "markdown",
   "metadata": {},
   "source": [
    "The below code will load the training and test sets."
   ]
  },
  {
   "cell_type": "code",
   "execution_count": 3,
   "metadata": {
    "ExecuteTime": {
     "end_time": "2023-01-27T02:12:07.340011Z",
     "start_time": "2023-01-27T02:12:07.246755Z"
    },
    "scrolled": false
   },
   "outputs": [
    {
     "name": "stdout",
     "output_type": "stream",
     "text": [
      "4006\n",
      "1000\n"
     ]
    }
   ],
   "source": [
    "# load the data\n",
    "(traintxt, trainrevid, trainY) = read_text_data(\"movierating_train.txt\")\n",
    "(testtxt, testrevid, _)        = read_text_data(\"movierating_test.txt\")\n",
    "\n",
    "print(len(traintxt))\n",
    "print(len(testtxt))"
   ]
  },
  {
   "cell_type": "code",
   "execution_count": 4,
   "metadata": {
    "ExecuteTime": {
     "end_time": "2023-01-27T02:12:07.343126Z",
     "start_time": "2023-01-27T02:12:07.341270Z"
    }
   },
   "outputs": [
    {
     "name": "stdout",
     "output_type": "stream",
     "text": [
      "[0 1 2 3]\n"
     ]
    }
   ],
   "source": [
    "# show the classnames\n",
    "classnames = unique(trainY)\n",
    "print(classnames)"
   ]
  },
  {
   "cell_type": "code",
   "execution_count": 5,
   "metadata": {
    "ExecuteTime": {
     "end_time": "2023-01-27T02:12:07.345959Z",
     "start_time": "2023-01-27T02:12:07.343882Z"
    }
   },
   "outputs": [
    {
     "name": "stdout",
     "output_type": "stream",
     "text": [
      "['DSc' 'JBe' 'SRe' 'SRh']\n"
     ]
    }
   ],
   "source": [
    "# show the reviewer IDs\n",
    "revids = unique(trainrevid)\n",
    "print(revids)"
   ]
  },
  {
   "cell_type": "markdown",
   "metadata": {},
   "source": [
    "Here is an example to write a csv file with predictions on the test set.  These are random predictions."
   ]
  },
  {
   "cell_type": "code",
   "execution_count": 6,
   "metadata": {
    "ExecuteTime": {
     "end_time": "2023-01-27T02:12:07.350323Z",
     "start_time": "2023-01-27T02:12:07.346639Z"
    }
   },
   "outputs": [],
   "source": [
    "# write your predictions on the test set\n",
    "i = random.randint(len(classnames), size=len(testtxt))\n",
    "predY = classnames[i]\n",
    "write_csv_kaggle_sub(\"my_submission.csv\", predY)"
   ]
  },
  {
   "cell_type": "markdown",
   "metadata": {},
   "source": [
    "Look at the data:"
   ]
  },
  {
   "cell_type": "code",
   "execution_count": 7,
   "metadata": {
    "ExecuteTime": {
     "end_time": "2023-01-27T02:12:07.353108Z",
     "start_time": "2023-01-27T02:12:07.351187Z"
    }
   },
   "outputs": [
    {
     "name": "stdout",
     "output_type": "stream",
     "text": [
      "--- rating: 2 from JBe ---\n",
      "traveller , the directorial debut of veteran cinematographer jack green , takes us into the world of blood-related grifters who pull two- bit cons as a way of life . the plot of traveller , credited to jim mcglynn , isn't all that complex or hard to follow . it's episodic in nature , with each new scam representing another chapter . the cons are fun to watch unfold . sometimes , it's possible to see where they're going , sometimes not . the script is smart and sneaky -- by never telling the audience more than is necessary , it develops a keen sense of suspense that persists until the gritty final reel . the great strength of the film , however , is character development . the two leads , bokky and pat , both have clearly-defined arcs . for the most part , the acting is top-notch . bill paxton , taking a brief hiatus from blockbusters like twister to do a serious role in a low-budget feature , brings charm , depth , and feeling to a part that could have come across as cold and amoral . here and there , traveller takes a wrong turn . the culture of the band , which is arguably the most absorbing feature of the film , is worthy of a more thorough exploration than is offered . still , these are mostly small gripes , and their impact upon the viewing experience as a whole is minimal . traveller , the latest in a sub-genre that's becoming known as \" southern gothic \" ( and includes the likes of one false move and sling blade ) , is a fine film , and worth a trip to a theater .\n",
      "--- rating: 1 from JBe ---\n",
      "how much are you willing to suspend your disbelief ? in the answer to that question lies the degree to which you'll buy into the underlying premise of josh and s . a . m , and how much you will therefore enjoy it . there are enough nice little touches to keep the mountain of larger implausibilities cleverly camouflaged , but never completely hidden . as a result , while many individual scenes work quite well for either comedic or dramatic value ( more of the former than the latter ) , the film as a whole is lacking . talk about underdeveloped characters and story potential left unearthed . . . she starts out as a plot device and never develops into much more , which is truly unfortunate considering the rare glimpses that we're given of the person beneath the toughened exterior . in many ways , this picture follows the time-honored pattern of many so-called \" road movies , \" albeit with protagonists of an unusually young age . kinship may not be binding , but friendship is--or at least that's what josh and s . a . m would have you believe . some of the themes , and much of the humor , will escape the pre-teen crowd . nevertheless , children will appreciate the adventure , so for parents who don't mind a few four-letter words , this is reasonable family entertainment . jacob tierney and noah fleiss are excellent child actors . tierney , the older of the two , has superior emotional range--his quiet , honest reaction in the scene when his step-brothers are calling him a \" homo \" shows a remarkable grasp of acting skill . josh's pain is eloquently presented , but the emotion is never overplayed . from beginning to end , it's hard to find an instance where jacob's work is off-center . noah fleiss , while lacking the subtlety of his on-screen brother , brings an element of energy and verve to his part . sam doesn't have the depth of josh , but fleiss is capable enough to invest him with the humanity necessary to avoid the \" caricature trap . \" it would have been easy for sam to become the whining little brother , but he's always more than that ( in fact , i don't think he ever whines ) . played without flair by joan allen , this woman has no personality whatsoever . if this resulted in an improvement , it's not readily visible . the movie's greatest asset is its sense of humor . the drama is very much of the hit-and-miss variety , and the adventure element has obvious limitations , but the comedy is fresh and inventive , and provokes several hearty laughs . adults are often the butt of these jokes , but almost all of them are funny because they're perceptive . first-time director billy weber has a good sense of pacing , and josh and s . a . m . never becomes dull or plodding . this trait isn't unexpected , since weber's background is in editing . is the timing of its release . now , coming out amidst a rush of gargantuan holiday films , josh and s . a . m has little chance of being seen by more than a handful of people and , barring something unexpected , will vanish like a raindrop in a pond , only to resurface shortly on video . josh and s . a . m is capable of supplying a little over an hour and a half's worth of entertainment . everything doesn't gel together , but there's enough cleverness in the script to allow for a little tolerance . a great movie this isn't , but it has its moments .\n",
      "--- rating: 1 from DSc ---\n",
      "in the end , it becomes indulgent and ties things up much too neatly to be taken seriously as drama . it is a familiar story , but told with great charm here and with sharp observations of how these academia types talk to each other and interact . the theme of \" wonder boys \" -- is conventional -- it is about the author's self-development . the script is snappy , the actors are pleasing to behold , the photography , mostly shots of pittsburgh in the midst of snow or a torrential downpour , is bleak-- but it interestingly sets the tone for the film's playful story . the idea for the film was a good one , but something gets stuck here , preventing the film from taking a chance and becoming a bold story , one that it could have easily become if it made that choice and knew what to edit and what to add . also dragged into the story are an interracial couple who add some slapstick scenes , enlarging the quirky flavor of the film . those scenes were amusing in the way those old-fashioned comedies of the 1930s and 1940s were . the film had a warm and fuzzy feeling to it . it had some good bob dylan tunes in the background . it was a return to liberalism movie , bucking a trend of a lot of new films to be more conservative or more extreme in their unconventionality . in any case , it was good to see a film about some older people with a sense of humor , a bit of romance in them , who are able to loosen up a bit . this does not make it a great film , but it was diverting and had a certain sophistication to it that should attract an older audience , one more perceptive about the advantages of a higher education . to the film's credit , it keeps its focus on tripp as someone who is mixed-up , but who is still trying to be a decent teacher and help those under his tutelage .\n"
     ]
    }
   ],
   "source": [
    "for i in [0, 20, 40]:\n",
    "    print('--- rating: {} from {} ---'.format(trainY[i], trainrevid[i]))\n",
    "    print(traintxt[i])"
   ]
  },
  {
   "cell_type": "markdown",
   "metadata": {},
   "source": [
    "# YOUR CODE and DOCUMENTATION HERE"
   ]
  },
  {
   "cell_type": "code",
   "execution_count": 8,
   "metadata": {
    "ExecuteTime": {
     "end_time": "2023-01-27T02:12:07.355376Z",
     "start_time": "2023-01-27T02:12:07.353861Z"
    }
   },
   "outputs": [],
   "source": [
    "# INSERT YOUR CODE HERE"
   ]
  },
  {
   "cell_type": "code",
   "execution_count": null,
   "metadata": {},
   "outputs": [],
   "source": []
  },
  {
   "cell_type": "code",
   "execution_count": null,
   "metadata": {},
   "outputs": [],
   "source": []
  },
  {
   "cell_type": "code",
   "execution_count": null,
   "metadata": {},
   "outputs": [],
   "source": []
  },
  {
   "cell_type": "code",
   "execution_count": null,
   "metadata": {},
   "outputs": [],
   "source": []
  },
  {
   "cell_type": "code",
   "execution_count": null,
   "metadata": {},
   "outputs": [],
   "source": []
  }
 ],
 "metadata": {
  "anaconda-cloud": {},
  "kernelspec": {
   "display_name": "Python 3 (ipykernel)",
   "language": "python",
   "name": "python3"
  },
  "language_info": {
   "codemirror_mode": {
    "name": "ipython",
    "version": 3
   },
   "file_extension": ".py",
   "mimetype": "text/x-python",
   "name": "python",
   "nbconvert_exporter": "python",
   "pygments_lexer": "ipython3",
   "version": "3.9.15"
  },
  "toc": {
   "base_numbering": 1,
   "nav_menu": {},
   "number_sections": true,
   "sideBar": true,
   "skip_h1_title": false,
   "title_cell": "Table of Contents",
   "title_sidebar": "Contents",
   "toc_cell": false,
   "toc_position": {
    "height": "calc(100% - 180px)",
    "left": "10px",
    "top": "150px",
    "width": "238px"
   },
   "toc_section_display": true,
   "toc_window_display": true
  }
 },
 "nbformat": 4,
 "nbformat_minor": 1
}
