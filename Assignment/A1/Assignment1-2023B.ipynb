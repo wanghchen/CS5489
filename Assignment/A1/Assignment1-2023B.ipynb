{
 "cells": [
  {
   "attachments": {},
   "cell_type": "markdown",
   "metadata": {},
   "source": [
    "**Name:** \\_\\_\\_\\_\\_Huanchen Wang\\_\\_\\_\\_\\_\n",
    "\n",
    "**EID:** \\_\\_\\_\\_\\_57558749\\_\\_\\_\\_\\_\n",
    "\n",
    "**Kaggle Team Name:** \\_\\_\\_\\_\\_unknownwang\\_\\_\\_\\_\\_"
   ]
  },
  {
   "cell_type": "markdown",
   "metadata": {},
   "source": [
    "# CS5489 - Assignment 1 - Movie Rating Prediction"
   ]
  },
  {
   "cell_type": "markdown",
   "metadata": {},
   "source": [
    "## Goal\n",
    "In this assignment, the task is predict a movie critic's rating of a movie based on their movie review. The ratings are from 0 to 3 (0 stars to 3 stars). Here are some examples of movie reviews with different ratings:\n",
    "  - **3 stars**: _\"\"robin hood is it , you scumbag ? \" the general was a modern day folk hero to dubliners in the 1980s and early 1990s . the general's writer and director john boorman , oscar nominee for deliverance , creates an astonishing and captivating portrait of an iconoclastic criminal . brendan gleeson from braveheart gives a marvelous and revealing performance as the general . with thin , stringy hair , a ruddy complexion and a belly that looks like it never met a pub it didn't love , the general doesn't look like anybody's idea of a hero . using his meaty hands , martin spends most of his time outdoors trying to cover his face , even though his easily recognizable physique belies this crude cover-up . the supporting cast , including adrian dunbar as martin's right-hand man , noel curley , and jon voight as inspector kenny , are all well chosen , but the movie excels on the strength of boorman's crisp direction and the complex and likable acting by gleeson . that the general was a rogue is never left to question , but the movie makes it easy to understand how such people can , nevertheless , earn the public's adulation . understanding what the director was trying to accomplish can perhaps best be seen in the medium of the presentation . boorman chose to shoot the movie in black and white . why ? the result is a fascinating and revealing portrait of a real and complex character , one whom you'll love even though you know you shouldn't . and in the process you get a better appreciation for what makes people admire the unadmirable . the general runs 2 : 09 . it is rated r for some violence and profanity and would be fine for teenagers .\"_\n",
    "  - **2 stars**: _\"this is an overlooked noir thriller--shamefully it couldn't get a british film distributor to give it a wide release when it opened . jack wants to do things in a honest way to win , whether as a writer or as a croupier , who makes it a point of telling us how much he hates cheats , yet by a twist of fate , part of the forced psychodynamics of the story , jack ends up like all the other cheats , choosing to be dishonest . the cynical message inferred , is that one can't change human nature , that sooner or later one will have to make a choice and bend the rules to accomodate who one is . in a plot that can be faulted only for its contrived surprise ending and a death of one of the main players near the end , that adds absolutely nothing to the story , what remains striking , is the passion the croupier has for casino life and how it relates to his passion for writing . but , as with the many other subplots , its theme is never fully realized . when compared to three recent films about gambling , \" casino , \" \" the rounders \" and \" reindeer games , \" there is no comparison , this one was the more real and pertinent one . it is only too bad that \" croupier \" couldn't feel more committed to the power of the lyrical voice-over and less to the canned responses of all the odd twists it had to throw into the story , that diminished the bleak truth it was harping at -- of how life itself is a game of chance and the casino is only a cheap imitation of life . in the end , the film's stylish depiction of the casino milieu , its thrilling noir ambiance , and the character study of the croupier , override the film's failure to end the film convincingly with the kind of payoff that this thriller warranted . it turns out , that this compelling story is just as much about being a writer as it is about being a croupier . but the ace it has up its sleeve , is the distinguished performance by clive owen .\"_\n",
    "  - **1 star**: _\"roger moore , still at the peak of his bond form , shows no sign of tiring of the role . well , just remember it's in california . you can figure out the basic idea . walken is surprisingly underutilized and restrained in the film . why director john glen didn't let walken cut loose remains a mystery ? one particularly imaginative sequence in the picture has bond about to be drowned in a sinking car . bond films delight through their travel views of luscious locales as well as their action . in this episode , in addition to paris , we have a magnificently sunny san francisco , albeit mainly the touristy fisherman's wharf area . with a strong cast of supporting characters , including walken , jones , and patrick macnee from \" the avengers \" and with moore in fine form , the movie , nevertheless , is often a snoozer . the action sequences from steeple chases to fast inflating dirigibles are imaginative , but the story never establishes any rhythm or builds much sustained energy . the net result is a story that has us yearning for those much older bond films that never lost your attention . it is rated pg for comic violence and sexual innuendo and would be fine for kids around nine and up . my son jeffrey , age 9 , gave it  , saying it was too hard to follow .\"_\n",
    "  - **0 stars**: _\"this sci-fi'er left a lot to be desired . it didn't work out in 3-d , its original intention of how it was to be shown , as the public's taste for that fad cooled , or in the conventional 2-d , how it was actually shown when released . for the first 30 minutes or so i felt i was stuck in a detention classroom for dummies ( ah ! even if these machines could do a 1 , 000 times the work man can do , they were also a 1 , 000 times deadlier than man , and this reactionary story dwells on the negative side of what machines could do , even if the machine in this instance is a magnificent brain . the action in the film , which is none too thrilling , is in watching how many of the 150 workers will get killed and what novel ways are the killings to be done . if the film was funny or its technology was more interesting , or if the killings weren't so melodramatic , and the acting not so staid , and the patriotic jingoism wasn't so shrill , i might have found this film bearable . but since that wasn't the case , i found the film to be an academic bore .\"_.\n",
    "\n",
    "To increase the difficulty, the movie reviews have been pre-processed so that sentences that mention the actual movie rating (e.g., \"I rate this movie 3 stars\") have been removed. There are 4 movie reviewers, and the reviewer ID is given for each movie review. \n",
    "Your goal is to train a classifier to predict the movie rating (0 to 3) from the review text (and possibly the reviewer ID). \n",
    "\n",
    "\n",
    "## Methodology\n",
    "You need to train classifiers using the training data, and then predict on the test data. You are free to choose the feature extraction method and classifier algorithm.  You are free to use methods that were not introduced in class.  You should probably do cross-validation to select a good parameters.\n",
    "\n",
    "\n",
    "## Evaluation on Kaggle\n",
    "\n",
    "You need to submit your test predictions to Kaggle for evaluation.  50% of the test data will be used to show your ranking on the live leaderboard.  After the assignment deadline, the remaining 50% will be used to calculate your final ranking. Also the top-ranked entries will be asked to give a short 5 minute presentation on what they did.\n",
    "\n",
    "To submit to Kaggle you need to create an account, and use the competition invitation that is posted to Canvas. You must submit your Kaggle account name to the \"Kaggle Username\" assignment on Canvas **1 week before the Assignment 1 deadline**. This is to prevent students from creating multiple Kaggle accounts to gain unfair advantage.\n",
    "\n",
    "**Note:** You can only submit 2 times per day to Kaggle!\n",
    "\n",
    "## What to hand in\n",
    "You need to turn in the following things:\n",
    "\n",
    "1. This ipynb file with your source code and documentation. _**You should write about all the various attempts that you make to find a good solution.**_ You may also submit python scripts as source code, but your documentation must be in the ipynb file.\n",
    "2. Your final csv submission file to Kaggle.\n",
    "3. The ipynb file `Assignment1-Final.ipynb`, which contains the code that generates the final submission file that you submit to Kaggle.  **This code will be used to verify that your Kaggle submission is reproducible.**\n",
    "4. Your Kaggle username (submitted to the \"Kaggle Username\" assignment on Canvas 1 week before the Assignment 1 deadline)\n",
    "\n",
    "Files should be uploaded to Assignment 1 on Canvas.\n",
    "\n",
    "## Grading\n",
    "The marks of the assignment are distributed as follows:\n",
    "- 45% - Results using various classifiers and feature representations.\n",
    "- 30% - Trying out feature representations (e.g. adding additional features) or classifiers not used in the tutorials/lectures.\n",
    "- 20% - Quality of the written report.  More points for insightful observations and analysis.\n",
    "- 5% - Final ranking on the Kaggle test data (private leaderboard). Only the Kaggle username submitted to Canvas will be considered. If a submission cannot be reproduced by the submitted code, it will not receive marks for ranking.\n",
    "- **Late Penalty:** 25 marks will be subtracted for each day late.\n",
    "\n",
    "**NOTE:** This is an _individual_ assignment.\n",
    "\n",
    "**NOTE:** you should start early! Some classifiers may take a while to train.\n",
    "\n",
    "\n",
    "## Kaggle Notebooks\n",
    "\n",
    "If you like, you can use Kaggle notebooks to run your code. Note that you still need to submit your code to Canvas for grading.\n",
    "<hr>"
   ]
  },
  {
   "cell_type": "markdown",
   "metadata": {},
   "source": [
    "# Load the Data"
   ]
  },
  {
   "cell_type": "markdown",
   "metadata": {},
   "source": [
    "The training data is in the text file `movingrating_train.txt`.  This CSV file contains the movie review, reviewer ID, and rating. The class labels are: `0`, `1`, `2`, `3`. The training data also includes the ID of the reviewer who wrote the review: `'DSc'`, `'JBe'` `'SRe'` `'SRh'`.\n",
    "\n",
    "The testing data is in the text file `movierating_test.txt`, and only contains the review and reviewer ID.\n",
    "\n",
    "To submit to Kaggle, you need to generate a Kaggle submission files, which is CSV file with the following format: \n",
    "\n",
    "<pre>\n",
    "Id,Prediction\n",
    "1,0\n",
    "2,1\n",
    "3,0\n",
    "4,3\n",
    "...\n",
    "</pre>"
   ]
  },
  {
   "cell_type": "markdown",
   "metadata": {},
   "source": [
    "Here are two helpful functions for reading the text data and writing the Kaggle submission file."
   ]
  },
  {
   "cell_type": "code",
   "execution_count": 1,
   "metadata": {
    "ExecuteTime": {
     "end_time": "2023-01-27T02:13:03.804704Z",
     "start_time": "2023-01-27T02:13:03.794287Z"
    }
   },
   "outputs": [],
   "source": [
    "%matplotlib inline\n",
    "import matplotlib_inline   # setup output image format\n",
    "matplotlib_inline.backend_inline.set_matplotlib_formats('svg')\n",
    "import matplotlib.pyplot as plt\n",
    "import matplotlib\n",
    "from numpy import *\n",
    "from sklearn import *\n",
    "from scipy import stats\n",
    "import csv\n",
    "random.seed(100)"
   ]
  },
  {
   "cell_type": "code",
   "execution_count": 2,
   "metadata": {
    "ExecuteTime": {
     "end_time": "2023-01-27T02:12:07.246034Z",
     "start_time": "2023-01-27T02:12:07.242685Z"
    }
   },
   "outputs": [],
   "source": [
    "def read_text_data(fname):\n",
    "    txtdata = []\n",
    "    revid   = []\n",
    "    classes = []\n",
    "    with open(fname, 'r') as csvfile:\n",
    "        reader = csv.reader(csvfile, delimiter=',', quotechar='\"')\n",
    "        for row in reader:\n",
    "            # get the text\n",
    "            txtdata.append(row[0])\n",
    "            revid.append(row[1])\n",
    "            # get the class (convert to integer)\n",
    "            if len(row)>2:\n",
    "                classes.append(int(row[2]))\n",
    "    \n",
    "    if (len(classes)>0) and (len(txtdata) != len(revid)):        \n",
    "        warn.error(\"mismatched length!\")\n",
    "    \n",
    "    return (txtdata, revid, classes)\n",
    "\n",
    "def write_csv_kaggle_sub(fname, Y):\n",
    "    # fname = file name\n",
    "    # Y is a list/array with class entries\n",
    "    \n",
    "    # header\n",
    "    tmp = [['Id', 'Prediction']]\n",
    "    \n",
    "    # add ID numbers for each Y\n",
    "    for (i,y) in enumerate(Y):\n",
    "        tmp2 = [(i+1), y]\n",
    "        tmp.append(tmp2)\n",
    "        \n",
    "    # write CSV file\n",
    "    with open(fname, 'w') as f:\n",
    "        writer = csv.writer(f)\n",
    "        writer.writerows(tmp)"
   ]
  },
  {
   "cell_type": "markdown",
   "metadata": {},
   "source": [
    "The below code will load the training and test sets."
   ]
  },
  {
   "cell_type": "code",
   "execution_count": 81,
   "metadata": {
    "ExecuteTime": {
     "end_time": "2023-01-27T02:12:07.340011Z",
     "start_time": "2023-01-27T02:12:07.246755Z"
    },
    "scrolled": false
   },
   "outputs": [
    {
     "name": "stdout",
     "output_type": "stream",
     "text": [
      "4006\n",
      "1000\n"
     ]
    }
   ],
   "source": [
    "# load the data\n",
    "(traintxt, trainrevid, trainY) = read_text_data(\"movierating_train.txt\")\n",
    "(testtxt, testrevid, _)        = read_text_data(\"movierating_test.txt\")\n",
    "\n",
    "print(len(traintxt))\n",
    "print(len(testtxt))"
   ]
  },
  {
   "cell_type": "code",
   "execution_count": 4,
   "metadata": {
    "ExecuteTime": {
     "end_time": "2023-01-27T02:12:07.343126Z",
     "start_time": "2023-01-27T02:12:07.341270Z"
    }
   },
   "outputs": [
    {
     "name": "stdout",
     "output_type": "stream",
     "text": [
      "[0 1 2 3]\n"
     ]
    }
   ],
   "source": [
    "# show the classnames\n",
    "classnames = unique(trainY)\n",
    "print(classnames)"
   ]
  },
  {
   "cell_type": "code",
   "execution_count": 5,
   "metadata": {
    "ExecuteTime": {
     "end_time": "2023-01-27T02:12:07.345959Z",
     "start_time": "2023-01-27T02:12:07.343882Z"
    }
   },
   "outputs": [
    {
     "name": "stdout",
     "output_type": "stream",
     "text": [
      "['DSc' 'JBe' 'SRe' 'SRh']\n"
     ]
    }
   ],
   "source": [
    "# show the reviewer IDs\n",
    "revids = unique(trainrevid)\n",
    "print(revids)"
   ]
  },
  {
   "cell_type": "markdown",
   "metadata": {},
   "source": [
    "Here is an example to write a csv file with predictions on the test set.  These are random predictions."
   ]
  },
  {
   "cell_type": "code",
   "execution_count": 6,
   "metadata": {
    "ExecuteTime": {
     "end_time": "2023-01-27T02:12:07.350323Z",
     "start_time": "2023-01-27T02:12:07.346639Z"
    }
   },
   "outputs": [],
   "source": [
    "# write your predictions on the test set\n",
    "i = random.randint(len(classnames), size=len(testtxt))\n",
    "predY = classnames[i]\n",
    "write_csv_kaggle_sub(\"my_submission.csv\", predY)"
   ]
  },
  {
   "cell_type": "markdown",
   "metadata": {},
   "source": [
    "Look at the data:"
   ]
  },
  {
   "cell_type": "code",
   "execution_count": 6,
   "metadata": {
    "ExecuteTime": {
     "end_time": "2023-01-27T02:12:07.353108Z",
     "start_time": "2023-01-27T02:12:07.351187Z"
    }
   },
   "outputs": [
    {
     "name": "stdout",
     "output_type": "stream",
     "text": [
      "--- rating: 2 from JBe ---\n",
      "traveller , the directorial debut of veteran cinematographer jack green , takes us into the world of blood-related grifters who pull two- bit cons as a way of life . the plot of traveller , credited to jim mcglynn , isn't all that complex or hard to follow . it's episodic in nature , with each new scam representing another chapter . the cons are fun to watch unfold . sometimes , it's possible to see where they're going , sometimes not . the script is smart and sneaky -- by never telling the audience more than is necessary , it develops a keen sense of suspense that persists until the gritty final reel . the great strength of the film , however , is character development . the two leads , bokky and pat , both have clearly-defined arcs . for the most part , the acting is top-notch . bill paxton , taking a brief hiatus from blockbusters like twister to do a serious role in a low-budget feature , brings charm , depth , and feeling to a part that could have come across as cold and amoral . here and there , traveller takes a wrong turn . the culture of the band , which is arguably the most absorbing feature of the film , is worthy of a more thorough exploration than is offered . still , these are mostly small gripes , and their impact upon the viewing experience as a whole is minimal . traveller , the latest in a sub-genre that's becoming known as \" southern gothic \" ( and includes the likes of one false move and sling blade ) , is a fine film , and worth a trip to a theater .\n",
      "--- rating: 1 from JBe ---\n",
      "how much are you willing to suspend your disbelief ? in the answer to that question lies the degree to which you'll buy into the underlying premise of josh and s . a . m , and how much you will therefore enjoy it . there are enough nice little touches to keep the mountain of larger implausibilities cleverly camouflaged , but never completely hidden . as a result , while many individual scenes work quite well for either comedic or dramatic value ( more of the former than the latter ) , the film as a whole is lacking . talk about underdeveloped characters and story potential left unearthed . . . she starts out as a plot device and never develops into much more , which is truly unfortunate considering the rare glimpses that we're given of the person beneath the toughened exterior . in many ways , this picture follows the time-honored pattern of many so-called \" road movies , \" albeit with protagonists of an unusually young age . kinship may not be binding , but friendship is--or at least that's what josh and s . a . m would have you believe . some of the themes , and much of the humor , will escape the pre-teen crowd . nevertheless , children will appreciate the adventure , so for parents who don't mind a few four-letter words , this is reasonable family entertainment . jacob tierney and noah fleiss are excellent child actors . tierney , the older of the two , has superior emotional range--his quiet , honest reaction in the scene when his step-brothers are calling him a \" homo \" shows a remarkable grasp of acting skill . josh's pain is eloquently presented , but the emotion is never overplayed . from beginning to end , it's hard to find an instance where jacob's work is off-center . noah fleiss , while lacking the subtlety of his on-screen brother , brings an element of energy and verve to his part . sam doesn't have the depth of josh , but fleiss is capable enough to invest him with the humanity necessary to avoid the \" caricature trap . \" it would have been easy for sam to become the whining little brother , but he's always more than that ( in fact , i don't think he ever whines ) . played without flair by joan allen , this woman has no personality whatsoever . if this resulted in an improvement , it's not readily visible . the movie's greatest asset is its sense of humor . the drama is very much of the hit-and-miss variety , and the adventure element has obvious limitations , but the comedy is fresh and inventive , and provokes several hearty laughs . adults are often the butt of these jokes , but almost all of them are funny because they're perceptive . first-time director billy weber has a good sense of pacing , and josh and s . a . m . never becomes dull or plodding . this trait isn't unexpected , since weber's background is in editing . is the timing of its release . now , coming out amidst a rush of gargantuan holiday films , josh and s . a . m has little chance of being seen by more than a handful of people and , barring something unexpected , will vanish like a raindrop in a pond , only to resurface shortly on video . josh and s . a . m is capable of supplying a little over an hour and a half's worth of entertainment . everything doesn't gel together , but there's enough cleverness in the script to allow for a little tolerance . a great movie this isn't , but it has its moments .\n",
      "--- rating: 1 from DSc ---\n",
      "in the end , it becomes indulgent and ties things up much too neatly to be taken seriously as drama . it is a familiar story , but told with great charm here and with sharp observations of how these academia types talk to each other and interact . the theme of \" wonder boys \" -- is conventional -- it is about the author's self-development . the script is snappy , the actors are pleasing to behold , the photography , mostly shots of pittsburgh in the midst of snow or a torrential downpour , is bleak-- but it interestingly sets the tone for the film's playful story . the idea for the film was a good one , but something gets stuck here , preventing the film from taking a chance and becoming a bold story , one that it could have easily become if it made that choice and knew what to edit and what to add . also dragged into the story are an interracial couple who add some slapstick scenes , enlarging the quirky flavor of the film . those scenes were amusing in the way those old-fashioned comedies of the 1930s and 1940s were . the film had a warm and fuzzy feeling to it . it had some good bob dylan tunes in the background . it was a return to liberalism movie , bucking a trend of a lot of new films to be more conservative or more extreme in their unconventionality . in any case , it was good to see a film about some older people with a sense of humor , a bit of romance in them , who are able to loosen up a bit . this does not make it a great film , but it was diverting and had a certain sophistication to it that should attract an older audience , one more perceptive about the advantages of a higher education . to the film's credit , it keeps its focus on tripp as someone who is mixed-up , but who is still trying to be a decent teacher and help those under his tutelage .\n"
     ]
    }
   ],
   "source": [
    "for i in [0, 20, 40]:\n",
    "    print('--- rating: {} from {} ---'.format(trainY[i], trainrevid[i]))\n",
    "    print(traintxt[i])"
   ]
  },
  {
   "cell_type": "markdown",
   "metadata": {},
   "source": [
    "# YOUR CODE and DOCUMENTATION HERE"
   ]
  },
  {
   "cell_type": "code",
   "execution_count": 8,
   "metadata": {
    "ExecuteTime": {
     "end_time": "2023-01-27T02:12:07.355376Z",
     "start_time": "2023-01-27T02:12:07.353861Z"
    }
   },
   "outputs": [],
   "source": [
    "# INSERT YOUR CODE HERE"
   ]
  },
  {
   "attachments": {},
   "cell_type": "markdown",
   "metadata": {},
   "source": [
    "## First, do the pre-processing of the data: \n",
    "1. Split the data into training and test sets.\n",
    "2. Tokenization, Stopword Removal, Punctuation Removal, and Extracting the features from words.\n",
    "### To the features, try the following learned in the class:\n",
    "+ CountVectorizer\n",
    "+ TfidfVectorizer"
   ]
  },
  {
   "cell_type": "code",
   "execution_count": 6,
   "metadata": {},
   "outputs": [],
   "source": [
    "import nltk\n",
    "from nltk.corpus import stopwords\n",
    "from string import punctuation\n",
    "import xgboost as xgb\n",
    "# nltk.download()"
   ]
  },
  {
   "attachments": {},
   "cell_type": "markdown",
   "metadata": {},
   "source": [
    "## Split the data into training and test sets.\n",
    "### the ratio of test set is 0.1"
   ]
  },
  {
   "cell_type": "code",
   "execution_count": 82,
   "metadata": {},
   "outputs": [],
   "source": [
    "review_map = {'DSc':0, 'JBe':1, 'SRe':2, 'SRh':3} \n",
    "trainreview = [review_map[rev] for rev in trainrevid]\n",
    "train_text_reveiw = [[i,j] for i, j in zip(traintxt, trainreview)]\n",
    "traindata, testdata, trainY, testY = model_selection.train_test_split(train_text_reveiw, trainY, test_size=0.1, random_state=100)"
   ]
  },
  {
   "attachments": {},
   "cell_type": "markdown",
   "metadata": {},
   "source": [
    "## Using Different Method of text to vector conversion.\n",
    "## Using the Generative model that Naive Bayes including Bernoulli and Multinomial to \n",
    "1. Find the best max_features for CountVectorizer by using BernoulliNB classifier.\n",
    "2. Find the best max_features for TfidfVectorizer by using MultinomialNB classifier."
   ]
  },
  {
   "cell_type": "code",
   "execution_count": 8,
   "metadata": {},
   "outputs": [],
   "source": [
    "def process_textAndreview(vec, train, test):\n",
    "    # divide the text and review part, than use countvec to transform the text part\n",
    "    # then combine the text part and review part\n",
    "    train_text_part = [i[0] for i in train]\n",
    "    train_review_part = [i[1] for i in train]\n",
    "    test_text_part = [i[0] for i in test]\n",
    "    test_review_part = [i[1] for i in test]\n",
    "\n",
    "    train_text_part = vec.fit_transform(train_text_part)\n",
    "    test_text_part = vec.transform(test_text_part)\n",
    "\n",
    "    return train_text_part, test_text_part, train_review_part, test_review_part\n",
    "\n",
    "\n",
    "def find_best_countvect(traindata, testdata, trainY, testY):\n",
    "    mf_l = [2500, 5000, 7500, 10000]\n",
    "    alp_l = [0.05, 0.1, 0.15, 0.2, 0.25, 0.3]\n",
    "    best_acc = 0\n",
    "    # print('max_features, alpha, accuracy')\n",
    "    best_params = {'max_features':0, 'alpha':0}\n",
    "    for mf in mf_l:\n",
    "        for alp in alp_l:\n",
    "            cntvect = feature_extraction.text.CountVectorizer(stop_words='english', max_features=mf)\n",
    "\n",
    "            trainX, testX, _, _ = process_textAndreview(cntvect, traindata, testdata)\n",
    "            \n",
    "            bmodel = naive_bayes.BernoulliNB(alpha=alp)\n",
    "            bmodel.fit(trainX, trainY)\n",
    "            predY = bmodel.predict(testX)\n",
    "            acc = metrics.accuracy_score(testY, predY)\n",
    "            # print(mf, alp, acc)\n",
    "            if acc > best_acc:\n",
    "                best_acc = acc\n",
    "                best_params['max_features'] = mf\n",
    "                best_params['alpha'] = alp\n",
    "    print (best_params, best_acc)\n",
    "    return best_params\n",
    "\n",
    "def find_best_tfidfvect(traindata, testdata, trainY, testY):\n",
    "    mf_l = [2500, 5000, 7500, 10000]\n",
    "    alp_l = [0.05, 0.1, 0.15, 0.2, 0.25, 0.3]\n",
    "    best_acc = 0\n",
    "    # print('max_features, alpha, accuracy')\n",
    "    best_params = {'max_features':0, 'alpha':0}\n",
    "    for mf in mf_l:\n",
    "        for alp in alp_l:\n",
    "            tfidf = feature_extraction.text.TfidfVectorizer(stop_words='english', max_features=mf)\n",
    "\n",
    "            trainX, testX, _, _ = process_textAndreview(tfidf, traindata, testdata)\n",
    "            \n",
    "            mmodel_tf = naive_bayes.MultinomialNB(alpha=alp)\n",
    "            mmodel_tf.fit(trainX, trainY)\n",
    "            predY = mmodel_tf.predict(testX)\n",
    "            acc = metrics.accuracy_score(testY, predY)\n",
    "            # print(mf, alp, acc)\n",
    "            if acc > best_acc:\n",
    "                best_acc = acc\n",
    "                best_params['max_features'] = mf\n",
    "                best_params['alpha'] = alp\n",
    "    print (best_params, best_acc)\n",
    "    return best_params"
   ]
  },
  {
   "attachments": {},
   "cell_type": "markdown",
   "metadata": {},
   "source": [
    "## Then Find the best Top3 performance of the classifier from Discrimiative Model:\n",
    "+ svm (linear, polynomial, rbf kernel), \n",
    "## And some ensemble methods:\n",
    "+ adaboost, \n",
    "+ gradient boost, \n",
    "+ and random forest \n",
    "### by using best max_feature.\n",
    "\n",
    "## Based these result, set a baseline for further improvement."
   ]
  },
  {
   "cell_type": "code",
   "execution_count": 9,
   "metadata": {},
   "outputs": [],
   "source": [
    "def find_best_model(trainX, trainY, testX, testY):\n",
    "    model_dict = {'Linear SVM':svm.SVC(kernel='linear'), 'Polynomial SVM':svm.SVC(kernel='poly', degree=2), 'RBF SVM':svm.SVC(kernel='rbf'), \n",
    "                  'Adaboost': ensemble.AdaBoostClassifier(), 'XGBoost':xgb.XGBClassifier(), 'Random Forest':ensemble.RandomForestClassifier()}\n",
    "    best_acc = 0\n",
    "    best_model = ''\n",
    "    for model_name, model in model_dict.items():\n",
    "        model.fit(trainX, trainY)\n",
    "        predY = model.predict(testX)\n",
    "        acc = metrics.accuracy_score(testY, predY)\n",
    "        print(model_name, acc)\n",
    "        if acc > best_acc:\n",
    "            best_acc = acc\n",
    "            best_model = model_name\n",
    "    print('best model is {}, with accuracy {}'.format(best_model, best_acc))\n",
    "    \n",
    "def train_diff_models(vec_meth, trainX, trainY, testX, testY):\n",
    "\n",
    "    if vec_meth == 'countvect':\n",
    "        cntvect = feature_extraction.text.CountVectorizer(stop_words='english', max_features=find_best_countvect(traindata, testdata, trainY, testY)['max_features'])\n",
    "        trainX, testX, _, _ = process_textAndreview(cntvect, trainX, testX)\n",
    "    elif vec_meth == 'tfidfvect':\n",
    "        tfidfvect = feature_extraction.text.TfidfVectorizer(stop_words='english', max_features=find_best_tfidfvect(traindata, testdata, trainY, testY)['max_features'])\n",
    "        trainX, testX, _, _ = process_textAndreview(tfidfvect, trainX, testX)\n",
    "\n",
    "    find_best_model(trainX, trainY, testX, testY)\n"
   ]
  },
  {
   "cell_type": "code",
   "execution_count": 10,
   "metadata": {},
   "outputs": [
    {
     "name": "stdout",
     "output_type": "stream",
     "text": [
      "Using the CountVectorizer\n",
      "{'max_features': 5000, 'alpha': 0.05} 0.5536159600997507\n",
      "Linear SVM 0.513715710723192\n",
      "Polynomial SVM 0.4837905236907731\n",
      "RBF SVM 0.5685785536159601\n",
      "Adaboost 0.5112219451371571\n",
      "XGBoost 0.5586034912718204\n",
      "Random Forest 0.5311720698254364\n",
      "best model is RBF SVM, with accuracy 0.5685785536159601\n",
      "====================\n",
      "Using the TfidfVectorizer\n",
      "{'max_features': 7500, 'alpha': 0.05} 0.5586034912718204\n",
      "Linear SVM 0.600997506234414\n",
      "Polynomial SVM 0.49875311720698257\n",
      "RBF SVM 0.5610972568578554\n",
      "Adaboost 0.513715710723192\n",
      "XGBoost 0.5785536159600998\n",
      "Random Forest 0.5236907730673317\n",
      "best model is Linear SVM, with accuracy 0.600997506234414\n"
     ]
    }
   ],
   "source": [
    "# Using the CountVectorizer\n",
    "print('Using the CountVectorizer')\n",
    "train_diff_models('countvect', traindata, trainY, testdata, testY)\n",
    "\n",
    "print('====================')\n",
    "print('Using the TfidfVectorizer')\n",
    "# Using the TfidfVectorizer\n",
    "train_diff_models('tfidfvect', traindata, trainY, testdata, testY)\n"
   ]
  },
  {
   "attachments": {},
   "cell_type": "markdown",
   "metadata": {},
   "source": [
    "### According to the results, the Top3 performance (as the baseline) of the classifier are:\n",
    "+ svm (linear kernel) with TfidfVectorizer and max_features = 7500\n",
    "+ XGBoost with TfidfVectorizer and max_features = 7500\n",
    "+ svm (rbf kernel) with CountVectorizer and max_features = 5000\n",
    "\n",
    "### Then, do the cross validation to find the best parameters for above top-3 classifier."
   ]
  },
  {
   "cell_type": "code",
   "execution_count": 18,
   "metadata": {},
   "outputs": [
    {
     "name": "stdout",
     "output_type": "stream",
     "text": [
      "Fitting 5 folds for each of 6 candidates, totalling 30 fits\n",
      "Linear SVM test accuracy= 0.5635910224438903\n",
      "Fitting 5 folds for each of 36 candidates, totalling 180 fits\n",
      "RBF SVM test accuracy= 0.5785536159600998\n",
      "{'learning_rate': array([1.00000000e-06, 1.58489319e-05, 2.51188643e-04, 3.98107171e-03,\n",
      "       6.30957344e-02, 1.00000000e+00]), 'n_estimators': array([ 20,  25,  50, 100, 200])}\n",
      "XGBoost test accuracy= 0.5486284289276808\n"
     ]
    }
   ],
   "source": [
    "def cross_validate(trainX, trainY, testX, testY):\n",
    "\n",
    "    cntvect = feature_extraction.text.CountVectorizer(stop_words='english', max_features=5000)\n",
    "    tfidfvect = feature_extraction.text.TfidfVectorizer(stop_words='english', max_features=7500)\n",
    "    trainX_cnt, testX_cnt, _, _ = process_textAndreview(cntvect, trainX, testX)\n",
    "    trainX_tfidf, testX_tfidf, _, _ = process_textAndreview(tfidfvect, trainX, testX)\n",
    "    \n",
    "    # record each model's best parameters\n",
    "    best_params = {}\n",
    "    # Using the Linear SVM with cross validation\n",
    "    paramgrid = {'C': logspace(-3,3,6)}\n",
    "\n",
    "    linear_svmcv = model_selection.GridSearchCV(svm.SVC(kernel='linear'), paramgrid, cv=5,\n",
    "    n_jobs=-1, verbose=True)\n",
    "\n",
    "    linear_svmcv.fit(trainX_tfidf, trainY)\n",
    "\n",
    "    predY = linear_svmcv.predict(testX_tfidf)\n",
    "    # calculate accuracy\n",
    "    linear_svm_acc = metrics.accuracy_score(testY, predY)\n",
    "    print(\"Linear SVM test accuracy=\", linear_svm_acc)\n",
    "\n",
    "    best_params['linear_svm'] = linear_svmcv.best_params_\n",
    "\n",
    "    # Using the RBF SVM with cross validation\n",
    "    paramgrid = {'C': logspace(-3,3,6), 'gamma': logspace(-3,3,6)}\n",
    "    rbf_svmcv = model_selection.GridSearchCV(svm.SVC(kernel='rbf'), paramgrid, cv=5, n_jobs=-1, verbose=True)\n",
    "    rbf_svmcv.fit(trainX_cnt, trainY)\n",
    "\n",
    "    predY = rbf_svmcv.predict(testX_cnt)\n",
    "    # calculate accuracy\n",
    "    rbf_svm_acc = metrics.accuracy_score(testY, predY)\n",
    "    print(\"RBF SVM test accuracy=\", rbf_svm_acc)\n",
    "    best_params['rbf_svm'] = rbf_svmcv.best_params_\n",
    "\n",
    "    # Using the XGBoost with cross validation\n",
    "    paramgrid = {'learning_rate': logspace(-6,0,6), 'n_estimators': array([20, 25, 50, 100, 200])}\n",
    "    # setup the cross-validation object\n",
    "    xclf = xgb.XGBClassifier()\n",
    "    xgbcv = model_selection.GridSearchCV(xclf, paramgrid, cv=5, n_jobs=-1)\n",
    "    xgbcv.fit(trainX_tfidf, trainY)\n",
    "\n",
    "    predY = xgbcv.predict(testX_tfidf)\n",
    "    # calculate accuracy\n",
    "    xgboost_acc = metrics.accuracy_score(testY, predY)\n",
    "    print(\"XGBoost test accuracy=\", xgboost_acc)\n",
    "    best_params['xgboost'] = xgbcv.best_params_\n",
    "\n",
    "    return best_params\n",
    "\n",
    "print(cross_validate(traindata, trainY, testdata, testY))"
   ]
  },
  {
   "cell_type": "code",
   "execution_count": 57,
   "metadata": {},
   "outputs": [
    {
     "name": "stdout",
     "output_type": "stream",
     "text": [
      "{'rbf_svm': {'C': 3.981071705534969, 'gamma': 0.001}}\n"
     ]
    }
   ],
   "source": [
    "print(temp_para)"
   ]
  },
  {
   "attachments": {},
   "cell_type": "markdown",
   "metadata": {},
   "source": [
    "## Since there are 4 reviewers, their scoring mean and variance are with different values and differernt scores distribution."
   ]
  },
  {
   "attachments": {},
   "cell_type": "markdown",
   "metadata": {},
   "source": [
    "### Calculate the mean and variance of each reviewer's score."
   ]
  },
  {
   "cell_type": "code",
   "execution_count": 15,
   "metadata": {},
   "outputs": [
    {
     "data": {
      "text/plain": [
       "Text(0.5, 1.0, 'Variance by Reviewer')"
      ]
     },
     "execution_count": 15,
     "metadata": {},
     "output_type": "execute_result"
    },
    {
     "data": {
      "image/svg+xml": "<?xml version=\"1.0\" encoding=\"utf-8\" standalone=\"no\"?>\n<!DOCTYPE svg PUBLIC \"-//W3C//DTD SVG 1.1//EN\"\n  \"http://www.w3.org/Graphics/SVG/1.1/DTD/svg11.dtd\">\n<svg xmlns:xlink=\"http://www.w3.org/1999/xlink\" width=\"728.879375pt\" height=\"335.433625pt\" viewBox=\"0 0 728.879375 335.433625\" xmlns=\"http://www.w3.org/2000/svg\" version=\"1.1\">\n <metadata>\n  <rdf:RDF xmlns:dc=\"http://purl.org/dc/elements/1.1/\" xmlns:cc=\"http://creativecommons.org/ns#\" xmlns:rdf=\"http://www.w3.org/1999/02/22-rdf-syntax-ns#\">\n   <cc:Work>\n    <dc:type rdf:resource=\"http://purl.org/dc/dcmitype/StillImage\"/>\n    <dc:date>2023-02-13T14:13:54.418481</dc:date>\n    <dc:format>image/svg+xml</dc:format>\n    <dc:creator>\n     <cc:Agent>\n      <dc:title>Matplotlib v3.5.1, https://matplotlib.org/</dc:title>\n     </cc:Agent>\n    </dc:creator>\n   </cc:Work>\n  </rdf:RDF>\n </metadata>\n <defs>\n  <style type=\"text/css\">*{stroke-linejoin: round; stroke-linecap: butt}</style>\n </defs>\n <g id=\"figure_1\">\n  <g id=\"patch_1\">\n   <path d=\"M 0 335.433625 \nL 728.879375 335.433625 \nL 728.879375 0 \nL 0 0 \nL 0 335.433625 \nz\n\" style=\"fill: none\"/>\n  </g>\n  <g id=\"axes_1\">\n   <g id=\"patch_2\">\n    <path d=\"M 52.079375 295.94175 \nL 356.443011 295.94175 \nL 356.443011 24.14175 \nL 52.079375 24.14175 \nz\n\" style=\"fill: #e5e5e5\"/>\n   </g>\n   <g id=\"matplotlib.axis_1\">\n    <g id=\"xtick_1\">\n     <g id=\"line2d_1\">\n      <path d=\"M 95.039793 295.94175 \nL 95.039793 24.14175 \n\" clip-path=\"url(#p2f790200d2)\" style=\"fill: none; stroke: #ffffff; stroke-width: 0.8; stroke-linecap: square\"/>\n     </g>\n     <g id=\"line2d_2\">\n      <defs>\n       <path id=\"m3bccc10531\" d=\"M 0 0 \nL 0 3.5 \n\" style=\"stroke: #555555; stroke-width: 0.8\"/>\n      </defs>\n      <g>\n       <use xlink:href=\"#m3bccc10531\" x=\"95.039793\" y=\"295.94175\" style=\"fill: #555555; stroke: #555555; stroke-width: 0.8\"/>\n      </g>\n     </g>\n     <g id=\"text_1\">\n      <!-- DSc -->\n      <g style=\"fill: #555555\" transform=\"translate(85.266355 310.540188)scale(0.1 -0.1)\">\n       <defs>\n        <path id=\"DejaVuSans-44\" d=\"M 1259 4147 \nL 1259 519 \nL 2022 519 \nQ 2988 519 3436 956 \nQ 3884 1394 3884 2338 \nQ 3884 3275 3436 3711 \nQ 2988 4147 2022 4147 \nL 1259 4147 \nz\nM 628 4666 \nL 1925 4666 \nQ 3281 4666 3915 4102 \nQ 4550 3538 4550 2338 \nQ 4550 1131 3912 565 \nQ 3275 0 1925 0 \nL 628 0 \nL 628 4666 \nz\n\" transform=\"scale(0.015625)\"/>\n        <path id=\"DejaVuSans-53\" d=\"M 3425 4513 \nL 3425 3897 \nQ 3066 4069 2747 4153 \nQ 2428 4238 2131 4238 \nQ 1616 4238 1336 4038 \nQ 1056 3838 1056 3469 \nQ 1056 3159 1242 3001 \nQ 1428 2844 1947 2747 \nL 2328 2669 \nQ 3034 2534 3370 2195 \nQ 3706 1856 3706 1288 \nQ 3706 609 3251 259 \nQ 2797 -91 1919 -91 \nQ 1588 -91 1214 -16 \nQ 841 59 441 206 \nL 441 856 \nQ 825 641 1194 531 \nQ 1563 422 1919 422 \nQ 2459 422 2753 634 \nQ 3047 847 3047 1241 \nQ 3047 1584 2836 1778 \nQ 2625 1972 2144 2069 \nL 1759 2144 \nQ 1053 2284 737 2584 \nQ 422 2884 422 3419 \nQ 422 4038 858 4394 \nQ 1294 4750 2059 4750 \nQ 2388 4750 2728 4690 \nQ 3069 4631 3425 4513 \nz\n\" transform=\"scale(0.015625)\"/>\n        <path id=\"DejaVuSans-63\" d=\"M 3122 3366 \nL 3122 2828 \nQ 2878 2963 2633 3030 \nQ 2388 3097 2138 3097 \nQ 1578 3097 1268 2742 \nQ 959 2388 959 1747 \nQ 959 1106 1268 751 \nQ 1578 397 2138 397 \nQ 2388 397 2633 464 \nQ 2878 531 3122 666 \nL 3122 134 \nQ 2881 22 2623 -34 \nQ 2366 -91 2075 -91 \nQ 1284 -91 818 406 \nQ 353 903 353 1747 \nQ 353 2603 823 3093 \nQ 1294 3584 2113 3584 \nQ 2378 3584 2631 3529 \nQ 2884 3475 3122 3366 \nz\n\" transform=\"scale(0.015625)\"/>\n       </defs>\n       <use xlink:href=\"#DejaVuSans-44\"/>\n       <use xlink:href=\"#DejaVuSans-53\" x=\"77.001953\"/>\n       <use xlink:href=\"#DejaVuSans-63\" x=\"140.478516\"/>\n      </g>\n     </g>\n    </g>\n    <g id=\"xtick_2\">\n     <g id=\"line2d_3\">\n      <path d=\"M 167.85406 295.94175 \nL 167.85406 24.14175 \n\" clip-path=\"url(#p2f790200d2)\" style=\"fill: none; stroke: #ffffff; stroke-width: 0.8; stroke-linecap: square\"/>\n     </g>\n     <g id=\"line2d_4\">\n      <g>\n       <use xlink:href=\"#m3bccc10531\" x=\"167.85406\" y=\"295.94175\" style=\"fill: #555555; stroke: #555555; stroke-width: 0.8\"/>\n      </g>\n     </g>\n     <g id=\"text_2\">\n      <!-- JBe -->\n      <g style=\"fill: #555555\" transform=\"translate(159.872028 310.540188)scale(0.1 -0.1)\">\n       <defs>\n        <path id=\"DejaVuSans-4a\" d=\"M 628 4666 \nL 1259 4666 \nL 1259 325 \nQ 1259 -519 939 -900 \nQ 619 -1281 -91 -1281 \nL -331 -1281 \nL -331 -750 \nL -134 -750 \nQ 284 -750 456 -515 \nQ 628 -281 628 325 \nL 628 4666 \nz\n\" transform=\"scale(0.015625)\"/>\n        <path id=\"DejaVuSans-42\" d=\"M 1259 2228 \nL 1259 519 \nL 2272 519 \nQ 2781 519 3026 730 \nQ 3272 941 3272 1375 \nQ 3272 1813 3026 2020 \nQ 2781 2228 2272 2228 \nL 1259 2228 \nz\nM 1259 4147 \nL 1259 2741 \nL 2194 2741 \nQ 2656 2741 2882 2914 \nQ 3109 3088 3109 3444 \nQ 3109 3797 2882 3972 \nQ 2656 4147 2194 4147 \nL 1259 4147 \nz\nM 628 4666 \nL 2241 4666 \nQ 2963 4666 3353 4366 \nQ 3744 4066 3744 3513 \nQ 3744 3084 3544 2831 \nQ 3344 2578 2956 2516 \nQ 3422 2416 3680 2098 \nQ 3938 1781 3938 1306 \nQ 3938 681 3513 340 \nQ 3088 0 2303 0 \nL 628 0 \nL 628 4666 \nz\n\" transform=\"scale(0.015625)\"/>\n        <path id=\"DejaVuSans-65\" d=\"M 3597 1894 \nL 3597 1613 \nL 953 1613 \nQ 991 1019 1311 708 \nQ 1631 397 2203 397 \nQ 2534 397 2845 478 \nQ 3156 559 3463 722 \nL 3463 178 \nQ 3153 47 2828 -22 \nQ 2503 -91 2169 -91 \nQ 1331 -91 842 396 \nQ 353 884 353 1716 \nQ 353 2575 817 3079 \nQ 1281 3584 2069 3584 \nQ 2775 3584 3186 3129 \nQ 3597 2675 3597 1894 \nz\nM 3022 2063 \nQ 3016 2534 2758 2815 \nQ 2500 3097 2075 3097 \nQ 1594 3097 1305 2825 \nQ 1016 2553 972 2059 \nL 3022 2063 \nz\n\" transform=\"scale(0.015625)\"/>\n       </defs>\n       <use xlink:href=\"#DejaVuSans-4a\"/>\n       <use xlink:href=\"#DejaVuSans-42\" x=\"29.492188\"/>\n       <use xlink:href=\"#DejaVuSans-65\" x=\"98.095703\"/>\n      </g>\n     </g>\n    </g>\n    <g id=\"xtick_3\">\n     <g id=\"line2d_5\">\n      <path d=\"M 240.668327 295.94175 \nL 240.668327 24.14175 \n\" clip-path=\"url(#p2f790200d2)\" style=\"fill: none; stroke: #ffffff; stroke-width: 0.8; stroke-linecap: square\"/>\n     </g>\n     <g id=\"line2d_6\">\n      <g>\n       <use xlink:href=\"#m3bccc10531\" x=\"240.668327\" y=\"295.94175\" style=\"fill: #555555; stroke: #555555; stroke-width: 0.8\"/>\n      </g>\n     </g>\n     <g id=\"text_3\">\n      <!-- SRe -->\n      <g style=\"fill: #555555\" transform=\"translate(231.168327 310.540188)scale(0.1 -0.1)\">\n       <defs>\n        <path id=\"DejaVuSans-52\" d=\"M 2841 2188 \nQ 3044 2119 3236 1894 \nQ 3428 1669 3622 1275 \nL 4263 0 \nL 3584 0 \nL 2988 1197 \nQ 2756 1666 2539 1819 \nQ 2322 1972 1947 1972 \nL 1259 1972 \nL 1259 0 \nL 628 0 \nL 628 4666 \nL 2053 4666 \nQ 2853 4666 3247 4331 \nQ 3641 3997 3641 3322 \nQ 3641 2881 3436 2590 \nQ 3231 2300 2841 2188 \nz\nM 1259 4147 \nL 1259 2491 \nL 2053 2491 \nQ 2509 2491 2742 2702 \nQ 2975 2913 2975 3322 \nQ 2975 3731 2742 3939 \nQ 2509 4147 2053 4147 \nL 1259 4147 \nz\n\" transform=\"scale(0.015625)\"/>\n       </defs>\n       <use xlink:href=\"#DejaVuSans-53\"/>\n       <use xlink:href=\"#DejaVuSans-52\" x=\"63.476562\"/>\n       <use xlink:href=\"#DejaVuSans-65\" x=\"128.458984\"/>\n      </g>\n     </g>\n    </g>\n    <g id=\"xtick_4\">\n     <g id=\"line2d_7\">\n      <path d=\"M 313.482594 295.94175 \nL 313.482594 24.14175 \n\" clip-path=\"url(#p2f790200d2)\" style=\"fill: none; stroke: #ffffff; stroke-width: 0.8; stroke-linecap: square\"/>\n     </g>\n     <g id=\"line2d_8\">\n      <g>\n       <use xlink:href=\"#m3bccc10531\" x=\"313.482594\" y=\"295.94175\" style=\"fill: #555555; stroke: #555555; stroke-width: 0.8\"/>\n      </g>\n     </g>\n     <g id=\"text_4\">\n      <!-- SRh -->\n      <g style=\"fill: #555555\" transform=\"translate(303.665406 310.540188)scale(0.1 -0.1)\">\n       <defs>\n        <path id=\"DejaVuSans-68\" d=\"M 3513 2113 \nL 3513 0 \nL 2938 0 \nL 2938 2094 \nQ 2938 2591 2744 2837 \nQ 2550 3084 2163 3084 \nQ 1697 3084 1428 2787 \nQ 1159 2491 1159 1978 \nL 1159 0 \nL 581 0 \nL 581 4863 \nL 1159 4863 \nL 1159 2956 \nQ 1366 3272 1645 3428 \nQ 1925 3584 2291 3584 \nQ 2894 3584 3203 3211 \nQ 3513 2838 3513 2113 \nz\n\" transform=\"scale(0.015625)\"/>\n       </defs>\n       <use xlink:href=\"#DejaVuSans-53\"/>\n       <use xlink:href=\"#DejaVuSans-52\" x=\"63.476562\"/>\n       <use xlink:href=\"#DejaVuSans-68\" x=\"132.958984\"/>\n      </g>\n     </g>\n    </g>\n    <g id=\"text_5\">\n     <!-- Reviewer -->\n     <g style=\"fill: #555555\" transform=\"translate(176.694943 325.738)scale(0.12 -0.12)\">\n      <defs>\n       <path id=\"DejaVuSans-76\" d=\"M 191 3500 \nL 800 3500 \nL 1894 563 \nL 2988 3500 \nL 3597 3500 \nL 2284 0 \nL 1503 0 \nL 191 3500 \nz\n\" transform=\"scale(0.015625)\"/>\n       <path id=\"DejaVuSans-69\" d=\"M 603 3500 \nL 1178 3500 \nL 1178 0 \nL 603 0 \nL 603 3500 \nz\nM 603 4863 \nL 1178 4863 \nL 1178 4134 \nL 603 4134 \nL 603 4863 \nz\n\" transform=\"scale(0.015625)\"/>\n       <path id=\"DejaVuSans-77\" d=\"M 269 3500 \nL 844 3500 \nL 1563 769 \nL 2278 3500 \nL 2956 3500 \nL 3675 769 \nL 4391 3500 \nL 4966 3500 \nL 4050 0 \nL 3372 0 \nL 2619 2869 \nL 1863 0 \nL 1184 0 \nL 269 3500 \nz\n\" transform=\"scale(0.015625)\"/>\n       <path id=\"DejaVuSans-72\" d=\"M 2631 2963 \nQ 2534 3019 2420 3045 \nQ 2306 3072 2169 3072 \nQ 1681 3072 1420 2755 \nQ 1159 2438 1159 1844 \nL 1159 0 \nL 581 0 \nL 581 3500 \nL 1159 3500 \nL 1159 2956 \nQ 1341 3275 1631 3429 \nQ 1922 3584 2338 3584 \nQ 2397 3584 2469 3576 \nQ 2541 3569 2628 3553 \nL 2631 2963 \nz\n\" transform=\"scale(0.015625)\"/>\n      </defs>\n      <use xlink:href=\"#DejaVuSans-52\"/>\n      <use xlink:href=\"#DejaVuSans-65\" x=\"64.982422\"/>\n      <use xlink:href=\"#DejaVuSans-76\" x=\"126.505859\"/>\n      <use xlink:href=\"#DejaVuSans-69\" x=\"185.685547\"/>\n      <use xlink:href=\"#DejaVuSans-65\" x=\"213.46875\"/>\n      <use xlink:href=\"#DejaVuSans-77\" x=\"274.992188\"/>\n      <use xlink:href=\"#DejaVuSans-65\" x=\"356.779297\"/>\n      <use xlink:href=\"#DejaVuSans-72\" x=\"418.302734\"/>\n     </g>\n    </g>\n   </g>\n   <g id=\"matplotlib.axis_2\">\n    <g id=\"ytick_1\">\n     <g id=\"line2d_9\">\n      <path d=\"M 52.079375 295.94175 \nL 356.443011 295.94175 \n\" clip-path=\"url(#p2f790200d2)\" style=\"fill: none; stroke: #ffffff; stroke-width: 0.8; stroke-linecap: square\"/>\n     </g>\n     <g id=\"line2d_10\">\n      <defs>\n       <path id=\"m8352c3936b\" d=\"M 0 0 \nL -3.5 0 \n\" style=\"stroke: #555555; stroke-width: 0.8\"/>\n      </defs>\n      <g>\n       <use xlink:href=\"#m8352c3936b\" x=\"52.079375\" y=\"295.94175\" style=\"fill: #555555; stroke: #555555; stroke-width: 0.8\"/>\n      </g>\n     </g>\n     <g id=\"text_6\">\n      <!-- 0.00 -->\n      <g style=\"fill: #555555\" transform=\"translate(22.81375 299.740969)scale(0.1 -0.1)\">\n       <defs>\n        <path id=\"DejaVuSans-30\" d=\"M 2034 4250 \nQ 1547 4250 1301 3770 \nQ 1056 3291 1056 2328 \nQ 1056 1369 1301 889 \nQ 1547 409 2034 409 \nQ 2525 409 2770 889 \nQ 3016 1369 3016 2328 \nQ 3016 3291 2770 3770 \nQ 2525 4250 2034 4250 \nz\nM 2034 4750 \nQ 2819 4750 3233 4129 \nQ 3647 3509 3647 2328 \nQ 3647 1150 3233 529 \nQ 2819 -91 2034 -91 \nQ 1250 -91 836 529 \nQ 422 1150 422 2328 \nQ 422 3509 836 4129 \nQ 1250 4750 2034 4750 \nz\n\" transform=\"scale(0.015625)\"/>\n        <path id=\"DejaVuSans-2e\" d=\"M 684 794 \nL 1344 794 \nL 1344 0 \nL 684 0 \nL 684 794 \nz\n\" transform=\"scale(0.015625)\"/>\n       </defs>\n       <use xlink:href=\"#DejaVuSans-30\"/>\n       <use xlink:href=\"#DejaVuSans-2e\" x=\"63.623047\"/>\n       <use xlink:href=\"#DejaVuSans-30\" x=\"95.410156\"/>\n       <use xlink:href=\"#DejaVuSans-30\" x=\"159.033203\"/>\n      </g>\n     </g>\n    </g>\n    <g id=\"ytick_2\">\n     <g id=\"line2d_11\">\n      <path d=\"M 52.079375 259.665682 \nL 356.443011 259.665682 \n\" clip-path=\"url(#p2f790200d2)\" style=\"fill: none; stroke: #ffffff; stroke-width: 0.8; stroke-linecap: square\"/>\n     </g>\n     <g id=\"line2d_12\">\n      <g>\n       <use xlink:href=\"#m8352c3936b\" x=\"52.079375\" y=\"259.665682\" style=\"fill: #555555; stroke: #555555; stroke-width: 0.8\"/>\n      </g>\n     </g>\n     <g id=\"text_7\">\n      <!-- 0.25 -->\n      <g style=\"fill: #555555\" transform=\"translate(22.81375 263.464901)scale(0.1 -0.1)\">\n       <defs>\n        <path id=\"DejaVuSans-32\" d=\"M 1228 531 \nL 3431 531 \nL 3431 0 \nL 469 0 \nL 469 531 \nQ 828 903 1448 1529 \nQ 2069 2156 2228 2338 \nQ 2531 2678 2651 2914 \nQ 2772 3150 2772 3378 \nQ 2772 3750 2511 3984 \nQ 2250 4219 1831 4219 \nQ 1534 4219 1204 4116 \nQ 875 4013 500 3803 \nL 500 4441 \nQ 881 4594 1212 4672 \nQ 1544 4750 1819 4750 \nQ 2544 4750 2975 4387 \nQ 3406 4025 3406 3419 \nQ 3406 3131 3298 2873 \nQ 3191 2616 2906 2266 \nQ 2828 2175 2409 1742 \nQ 1991 1309 1228 531 \nz\n\" transform=\"scale(0.015625)\"/>\n        <path id=\"DejaVuSans-35\" d=\"M 691 4666 \nL 3169 4666 \nL 3169 4134 \nL 1269 4134 \nL 1269 2991 \nQ 1406 3038 1543 3061 \nQ 1681 3084 1819 3084 \nQ 2600 3084 3056 2656 \nQ 3513 2228 3513 1497 \nQ 3513 744 3044 326 \nQ 2575 -91 1722 -91 \nQ 1428 -91 1123 -41 \nQ 819 9 494 109 \nL 494 744 \nQ 775 591 1075 516 \nQ 1375 441 1709 441 \nQ 2250 441 2565 725 \nQ 2881 1009 2881 1497 \nQ 2881 1984 2565 2268 \nQ 2250 2553 1709 2553 \nQ 1456 2553 1204 2497 \nQ 953 2441 691 2322 \nL 691 4666 \nz\n\" transform=\"scale(0.015625)\"/>\n       </defs>\n       <use xlink:href=\"#DejaVuSans-30\"/>\n       <use xlink:href=\"#DejaVuSans-2e\" x=\"63.623047\"/>\n       <use xlink:href=\"#DejaVuSans-32\" x=\"95.410156\"/>\n       <use xlink:href=\"#DejaVuSans-35\" x=\"159.033203\"/>\n      </g>\n     </g>\n    </g>\n    <g id=\"ytick_3\">\n     <g id=\"line2d_13\">\n      <path d=\"M 52.079375 223.389614 \nL 356.443011 223.389614 \n\" clip-path=\"url(#p2f790200d2)\" style=\"fill: none; stroke: #ffffff; stroke-width: 0.8; stroke-linecap: square\"/>\n     </g>\n     <g id=\"line2d_14\">\n      <g>\n       <use xlink:href=\"#m8352c3936b\" x=\"52.079375\" y=\"223.389614\" style=\"fill: #555555; stroke: #555555; stroke-width: 0.8\"/>\n      </g>\n     </g>\n     <g id=\"text_8\">\n      <!-- 0.50 -->\n      <g style=\"fill: #555555\" transform=\"translate(22.81375 227.188833)scale(0.1 -0.1)\">\n       <use xlink:href=\"#DejaVuSans-30\"/>\n       <use xlink:href=\"#DejaVuSans-2e\" x=\"63.623047\"/>\n       <use xlink:href=\"#DejaVuSans-35\" x=\"95.410156\"/>\n       <use xlink:href=\"#DejaVuSans-30\" x=\"159.033203\"/>\n      </g>\n     </g>\n    </g>\n    <g id=\"ytick_4\">\n     <g id=\"line2d_15\">\n      <path d=\"M 52.079375 187.113546 \nL 356.443011 187.113546 \n\" clip-path=\"url(#p2f790200d2)\" style=\"fill: none; stroke: #ffffff; stroke-width: 0.8; stroke-linecap: square\"/>\n     </g>\n     <g id=\"line2d_16\">\n      <g>\n       <use xlink:href=\"#m8352c3936b\" x=\"52.079375\" y=\"187.113546\" style=\"fill: #555555; stroke: #555555; stroke-width: 0.8\"/>\n      </g>\n     </g>\n     <g id=\"text_9\">\n      <!-- 0.75 -->\n      <g style=\"fill: #555555\" transform=\"translate(22.81375 190.912765)scale(0.1 -0.1)\">\n       <defs>\n        <path id=\"DejaVuSans-37\" d=\"M 525 4666 \nL 3525 4666 \nL 3525 4397 \nL 1831 0 \nL 1172 0 \nL 2766 4134 \nL 525 4134 \nL 525 4666 \nz\n\" transform=\"scale(0.015625)\"/>\n       </defs>\n       <use xlink:href=\"#DejaVuSans-30\"/>\n       <use xlink:href=\"#DejaVuSans-2e\" x=\"63.623047\"/>\n       <use xlink:href=\"#DejaVuSans-37\" x=\"95.410156\"/>\n       <use xlink:href=\"#DejaVuSans-35\" x=\"159.033203\"/>\n      </g>\n     </g>\n    </g>\n    <g id=\"ytick_5\">\n     <g id=\"line2d_17\">\n      <path d=\"M 52.079375 150.837478 \nL 356.443011 150.837478 \n\" clip-path=\"url(#p2f790200d2)\" style=\"fill: none; stroke: #ffffff; stroke-width: 0.8; stroke-linecap: square\"/>\n     </g>\n     <g id=\"line2d_18\">\n      <g>\n       <use xlink:href=\"#m8352c3936b\" x=\"52.079375\" y=\"150.837478\" style=\"fill: #555555; stroke: #555555; stroke-width: 0.8\"/>\n      </g>\n     </g>\n     <g id=\"text_10\">\n      <!-- 1.00 -->\n      <g style=\"fill: #555555\" transform=\"translate(22.81375 154.636697)scale(0.1 -0.1)\">\n       <defs>\n        <path id=\"DejaVuSans-31\" d=\"M 794 531 \nL 1825 531 \nL 1825 4091 \nL 703 3866 \nL 703 4441 \nL 1819 4666 \nL 2450 4666 \nL 2450 531 \nL 3481 531 \nL 3481 0 \nL 794 0 \nL 794 531 \nz\n\" transform=\"scale(0.015625)\"/>\n       </defs>\n       <use xlink:href=\"#DejaVuSans-31\"/>\n       <use xlink:href=\"#DejaVuSans-2e\" x=\"63.623047\"/>\n       <use xlink:href=\"#DejaVuSans-30\" x=\"95.410156\"/>\n       <use xlink:href=\"#DejaVuSans-30\" x=\"159.033203\"/>\n      </g>\n     </g>\n    </g>\n    <g id=\"ytick_6\">\n     <g id=\"line2d_19\">\n      <path d=\"M 52.079375 114.56141 \nL 356.443011 114.56141 \n\" clip-path=\"url(#p2f790200d2)\" style=\"fill: none; stroke: #ffffff; stroke-width: 0.8; stroke-linecap: square\"/>\n     </g>\n     <g id=\"line2d_20\">\n      <g>\n       <use xlink:href=\"#m8352c3936b\" x=\"52.079375\" y=\"114.56141\" style=\"fill: #555555; stroke: #555555; stroke-width: 0.8\"/>\n      </g>\n     </g>\n     <g id=\"text_11\">\n      <!-- 1.25 -->\n      <g style=\"fill: #555555\" transform=\"translate(22.81375 118.360629)scale(0.1 -0.1)\">\n       <use xlink:href=\"#DejaVuSans-31\"/>\n       <use xlink:href=\"#DejaVuSans-2e\" x=\"63.623047\"/>\n       <use xlink:href=\"#DejaVuSans-32\" x=\"95.410156\"/>\n       <use xlink:href=\"#DejaVuSans-35\" x=\"159.033203\"/>\n      </g>\n     </g>\n    </g>\n    <g id=\"ytick_7\">\n     <g id=\"line2d_21\">\n      <path d=\"M 52.079375 78.285342 \nL 356.443011 78.285342 \n\" clip-path=\"url(#p2f790200d2)\" style=\"fill: none; stroke: #ffffff; stroke-width: 0.8; stroke-linecap: square\"/>\n     </g>\n     <g id=\"line2d_22\">\n      <g>\n       <use xlink:href=\"#m8352c3936b\" x=\"52.079375\" y=\"78.285342\" style=\"fill: #555555; stroke: #555555; stroke-width: 0.8\"/>\n      </g>\n     </g>\n     <g id=\"text_12\">\n      <!-- 1.50 -->\n      <g style=\"fill: #555555\" transform=\"translate(22.81375 82.084561)scale(0.1 -0.1)\">\n       <use xlink:href=\"#DejaVuSans-31\"/>\n       <use xlink:href=\"#DejaVuSans-2e\" x=\"63.623047\"/>\n       <use xlink:href=\"#DejaVuSans-35\" x=\"95.410156\"/>\n       <use xlink:href=\"#DejaVuSans-30\" x=\"159.033203\"/>\n      </g>\n     </g>\n    </g>\n    <g id=\"ytick_8\">\n     <g id=\"line2d_23\">\n      <path d=\"M 52.079375 42.009274 \nL 356.443011 42.009274 \n\" clip-path=\"url(#p2f790200d2)\" style=\"fill: none; stroke: #ffffff; stroke-width: 0.8; stroke-linecap: square\"/>\n     </g>\n     <g id=\"line2d_24\">\n      <g>\n       <use xlink:href=\"#m8352c3936b\" x=\"52.079375\" y=\"42.009274\" style=\"fill: #555555; stroke: #555555; stroke-width: 0.8\"/>\n      </g>\n     </g>\n     <g id=\"text_13\">\n      <!-- 1.75 -->\n      <g style=\"fill: #555555\" transform=\"translate(22.81375 45.808493)scale(0.1 -0.1)\">\n       <use xlink:href=\"#DejaVuSans-31\"/>\n       <use xlink:href=\"#DejaVuSans-2e\" x=\"63.623047\"/>\n       <use xlink:href=\"#DejaVuSans-37\" x=\"95.410156\"/>\n       <use xlink:href=\"#DejaVuSans-35\" x=\"159.033203\"/>\n      </g>\n     </g>\n    </g>\n    <g id=\"text_14\">\n     <!-- Mean Score -->\n     <g style=\"fill: #555555\" transform=\"translate(16.318125 195.099562)rotate(-90)scale(0.12 -0.12)\">\n      <defs>\n       <path id=\"DejaVuSans-4d\" d=\"M 628 4666 \nL 1569 4666 \nL 2759 1491 \nL 3956 4666 \nL 4897 4666 \nL 4897 0 \nL 4281 0 \nL 4281 4097 \nL 3078 897 \nL 2444 897 \nL 1241 4097 \nL 1241 0 \nL 628 0 \nL 628 4666 \nz\n\" transform=\"scale(0.015625)\"/>\n       <path id=\"DejaVuSans-61\" d=\"M 2194 1759 \nQ 1497 1759 1228 1600 \nQ 959 1441 959 1056 \nQ 959 750 1161 570 \nQ 1363 391 1709 391 \nQ 2188 391 2477 730 \nQ 2766 1069 2766 1631 \nL 2766 1759 \nL 2194 1759 \nz\nM 3341 1997 \nL 3341 0 \nL 2766 0 \nL 2766 531 \nQ 2569 213 2275 61 \nQ 1981 -91 1556 -91 \nQ 1019 -91 701 211 \nQ 384 513 384 1019 \nQ 384 1609 779 1909 \nQ 1175 2209 1959 2209 \nL 2766 2209 \nL 2766 2266 \nQ 2766 2663 2505 2880 \nQ 2244 3097 1772 3097 \nQ 1472 3097 1187 3025 \nQ 903 2953 641 2809 \nL 641 3341 \nQ 956 3463 1253 3523 \nQ 1550 3584 1831 3584 \nQ 2591 3584 2966 3190 \nQ 3341 2797 3341 1997 \nz\n\" transform=\"scale(0.015625)\"/>\n       <path id=\"DejaVuSans-6e\" d=\"M 3513 2113 \nL 3513 0 \nL 2938 0 \nL 2938 2094 \nQ 2938 2591 2744 2837 \nQ 2550 3084 2163 3084 \nQ 1697 3084 1428 2787 \nQ 1159 2491 1159 1978 \nL 1159 0 \nL 581 0 \nL 581 3500 \nL 1159 3500 \nL 1159 2956 \nQ 1366 3272 1645 3428 \nQ 1925 3584 2291 3584 \nQ 2894 3584 3203 3211 \nQ 3513 2838 3513 2113 \nz\n\" transform=\"scale(0.015625)\"/>\n       <path id=\"DejaVuSans-20\" transform=\"scale(0.015625)\"/>\n       <path id=\"DejaVuSans-6f\" d=\"M 1959 3097 \nQ 1497 3097 1228 2736 \nQ 959 2375 959 1747 \nQ 959 1119 1226 758 \nQ 1494 397 1959 397 \nQ 2419 397 2687 759 \nQ 2956 1122 2956 1747 \nQ 2956 2369 2687 2733 \nQ 2419 3097 1959 3097 \nz\nM 1959 3584 \nQ 2709 3584 3137 3096 \nQ 3566 2609 3566 1747 \nQ 3566 888 3137 398 \nQ 2709 -91 1959 -91 \nQ 1206 -91 779 398 \nQ 353 888 353 1747 \nQ 353 2609 779 3096 \nQ 1206 3584 1959 3584 \nz\n\" transform=\"scale(0.015625)\"/>\n      </defs>\n      <use xlink:href=\"#DejaVuSans-4d\"/>\n      <use xlink:href=\"#DejaVuSans-65\" x=\"86.279297\"/>\n      <use xlink:href=\"#DejaVuSans-61\" x=\"147.802734\"/>\n      <use xlink:href=\"#DejaVuSans-6e\" x=\"209.082031\"/>\n      <use xlink:href=\"#DejaVuSans-20\" x=\"272.460938\"/>\n      <use xlink:href=\"#DejaVuSans-53\" x=\"304.248047\"/>\n      <use xlink:href=\"#DejaVuSans-63\" x=\"367.724609\"/>\n      <use xlink:href=\"#DejaVuSans-6f\" x=\"422.705078\"/>\n      <use xlink:href=\"#DejaVuSans-72\" x=\"483.886719\"/>\n      <use xlink:href=\"#DejaVuSans-65\" x=\"522.75\"/>\n     </g>\n    </g>\n   </g>\n   <g id=\"patch_3\">\n    <path d=\"M 65.914086 295.94175 \nL 124.165499 295.94175 \nL 124.165499 101.414084 \nL 65.914086 101.414084 \nz\n\" clip-path=\"url(#p2f790200d2)\" style=\"fill: #dc143c\"/>\n   </g>\n   <g id=\"patch_4\">\n    <path d=\"M 138.728353 295.94175 \nL 196.979766 295.94175 \nL 196.979766 37.084607 \nL 138.728353 37.084607 \nz\n\" clip-path=\"url(#p2f790200d2)\" style=\"fill: #dc143c\"/>\n   </g>\n   <g id=\"patch_5\">\n    <path d=\"M 211.54262 295.94175 \nL 269.794034 295.94175 \nL 269.794034 65.103193 \nL 211.54262 65.103193 \nz\n\" clip-path=\"url(#p2f790200d2)\" style=\"fill: #dc143c\"/>\n   </g>\n   <g id=\"patch_6\">\n    <path d=\"M 284.356887 295.94175 \nL 342.608301 295.94175 \nL 342.608301 59.403315 \nL 284.356887 59.403315 \nz\n\" clip-path=\"url(#p2f790200d2)\" style=\"fill: #dc143c\"/>\n   </g>\n   <g id=\"patch_7\">\n    <path d=\"M 52.079375 295.94175 \nL 52.079375 24.14175 \n\" style=\"fill: none; stroke: #ffffff; stroke-linejoin: miter; stroke-linecap: square\"/>\n   </g>\n   <g id=\"patch_8\">\n    <path d=\"M 356.443011 295.94175 \nL 356.443011 24.14175 \n\" style=\"fill: none; stroke: #ffffff; stroke-linejoin: miter; stroke-linecap: square\"/>\n   </g>\n   <g id=\"patch_9\">\n    <path d=\"M 52.079375 295.94175 \nL 356.443011 295.94175 \n\" style=\"fill: none; stroke: #ffffff; stroke-linejoin: miter; stroke-linecap: square\"/>\n   </g>\n   <g id=\"patch_10\">\n    <path d=\"M 52.079375 24.14175 \nL 356.443011 24.14175 \n\" style=\"fill: none; stroke: #ffffff; stroke-linejoin: miter; stroke-linecap: square\"/>\n   </g>\n   <g id=\"text_15\">\n    <!-- Mean Score by Reviewer -->\n    <g transform=\"translate(115.703443 18.14175)scale(0.144 -0.144)\">\n     <defs>\n      <path id=\"DejaVuSans-62\" d=\"M 3116 1747 \nQ 3116 2381 2855 2742 \nQ 2594 3103 2138 3103 \nQ 1681 3103 1420 2742 \nQ 1159 2381 1159 1747 \nQ 1159 1113 1420 752 \nQ 1681 391 2138 391 \nQ 2594 391 2855 752 \nQ 3116 1113 3116 1747 \nz\nM 1159 2969 \nQ 1341 3281 1617 3432 \nQ 1894 3584 2278 3584 \nQ 2916 3584 3314 3078 \nQ 3713 2572 3713 1747 \nQ 3713 922 3314 415 \nQ 2916 -91 2278 -91 \nQ 1894 -91 1617 61 \nQ 1341 213 1159 525 \nL 1159 0 \nL 581 0 \nL 581 4863 \nL 1159 4863 \nL 1159 2969 \nz\n\" transform=\"scale(0.015625)\"/>\n      <path id=\"DejaVuSans-79\" d=\"M 2059 -325 \nQ 1816 -950 1584 -1140 \nQ 1353 -1331 966 -1331 \nL 506 -1331 \nL 506 -850 \nL 844 -850 \nQ 1081 -850 1212 -737 \nQ 1344 -625 1503 -206 \nL 1606 56 \nL 191 3500 \nL 800 3500 \nL 1894 763 \nL 2988 3500 \nL 3597 3500 \nL 2059 -325 \nz\n\" transform=\"scale(0.015625)\"/>\n     </defs>\n     <use xlink:href=\"#DejaVuSans-4d\"/>\n     <use xlink:href=\"#DejaVuSans-65\" x=\"86.279297\"/>\n     <use xlink:href=\"#DejaVuSans-61\" x=\"147.802734\"/>\n     <use xlink:href=\"#DejaVuSans-6e\" x=\"209.082031\"/>\n     <use xlink:href=\"#DejaVuSans-20\" x=\"272.460938\"/>\n     <use xlink:href=\"#DejaVuSans-53\" x=\"304.248047\"/>\n     <use xlink:href=\"#DejaVuSans-63\" x=\"367.724609\"/>\n     <use xlink:href=\"#DejaVuSans-6f\" x=\"422.705078\"/>\n     <use xlink:href=\"#DejaVuSans-72\" x=\"483.886719\"/>\n     <use xlink:href=\"#DejaVuSans-65\" x=\"522.75\"/>\n     <use xlink:href=\"#DejaVuSans-20\" x=\"584.273438\"/>\n     <use xlink:href=\"#DejaVuSans-62\" x=\"616.060547\"/>\n     <use xlink:href=\"#DejaVuSans-79\" x=\"679.537109\"/>\n     <use xlink:href=\"#DejaVuSans-20\" x=\"738.716797\"/>\n     <use xlink:href=\"#DejaVuSans-52\" x=\"770.503906\"/>\n     <use xlink:href=\"#DejaVuSans-65\" x=\"835.486328\"/>\n     <use xlink:href=\"#DejaVuSans-76\" x=\"897.009766\"/>\n     <use xlink:href=\"#DejaVuSans-69\" x=\"956.189453\"/>\n     <use xlink:href=\"#DejaVuSans-65\" x=\"983.972656\"/>\n     <use xlink:href=\"#DejaVuSans-77\" x=\"1045.496094\"/>\n     <use xlink:href=\"#DejaVuSans-65\" x=\"1127.283203\"/>\n     <use xlink:href=\"#DejaVuSans-72\" x=\"1188.806641\"/>\n    </g>\n   </g>\n  </g>\n  <g id=\"axes_2\">\n   <g id=\"patch_11\">\n    <path d=\"M 417.315739 295.94175 \nL 721.679375 295.94175 \nL 721.679375 24.14175 \nL 417.315739 24.14175 \nz\n\" style=\"fill: #e5e5e5\"/>\n   </g>\n   <g id=\"matplotlib.axis_3\">\n    <g id=\"xtick_5\">\n     <g id=\"line2d_25\">\n      <path d=\"M 460.276156 295.94175 \nL 460.276156 24.14175 \n\" clip-path=\"url(#pb33268c534)\" style=\"fill: none; stroke: #ffffff; stroke-width: 0.8; stroke-linecap: square\"/>\n     </g>\n     <g id=\"line2d_26\">\n      <g>\n       <use xlink:href=\"#m3bccc10531\" x=\"460.276156\" y=\"295.94175\" style=\"fill: #555555; stroke: #555555; stroke-width: 0.8\"/>\n      </g>\n     </g>\n     <g id=\"text_16\">\n      <!-- DSc -->\n      <g style=\"fill: #555555\" transform=\"translate(450.502719 310.540188)scale(0.1 -0.1)\">\n       <use xlink:href=\"#DejaVuSans-44\"/>\n       <use xlink:href=\"#DejaVuSans-53\" x=\"77.001953\"/>\n       <use xlink:href=\"#DejaVuSans-63\" x=\"140.478516\"/>\n      </g>\n     </g>\n    </g>\n    <g id=\"xtick_6\">\n     <g id=\"line2d_27\">\n      <path d=\"M 533.090423 295.94175 \nL 533.090423 24.14175 \n\" clip-path=\"url(#pb33268c534)\" style=\"fill: none; stroke: #ffffff; stroke-width: 0.8; stroke-linecap: square\"/>\n     </g>\n     <g id=\"line2d_28\">\n      <g>\n       <use xlink:href=\"#m3bccc10531\" x=\"533.090423\" y=\"295.94175\" style=\"fill: #555555; stroke: #555555; stroke-width: 0.8\"/>\n      </g>\n     </g>\n     <g id=\"text_17\">\n      <!-- JBe -->\n      <g style=\"fill: #555555\" transform=\"translate(525.108392 310.540188)scale(0.1 -0.1)\">\n       <use xlink:href=\"#DejaVuSans-4a\"/>\n       <use xlink:href=\"#DejaVuSans-42\" x=\"29.492188\"/>\n       <use xlink:href=\"#DejaVuSans-65\" x=\"98.095703\"/>\n      </g>\n     </g>\n    </g>\n    <g id=\"xtick_7\">\n     <g id=\"line2d_29\">\n      <path d=\"M 605.90469 295.94175 \nL 605.90469 24.14175 \n\" clip-path=\"url(#pb33268c534)\" style=\"fill: none; stroke: #ffffff; stroke-width: 0.8; stroke-linecap: square\"/>\n     </g>\n     <g id=\"line2d_30\">\n      <g>\n       <use xlink:href=\"#m3bccc10531\" x=\"605.90469\" y=\"295.94175\" style=\"fill: #555555; stroke: #555555; stroke-width: 0.8\"/>\n      </g>\n     </g>\n     <g id=\"text_18\">\n      <!-- SRe -->\n      <g style=\"fill: #555555\" transform=\"translate(596.40469 310.540188)scale(0.1 -0.1)\">\n       <use xlink:href=\"#DejaVuSans-53\"/>\n       <use xlink:href=\"#DejaVuSans-52\" x=\"63.476562\"/>\n       <use xlink:href=\"#DejaVuSans-65\" x=\"128.458984\"/>\n      </g>\n     </g>\n    </g>\n    <g id=\"xtick_8\">\n     <g id=\"line2d_31\">\n      <path d=\"M 678.718957 295.94175 \nL 678.718957 24.14175 \n\" clip-path=\"url(#pb33268c534)\" style=\"fill: none; stroke: #ffffff; stroke-width: 0.8; stroke-linecap: square\"/>\n     </g>\n     <g id=\"line2d_32\">\n      <g>\n       <use xlink:href=\"#m3bccc10531\" x=\"678.718957\" y=\"295.94175\" style=\"fill: #555555; stroke: #555555; stroke-width: 0.8\"/>\n      </g>\n     </g>\n     <g id=\"text_19\">\n      <!-- SRh -->\n      <g style=\"fill: #555555\" transform=\"translate(668.90177 310.540188)scale(0.1 -0.1)\">\n       <use xlink:href=\"#DejaVuSans-53\"/>\n       <use xlink:href=\"#DejaVuSans-52\" x=\"63.476562\"/>\n       <use xlink:href=\"#DejaVuSans-68\" x=\"132.958984\"/>\n      </g>\n     </g>\n    </g>\n    <g id=\"text_20\">\n     <!-- Reviewer -->\n     <g style=\"fill: #555555\" transform=\"translate(541.931307 325.738)scale(0.12 -0.12)\">\n      <use xlink:href=\"#DejaVuSans-52\"/>\n      <use xlink:href=\"#DejaVuSans-65\" x=\"64.982422\"/>\n      <use xlink:href=\"#DejaVuSans-76\" x=\"126.505859\"/>\n      <use xlink:href=\"#DejaVuSans-69\" x=\"185.685547\"/>\n      <use xlink:href=\"#DejaVuSans-65\" x=\"213.46875\"/>\n      <use xlink:href=\"#DejaVuSans-77\" x=\"274.992188\"/>\n      <use xlink:href=\"#DejaVuSans-65\" x=\"356.779297\"/>\n      <use xlink:href=\"#DejaVuSans-72\" x=\"418.302734\"/>\n     </g>\n    </g>\n   </g>\n   <g id=\"matplotlib.axis_4\">\n    <g id=\"ytick_9\">\n     <g id=\"line2d_33\">\n      <path d=\"M 417.315739 295.94175 \nL 721.679375 295.94175 \n\" clip-path=\"url(#pb33268c534)\" style=\"fill: none; stroke: #ffffff; stroke-width: 0.8; stroke-linecap: square\"/>\n     </g>\n     <g id=\"line2d_34\">\n      <g>\n       <use xlink:href=\"#m8352c3936b\" x=\"417.315739\" y=\"295.94175\" style=\"fill: #555555; stroke: #555555; stroke-width: 0.8\"/>\n      </g>\n     </g>\n     <g id=\"text_21\">\n      <!-- 0.0 -->\n      <g style=\"fill: #555555\" transform=\"translate(394.412614 299.740969)scale(0.1 -0.1)\">\n       <use xlink:href=\"#DejaVuSans-30\"/>\n       <use xlink:href=\"#DejaVuSans-2e\" x=\"63.623047\"/>\n       <use xlink:href=\"#DejaVuSans-30\" x=\"95.410156\"/>\n      </g>\n     </g>\n    </g>\n    <g id=\"ytick_10\">\n     <g id=\"line2d_35\">\n      <path d=\"M 417.315739 265.60197 \nL 721.679375 265.60197 \n\" clip-path=\"url(#pb33268c534)\" style=\"fill: none; stroke: #ffffff; stroke-width: 0.8; stroke-linecap: square\"/>\n     </g>\n     <g id=\"line2d_36\">\n      <g>\n       <use xlink:href=\"#m8352c3936b\" x=\"417.315739\" y=\"265.60197\" style=\"fill: #555555; stroke: #555555; stroke-width: 0.8\"/>\n      </g>\n     </g>\n     <g id=\"text_22\">\n      <!-- 0.1 -->\n      <g style=\"fill: #555555\" transform=\"translate(394.412614 269.401189)scale(0.1 -0.1)\">\n       <use xlink:href=\"#DejaVuSans-30\"/>\n       <use xlink:href=\"#DejaVuSans-2e\" x=\"63.623047\"/>\n       <use xlink:href=\"#DejaVuSans-31\" x=\"95.410156\"/>\n      </g>\n     </g>\n    </g>\n    <g id=\"ytick_11\">\n     <g id=\"line2d_37\">\n      <path d=\"M 417.315739 235.26219 \nL 721.679375 235.26219 \n\" clip-path=\"url(#pb33268c534)\" style=\"fill: none; stroke: #ffffff; stroke-width: 0.8; stroke-linecap: square\"/>\n     </g>\n     <g id=\"line2d_38\">\n      <g>\n       <use xlink:href=\"#m8352c3936b\" x=\"417.315739\" y=\"235.26219\" style=\"fill: #555555; stroke: #555555; stroke-width: 0.8\"/>\n      </g>\n     </g>\n     <g id=\"text_23\">\n      <!-- 0.2 -->\n      <g style=\"fill: #555555\" transform=\"translate(394.412614 239.061409)scale(0.1 -0.1)\">\n       <use xlink:href=\"#DejaVuSans-30\"/>\n       <use xlink:href=\"#DejaVuSans-2e\" x=\"63.623047\"/>\n       <use xlink:href=\"#DejaVuSans-32\" x=\"95.410156\"/>\n      </g>\n     </g>\n    </g>\n    <g id=\"ytick_12\">\n     <g id=\"line2d_39\">\n      <path d=\"M 417.315739 204.92241 \nL 721.679375 204.92241 \n\" clip-path=\"url(#pb33268c534)\" style=\"fill: none; stroke: #ffffff; stroke-width: 0.8; stroke-linecap: square\"/>\n     </g>\n     <g id=\"line2d_40\">\n      <g>\n       <use xlink:href=\"#m8352c3936b\" x=\"417.315739\" y=\"204.92241\" style=\"fill: #555555; stroke: #555555; stroke-width: 0.8\"/>\n      </g>\n     </g>\n     <g id=\"text_24\">\n      <!-- 0.3 -->\n      <g style=\"fill: #555555\" transform=\"translate(394.412614 208.721628)scale(0.1 -0.1)\">\n       <defs>\n        <path id=\"DejaVuSans-33\" d=\"M 2597 2516 \nQ 3050 2419 3304 2112 \nQ 3559 1806 3559 1356 \nQ 3559 666 3084 287 \nQ 2609 -91 1734 -91 \nQ 1441 -91 1130 -33 \nQ 819 25 488 141 \nL 488 750 \nQ 750 597 1062 519 \nQ 1375 441 1716 441 \nQ 2309 441 2620 675 \nQ 2931 909 2931 1356 \nQ 2931 1769 2642 2001 \nQ 2353 2234 1838 2234 \nL 1294 2234 \nL 1294 2753 \nL 1863 2753 \nQ 2328 2753 2575 2939 \nQ 2822 3125 2822 3475 \nQ 2822 3834 2567 4026 \nQ 2313 4219 1838 4219 \nQ 1578 4219 1281 4162 \nQ 984 4106 628 3988 \nL 628 4550 \nQ 988 4650 1302 4700 \nQ 1616 4750 1894 4750 \nQ 2613 4750 3031 4423 \nQ 3450 4097 3450 3541 \nQ 3450 3153 3228 2886 \nQ 3006 2619 2597 2516 \nz\n\" transform=\"scale(0.015625)\"/>\n       </defs>\n       <use xlink:href=\"#DejaVuSans-30\"/>\n       <use xlink:href=\"#DejaVuSans-2e\" x=\"63.623047\"/>\n       <use xlink:href=\"#DejaVuSans-33\" x=\"95.410156\"/>\n      </g>\n     </g>\n    </g>\n    <g id=\"ytick_13\">\n     <g id=\"line2d_41\">\n      <path d=\"M 417.315739 174.58263 \nL 721.679375 174.58263 \n\" clip-path=\"url(#pb33268c534)\" style=\"fill: none; stroke: #ffffff; stroke-width: 0.8; stroke-linecap: square\"/>\n     </g>\n     <g id=\"line2d_42\">\n      <g>\n       <use xlink:href=\"#m8352c3936b\" x=\"417.315739\" y=\"174.58263\" style=\"fill: #555555; stroke: #555555; stroke-width: 0.8\"/>\n      </g>\n     </g>\n     <g id=\"text_25\">\n      <!-- 0.4 -->\n      <g style=\"fill: #555555\" transform=\"translate(394.412614 178.381848)scale(0.1 -0.1)\">\n       <defs>\n        <path id=\"DejaVuSans-34\" d=\"M 2419 4116 \nL 825 1625 \nL 2419 1625 \nL 2419 4116 \nz\nM 2253 4666 \nL 3047 4666 \nL 3047 1625 \nL 3713 1625 \nL 3713 1100 \nL 3047 1100 \nL 3047 0 \nL 2419 0 \nL 2419 1100 \nL 313 1100 \nL 313 1709 \nL 2253 4666 \nz\n\" transform=\"scale(0.015625)\"/>\n       </defs>\n       <use xlink:href=\"#DejaVuSans-30\"/>\n       <use xlink:href=\"#DejaVuSans-2e\" x=\"63.623047\"/>\n       <use xlink:href=\"#DejaVuSans-34\" x=\"95.410156\"/>\n      </g>\n     </g>\n    </g>\n    <g id=\"ytick_14\">\n     <g id=\"line2d_43\">\n      <path d=\"M 417.315739 144.24285 \nL 721.679375 144.24285 \n\" clip-path=\"url(#pb33268c534)\" style=\"fill: none; stroke: #ffffff; stroke-width: 0.8; stroke-linecap: square\"/>\n     </g>\n     <g id=\"line2d_44\">\n      <g>\n       <use xlink:href=\"#m8352c3936b\" x=\"417.315739\" y=\"144.24285\" style=\"fill: #555555; stroke: #555555; stroke-width: 0.8\"/>\n      </g>\n     </g>\n     <g id=\"text_26\">\n      <!-- 0.5 -->\n      <g style=\"fill: #555555\" transform=\"translate(394.412614 148.042068)scale(0.1 -0.1)\">\n       <use xlink:href=\"#DejaVuSans-30\"/>\n       <use xlink:href=\"#DejaVuSans-2e\" x=\"63.623047\"/>\n       <use xlink:href=\"#DejaVuSans-35\" x=\"95.410156\"/>\n      </g>\n     </g>\n    </g>\n    <g id=\"ytick_15\">\n     <g id=\"line2d_45\">\n      <path d=\"M 417.315739 113.903069 \nL 721.679375 113.903069 \n\" clip-path=\"url(#pb33268c534)\" style=\"fill: none; stroke: #ffffff; stroke-width: 0.8; stroke-linecap: square\"/>\n     </g>\n     <g id=\"line2d_46\">\n      <g>\n       <use xlink:href=\"#m8352c3936b\" x=\"417.315739\" y=\"113.903069\" style=\"fill: #555555; stroke: #555555; stroke-width: 0.8\"/>\n      </g>\n     </g>\n     <g id=\"text_27\">\n      <!-- 0.6 -->\n      <g style=\"fill: #555555\" transform=\"translate(394.412614 117.702288)scale(0.1 -0.1)\">\n       <defs>\n        <path id=\"DejaVuSans-36\" d=\"M 2113 2584 \nQ 1688 2584 1439 2293 \nQ 1191 2003 1191 1497 \nQ 1191 994 1439 701 \nQ 1688 409 2113 409 \nQ 2538 409 2786 701 \nQ 3034 994 3034 1497 \nQ 3034 2003 2786 2293 \nQ 2538 2584 2113 2584 \nz\nM 3366 4563 \nL 3366 3988 \nQ 3128 4100 2886 4159 \nQ 2644 4219 2406 4219 \nQ 1781 4219 1451 3797 \nQ 1122 3375 1075 2522 \nQ 1259 2794 1537 2939 \nQ 1816 3084 2150 3084 \nQ 2853 3084 3261 2657 \nQ 3669 2231 3669 1497 \nQ 3669 778 3244 343 \nQ 2819 -91 2113 -91 \nQ 1303 -91 875 529 \nQ 447 1150 447 2328 \nQ 447 3434 972 4092 \nQ 1497 4750 2381 4750 \nQ 2619 4750 2861 4703 \nQ 3103 4656 3366 4563 \nz\n\" transform=\"scale(0.015625)\"/>\n       </defs>\n       <use xlink:href=\"#DejaVuSans-30\"/>\n       <use xlink:href=\"#DejaVuSans-2e\" x=\"63.623047\"/>\n       <use xlink:href=\"#DejaVuSans-36\" x=\"95.410156\"/>\n      </g>\n     </g>\n    </g>\n    <g id=\"ytick_16\">\n     <g id=\"line2d_47\">\n      <path d=\"M 417.315739 83.563289 \nL 721.679375 83.563289 \n\" clip-path=\"url(#pb33268c534)\" style=\"fill: none; stroke: #ffffff; stroke-width: 0.8; stroke-linecap: square\"/>\n     </g>\n     <g id=\"line2d_48\">\n      <g>\n       <use xlink:href=\"#m8352c3936b\" x=\"417.315739\" y=\"83.563289\" style=\"fill: #555555; stroke: #555555; stroke-width: 0.8\"/>\n      </g>\n     </g>\n     <g id=\"text_28\">\n      <!-- 0.7 -->\n      <g style=\"fill: #555555\" transform=\"translate(394.412614 87.362508)scale(0.1 -0.1)\">\n       <use xlink:href=\"#DejaVuSans-30\"/>\n       <use xlink:href=\"#DejaVuSans-2e\" x=\"63.623047\"/>\n       <use xlink:href=\"#DejaVuSans-37\" x=\"95.410156\"/>\n      </g>\n     </g>\n    </g>\n    <g id=\"ytick_17\">\n     <g id=\"line2d_49\">\n      <path d=\"M 417.315739 53.223509 \nL 721.679375 53.223509 \n\" clip-path=\"url(#pb33268c534)\" style=\"fill: none; stroke: #ffffff; stroke-width: 0.8; stroke-linecap: square\"/>\n     </g>\n     <g id=\"line2d_50\">\n      <g>\n       <use xlink:href=\"#m8352c3936b\" x=\"417.315739\" y=\"53.223509\" style=\"fill: #555555; stroke: #555555; stroke-width: 0.8\"/>\n      </g>\n     </g>\n     <g id=\"text_29\">\n      <!-- 0.8 -->\n      <g style=\"fill: #555555\" transform=\"translate(394.412614 57.022728)scale(0.1 -0.1)\">\n       <defs>\n        <path id=\"DejaVuSans-38\" d=\"M 2034 2216 \nQ 1584 2216 1326 1975 \nQ 1069 1734 1069 1313 \nQ 1069 891 1326 650 \nQ 1584 409 2034 409 \nQ 2484 409 2743 651 \nQ 3003 894 3003 1313 \nQ 3003 1734 2745 1975 \nQ 2488 2216 2034 2216 \nz\nM 1403 2484 \nQ 997 2584 770 2862 \nQ 544 3141 544 3541 \nQ 544 4100 942 4425 \nQ 1341 4750 2034 4750 \nQ 2731 4750 3128 4425 \nQ 3525 4100 3525 3541 \nQ 3525 3141 3298 2862 \nQ 3072 2584 2669 2484 \nQ 3125 2378 3379 2068 \nQ 3634 1759 3634 1313 \nQ 3634 634 3220 271 \nQ 2806 -91 2034 -91 \nQ 1263 -91 848 271 \nQ 434 634 434 1313 \nQ 434 1759 690 2068 \nQ 947 2378 1403 2484 \nz\nM 1172 3481 \nQ 1172 3119 1398 2916 \nQ 1625 2713 2034 2713 \nQ 2441 2713 2670 2916 \nQ 2900 3119 2900 3481 \nQ 2900 3844 2670 4047 \nQ 2441 4250 2034 4250 \nQ 1625 4250 1398 4047 \nQ 1172 3844 1172 3481 \nz\n\" transform=\"scale(0.015625)\"/>\n       </defs>\n       <use xlink:href=\"#DejaVuSans-30\"/>\n       <use xlink:href=\"#DejaVuSans-2e\" x=\"63.623047\"/>\n       <use xlink:href=\"#DejaVuSans-38\" x=\"95.410156\"/>\n      </g>\n     </g>\n    </g>\n    <g id=\"text_30\">\n     <!-- Variance -->\n     <g style=\"fill: #555555\" transform=\"translate(387.916989 185.96175)rotate(-90)scale(0.12 -0.12)\">\n      <defs>\n       <path id=\"DejaVuSans-56\" d=\"M 1831 0 \nL 50 4666 \nL 709 4666 \nL 2188 738 \nL 3669 4666 \nL 4325 4666 \nL 2547 0 \nL 1831 0 \nz\n\" transform=\"scale(0.015625)\"/>\n      </defs>\n      <use xlink:href=\"#DejaVuSans-56\"/>\n      <use xlink:href=\"#DejaVuSans-61\" x=\"60.658203\"/>\n      <use xlink:href=\"#DejaVuSans-72\" x=\"121.9375\"/>\n      <use xlink:href=\"#DejaVuSans-69\" x=\"163.050781\"/>\n      <use xlink:href=\"#DejaVuSans-61\" x=\"190.833984\"/>\n      <use xlink:href=\"#DejaVuSans-6e\" x=\"252.113281\"/>\n      <use xlink:href=\"#DejaVuSans-63\" x=\"315.492188\"/>\n      <use xlink:href=\"#DejaVuSans-65\" x=\"370.472656\"/>\n     </g>\n    </g>\n   </g>\n   <g id=\"patch_12\">\n    <path d=\"M 431.150449 295.94175 \nL 489.401863 295.94175 \nL 489.401863 61.290909 \nL 431.150449 61.290909 \nz\n\" clip-path=\"url(#pb33268c534)\" style=\"fill: #dc143c\"/>\n   </g>\n   <g id=\"patch_13\">\n    <path d=\"M 503.964716 295.94175 \nL 562.21613 295.94175 \nL 562.21613 51.722439 \nL 503.964716 51.722439 \nz\n\" clip-path=\"url(#pb33268c534)\" style=\"fill: #dc143c\"/>\n   </g>\n   <g id=\"patch_14\">\n    <path d=\"M 576.778984 295.94175 \nL 635.030397 295.94175 \nL 635.030397 37.084607 \nL 576.778984 37.084607 \nz\n\" clip-path=\"url(#pb33268c534)\" style=\"fill: #dc143c\"/>\n   </g>\n   <g id=\"patch_15\">\n    <path d=\"M 649.593251 295.94175 \nL 707.844664 295.94175 \nL 707.844664 54.692921 \nL 649.593251 54.692921 \nz\n\" clip-path=\"url(#pb33268c534)\" style=\"fill: #dc143c\"/>\n   </g>\n   <g id=\"patch_16\">\n    <path d=\"M 417.315739 295.94175 \nL 417.315739 24.14175 \n\" style=\"fill: none; stroke: #ffffff; stroke-linejoin: miter; stroke-linecap: square\"/>\n   </g>\n   <g id=\"patch_17\">\n    <path d=\"M 721.679375 295.94175 \nL 721.679375 24.14175 \n\" style=\"fill: none; stroke: #ffffff; stroke-linejoin: miter; stroke-linecap: square\"/>\n   </g>\n   <g id=\"patch_18\">\n    <path d=\"M 417.315739 295.94175 \nL 721.679375 295.94175 \n\" style=\"fill: none; stroke: #ffffff; stroke-linejoin: miter; stroke-linecap: square\"/>\n   </g>\n   <g id=\"patch_19\">\n    <path d=\"M 417.315739 24.14175 \nL 721.679375 24.14175 \n\" style=\"fill: none; stroke: #ffffff; stroke-linejoin: miter; stroke-linecap: square\"/>\n   </g>\n   <g id=\"text_31\">\n    <!-- Variance by Reviewer -->\n    <g transform=\"translate(491.905182 18.14175)scale(0.144 -0.144)\">\n     <use xlink:href=\"#DejaVuSans-56\"/>\n     <use xlink:href=\"#DejaVuSans-61\" x=\"60.658203\"/>\n     <use xlink:href=\"#DejaVuSans-72\" x=\"121.9375\"/>\n     <use xlink:href=\"#DejaVuSans-69\" x=\"163.050781\"/>\n     <use xlink:href=\"#DejaVuSans-61\" x=\"190.833984\"/>\n     <use xlink:href=\"#DejaVuSans-6e\" x=\"252.113281\"/>\n     <use xlink:href=\"#DejaVuSans-63\" x=\"315.492188\"/>\n     <use xlink:href=\"#DejaVuSans-65\" x=\"370.472656\"/>\n     <use xlink:href=\"#DejaVuSans-20\" x=\"431.996094\"/>\n     <use xlink:href=\"#DejaVuSans-62\" x=\"463.783203\"/>\n     <use xlink:href=\"#DejaVuSans-79\" x=\"527.259766\"/>\n     <use xlink:href=\"#DejaVuSans-20\" x=\"586.439453\"/>\n     <use xlink:href=\"#DejaVuSans-52\" x=\"618.226562\"/>\n     <use xlink:href=\"#DejaVuSans-65\" x=\"683.208984\"/>\n     <use xlink:href=\"#DejaVuSans-76\" x=\"744.732422\"/>\n     <use xlink:href=\"#DejaVuSans-69\" x=\"803.912109\"/>\n     <use xlink:href=\"#DejaVuSans-65\" x=\"831.695312\"/>\n     <use xlink:href=\"#DejaVuSans-77\" x=\"893.21875\"/>\n     <use xlink:href=\"#DejaVuSans-65\" x=\"975.005859\"/>\n     <use xlink:href=\"#DejaVuSans-72\" x=\"1036.529297\"/>\n    </g>\n   </g>\n  </g>\n </g>\n <defs>\n  <clipPath id=\"p2f790200d2\">\n   <rect x=\"52.079375\" y=\"24.14175\" width=\"304.363636\" height=\"271.8\"/>\n  </clipPath>\n  <clipPath id=\"pb33268c534\">\n   <rect x=\"417.315739\" y=\"24.14175\" width=\"304.363636\" height=\"271.8\"/>\n  </clipPath>\n </defs>\n</svg>\n",
      "text/plain": [
       "<Figure size 864x360 with 2 Axes>"
      ]
     },
     "metadata": {
      "needs_background": "light"
     },
     "output_type": "display_data"
    }
   ],
   "source": [
    "import pandas as pd\n",
    "\n",
    "# load the data\n",
    "(_, trainrevid4plot, trainY4plot) = read_text_data(\"movierating_train.txt\")\n",
    "\n",
    "df_data = pd.DataFrame({'review': trainrevid4plot, 'label': trainY4plot})\n",
    "\n",
    "df_mean = df_data.groupby(['review']).agg({'label': 'mean'}).reset_index()\n",
    "\n",
    "df_var = df_data.groupby(['review']).agg({'label': 'var'}).reset_index()\n",
    "\n",
    "plt.figure(figsize=(12, 5))\n",
    "plt.style.use('ggplot')\n",
    "labels = [0,1,2,3]\n",
    "review_map = {'DSc':0, 'JBe':1, 'SRe':2, 'SRh':3} \n",
    "\n",
    "\n",
    "plt.subplot(1,2,1)\n",
    "plt.bar(labels, df_mean['label'].values, color=\"#DC143C\")\n",
    "plt.xticks(labels, list(df_mean['review'].values))\n",
    "plt.xlabel('Reviewer')\n",
    "plt.ylabel('Mean Score')\n",
    "plt.title('Mean Score by Reviewer')\n",
    "\n",
    "plt.subplot(1,2,2)\n",
    "plt.bar(labels, df_var['label'].values, color=\"#DC143C\")\n",
    "plt.xticks(labels,list(df_var['review'].values))\n",
    "plt.xlabel('Reviewer')\n",
    "plt.ylabel('Variance')\n",
    "plt.title('Variance by Reviewer')\n"
   ]
  },
  {
   "attachments": {},
   "cell_type": "markdown",
   "metadata": {},
   "source": [
    "### Find score distribution of each reviewer."
   ]
  },
  {
   "cell_type": "code",
   "execution_count": 16,
   "metadata": {},
   "outputs": [
    {
     "data": {
      "text/plain": [
       "Text(0.5, 1.0, 'Reviewer SRh')"
      ]
     },
     "execution_count": 16,
     "metadata": {},
     "output_type": "execute_result"
    },
    {
     "data": {
      "image/svg+xml": "<?xml version=\"1.0\" encoding=\"utf-8\" standalone=\"no\"?>\n<!DOCTYPE svg PUBLIC \"-//W3C//DTD SVG 1.1//EN\"\n  \"http://www.w3.org/Graphics/SVG/1.1/DTD/svg11.dtd\">\n<svg xmlns:xlink=\"http://www.w3.org/1999/xlink\" width=\"728.879375pt\" height=\"607.233625pt\" viewBox=\"0 0 728.879375 607.233625\" xmlns=\"http://www.w3.org/2000/svg\" version=\"1.1\">\n <metadata>\n  <rdf:RDF xmlns:dc=\"http://purl.org/dc/elements/1.1/\" xmlns:cc=\"http://creativecommons.org/ns#\" xmlns:rdf=\"http://www.w3.org/1999/02/22-rdf-syntax-ns#\">\n   <cc:Work>\n    <dc:type rdf:resource=\"http://purl.org/dc/dcmitype/StillImage\"/>\n    <dc:date>2023-02-13T14:13:58.474838</dc:date>\n    <dc:format>image/svg+xml</dc:format>\n    <dc:creator>\n     <cc:Agent>\n      <dc:title>Matplotlib v3.5.1, https://matplotlib.org/</dc:title>\n     </cc:Agent>\n    </dc:creator>\n   </cc:Work>\n  </rdf:RDF>\n </metadata>\n <defs>\n  <style type=\"text/css\">*{stroke-linejoin: round; stroke-linecap: butt}</style>\n </defs>\n <g id=\"figure_1\">\n  <g id=\"patch_1\">\n   <path d=\"M 0 607.233625 \nL 728.879375 607.233625 \nL 728.879375 0 \nL 0 0 \nz\n\" style=\"fill: #ffffff\"/>\n  </g>\n  <g id=\"axes_1\">\n   <g id=\"patch_2\">\n    <path d=\"M 52.079375 271.232659 \nL 356.443011 271.232659 \nL 356.443011 24.14175 \nL 52.079375 24.14175 \nz\n\" style=\"fill: #e5e5e5\"/>\n   </g>\n   <g id=\"matplotlib.axis_1\">\n    <g id=\"xtick_1\">\n     <g id=\"line2d_1\">\n      <path d=\"M 95.039793 271.232659 \nL 95.039793 24.14175 \n\" clip-path=\"url(#p56e93cf518)\" style=\"fill: none; stroke: #ffffff; stroke-width: 0.8; stroke-linecap: square\"/>\n     </g>\n     <g id=\"line2d_2\">\n      <defs>\n       <path id=\"maa80d56b69\" d=\"M 0 0 \nL 0 3.5 \n\" style=\"stroke: #555555; stroke-width: 0.8\"/>\n      </defs>\n      <g>\n       <use xlink:href=\"#maa80d56b69\" x=\"95.039793\" y=\"271.232659\" style=\"fill: #555555; stroke: #555555; stroke-width: 0.8\"/>\n      </g>\n     </g>\n     <g id=\"text_1\">\n      <!-- 0 -->\n      <g style=\"fill: #555555\" transform=\"translate(91.858543 285.831097)scale(0.1 -0.1)\">\n       <defs>\n        <path id=\"DejaVuSans-30\" d=\"M 2034 4250 \nQ 1547 4250 1301 3770 \nQ 1056 3291 1056 2328 \nQ 1056 1369 1301 889 \nQ 1547 409 2034 409 \nQ 2525 409 2770 889 \nQ 3016 1369 3016 2328 \nQ 3016 3291 2770 3770 \nQ 2525 4250 2034 4250 \nz\nM 2034 4750 \nQ 2819 4750 3233 4129 \nQ 3647 3509 3647 2328 \nQ 3647 1150 3233 529 \nQ 2819 -91 2034 -91 \nQ 1250 -91 836 529 \nQ 422 1150 422 2328 \nQ 422 3509 836 4129 \nQ 1250 4750 2034 4750 \nz\n\" transform=\"scale(0.015625)\"/>\n       </defs>\n       <use xlink:href=\"#DejaVuSans-30\"/>\n      </g>\n     </g>\n    </g>\n    <g id=\"xtick_2\">\n     <g id=\"line2d_3\">\n      <path d=\"M 167.85406 271.232659 \nL 167.85406 24.14175 \n\" clip-path=\"url(#p56e93cf518)\" style=\"fill: none; stroke: #ffffff; stroke-width: 0.8; stroke-linecap: square\"/>\n     </g>\n     <g id=\"line2d_4\">\n      <g>\n       <use xlink:href=\"#maa80d56b69\" x=\"167.85406\" y=\"271.232659\" style=\"fill: #555555; stroke: #555555; stroke-width: 0.8\"/>\n      </g>\n     </g>\n     <g id=\"text_2\">\n      <!-- 1 -->\n      <g style=\"fill: #555555\" transform=\"translate(164.67281 285.831097)scale(0.1 -0.1)\">\n       <defs>\n        <path id=\"DejaVuSans-31\" d=\"M 794 531 \nL 1825 531 \nL 1825 4091 \nL 703 3866 \nL 703 4441 \nL 1819 4666 \nL 2450 4666 \nL 2450 531 \nL 3481 531 \nL 3481 0 \nL 794 0 \nL 794 531 \nz\n\" transform=\"scale(0.015625)\"/>\n       </defs>\n       <use xlink:href=\"#DejaVuSans-31\"/>\n      </g>\n     </g>\n    </g>\n    <g id=\"xtick_3\">\n     <g id=\"line2d_5\">\n      <path d=\"M 240.668327 271.232659 \nL 240.668327 24.14175 \n\" clip-path=\"url(#p56e93cf518)\" style=\"fill: none; stroke: #ffffff; stroke-width: 0.8; stroke-linecap: square\"/>\n     </g>\n     <g id=\"line2d_6\">\n      <g>\n       <use xlink:href=\"#maa80d56b69\" x=\"240.668327\" y=\"271.232659\" style=\"fill: #555555; stroke: #555555; stroke-width: 0.8\"/>\n      </g>\n     </g>\n     <g id=\"text_3\">\n      <!-- 2 -->\n      <g style=\"fill: #555555\" transform=\"translate(237.487077 285.831097)scale(0.1 -0.1)\">\n       <defs>\n        <path id=\"DejaVuSans-32\" d=\"M 1228 531 \nL 3431 531 \nL 3431 0 \nL 469 0 \nL 469 531 \nQ 828 903 1448 1529 \nQ 2069 2156 2228 2338 \nQ 2531 2678 2651 2914 \nQ 2772 3150 2772 3378 \nQ 2772 3750 2511 3984 \nQ 2250 4219 1831 4219 \nQ 1534 4219 1204 4116 \nQ 875 4013 500 3803 \nL 500 4441 \nQ 881 4594 1212 4672 \nQ 1544 4750 1819 4750 \nQ 2544 4750 2975 4387 \nQ 3406 4025 3406 3419 \nQ 3406 3131 3298 2873 \nQ 3191 2616 2906 2266 \nQ 2828 2175 2409 1742 \nQ 1991 1309 1228 531 \nz\n\" transform=\"scale(0.015625)\"/>\n       </defs>\n       <use xlink:href=\"#DejaVuSans-32\"/>\n      </g>\n     </g>\n    </g>\n    <g id=\"xtick_4\">\n     <g id=\"line2d_7\">\n      <path d=\"M 313.482594 271.232659 \nL 313.482594 24.14175 \n\" clip-path=\"url(#p56e93cf518)\" style=\"fill: none; stroke: #ffffff; stroke-width: 0.8; stroke-linecap: square\"/>\n     </g>\n     <g id=\"line2d_8\">\n      <g>\n       <use xlink:href=\"#maa80d56b69\" x=\"313.482594\" y=\"271.232659\" style=\"fill: #555555; stroke: #555555; stroke-width: 0.8\"/>\n      </g>\n     </g>\n     <g id=\"text_4\">\n      <!-- 3 -->\n      <g style=\"fill: #555555\" transform=\"translate(310.301344 285.831097)scale(0.1 -0.1)\">\n       <defs>\n        <path id=\"DejaVuSans-33\" d=\"M 2597 2516 \nQ 3050 2419 3304 2112 \nQ 3559 1806 3559 1356 \nQ 3559 666 3084 287 \nQ 2609 -91 1734 -91 \nQ 1441 -91 1130 -33 \nQ 819 25 488 141 \nL 488 750 \nQ 750 597 1062 519 \nQ 1375 441 1716 441 \nQ 2309 441 2620 675 \nQ 2931 909 2931 1356 \nQ 2931 1769 2642 2001 \nQ 2353 2234 1838 2234 \nL 1294 2234 \nL 1294 2753 \nL 1863 2753 \nQ 2328 2753 2575 2939 \nQ 2822 3125 2822 3475 \nQ 2822 3834 2567 4026 \nQ 2313 4219 1838 4219 \nQ 1578 4219 1281 4162 \nQ 984 4106 628 3988 \nL 628 4550 \nQ 988 4650 1302 4700 \nQ 1616 4750 1894 4750 \nQ 2613 4750 3031 4423 \nQ 3450 4097 3450 3541 \nQ 3450 3153 3228 2886 \nQ 3006 2619 2597 2516 \nz\n\" transform=\"scale(0.015625)\"/>\n       </defs>\n       <use xlink:href=\"#DejaVuSans-33\"/>\n      </g>\n     </g>\n    </g>\n    <g id=\"text_5\">\n     <!-- Label -->\n     <g style=\"fill: #555555\" transform=\"translate(188.073381 301.028909)scale(0.12 -0.12)\">\n      <defs>\n       <path id=\"DejaVuSans-4c\" d=\"M 628 4666 \nL 1259 4666 \nL 1259 531 \nL 3531 531 \nL 3531 0 \nL 628 0 \nL 628 4666 \nz\n\" transform=\"scale(0.015625)\"/>\n       <path id=\"DejaVuSans-61\" d=\"M 2194 1759 \nQ 1497 1759 1228 1600 \nQ 959 1441 959 1056 \nQ 959 750 1161 570 \nQ 1363 391 1709 391 \nQ 2188 391 2477 730 \nQ 2766 1069 2766 1631 \nL 2766 1759 \nL 2194 1759 \nz\nM 3341 1997 \nL 3341 0 \nL 2766 0 \nL 2766 531 \nQ 2569 213 2275 61 \nQ 1981 -91 1556 -91 \nQ 1019 -91 701 211 \nQ 384 513 384 1019 \nQ 384 1609 779 1909 \nQ 1175 2209 1959 2209 \nL 2766 2209 \nL 2766 2266 \nQ 2766 2663 2505 2880 \nQ 2244 3097 1772 3097 \nQ 1472 3097 1187 3025 \nQ 903 2953 641 2809 \nL 641 3341 \nQ 956 3463 1253 3523 \nQ 1550 3584 1831 3584 \nQ 2591 3584 2966 3190 \nQ 3341 2797 3341 1997 \nz\n\" transform=\"scale(0.015625)\"/>\n       <path id=\"DejaVuSans-62\" d=\"M 3116 1747 \nQ 3116 2381 2855 2742 \nQ 2594 3103 2138 3103 \nQ 1681 3103 1420 2742 \nQ 1159 2381 1159 1747 \nQ 1159 1113 1420 752 \nQ 1681 391 2138 391 \nQ 2594 391 2855 752 \nQ 3116 1113 3116 1747 \nz\nM 1159 2969 \nQ 1341 3281 1617 3432 \nQ 1894 3584 2278 3584 \nQ 2916 3584 3314 3078 \nQ 3713 2572 3713 1747 \nQ 3713 922 3314 415 \nQ 2916 -91 2278 -91 \nQ 1894 -91 1617 61 \nQ 1341 213 1159 525 \nL 1159 0 \nL 581 0 \nL 581 4863 \nL 1159 4863 \nL 1159 2969 \nz\n\" transform=\"scale(0.015625)\"/>\n       <path id=\"DejaVuSans-65\" d=\"M 3597 1894 \nL 3597 1613 \nL 953 1613 \nQ 991 1019 1311 708 \nQ 1631 397 2203 397 \nQ 2534 397 2845 478 \nQ 3156 559 3463 722 \nL 3463 178 \nQ 3153 47 2828 -22 \nQ 2503 -91 2169 -91 \nQ 1331 -91 842 396 \nQ 353 884 353 1716 \nQ 353 2575 817 3079 \nQ 1281 3584 2069 3584 \nQ 2775 3584 3186 3129 \nQ 3597 2675 3597 1894 \nz\nM 3022 2063 \nQ 3016 2534 2758 2815 \nQ 2500 3097 2075 3097 \nQ 1594 3097 1305 2825 \nQ 1016 2553 972 2059 \nL 3022 2063 \nz\n\" transform=\"scale(0.015625)\"/>\n       <path id=\"DejaVuSans-6c\" d=\"M 603 4863 \nL 1178 4863 \nL 1178 0 \nL 603 0 \nL 603 4863 \nz\n\" transform=\"scale(0.015625)\"/>\n      </defs>\n      <use xlink:href=\"#DejaVuSans-4c\"/>\n      <use xlink:href=\"#DejaVuSans-61\" x=\"55.712891\"/>\n      <use xlink:href=\"#DejaVuSans-62\" x=\"116.992188\"/>\n      <use xlink:href=\"#DejaVuSans-65\" x=\"180.46875\"/>\n      <use xlink:href=\"#DejaVuSans-6c\" x=\"241.992188\"/>\n     </g>\n    </g>\n   </g>\n   <g id=\"matplotlib.axis_2\">\n    <g id=\"ytick_1\">\n     <g id=\"line2d_9\">\n      <path d=\"M 52.079375 271.232659 \nL 356.443011 271.232659 \n\" clip-path=\"url(#p56e93cf518)\" style=\"fill: none; stroke: #ffffff; stroke-width: 0.8; stroke-linecap: square\"/>\n     </g>\n     <g id=\"line2d_10\">\n      <defs>\n       <path id=\"mf68aaddf59\" d=\"M 0 0 \nL -3.5 0 \n\" style=\"stroke: #555555; stroke-width: 0.8\"/>\n      </defs>\n      <g>\n       <use xlink:href=\"#mf68aaddf59\" x=\"52.079375\" y=\"271.232659\" style=\"fill: #555555; stroke: #555555; stroke-width: 0.8\"/>\n      </g>\n     </g>\n     <g id=\"text_6\">\n      <!-- 0.0 -->\n      <g style=\"fill: #555555\" transform=\"translate(29.17625 275.031878)scale(0.1 -0.1)\">\n       <defs>\n        <path id=\"DejaVuSans-2e\" d=\"M 684 794 \nL 1344 794 \nL 1344 0 \nL 684 0 \nL 684 794 \nz\n\" transform=\"scale(0.015625)\"/>\n       </defs>\n       <use xlink:href=\"#DejaVuSans-30\"/>\n       <use xlink:href=\"#DejaVuSans-2e\" x=\"63.623047\"/>\n       <use xlink:href=\"#DejaVuSans-30\" x=\"95.410156\"/>\n      </g>\n     </g>\n    </g>\n    <g id=\"ytick_2\">\n     <g id=\"line2d_11\">\n      <path d=\"M 52.079375 217.602036 \nL 356.443011 217.602036 \n\" clip-path=\"url(#p56e93cf518)\" style=\"fill: none; stroke: #ffffff; stroke-width: 0.8; stroke-linecap: square\"/>\n     </g>\n     <g id=\"line2d_12\">\n      <g>\n       <use xlink:href=\"#mf68aaddf59\" x=\"52.079375\" y=\"217.602036\" style=\"fill: #555555; stroke: #555555; stroke-width: 0.8\"/>\n      </g>\n     </g>\n     <g id=\"text_7\">\n      <!-- 0.1 -->\n      <g style=\"fill: #555555\" transform=\"translate(29.17625 221.401254)scale(0.1 -0.1)\">\n       <use xlink:href=\"#DejaVuSans-30\"/>\n       <use xlink:href=\"#DejaVuSans-2e\" x=\"63.623047\"/>\n       <use xlink:href=\"#DejaVuSans-31\" x=\"95.410156\"/>\n      </g>\n     </g>\n    </g>\n    <g id=\"ytick_3\">\n     <g id=\"line2d_13\">\n      <path d=\"M 52.079375 163.971412 \nL 356.443011 163.971412 \n\" clip-path=\"url(#p56e93cf518)\" style=\"fill: none; stroke: #ffffff; stroke-width: 0.8; stroke-linecap: square\"/>\n     </g>\n     <g id=\"line2d_14\">\n      <g>\n       <use xlink:href=\"#mf68aaddf59\" x=\"52.079375\" y=\"163.971412\" style=\"fill: #555555; stroke: #555555; stroke-width: 0.8\"/>\n      </g>\n     </g>\n     <g id=\"text_8\">\n      <!-- 0.2 -->\n      <g style=\"fill: #555555\" transform=\"translate(29.17625 167.770631)scale(0.1 -0.1)\">\n       <use xlink:href=\"#DejaVuSans-30\"/>\n       <use xlink:href=\"#DejaVuSans-2e\" x=\"63.623047\"/>\n       <use xlink:href=\"#DejaVuSans-32\" x=\"95.410156\"/>\n      </g>\n     </g>\n    </g>\n    <g id=\"ytick_4\">\n     <g id=\"line2d_15\">\n      <path d=\"M 52.079375 110.340789 \nL 356.443011 110.340789 \n\" clip-path=\"url(#p56e93cf518)\" style=\"fill: none; stroke: #ffffff; stroke-width: 0.8; stroke-linecap: square\"/>\n     </g>\n     <g id=\"line2d_16\">\n      <g>\n       <use xlink:href=\"#mf68aaddf59\" x=\"52.079375\" y=\"110.340789\" style=\"fill: #555555; stroke: #555555; stroke-width: 0.8\"/>\n      </g>\n     </g>\n     <g id=\"text_9\">\n      <!-- 0.3 -->\n      <g style=\"fill: #555555\" transform=\"translate(29.17625 114.140007)scale(0.1 -0.1)\">\n       <use xlink:href=\"#DejaVuSans-30\"/>\n       <use xlink:href=\"#DejaVuSans-2e\" x=\"63.623047\"/>\n       <use xlink:href=\"#DejaVuSans-33\" x=\"95.410156\"/>\n      </g>\n     </g>\n    </g>\n    <g id=\"ytick_5\">\n     <g id=\"line2d_17\">\n      <path d=\"M 52.079375 56.710165 \nL 356.443011 56.710165 \n\" clip-path=\"url(#p56e93cf518)\" style=\"fill: none; stroke: #ffffff; stroke-width: 0.8; stroke-linecap: square\"/>\n     </g>\n     <g id=\"line2d_18\">\n      <g>\n       <use xlink:href=\"#mf68aaddf59\" x=\"52.079375\" y=\"56.710165\" style=\"fill: #555555; stroke: #555555; stroke-width: 0.8\"/>\n      </g>\n     </g>\n     <g id=\"text_10\">\n      <!-- 0.4 -->\n      <g style=\"fill: #555555\" transform=\"translate(29.17625 60.509384)scale(0.1 -0.1)\">\n       <defs>\n        <path id=\"DejaVuSans-34\" d=\"M 2419 4116 \nL 825 1625 \nL 2419 1625 \nL 2419 4116 \nz\nM 2253 4666 \nL 3047 4666 \nL 3047 1625 \nL 3713 1625 \nL 3713 1100 \nL 3047 1100 \nL 3047 0 \nL 2419 0 \nL 2419 1100 \nL 313 1100 \nL 313 1709 \nL 2253 4666 \nz\n\" transform=\"scale(0.015625)\"/>\n       </defs>\n       <use xlink:href=\"#DejaVuSans-30\"/>\n       <use xlink:href=\"#DejaVuSans-2e\" x=\"63.623047\"/>\n       <use xlink:href=\"#DejaVuSans-34\" x=\"95.410156\"/>\n      </g>\n     </g>\n    </g>\n    <g id=\"text_11\">\n     <!-- Propotion -->\n     <g style=\"fill: #555555\" transform=\"translate(22.680625 176.175955)rotate(-90)scale(0.12 -0.12)\">\n      <defs>\n       <path id=\"DejaVuSans-50\" d=\"M 1259 4147 \nL 1259 2394 \nL 2053 2394 \nQ 2494 2394 2734 2622 \nQ 2975 2850 2975 3272 \nQ 2975 3691 2734 3919 \nQ 2494 4147 2053 4147 \nL 1259 4147 \nz\nM 628 4666 \nL 2053 4666 \nQ 2838 4666 3239 4311 \nQ 3641 3956 3641 3272 \nQ 3641 2581 3239 2228 \nQ 2838 1875 2053 1875 \nL 1259 1875 \nL 1259 0 \nL 628 0 \nL 628 4666 \nz\n\" transform=\"scale(0.015625)\"/>\n       <path id=\"DejaVuSans-72\" d=\"M 2631 2963 \nQ 2534 3019 2420 3045 \nQ 2306 3072 2169 3072 \nQ 1681 3072 1420 2755 \nQ 1159 2438 1159 1844 \nL 1159 0 \nL 581 0 \nL 581 3500 \nL 1159 3500 \nL 1159 2956 \nQ 1341 3275 1631 3429 \nQ 1922 3584 2338 3584 \nQ 2397 3584 2469 3576 \nQ 2541 3569 2628 3553 \nL 2631 2963 \nz\n\" transform=\"scale(0.015625)\"/>\n       <path id=\"DejaVuSans-6f\" d=\"M 1959 3097 \nQ 1497 3097 1228 2736 \nQ 959 2375 959 1747 \nQ 959 1119 1226 758 \nQ 1494 397 1959 397 \nQ 2419 397 2687 759 \nQ 2956 1122 2956 1747 \nQ 2956 2369 2687 2733 \nQ 2419 3097 1959 3097 \nz\nM 1959 3584 \nQ 2709 3584 3137 3096 \nQ 3566 2609 3566 1747 \nQ 3566 888 3137 398 \nQ 2709 -91 1959 -91 \nQ 1206 -91 779 398 \nQ 353 888 353 1747 \nQ 353 2609 779 3096 \nQ 1206 3584 1959 3584 \nz\n\" transform=\"scale(0.015625)\"/>\n       <path id=\"DejaVuSans-70\" d=\"M 1159 525 \nL 1159 -1331 \nL 581 -1331 \nL 581 3500 \nL 1159 3500 \nL 1159 2969 \nQ 1341 3281 1617 3432 \nQ 1894 3584 2278 3584 \nQ 2916 3584 3314 3078 \nQ 3713 2572 3713 1747 \nQ 3713 922 3314 415 \nQ 2916 -91 2278 -91 \nQ 1894 -91 1617 61 \nQ 1341 213 1159 525 \nz\nM 3116 1747 \nQ 3116 2381 2855 2742 \nQ 2594 3103 2138 3103 \nQ 1681 3103 1420 2742 \nQ 1159 2381 1159 1747 \nQ 1159 1113 1420 752 \nQ 1681 391 2138 391 \nQ 2594 391 2855 752 \nQ 3116 1113 3116 1747 \nz\n\" transform=\"scale(0.015625)\"/>\n       <path id=\"DejaVuSans-74\" d=\"M 1172 4494 \nL 1172 3500 \nL 2356 3500 \nL 2356 3053 \nL 1172 3053 \nL 1172 1153 \nQ 1172 725 1289 603 \nQ 1406 481 1766 481 \nL 2356 481 \nL 2356 0 \nL 1766 0 \nQ 1100 0 847 248 \nQ 594 497 594 1153 \nL 594 3053 \nL 172 3053 \nL 172 3500 \nL 594 3500 \nL 594 4494 \nL 1172 4494 \nz\n\" transform=\"scale(0.015625)\"/>\n       <path id=\"DejaVuSans-69\" d=\"M 603 3500 \nL 1178 3500 \nL 1178 0 \nL 603 0 \nL 603 3500 \nz\nM 603 4863 \nL 1178 4863 \nL 1178 4134 \nL 603 4134 \nL 603 4863 \nz\n\" transform=\"scale(0.015625)\"/>\n       <path id=\"DejaVuSans-6e\" d=\"M 3513 2113 \nL 3513 0 \nL 2938 0 \nL 2938 2094 \nQ 2938 2591 2744 2837 \nQ 2550 3084 2163 3084 \nQ 1697 3084 1428 2787 \nQ 1159 2491 1159 1978 \nL 1159 0 \nL 581 0 \nL 581 3500 \nL 1159 3500 \nL 1159 2956 \nQ 1366 3272 1645 3428 \nQ 1925 3584 2291 3584 \nQ 2894 3584 3203 3211 \nQ 3513 2838 3513 2113 \nz\n\" transform=\"scale(0.015625)\"/>\n      </defs>\n      <use xlink:href=\"#DejaVuSans-50\"/>\n      <use xlink:href=\"#DejaVuSans-72\" x=\"58.552734\"/>\n      <use xlink:href=\"#DejaVuSans-6f\" x=\"97.416016\"/>\n      <use xlink:href=\"#DejaVuSans-70\" x=\"158.597656\"/>\n      <use xlink:href=\"#DejaVuSans-6f\" x=\"222.074219\"/>\n      <use xlink:href=\"#DejaVuSans-74\" x=\"283.255859\"/>\n      <use xlink:href=\"#DejaVuSans-69\" x=\"322.464844\"/>\n      <use xlink:href=\"#DejaVuSans-6f\" x=\"350.248047\"/>\n      <use xlink:href=\"#DejaVuSans-6e\" x=\"411.429688\"/>\n     </g>\n    </g>\n   </g>\n   <g id=\"patch_3\">\n    <path d=\"M 65.914086 271.232659 \nL 124.165499 271.232659 \nL 124.165499 182.823389 \nL 65.914086 182.823389 \nz\n\" clip-path=\"url(#p56e93cf518)\" style=\"fill: #dc143c\"/>\n   </g>\n   <g id=\"patch_4\">\n    <path d=\"M 138.728353 271.232659 \nL 196.979766 271.232659 \nL 196.979766 35.907984 \nL 138.728353 35.907984 \nz\n\" clip-path=\"url(#p56e93cf518)\" style=\"fill: #dc143c\"/>\n   </g>\n   <g id=\"patch_5\">\n    <path d=\"M 211.54262 271.232659 \nL 269.794034 271.232659 \nL 269.794034 117.166504 \nL 211.54262 117.166504 \nz\n\" clip-path=\"url(#p56e93cf518)\" style=\"fill: #dc143c\"/>\n   </g>\n   <g id=\"patch_6\">\n    <path d=\"M 284.356887 271.232659 \nL 342.608301 271.232659 \nL 342.608301 212.726524 \nL 284.356887 212.726524 \nz\n\" clip-path=\"url(#p56e93cf518)\" style=\"fill: #dc143c\"/>\n   </g>\n   <g id=\"patch_7\">\n    <path d=\"M 52.079375 271.232659 \nL 52.079375 24.14175 \n\" style=\"fill: none; stroke: #ffffff; stroke-linejoin: miter; stroke-linecap: square\"/>\n   </g>\n   <g id=\"patch_8\">\n    <path d=\"M 356.443011 271.232659 \nL 356.443011 24.14175 \n\" style=\"fill: none; stroke: #ffffff; stroke-linejoin: miter; stroke-linecap: square\"/>\n   </g>\n   <g id=\"patch_9\">\n    <path d=\"M 52.079375 271.232659 \nL 356.443011 271.232659 \n\" style=\"fill: none; stroke: #ffffff; stroke-linejoin: miter; stroke-linecap: square\"/>\n   </g>\n   <g id=\"patch_10\">\n    <path d=\"M 52.079375 24.14175 \nL 356.443011 24.14175 \n\" style=\"fill: none; stroke: #ffffff; stroke-linejoin: miter; stroke-linecap: square\"/>\n   </g>\n   <g id=\"text_12\">\n    <!-- Reviewer DSc -->\n    <g transform=\"translate(154.819693 18.14175)scale(0.144 -0.144)\">\n     <defs>\n      <path id=\"DejaVuSans-52\" d=\"M 2841 2188 \nQ 3044 2119 3236 1894 \nQ 3428 1669 3622 1275 \nL 4263 0 \nL 3584 0 \nL 2988 1197 \nQ 2756 1666 2539 1819 \nQ 2322 1972 1947 1972 \nL 1259 1972 \nL 1259 0 \nL 628 0 \nL 628 4666 \nL 2053 4666 \nQ 2853 4666 3247 4331 \nQ 3641 3997 3641 3322 \nQ 3641 2881 3436 2590 \nQ 3231 2300 2841 2188 \nz\nM 1259 4147 \nL 1259 2491 \nL 2053 2491 \nQ 2509 2491 2742 2702 \nQ 2975 2913 2975 3322 \nQ 2975 3731 2742 3939 \nQ 2509 4147 2053 4147 \nL 1259 4147 \nz\n\" transform=\"scale(0.015625)\"/>\n      <path id=\"DejaVuSans-76\" d=\"M 191 3500 \nL 800 3500 \nL 1894 563 \nL 2988 3500 \nL 3597 3500 \nL 2284 0 \nL 1503 0 \nL 191 3500 \nz\n\" transform=\"scale(0.015625)\"/>\n      <path id=\"DejaVuSans-77\" d=\"M 269 3500 \nL 844 3500 \nL 1563 769 \nL 2278 3500 \nL 2956 3500 \nL 3675 769 \nL 4391 3500 \nL 4966 3500 \nL 4050 0 \nL 3372 0 \nL 2619 2869 \nL 1863 0 \nL 1184 0 \nL 269 3500 \nz\n\" transform=\"scale(0.015625)\"/>\n      <path id=\"DejaVuSans-20\" transform=\"scale(0.015625)\"/>\n      <path id=\"DejaVuSans-44\" d=\"M 1259 4147 \nL 1259 519 \nL 2022 519 \nQ 2988 519 3436 956 \nQ 3884 1394 3884 2338 \nQ 3884 3275 3436 3711 \nQ 2988 4147 2022 4147 \nL 1259 4147 \nz\nM 628 4666 \nL 1925 4666 \nQ 3281 4666 3915 4102 \nQ 4550 3538 4550 2338 \nQ 4550 1131 3912 565 \nQ 3275 0 1925 0 \nL 628 0 \nL 628 4666 \nz\n\" transform=\"scale(0.015625)\"/>\n      <path id=\"DejaVuSans-53\" d=\"M 3425 4513 \nL 3425 3897 \nQ 3066 4069 2747 4153 \nQ 2428 4238 2131 4238 \nQ 1616 4238 1336 4038 \nQ 1056 3838 1056 3469 \nQ 1056 3159 1242 3001 \nQ 1428 2844 1947 2747 \nL 2328 2669 \nQ 3034 2534 3370 2195 \nQ 3706 1856 3706 1288 \nQ 3706 609 3251 259 \nQ 2797 -91 1919 -91 \nQ 1588 -91 1214 -16 \nQ 841 59 441 206 \nL 441 856 \nQ 825 641 1194 531 \nQ 1563 422 1919 422 \nQ 2459 422 2753 634 \nQ 3047 847 3047 1241 \nQ 3047 1584 2836 1778 \nQ 2625 1972 2144 2069 \nL 1759 2144 \nQ 1053 2284 737 2584 \nQ 422 2884 422 3419 \nQ 422 4038 858 4394 \nQ 1294 4750 2059 4750 \nQ 2388 4750 2728 4690 \nQ 3069 4631 3425 4513 \nz\n\" transform=\"scale(0.015625)\"/>\n      <path id=\"DejaVuSans-63\" d=\"M 3122 3366 \nL 3122 2828 \nQ 2878 2963 2633 3030 \nQ 2388 3097 2138 3097 \nQ 1578 3097 1268 2742 \nQ 959 2388 959 1747 \nQ 959 1106 1268 751 \nQ 1578 397 2138 397 \nQ 2388 397 2633 464 \nQ 2878 531 3122 666 \nL 3122 134 \nQ 2881 22 2623 -34 \nQ 2366 -91 2075 -91 \nQ 1284 -91 818 406 \nQ 353 903 353 1747 \nQ 353 2603 823 3093 \nQ 1294 3584 2113 3584 \nQ 2378 3584 2631 3529 \nQ 2884 3475 3122 3366 \nz\n\" transform=\"scale(0.015625)\"/>\n     </defs>\n     <use xlink:href=\"#DejaVuSans-52\"/>\n     <use xlink:href=\"#DejaVuSans-65\" x=\"64.982422\"/>\n     <use xlink:href=\"#DejaVuSans-76\" x=\"126.505859\"/>\n     <use xlink:href=\"#DejaVuSans-69\" x=\"185.685547\"/>\n     <use xlink:href=\"#DejaVuSans-65\" x=\"213.46875\"/>\n     <use xlink:href=\"#DejaVuSans-77\" x=\"274.992188\"/>\n     <use xlink:href=\"#DejaVuSans-65\" x=\"356.779297\"/>\n     <use xlink:href=\"#DejaVuSans-72\" x=\"418.302734\"/>\n     <use xlink:href=\"#DejaVuSans-20\" x=\"459.416016\"/>\n     <use xlink:href=\"#DejaVuSans-44\" x=\"491.203125\"/>\n     <use xlink:href=\"#DejaVuSans-53\" x=\"568.205078\"/>\n     <use xlink:href=\"#DejaVuSans-63\" x=\"631.681641\"/>\n    </g>\n   </g>\n  </g>\n  <g id=\"axes_2\">\n   <g id=\"patch_11\">\n    <path d=\"M 417.315739 271.232659 \nL 721.679375 271.232659 \nL 721.679375 24.14175 \nL 417.315739 24.14175 \nz\n\" style=\"fill: #e5e5e5\"/>\n   </g>\n   <g id=\"matplotlib.axis_3\">\n    <g id=\"xtick_5\">\n     <g id=\"line2d_19\">\n      <path d=\"M 460.276156 271.232659 \nL 460.276156 24.14175 \n\" clip-path=\"url(#p6b63994e40)\" style=\"fill: none; stroke: #ffffff; stroke-width: 0.8; stroke-linecap: square\"/>\n     </g>\n     <g id=\"line2d_20\">\n      <g>\n       <use xlink:href=\"#maa80d56b69\" x=\"460.276156\" y=\"271.232659\" style=\"fill: #555555; stroke: #555555; stroke-width: 0.8\"/>\n      </g>\n     </g>\n     <g id=\"text_13\">\n      <!-- 0 -->\n      <g style=\"fill: #555555\" transform=\"translate(457.094906 285.831097)scale(0.1 -0.1)\">\n       <use xlink:href=\"#DejaVuSans-30\"/>\n      </g>\n     </g>\n    </g>\n    <g id=\"xtick_6\">\n     <g id=\"line2d_21\">\n      <path d=\"M 533.090423 271.232659 \nL 533.090423 24.14175 \n\" clip-path=\"url(#p6b63994e40)\" style=\"fill: none; stroke: #ffffff; stroke-width: 0.8; stroke-linecap: square\"/>\n     </g>\n     <g id=\"line2d_22\">\n      <g>\n       <use xlink:href=\"#maa80d56b69\" x=\"533.090423\" y=\"271.232659\" style=\"fill: #555555; stroke: #555555; stroke-width: 0.8\"/>\n      </g>\n     </g>\n     <g id=\"text_14\">\n      <!-- 1 -->\n      <g style=\"fill: #555555\" transform=\"translate(529.909173 285.831097)scale(0.1 -0.1)\">\n       <use xlink:href=\"#DejaVuSans-31\"/>\n      </g>\n     </g>\n    </g>\n    <g id=\"xtick_7\">\n     <g id=\"line2d_23\">\n      <path d=\"M 605.90469 271.232659 \nL 605.90469 24.14175 \n\" clip-path=\"url(#p6b63994e40)\" style=\"fill: none; stroke: #ffffff; stroke-width: 0.8; stroke-linecap: square\"/>\n     </g>\n     <g id=\"line2d_24\">\n      <g>\n       <use xlink:href=\"#maa80d56b69\" x=\"605.90469\" y=\"271.232659\" style=\"fill: #555555; stroke: #555555; stroke-width: 0.8\"/>\n      </g>\n     </g>\n     <g id=\"text_15\">\n      <!-- 2 -->\n      <g style=\"fill: #555555\" transform=\"translate(602.72344 285.831097)scale(0.1 -0.1)\">\n       <use xlink:href=\"#DejaVuSans-32\"/>\n      </g>\n     </g>\n    </g>\n    <g id=\"xtick_8\">\n     <g id=\"line2d_25\">\n      <path d=\"M 678.718957 271.232659 \nL 678.718957 24.14175 \n\" clip-path=\"url(#p6b63994e40)\" style=\"fill: none; stroke: #ffffff; stroke-width: 0.8; stroke-linecap: square\"/>\n     </g>\n     <g id=\"line2d_26\">\n      <g>\n       <use xlink:href=\"#maa80d56b69\" x=\"678.718957\" y=\"271.232659\" style=\"fill: #555555; stroke: #555555; stroke-width: 0.8\"/>\n      </g>\n     </g>\n     <g id=\"text_16\">\n      <!-- 3 -->\n      <g style=\"fill: #555555\" transform=\"translate(675.537707 285.831097)scale(0.1 -0.1)\">\n       <use xlink:href=\"#DejaVuSans-33\"/>\n      </g>\n     </g>\n    </g>\n    <g id=\"text_17\">\n     <!-- Label -->\n     <g style=\"fill: #555555\" transform=\"translate(553.309744 301.028909)scale(0.12 -0.12)\">\n      <use xlink:href=\"#DejaVuSans-4c\"/>\n      <use xlink:href=\"#DejaVuSans-61\" x=\"55.712891\"/>\n      <use xlink:href=\"#DejaVuSans-62\" x=\"116.992188\"/>\n      <use xlink:href=\"#DejaVuSans-65\" x=\"180.46875\"/>\n      <use xlink:href=\"#DejaVuSans-6c\" x=\"241.992188\"/>\n     </g>\n    </g>\n   </g>\n   <g id=\"matplotlib.axis_4\">\n    <g id=\"ytick_6\">\n     <g id=\"line2d_27\">\n      <path d=\"M 417.315739 271.232659 \nL 721.679375 271.232659 \n\" clip-path=\"url(#p6b63994e40)\" style=\"fill: none; stroke: #ffffff; stroke-width: 0.8; stroke-linecap: square\"/>\n     </g>\n     <g id=\"line2d_28\">\n      <g>\n       <use xlink:href=\"#mf68aaddf59\" x=\"417.315739\" y=\"271.232659\" style=\"fill: #555555; stroke: #555555; stroke-width: 0.8\"/>\n      </g>\n     </g>\n     <g id=\"text_18\">\n      <!-- 0.0 -->\n      <g style=\"fill: #555555\" transform=\"translate(394.412614 275.031878)scale(0.1 -0.1)\">\n       <use xlink:href=\"#DejaVuSans-30\"/>\n       <use xlink:href=\"#DejaVuSans-2e\" x=\"63.623047\"/>\n       <use xlink:href=\"#DejaVuSans-30\" x=\"95.410156\"/>\n      </g>\n     </g>\n    </g>\n    <g id=\"ytick_7\">\n     <g id=\"line2d_29\">\n      <path d=\"M 417.315739 219.628967 \nL 721.679375 219.628967 \n\" clip-path=\"url(#p6b63994e40)\" style=\"fill: none; stroke: #ffffff; stroke-width: 0.8; stroke-linecap: square\"/>\n     </g>\n     <g id=\"line2d_30\">\n      <g>\n       <use xlink:href=\"#mf68aaddf59\" x=\"417.315739\" y=\"219.628967\" style=\"fill: #555555; stroke: #555555; stroke-width: 0.8\"/>\n      </g>\n     </g>\n     <g id=\"text_19\">\n      <!-- 0.1 -->\n      <g style=\"fill: #555555\" transform=\"translate(394.412614 223.428186)scale(0.1 -0.1)\">\n       <use xlink:href=\"#DejaVuSans-30\"/>\n       <use xlink:href=\"#DejaVuSans-2e\" x=\"63.623047\"/>\n       <use xlink:href=\"#DejaVuSans-31\" x=\"95.410156\"/>\n      </g>\n     </g>\n    </g>\n    <g id=\"ytick_8\">\n     <g id=\"line2d_31\">\n      <path d=\"M 417.315739 168.025275 \nL 721.679375 168.025275 \n\" clip-path=\"url(#p6b63994e40)\" style=\"fill: none; stroke: #ffffff; stroke-width: 0.8; stroke-linecap: square\"/>\n     </g>\n     <g id=\"line2d_32\">\n      <g>\n       <use xlink:href=\"#mf68aaddf59\" x=\"417.315739\" y=\"168.025275\" style=\"fill: #555555; stroke: #555555; stroke-width: 0.8\"/>\n      </g>\n     </g>\n     <g id=\"text_20\">\n      <!-- 0.2 -->\n      <g style=\"fill: #555555\" transform=\"translate(394.412614 171.824494)scale(0.1 -0.1)\">\n       <use xlink:href=\"#DejaVuSans-30\"/>\n       <use xlink:href=\"#DejaVuSans-2e\" x=\"63.623047\"/>\n       <use xlink:href=\"#DejaVuSans-32\" x=\"95.410156\"/>\n      </g>\n     </g>\n    </g>\n    <g id=\"ytick_9\">\n     <g id=\"line2d_33\">\n      <path d=\"M 417.315739 116.421583 \nL 721.679375 116.421583 \n\" clip-path=\"url(#p6b63994e40)\" style=\"fill: none; stroke: #ffffff; stroke-width: 0.8; stroke-linecap: square\"/>\n     </g>\n     <g id=\"line2d_34\">\n      <g>\n       <use xlink:href=\"#mf68aaddf59\" x=\"417.315739\" y=\"116.421583\" style=\"fill: #555555; stroke: #555555; stroke-width: 0.8\"/>\n      </g>\n     </g>\n     <g id=\"text_21\">\n      <!-- 0.3 -->\n      <g style=\"fill: #555555\" transform=\"translate(394.412614 120.220802)scale(0.1 -0.1)\">\n       <use xlink:href=\"#DejaVuSans-30\"/>\n       <use xlink:href=\"#DejaVuSans-2e\" x=\"63.623047\"/>\n       <use xlink:href=\"#DejaVuSans-33\" x=\"95.410156\"/>\n      </g>\n     </g>\n    </g>\n    <g id=\"ytick_10\">\n     <g id=\"line2d_35\">\n      <path d=\"M 417.315739 64.817891 \nL 721.679375 64.817891 \n\" clip-path=\"url(#p6b63994e40)\" style=\"fill: none; stroke: #ffffff; stroke-width: 0.8; stroke-linecap: square\"/>\n     </g>\n     <g id=\"line2d_36\">\n      <g>\n       <use xlink:href=\"#mf68aaddf59\" x=\"417.315739\" y=\"64.817891\" style=\"fill: #555555; stroke: #555555; stroke-width: 0.8\"/>\n      </g>\n     </g>\n     <g id=\"text_22\">\n      <!-- 0.4 -->\n      <g style=\"fill: #555555\" transform=\"translate(394.412614 68.61711)scale(0.1 -0.1)\">\n       <use xlink:href=\"#DejaVuSans-30\"/>\n       <use xlink:href=\"#DejaVuSans-2e\" x=\"63.623047\"/>\n       <use xlink:href=\"#DejaVuSans-34\" x=\"95.410156\"/>\n      </g>\n     </g>\n    </g>\n    <g id=\"text_23\">\n     <!-- Propotion -->\n     <g style=\"fill: #555555\" transform=\"translate(387.916989 176.175955)rotate(-90)scale(0.12 -0.12)\">\n      <use xlink:href=\"#DejaVuSans-50\"/>\n      <use xlink:href=\"#DejaVuSans-72\" x=\"58.552734\"/>\n      <use xlink:href=\"#DejaVuSans-6f\" x=\"97.416016\"/>\n      <use xlink:href=\"#DejaVuSans-70\" x=\"158.597656\"/>\n      <use xlink:href=\"#DejaVuSans-6f\" x=\"222.074219\"/>\n      <use xlink:href=\"#DejaVuSans-74\" x=\"283.255859\"/>\n      <use xlink:href=\"#DejaVuSans-69\" x=\"322.464844\"/>\n      <use xlink:href=\"#DejaVuSans-6f\" x=\"350.248047\"/>\n      <use xlink:href=\"#DejaVuSans-6e\" x=\"411.429688\"/>\n     </g>\n    </g>\n   </g>\n   <g id=\"patch_12\">\n    <path d=\"M 431.150449 271.232659 \nL 489.401863 271.232659 \nL 489.401863 218.444944 \nL 431.150449 218.444944 \nz\n\" clip-path=\"url(#p6b63994e40)\" style=\"fill: #dc143c\"/>\n   </g>\n   <g id=\"patch_13\">\n    <path d=\"M 503.964716 271.232659 \nL 562.21613 271.232659 \nL 562.21613 154.310336 \nL 503.964716 154.310336 \nz\n\" clip-path=\"url(#p6b63994e40)\" style=\"fill: #dc143c\"/>\n   </g>\n   <g id=\"patch_14\">\n    <path d=\"M 576.778984 271.232659 \nL 635.030397 271.232659 \nL 635.030397 35.907984 \nL 576.778984 35.907984 \nz\n\" clip-path=\"url(#p6b63994e40)\" style=\"fill: #dc143c\"/>\n   </g>\n   <g id=\"patch_15\">\n    <path d=\"M 649.593251 271.232659 \nL 707.844664 271.232659 \nL 707.844664 160.230454 \nL 649.593251 160.230454 \nz\n\" clip-path=\"url(#p6b63994e40)\" style=\"fill: #dc143c\"/>\n   </g>\n   <g id=\"patch_16\">\n    <path d=\"M 417.315739 271.232659 \nL 417.315739 24.14175 \n\" style=\"fill: none; stroke: #ffffff; stroke-linejoin: miter; stroke-linecap: square\"/>\n   </g>\n   <g id=\"patch_17\">\n    <path d=\"M 721.679375 271.232659 \nL 721.679375 24.14175 \n\" style=\"fill: none; stroke: #ffffff; stroke-linejoin: miter; stroke-linecap: square\"/>\n   </g>\n   <g id=\"patch_18\">\n    <path d=\"M 417.315739 271.232659 \nL 721.679375 271.232659 \n\" style=\"fill: none; stroke: #ffffff; stroke-linejoin: miter; stroke-linecap: square\"/>\n   </g>\n   <g id=\"patch_19\">\n    <path d=\"M 417.315739 24.14175 \nL 721.679375 24.14175 \n\" style=\"fill: none; stroke: #ffffff; stroke-linejoin: miter; stroke-linecap: square\"/>\n   </g>\n   <g id=\"text_24\">\n    <!-- Reviewer JBe -->\n    <g transform=\"translate(522.635682 18.14175)scale(0.144 -0.144)\">\n     <defs>\n      <path id=\"DejaVuSans-4a\" d=\"M 628 4666 \nL 1259 4666 \nL 1259 325 \nQ 1259 -519 939 -900 \nQ 619 -1281 -91 -1281 \nL -331 -1281 \nL -331 -750 \nL -134 -750 \nQ 284 -750 456 -515 \nQ 628 -281 628 325 \nL 628 4666 \nz\n\" transform=\"scale(0.015625)\"/>\n      <path id=\"DejaVuSans-42\" d=\"M 1259 2228 \nL 1259 519 \nL 2272 519 \nQ 2781 519 3026 730 \nQ 3272 941 3272 1375 \nQ 3272 1813 3026 2020 \nQ 2781 2228 2272 2228 \nL 1259 2228 \nz\nM 1259 4147 \nL 1259 2741 \nL 2194 2741 \nQ 2656 2741 2882 2914 \nQ 3109 3088 3109 3444 \nQ 3109 3797 2882 3972 \nQ 2656 4147 2194 4147 \nL 1259 4147 \nz\nM 628 4666 \nL 2241 4666 \nQ 2963 4666 3353 4366 \nQ 3744 4066 3744 3513 \nQ 3744 3084 3544 2831 \nQ 3344 2578 2956 2516 \nQ 3422 2416 3680 2098 \nQ 3938 1781 3938 1306 \nQ 3938 681 3513 340 \nQ 3088 0 2303 0 \nL 628 0 \nL 628 4666 \nz\n\" transform=\"scale(0.015625)\"/>\n     </defs>\n     <use xlink:href=\"#DejaVuSans-52\"/>\n     <use xlink:href=\"#DejaVuSans-65\" x=\"64.982422\"/>\n     <use xlink:href=\"#DejaVuSans-76\" x=\"126.505859\"/>\n     <use xlink:href=\"#DejaVuSans-69\" x=\"185.685547\"/>\n     <use xlink:href=\"#DejaVuSans-65\" x=\"213.46875\"/>\n     <use xlink:href=\"#DejaVuSans-77\" x=\"274.992188\"/>\n     <use xlink:href=\"#DejaVuSans-65\" x=\"356.779297\"/>\n     <use xlink:href=\"#DejaVuSans-72\" x=\"418.302734\"/>\n     <use xlink:href=\"#DejaVuSans-20\" x=\"459.416016\"/>\n     <use xlink:href=\"#DejaVuSans-4a\" x=\"491.203125\"/>\n     <use xlink:href=\"#DejaVuSans-42\" x=\"520.695312\"/>\n     <use xlink:href=\"#DejaVuSans-65\" x=\"589.298828\"/>\n    </g>\n   </g>\n  </g>\n  <g id=\"axes_3\">\n   <g id=\"patch_20\">\n    <path d=\"M 52.079375 567.74175 \nL 356.443011 567.74175 \nL 356.443011 320.650841 \nL 52.079375 320.650841 \nz\n\" style=\"fill: #e5e5e5\"/>\n   </g>\n   <g id=\"matplotlib.axis_5\">\n    <g id=\"xtick_9\">\n     <g id=\"line2d_37\">\n      <path d=\"M 95.039793 567.74175 \nL 95.039793 320.650841 \n\" clip-path=\"url(#p84e3323c01)\" style=\"fill: none; stroke: #ffffff; stroke-width: 0.8; stroke-linecap: square\"/>\n     </g>\n     <g id=\"line2d_38\">\n      <g>\n       <use xlink:href=\"#maa80d56b69\" x=\"95.039793\" y=\"567.74175\" style=\"fill: #555555; stroke: #555555; stroke-width: 0.8\"/>\n      </g>\n     </g>\n     <g id=\"text_25\">\n      <!-- 0 -->\n      <g style=\"fill: #555555\" transform=\"translate(91.858543 582.340187)scale(0.1 -0.1)\">\n       <use xlink:href=\"#DejaVuSans-30\"/>\n      </g>\n     </g>\n    </g>\n    <g id=\"xtick_10\">\n     <g id=\"line2d_39\">\n      <path d=\"M 167.85406 567.74175 \nL 167.85406 320.650841 \n\" clip-path=\"url(#p84e3323c01)\" style=\"fill: none; stroke: #ffffff; stroke-width: 0.8; stroke-linecap: square\"/>\n     </g>\n     <g id=\"line2d_40\">\n      <g>\n       <use xlink:href=\"#maa80d56b69\" x=\"167.85406\" y=\"567.74175\" style=\"fill: #555555; stroke: #555555; stroke-width: 0.8\"/>\n      </g>\n     </g>\n     <g id=\"text_26\">\n      <!-- 1 -->\n      <g style=\"fill: #555555\" transform=\"translate(164.67281 582.340187)scale(0.1 -0.1)\">\n       <use xlink:href=\"#DejaVuSans-31\"/>\n      </g>\n     </g>\n    </g>\n    <g id=\"xtick_11\">\n     <g id=\"line2d_41\">\n      <path d=\"M 240.668327 567.74175 \nL 240.668327 320.650841 \n\" clip-path=\"url(#p84e3323c01)\" style=\"fill: none; stroke: #ffffff; stroke-width: 0.8; stroke-linecap: square\"/>\n     </g>\n     <g id=\"line2d_42\">\n      <g>\n       <use xlink:href=\"#maa80d56b69\" x=\"240.668327\" y=\"567.74175\" style=\"fill: #555555; stroke: #555555; stroke-width: 0.8\"/>\n      </g>\n     </g>\n     <g id=\"text_27\">\n      <!-- 2 -->\n      <g style=\"fill: #555555\" transform=\"translate(237.487077 582.340187)scale(0.1 -0.1)\">\n       <use xlink:href=\"#DejaVuSans-32\"/>\n      </g>\n     </g>\n    </g>\n    <g id=\"xtick_12\">\n     <g id=\"line2d_43\">\n      <path d=\"M 313.482594 567.74175 \nL 313.482594 320.650841 \n\" clip-path=\"url(#p84e3323c01)\" style=\"fill: none; stroke: #ffffff; stroke-width: 0.8; stroke-linecap: square\"/>\n     </g>\n     <g id=\"line2d_44\">\n      <g>\n       <use xlink:href=\"#maa80d56b69\" x=\"313.482594\" y=\"567.74175\" style=\"fill: #555555; stroke: #555555; stroke-width: 0.8\"/>\n      </g>\n     </g>\n     <g id=\"text_28\">\n      <!-- 3 -->\n      <g style=\"fill: #555555\" transform=\"translate(310.301344 582.340187)scale(0.1 -0.1)\">\n       <use xlink:href=\"#DejaVuSans-33\"/>\n      </g>\n     </g>\n    </g>\n    <g id=\"text_29\">\n     <!-- Label -->\n     <g style=\"fill: #555555\" transform=\"translate(188.073381 597.538)scale(0.12 -0.12)\">\n      <use xlink:href=\"#DejaVuSans-4c\"/>\n      <use xlink:href=\"#DejaVuSans-61\" x=\"55.712891\"/>\n      <use xlink:href=\"#DejaVuSans-62\" x=\"116.992188\"/>\n      <use xlink:href=\"#DejaVuSans-65\" x=\"180.46875\"/>\n      <use xlink:href=\"#DejaVuSans-6c\" x=\"241.992188\"/>\n     </g>\n    </g>\n   </g>\n   <g id=\"matplotlib.axis_6\">\n    <g id=\"ytick_11\">\n     <g id=\"line2d_45\">\n      <path d=\"M 52.079375 567.74175 \nL 356.443011 567.74175 \n\" clip-path=\"url(#p84e3323c01)\" style=\"fill: none; stroke: #ffffff; stroke-width: 0.8; stroke-linecap: square\"/>\n     </g>\n     <g id=\"line2d_46\">\n      <g>\n       <use xlink:href=\"#mf68aaddf59\" x=\"52.079375\" y=\"567.74175\" style=\"fill: #555555; stroke: #555555; stroke-width: 0.8\"/>\n      </g>\n     </g>\n     <g id=\"text_30\">\n      <!-- 0.00 -->\n      <g style=\"fill: #555555\" transform=\"translate(22.81375 571.540969)scale(0.1 -0.1)\">\n       <use xlink:href=\"#DejaVuSans-30\"/>\n       <use xlink:href=\"#DejaVuSans-2e\" x=\"63.623047\"/>\n       <use xlink:href=\"#DejaVuSans-30\" x=\"95.410156\"/>\n       <use xlink:href=\"#DejaVuSans-30\" x=\"159.033203\"/>\n      </g>\n     </g>\n    </g>\n    <g id=\"ytick_12\">\n     <g id=\"line2d_47\">\n      <path d=\"M 52.079375 534.603256 \nL 356.443011 534.603256 \n\" clip-path=\"url(#p84e3323c01)\" style=\"fill: none; stroke: #ffffff; stroke-width: 0.8; stroke-linecap: square\"/>\n     </g>\n     <g id=\"line2d_48\">\n      <g>\n       <use xlink:href=\"#mf68aaddf59\" x=\"52.079375\" y=\"534.603256\" style=\"fill: #555555; stroke: #555555; stroke-width: 0.8\"/>\n      </g>\n     </g>\n     <g id=\"text_31\">\n      <!-- 0.05 -->\n      <g style=\"fill: #555555\" transform=\"translate(22.81375 538.402474)scale(0.1 -0.1)\">\n       <defs>\n        <path id=\"DejaVuSans-35\" d=\"M 691 4666 \nL 3169 4666 \nL 3169 4134 \nL 1269 4134 \nL 1269 2991 \nQ 1406 3038 1543 3061 \nQ 1681 3084 1819 3084 \nQ 2600 3084 3056 2656 \nQ 3513 2228 3513 1497 \nQ 3513 744 3044 326 \nQ 2575 -91 1722 -91 \nQ 1428 -91 1123 -41 \nQ 819 9 494 109 \nL 494 744 \nQ 775 591 1075 516 \nQ 1375 441 1709 441 \nQ 2250 441 2565 725 \nQ 2881 1009 2881 1497 \nQ 2881 1984 2565 2268 \nQ 2250 2553 1709 2553 \nQ 1456 2553 1204 2497 \nQ 953 2441 691 2322 \nL 691 4666 \nz\n\" transform=\"scale(0.015625)\"/>\n       </defs>\n       <use xlink:href=\"#DejaVuSans-30\"/>\n       <use xlink:href=\"#DejaVuSans-2e\" x=\"63.623047\"/>\n       <use xlink:href=\"#DejaVuSans-30\" x=\"95.410156\"/>\n       <use xlink:href=\"#DejaVuSans-35\" x=\"159.033203\"/>\n      </g>\n     </g>\n    </g>\n    <g id=\"ytick_13\">\n     <g id=\"line2d_49\">\n      <path d=\"M 52.079375 501.464761 \nL 356.443011 501.464761 \n\" clip-path=\"url(#p84e3323c01)\" style=\"fill: none; stroke: #ffffff; stroke-width: 0.8; stroke-linecap: square\"/>\n     </g>\n     <g id=\"line2d_50\">\n      <g>\n       <use xlink:href=\"#mf68aaddf59\" x=\"52.079375\" y=\"501.464761\" style=\"fill: #555555; stroke: #555555; stroke-width: 0.8\"/>\n      </g>\n     </g>\n     <g id=\"text_32\">\n      <!-- 0.10 -->\n      <g style=\"fill: #555555\" transform=\"translate(22.81375 505.26398)scale(0.1 -0.1)\">\n       <use xlink:href=\"#DejaVuSans-30\"/>\n       <use xlink:href=\"#DejaVuSans-2e\" x=\"63.623047\"/>\n       <use xlink:href=\"#DejaVuSans-31\" x=\"95.410156\"/>\n       <use xlink:href=\"#DejaVuSans-30\" x=\"159.033203\"/>\n      </g>\n     </g>\n    </g>\n    <g id=\"ytick_14\">\n     <g id=\"line2d_51\">\n      <path d=\"M 52.079375 468.326267 \nL 356.443011 468.326267 \n\" clip-path=\"url(#p84e3323c01)\" style=\"fill: none; stroke: #ffffff; stroke-width: 0.8; stroke-linecap: square\"/>\n     </g>\n     <g id=\"line2d_52\">\n      <g>\n       <use xlink:href=\"#mf68aaddf59\" x=\"52.079375\" y=\"468.326267\" style=\"fill: #555555; stroke: #555555; stroke-width: 0.8\"/>\n      </g>\n     </g>\n     <g id=\"text_33\">\n      <!-- 0.15 -->\n      <g style=\"fill: #555555\" transform=\"translate(22.81375 472.125486)scale(0.1 -0.1)\">\n       <use xlink:href=\"#DejaVuSans-30\"/>\n       <use xlink:href=\"#DejaVuSans-2e\" x=\"63.623047\"/>\n       <use xlink:href=\"#DejaVuSans-31\" x=\"95.410156\"/>\n       <use xlink:href=\"#DejaVuSans-35\" x=\"159.033203\"/>\n      </g>\n     </g>\n    </g>\n    <g id=\"ytick_15\">\n     <g id=\"line2d_53\">\n      <path d=\"M 52.079375 435.187773 \nL 356.443011 435.187773 \n\" clip-path=\"url(#p84e3323c01)\" style=\"fill: none; stroke: #ffffff; stroke-width: 0.8; stroke-linecap: square\"/>\n     </g>\n     <g id=\"line2d_54\">\n      <g>\n       <use xlink:href=\"#mf68aaddf59\" x=\"52.079375\" y=\"435.187773\" style=\"fill: #555555; stroke: #555555; stroke-width: 0.8\"/>\n      </g>\n     </g>\n     <g id=\"text_34\">\n      <!-- 0.20 -->\n      <g style=\"fill: #555555\" transform=\"translate(22.81375 438.986991)scale(0.1 -0.1)\">\n       <use xlink:href=\"#DejaVuSans-30\"/>\n       <use xlink:href=\"#DejaVuSans-2e\" x=\"63.623047\"/>\n       <use xlink:href=\"#DejaVuSans-32\" x=\"95.410156\"/>\n       <use xlink:href=\"#DejaVuSans-30\" x=\"159.033203\"/>\n      </g>\n     </g>\n    </g>\n    <g id=\"ytick_16\">\n     <g id=\"line2d_55\">\n      <path d=\"M 52.079375 402.049278 \nL 356.443011 402.049278 \n\" clip-path=\"url(#p84e3323c01)\" style=\"fill: none; stroke: #ffffff; stroke-width: 0.8; stroke-linecap: square\"/>\n     </g>\n     <g id=\"line2d_56\">\n      <g>\n       <use xlink:href=\"#mf68aaddf59\" x=\"52.079375\" y=\"402.049278\" style=\"fill: #555555; stroke: #555555; stroke-width: 0.8\"/>\n      </g>\n     </g>\n     <g id=\"text_35\">\n      <!-- 0.25 -->\n      <g style=\"fill: #555555\" transform=\"translate(22.81375 405.848497)scale(0.1 -0.1)\">\n       <use xlink:href=\"#DejaVuSans-30\"/>\n       <use xlink:href=\"#DejaVuSans-2e\" x=\"63.623047\"/>\n       <use xlink:href=\"#DejaVuSans-32\" x=\"95.410156\"/>\n       <use xlink:href=\"#DejaVuSans-35\" x=\"159.033203\"/>\n      </g>\n     </g>\n    </g>\n    <g id=\"ytick_17\">\n     <g id=\"line2d_57\">\n      <path d=\"M 52.079375 368.910784 \nL 356.443011 368.910784 \n\" clip-path=\"url(#p84e3323c01)\" style=\"fill: none; stroke: #ffffff; stroke-width: 0.8; stroke-linecap: square\"/>\n     </g>\n     <g id=\"line2d_58\">\n      <g>\n       <use xlink:href=\"#mf68aaddf59\" x=\"52.079375\" y=\"368.910784\" style=\"fill: #555555; stroke: #555555; stroke-width: 0.8\"/>\n      </g>\n     </g>\n     <g id=\"text_36\">\n      <!-- 0.30 -->\n      <g style=\"fill: #555555\" transform=\"translate(22.81375 372.710003)scale(0.1 -0.1)\">\n       <use xlink:href=\"#DejaVuSans-30\"/>\n       <use xlink:href=\"#DejaVuSans-2e\" x=\"63.623047\"/>\n       <use xlink:href=\"#DejaVuSans-33\" x=\"95.410156\"/>\n       <use xlink:href=\"#DejaVuSans-30\" x=\"159.033203\"/>\n      </g>\n     </g>\n    </g>\n    <g id=\"ytick_18\">\n     <g id=\"line2d_59\">\n      <path d=\"M 52.079375 335.77229 \nL 356.443011 335.77229 \n\" clip-path=\"url(#p84e3323c01)\" style=\"fill: none; stroke: #ffffff; stroke-width: 0.8; stroke-linecap: square\"/>\n     </g>\n     <g id=\"line2d_60\">\n      <g>\n       <use xlink:href=\"#mf68aaddf59\" x=\"52.079375\" y=\"335.77229\" style=\"fill: #555555; stroke: #555555; stroke-width: 0.8\"/>\n      </g>\n     </g>\n     <g id=\"text_37\">\n      <!-- 0.35 -->\n      <g style=\"fill: #555555\" transform=\"translate(22.81375 339.571509)scale(0.1 -0.1)\">\n       <use xlink:href=\"#DejaVuSans-30\"/>\n       <use xlink:href=\"#DejaVuSans-2e\" x=\"63.623047\"/>\n       <use xlink:href=\"#DejaVuSans-33\" x=\"95.410156\"/>\n       <use xlink:href=\"#DejaVuSans-35\" x=\"159.033203\"/>\n      </g>\n     </g>\n    </g>\n    <g id=\"text_38\">\n     <!-- Propotion -->\n     <g style=\"fill: #555555\" transform=\"translate(16.318125 472.685045)rotate(-90)scale(0.12 -0.12)\">\n      <use xlink:href=\"#DejaVuSans-50\"/>\n      <use xlink:href=\"#DejaVuSans-72\" x=\"58.552734\"/>\n      <use xlink:href=\"#DejaVuSans-6f\" x=\"97.416016\"/>\n      <use xlink:href=\"#DejaVuSans-70\" x=\"158.597656\"/>\n      <use xlink:href=\"#DejaVuSans-6f\" x=\"222.074219\"/>\n      <use xlink:href=\"#DejaVuSans-74\" x=\"283.255859\"/>\n      <use xlink:href=\"#DejaVuSans-69\" x=\"322.464844\"/>\n      <use xlink:href=\"#DejaVuSans-6f\" x=\"350.248047\"/>\n      <use xlink:href=\"#DejaVuSans-6e\" x=\"411.429688\"/>\n     </g>\n    </g>\n   </g>\n   <g id=\"patch_21\">\n    <path d=\"M 65.914086 567.74175 \nL 124.165499 567.74175 \nL 124.165499 485.010419 \nL 65.914086 485.010419 \nz\n\" clip-path=\"url(#p84e3323c01)\" style=\"fill: #dc143c\"/>\n   </g>\n   <g id=\"patch_22\">\n    <path d=\"M 138.728353 567.74175 \nL 196.979766 567.74175 \nL 196.979766 342.528682 \nL 138.728353 342.528682 \nz\n\" clip-path=\"url(#p84e3323c01)\" style=\"fill: #dc143c\"/>\n   </g>\n   <g id=\"patch_23\">\n    <path d=\"M 211.54262 567.74175 \nL 269.794034 567.74175 \nL 269.794034 332.417075 \nL 211.54262 332.417075 \nz\n\" clip-path=\"url(#p84e3323c01)\" style=\"fill: #dc143c\"/>\n   </g>\n   <g id=\"patch_24\">\n    <path d=\"M 284.356887 567.74175 \nL 342.608301 567.74175 \nL 342.608301 448.240938 \nL 284.356887 448.240938 \nz\n\" clip-path=\"url(#p84e3323c01)\" style=\"fill: #dc143c\"/>\n   </g>\n   <g id=\"patch_25\">\n    <path d=\"M 52.079375 567.74175 \nL 52.079375 320.650841 \n\" style=\"fill: none; stroke: #ffffff; stroke-linejoin: miter; stroke-linecap: square\"/>\n   </g>\n   <g id=\"patch_26\">\n    <path d=\"M 356.443011 567.74175 \nL 356.443011 320.650841 \n\" style=\"fill: none; stroke: #ffffff; stroke-linejoin: miter; stroke-linecap: square\"/>\n   </g>\n   <g id=\"patch_27\">\n    <path d=\"M 52.079375 567.74175 \nL 356.443011 567.74175 \n\" style=\"fill: none; stroke: #ffffff; stroke-linejoin: miter; stroke-linecap: square\"/>\n   </g>\n   <g id=\"patch_28\">\n    <path d=\"M 52.079375 320.650841 \nL 356.443011 320.650841 \n\" style=\"fill: none; stroke: #ffffff; stroke-linejoin: miter; stroke-linecap: square\"/>\n   </g>\n   <g id=\"text_39\">\n    <!-- Reviewer SRe -->\n    <g transform=\"translate(155.213443 314.650841)scale(0.144 -0.144)\">\n     <use xlink:href=\"#DejaVuSans-52\"/>\n     <use xlink:href=\"#DejaVuSans-65\" x=\"64.982422\"/>\n     <use xlink:href=\"#DejaVuSans-76\" x=\"126.505859\"/>\n     <use xlink:href=\"#DejaVuSans-69\" x=\"185.685547\"/>\n     <use xlink:href=\"#DejaVuSans-65\" x=\"213.46875\"/>\n     <use xlink:href=\"#DejaVuSans-77\" x=\"274.992188\"/>\n     <use xlink:href=\"#DejaVuSans-65\" x=\"356.779297\"/>\n     <use xlink:href=\"#DejaVuSans-72\" x=\"418.302734\"/>\n     <use xlink:href=\"#DejaVuSans-20\" x=\"459.416016\"/>\n     <use xlink:href=\"#DejaVuSans-53\" x=\"491.203125\"/>\n     <use xlink:href=\"#DejaVuSans-52\" x=\"554.679688\"/>\n     <use xlink:href=\"#DejaVuSans-65\" x=\"619.662109\"/>\n    </g>\n   </g>\n  </g>\n  <g id=\"axes_4\">\n   <g id=\"patch_29\">\n    <path d=\"M 417.315739 567.74175 \nL 721.679375 567.74175 \nL 721.679375 320.650841 \nL 417.315739 320.650841 \nz\n\" style=\"fill: #e5e5e5\"/>\n   </g>\n   <g id=\"matplotlib.axis_7\">\n    <g id=\"xtick_13\">\n     <g id=\"line2d_61\">\n      <path d=\"M 460.276156 567.74175 \nL 460.276156 320.650841 \n\" clip-path=\"url(#p3729ce6693)\" style=\"fill: none; stroke: #ffffff; stroke-width: 0.8; stroke-linecap: square\"/>\n     </g>\n     <g id=\"line2d_62\">\n      <g>\n       <use xlink:href=\"#maa80d56b69\" x=\"460.276156\" y=\"567.74175\" style=\"fill: #555555; stroke: #555555; stroke-width: 0.8\"/>\n      </g>\n     </g>\n     <g id=\"text_40\">\n      <!-- 0 -->\n      <g style=\"fill: #555555\" transform=\"translate(457.094906 582.340187)scale(0.1 -0.1)\">\n       <use xlink:href=\"#DejaVuSans-30\"/>\n      </g>\n     </g>\n    </g>\n    <g id=\"xtick_14\">\n     <g id=\"line2d_63\">\n      <path d=\"M 533.090423 567.74175 \nL 533.090423 320.650841 \n\" clip-path=\"url(#p3729ce6693)\" style=\"fill: none; stroke: #ffffff; stroke-width: 0.8; stroke-linecap: square\"/>\n     </g>\n     <g id=\"line2d_64\">\n      <g>\n       <use xlink:href=\"#maa80d56b69\" x=\"533.090423\" y=\"567.74175\" style=\"fill: #555555; stroke: #555555; stroke-width: 0.8\"/>\n      </g>\n     </g>\n     <g id=\"text_41\">\n      <!-- 1 -->\n      <g style=\"fill: #555555\" transform=\"translate(529.909173 582.340187)scale(0.1 -0.1)\">\n       <use xlink:href=\"#DejaVuSans-31\"/>\n      </g>\n     </g>\n    </g>\n    <g id=\"xtick_15\">\n     <g id=\"line2d_65\">\n      <path d=\"M 605.90469 567.74175 \nL 605.90469 320.650841 \n\" clip-path=\"url(#p3729ce6693)\" style=\"fill: none; stroke: #ffffff; stroke-width: 0.8; stroke-linecap: square\"/>\n     </g>\n     <g id=\"line2d_66\">\n      <g>\n       <use xlink:href=\"#maa80d56b69\" x=\"605.90469\" y=\"567.74175\" style=\"fill: #555555; stroke: #555555; stroke-width: 0.8\"/>\n      </g>\n     </g>\n     <g id=\"text_42\">\n      <!-- 2 -->\n      <g style=\"fill: #555555\" transform=\"translate(602.72344 582.340187)scale(0.1 -0.1)\">\n       <use xlink:href=\"#DejaVuSans-32\"/>\n      </g>\n     </g>\n    </g>\n    <g id=\"xtick_16\">\n     <g id=\"line2d_67\">\n      <path d=\"M 678.718957 567.74175 \nL 678.718957 320.650841 \n\" clip-path=\"url(#p3729ce6693)\" style=\"fill: none; stroke: #ffffff; stroke-width: 0.8; stroke-linecap: square\"/>\n     </g>\n     <g id=\"line2d_68\">\n      <g>\n       <use xlink:href=\"#maa80d56b69\" x=\"678.718957\" y=\"567.74175\" style=\"fill: #555555; stroke: #555555; stroke-width: 0.8\"/>\n      </g>\n     </g>\n     <g id=\"text_43\">\n      <!-- 3 -->\n      <g style=\"fill: #555555\" transform=\"translate(675.537707 582.340187)scale(0.1 -0.1)\">\n       <use xlink:href=\"#DejaVuSans-33\"/>\n      </g>\n     </g>\n    </g>\n    <g id=\"text_44\">\n     <!-- Label -->\n     <g style=\"fill: #555555\" transform=\"translate(553.309744 597.538)scale(0.12 -0.12)\">\n      <use xlink:href=\"#DejaVuSans-4c\"/>\n      <use xlink:href=\"#DejaVuSans-61\" x=\"55.712891\"/>\n      <use xlink:href=\"#DejaVuSans-62\" x=\"116.992188\"/>\n      <use xlink:href=\"#DejaVuSans-65\" x=\"180.46875\"/>\n      <use xlink:href=\"#DejaVuSans-6c\" x=\"241.992188\"/>\n     </g>\n    </g>\n   </g>\n   <g id=\"matplotlib.axis_8\">\n    <g id=\"ytick_19\">\n     <g id=\"line2d_69\">\n      <path d=\"M 417.315739 567.74175 \nL 721.679375 567.74175 \n\" clip-path=\"url(#p3729ce6693)\" style=\"fill: none; stroke: #ffffff; stroke-width: 0.8; stroke-linecap: square\"/>\n     </g>\n     <g id=\"line2d_70\">\n      <g>\n       <use xlink:href=\"#mf68aaddf59\" x=\"417.315739\" y=\"567.74175\" style=\"fill: #555555; stroke: #555555; stroke-width: 0.8\"/>\n      </g>\n     </g>\n     <g id=\"text_45\">\n      <!-- 0.00 -->\n      <g style=\"fill: #555555\" transform=\"translate(388.050114 571.540969)scale(0.1 -0.1)\">\n       <use xlink:href=\"#DejaVuSans-30\"/>\n       <use xlink:href=\"#DejaVuSans-2e\" x=\"63.623047\"/>\n       <use xlink:href=\"#DejaVuSans-30\" x=\"95.410156\"/>\n       <use xlink:href=\"#DejaVuSans-30\" x=\"159.033203\"/>\n      </g>\n     </g>\n    </g>\n    <g id=\"ytick_20\">\n     <g id=\"line2d_71\">\n      <path d=\"M 417.315739 539.350189 \nL 721.679375 539.350189 \n\" clip-path=\"url(#p3729ce6693)\" style=\"fill: none; stroke: #ffffff; stroke-width: 0.8; stroke-linecap: square\"/>\n     </g>\n     <g id=\"line2d_72\">\n      <g>\n       <use xlink:href=\"#mf68aaddf59\" x=\"417.315739\" y=\"539.350189\" style=\"fill: #555555; stroke: #555555; stroke-width: 0.8\"/>\n      </g>\n     </g>\n     <g id=\"text_46\">\n      <!-- 0.05 -->\n      <g style=\"fill: #555555\" transform=\"translate(388.050114 543.149408)scale(0.1 -0.1)\">\n       <use xlink:href=\"#DejaVuSans-30\"/>\n       <use xlink:href=\"#DejaVuSans-2e\" x=\"63.623047\"/>\n       <use xlink:href=\"#DejaVuSans-30\" x=\"95.410156\"/>\n       <use xlink:href=\"#DejaVuSans-35\" x=\"159.033203\"/>\n      </g>\n     </g>\n    </g>\n    <g id=\"ytick_21\">\n     <g id=\"line2d_73\">\n      <path d=\"M 417.315739 510.958629 \nL 721.679375 510.958629 \n\" clip-path=\"url(#p3729ce6693)\" style=\"fill: none; stroke: #ffffff; stroke-width: 0.8; stroke-linecap: square\"/>\n     </g>\n     <g id=\"line2d_74\">\n      <g>\n       <use xlink:href=\"#mf68aaddf59\" x=\"417.315739\" y=\"510.958629\" style=\"fill: #555555; stroke: #555555; stroke-width: 0.8\"/>\n      </g>\n     </g>\n     <g id=\"text_47\">\n      <!-- 0.10 -->\n      <g style=\"fill: #555555\" transform=\"translate(388.050114 514.757847)scale(0.1 -0.1)\">\n       <use xlink:href=\"#DejaVuSans-30\"/>\n       <use xlink:href=\"#DejaVuSans-2e\" x=\"63.623047\"/>\n       <use xlink:href=\"#DejaVuSans-31\" x=\"95.410156\"/>\n       <use xlink:href=\"#DejaVuSans-30\" x=\"159.033203\"/>\n      </g>\n     </g>\n    </g>\n    <g id=\"ytick_22\">\n     <g id=\"line2d_75\">\n      <path d=\"M 417.315739 482.567068 \nL 721.679375 482.567068 \n\" clip-path=\"url(#p3729ce6693)\" style=\"fill: none; stroke: #ffffff; stroke-width: 0.8; stroke-linecap: square\"/>\n     </g>\n     <g id=\"line2d_76\">\n      <g>\n       <use xlink:href=\"#mf68aaddf59\" x=\"417.315739\" y=\"482.567068\" style=\"fill: #555555; stroke: #555555; stroke-width: 0.8\"/>\n      </g>\n     </g>\n     <g id=\"text_48\">\n      <!-- 0.15 -->\n      <g style=\"fill: #555555\" transform=\"translate(388.050114 486.366287)scale(0.1 -0.1)\">\n       <use xlink:href=\"#DejaVuSans-30\"/>\n       <use xlink:href=\"#DejaVuSans-2e\" x=\"63.623047\"/>\n       <use xlink:href=\"#DejaVuSans-31\" x=\"95.410156\"/>\n       <use xlink:href=\"#DejaVuSans-35\" x=\"159.033203\"/>\n      </g>\n     </g>\n    </g>\n    <g id=\"ytick_23\">\n     <g id=\"line2d_77\">\n      <path d=\"M 417.315739 454.175507 \nL 721.679375 454.175507 \n\" clip-path=\"url(#p3729ce6693)\" style=\"fill: none; stroke: #ffffff; stroke-width: 0.8; stroke-linecap: square\"/>\n     </g>\n     <g id=\"line2d_78\">\n      <g>\n       <use xlink:href=\"#mf68aaddf59\" x=\"417.315739\" y=\"454.175507\" style=\"fill: #555555; stroke: #555555; stroke-width: 0.8\"/>\n      </g>\n     </g>\n     <g id=\"text_49\">\n      <!-- 0.20 -->\n      <g style=\"fill: #555555\" transform=\"translate(388.050114 457.974726)scale(0.1 -0.1)\">\n       <use xlink:href=\"#DejaVuSans-30\"/>\n       <use xlink:href=\"#DejaVuSans-2e\" x=\"63.623047\"/>\n       <use xlink:href=\"#DejaVuSans-32\" x=\"95.410156\"/>\n       <use xlink:href=\"#DejaVuSans-30\" x=\"159.033203\"/>\n      </g>\n     </g>\n    </g>\n    <g id=\"ytick_24\">\n     <g id=\"line2d_79\">\n      <path d=\"M 417.315739 425.783947 \nL 721.679375 425.783947 \n\" clip-path=\"url(#p3729ce6693)\" style=\"fill: none; stroke: #ffffff; stroke-width: 0.8; stroke-linecap: square\"/>\n     </g>\n     <g id=\"line2d_80\">\n      <g>\n       <use xlink:href=\"#mf68aaddf59\" x=\"417.315739\" y=\"425.783947\" style=\"fill: #555555; stroke: #555555; stroke-width: 0.8\"/>\n      </g>\n     </g>\n     <g id=\"text_50\">\n      <!-- 0.25 -->\n      <g style=\"fill: #555555\" transform=\"translate(388.050114 429.583165)scale(0.1 -0.1)\">\n       <use xlink:href=\"#DejaVuSans-30\"/>\n       <use xlink:href=\"#DejaVuSans-2e\" x=\"63.623047\"/>\n       <use xlink:href=\"#DejaVuSans-32\" x=\"95.410156\"/>\n       <use xlink:href=\"#DejaVuSans-35\" x=\"159.033203\"/>\n      </g>\n     </g>\n    </g>\n    <g id=\"ytick_25\">\n     <g id=\"line2d_81\">\n      <path d=\"M 417.315739 397.392386 \nL 721.679375 397.392386 \n\" clip-path=\"url(#p3729ce6693)\" style=\"fill: none; stroke: #ffffff; stroke-width: 0.8; stroke-linecap: square\"/>\n     </g>\n     <g id=\"line2d_82\">\n      <g>\n       <use xlink:href=\"#mf68aaddf59\" x=\"417.315739\" y=\"397.392386\" style=\"fill: #555555; stroke: #555555; stroke-width: 0.8\"/>\n      </g>\n     </g>\n     <g id=\"text_51\">\n      <!-- 0.30 -->\n      <g style=\"fill: #555555\" transform=\"translate(388.050114 401.191605)scale(0.1 -0.1)\">\n       <use xlink:href=\"#DejaVuSans-30\"/>\n       <use xlink:href=\"#DejaVuSans-2e\" x=\"63.623047\"/>\n       <use xlink:href=\"#DejaVuSans-33\" x=\"95.410156\"/>\n       <use xlink:href=\"#DejaVuSans-30\" x=\"159.033203\"/>\n      </g>\n     </g>\n    </g>\n    <g id=\"ytick_26\">\n     <g id=\"line2d_83\">\n      <path d=\"M 417.315739 369.000825 \nL 721.679375 369.000825 \n\" clip-path=\"url(#p3729ce6693)\" style=\"fill: none; stroke: #ffffff; stroke-width: 0.8; stroke-linecap: square\"/>\n     </g>\n     <g id=\"line2d_84\">\n      <g>\n       <use xlink:href=\"#mf68aaddf59\" x=\"417.315739\" y=\"369.000825\" style=\"fill: #555555; stroke: #555555; stroke-width: 0.8\"/>\n      </g>\n     </g>\n     <g id=\"text_52\">\n      <!-- 0.35 -->\n      <g style=\"fill: #555555\" transform=\"translate(388.050114 372.800044)scale(0.1 -0.1)\">\n       <use xlink:href=\"#DejaVuSans-30\"/>\n       <use xlink:href=\"#DejaVuSans-2e\" x=\"63.623047\"/>\n       <use xlink:href=\"#DejaVuSans-33\" x=\"95.410156\"/>\n       <use xlink:href=\"#DejaVuSans-35\" x=\"159.033203\"/>\n      </g>\n     </g>\n    </g>\n    <g id=\"ytick_27\">\n     <g id=\"line2d_85\">\n      <path d=\"M 417.315739 340.609265 \nL 721.679375 340.609265 \n\" clip-path=\"url(#p3729ce6693)\" style=\"fill: none; stroke: #ffffff; stroke-width: 0.8; stroke-linecap: square\"/>\n     </g>\n     <g id=\"line2d_86\">\n      <g>\n       <use xlink:href=\"#mf68aaddf59\" x=\"417.315739\" y=\"340.609265\" style=\"fill: #555555; stroke: #555555; stroke-width: 0.8\"/>\n      </g>\n     </g>\n     <g id=\"text_53\">\n      <!-- 0.40 -->\n      <g style=\"fill: #555555\" transform=\"translate(388.050114 344.408483)scale(0.1 -0.1)\">\n       <use xlink:href=\"#DejaVuSans-30\"/>\n       <use xlink:href=\"#DejaVuSans-2e\" x=\"63.623047\"/>\n       <use xlink:href=\"#DejaVuSans-34\" x=\"95.410156\"/>\n       <use xlink:href=\"#DejaVuSans-30\" x=\"159.033203\"/>\n      </g>\n     </g>\n    </g>\n    <g id=\"text_54\">\n     <!-- Propotion -->\n     <g style=\"fill: #555555\" transform=\"translate(381.554489 472.685045)rotate(-90)scale(0.12 -0.12)\">\n      <use xlink:href=\"#DejaVuSans-50\"/>\n      <use xlink:href=\"#DejaVuSans-72\" x=\"58.552734\"/>\n      <use xlink:href=\"#DejaVuSans-6f\" x=\"97.416016\"/>\n      <use xlink:href=\"#DejaVuSans-70\" x=\"158.597656\"/>\n      <use xlink:href=\"#DejaVuSans-6f\" x=\"222.074219\"/>\n      <use xlink:href=\"#DejaVuSans-74\" x=\"283.255859\"/>\n      <use xlink:href=\"#DejaVuSans-69\" x=\"322.464844\"/>\n      <use xlink:href=\"#DejaVuSans-6f\" x=\"350.248047\"/>\n      <use xlink:href=\"#DejaVuSans-6e\" x=\"411.429688\"/>\n     </g>\n    </g>\n   </g>\n   <g id=\"patch_30\">\n    <path d=\"M 431.150449 567.74175 \nL 489.401863 567.74175 \nL 489.401863 502.284545 \nL 431.150449 502.284545 \nz\n\" clip-path=\"url(#p3729ce6693)\" style=\"fill: #dc143c\"/>\n   </g>\n   <g id=\"patch_31\">\n    <path d=\"M 503.964716 567.74175 \nL 562.21613 567.74175 \nL 562.21613 394.661656 \nL 503.964716 394.661656 \nz\n\" clip-path=\"url(#p3729ce6693)\" style=\"fill: #dc143c\"/>\n   </g>\n   <g id=\"patch_32\">\n    <path d=\"M 576.778984 567.74175 \nL 635.030397 567.74175 \nL 635.030397 332.417075 \nL 576.778984 332.417075 \nz\n\" clip-path=\"url(#p3729ce6693)\" style=\"fill: #dc143c\"/>\n   </g>\n   <g id=\"patch_33\">\n    <path d=\"M 649.593251 567.74175 \nL 707.844664 567.74175 \nL 707.844664 473.772511 \nL 649.593251 473.772511 \nz\n\" clip-path=\"url(#p3729ce6693)\" style=\"fill: #dc143c\"/>\n   </g>\n   <g id=\"patch_34\">\n    <path d=\"M 417.315739 567.74175 \nL 417.315739 320.650841 \n\" style=\"fill: none; stroke: #ffffff; stroke-linejoin: miter; stroke-linecap: square\"/>\n   </g>\n   <g id=\"patch_35\">\n    <path d=\"M 721.679375 567.74175 \nL 721.679375 320.650841 \n\" style=\"fill: none; stroke: #ffffff; stroke-linejoin: miter; stroke-linecap: square\"/>\n   </g>\n   <g id=\"patch_36\">\n    <path d=\"M 417.315739 567.74175 \nL 721.679375 567.74175 \n\" style=\"fill: none; stroke: #ffffff; stroke-linejoin: miter; stroke-linecap: square\"/>\n   </g>\n   <g id=\"patch_37\">\n    <path d=\"M 417.315739 320.650841 \nL 721.679375 320.650841 \n\" style=\"fill: none; stroke: #ffffff; stroke-linejoin: miter; stroke-linecap: square\"/>\n   </g>\n   <g id=\"text_55\">\n    <!-- Reviewer SRh -->\n    <g transform=\"translate(519.993057 314.650841)scale(0.144 -0.144)\">\n     <defs>\n      <path id=\"DejaVuSans-68\" d=\"M 3513 2113 \nL 3513 0 \nL 2938 0 \nL 2938 2094 \nQ 2938 2591 2744 2837 \nQ 2550 3084 2163 3084 \nQ 1697 3084 1428 2787 \nQ 1159 2491 1159 1978 \nL 1159 0 \nL 581 0 \nL 581 4863 \nL 1159 4863 \nL 1159 2956 \nQ 1366 3272 1645 3428 \nQ 1925 3584 2291 3584 \nQ 2894 3584 3203 3211 \nQ 3513 2838 3513 2113 \nz\n\" transform=\"scale(0.015625)\"/>\n     </defs>\n     <use xlink:href=\"#DejaVuSans-52\"/>\n     <use xlink:href=\"#DejaVuSans-65\" x=\"64.982422\"/>\n     <use xlink:href=\"#DejaVuSans-76\" x=\"126.505859\"/>\n     <use xlink:href=\"#DejaVuSans-69\" x=\"185.685547\"/>\n     <use xlink:href=\"#DejaVuSans-65\" x=\"213.46875\"/>\n     <use xlink:href=\"#DejaVuSans-77\" x=\"274.992188\"/>\n     <use xlink:href=\"#DejaVuSans-65\" x=\"356.779297\"/>\n     <use xlink:href=\"#DejaVuSans-72\" x=\"418.302734\"/>\n     <use xlink:href=\"#DejaVuSans-20\" x=\"459.416016\"/>\n     <use xlink:href=\"#DejaVuSans-53\" x=\"491.203125\"/>\n     <use xlink:href=\"#DejaVuSans-52\" x=\"554.679688\"/>\n     <use xlink:href=\"#DejaVuSans-68\" x=\"624.162109\"/>\n    </g>\n   </g>\n  </g>\n </g>\n <defs>\n  <clipPath id=\"p56e93cf518\">\n   <rect x=\"52.079375\" y=\"24.14175\" width=\"304.363636\" height=\"247.090909\"/>\n  </clipPath>\n  <clipPath id=\"p6b63994e40\">\n   <rect x=\"417.315739\" y=\"24.14175\" width=\"304.363636\" height=\"247.090909\"/>\n  </clipPath>\n  <clipPath id=\"p84e3323c01\">\n   <rect x=\"52.079375\" y=\"320.650841\" width=\"304.363636\" height=\"247.090909\"/>\n  </clipPath>\n  <clipPath id=\"p3729ce6693\">\n   <rect x=\"417.315739\" y=\"320.650841\" width=\"304.363636\" height=\"247.090909\"/>\n  </clipPath>\n </defs>\n</svg>\n",
      "text/plain": [
       "<Figure size 864x720 with 4 Axes>"
      ]
     },
     "metadata": {},
     "output_type": "display_data"
    }
   ],
   "source": [
    "# import pandas as pd\n",
    "\n",
    "# df_data = pd.DataFrame({'review': trainrevid, 'label': trainY})\n",
    "\n",
    "df_group = df_data.groupby(['review','label']).agg({'label': 'count'}).rename(columns={'label': 'count'}).reset_index()\n",
    "\n",
    "plt.figure(figsize=(12, 10))\n",
    "plt.style.use('ggplot')\n",
    "labels = [0,1,2,3]\n",
    "review_map = {'DSc':0, 'JBe':1, 'SRe':2, 'SRh':3} \n",
    "\n",
    "\n",
    "plt.subplot(2,2,1)\n",
    "plt.bar(labels, df_group[df_group['review']=='DSc']['count']/df_group[df_group['review']=='DSc']['count'].sum(), color=\"#DC143C\")\n",
    "plt.xticks(labels)\n",
    "plt.xlabel('Label')\n",
    "plt.ylabel('Propotion')\n",
    "plt.title('Reviewer DSc')\n",
    "\n",
    "plt.subplot(2,2,2)\n",
    "plt.bar(labels, df_group[df_group['review']=='JBe']['count']/df_group[df_group['review']=='JBe']['count'].sum(), color=\"#DC143C\")\n",
    "plt.xticks(labels)\n",
    "plt.xlabel('Label')\n",
    "plt.ylabel('Propotion')\n",
    "plt.title('Reviewer JBe')\n",
    "\n",
    "plt.subplot(2,2,3)\n",
    "plt.bar(labels, df_group[df_group['review']=='SRe']['count']/df_group[df_group['review']=='SRe']['count'].sum(), color=\"#DC143C\")\n",
    "plt.xticks(labels)\n",
    "plt.xlabel('Label')\n",
    "plt.ylabel('Propotion')\n",
    "plt.title('Reviewer SRe')\n",
    "\n",
    "plt.subplot(2,2,4)\n",
    "plt.bar(labels, df_group[df_group['review']=='SRh']['count']/df_group[df_group['review']=='SRh']['count'].sum(), color=\"#DC143C\")\n",
    "plt.xticks(labels)\n",
    "plt.xlabel('Label')\n",
    "plt.ylabel('Propotion')\n",
    "plt.title('Reviewer SRh')\n"
   ]
  },
  {
   "attachments": {},
   "cell_type": "markdown",
   "metadata": {},
   "source": [
    "### According to the above results, we can see that the socre distribution of each reviewer is different. So we can use the reviewer's ID as a feature to train the model.\n",
    "### Using the one hot encode to convert the reviewer ID to vector."
   ]
  },
  {
   "cell_type": "code",
   "execution_count": 95,
   "metadata": {},
   "outputs": [
    {
     "name": "stdout",
     "output_type": "stream",
     "text": [
      "RBF SVM test accuracy= 0.5810473815461347\n"
     ]
    }
   ],
   "source": [
    "def diff_distri(trainX, trainY, testX, testY):\n",
    "\n",
    "    cntvect = feature_extraction.text.CountVectorizer(stop_words='english', max_features=5000)\n",
    "\n",
    "    train_text_part = [i[0] for i in trainX]\n",
    "    train_review_part = [i[1] for i in trainX]\n",
    "    test_text_part = [i[0] for i in testX]\n",
    "    test_review_part = [i[1] for i in testX]\n",
    "\n",
    "    df_train = pd.DataFrame(cntvect.fit_transform(train_text_part).toarray())\n",
    "    df_test = pd.DataFrame(cntvect.transform(test_text_part).toarray())\n",
    "\n",
    "    ohe = preprocessing.OneHotEncoder(sparse=False)\n",
    "    df_train_rev = pd.DataFrame(data=ohe.fit_transform(array(train_review_part).reshape(-1,1)), columns=['DSc', 'JBe', 'SRe', 'SRh'])\n",
    "    df_test_rev = pd.DataFrame(data=ohe.transform(array(test_review_part).reshape(-1,1)), columns=['DSc', 'JBe', 'SRe', 'SRh'])\n",
    "\n",
    "    df_train = pd.concat([df_train, df_train_rev], axis=1)\n",
    "\n",
    "    df_test = pd.concat([df_test, df_test_rev], axis=1)\n",
    "\n",
    "    df_train.columns = list(range(len(df_train.columns)))\n",
    "    df_test.columns = list(range(len(df_test.columns)))\n",
    "\n",
    "    rbf_svm = svm.SVC(kernel='rbf', C= 3.981071705534969, gamma=0.001 )\n",
    "    rbf_svm.fit(df_train, trainY)\n",
    "    predY = rbf_svm.predict(df_test)\n",
    "    rbf_svm_acc = metrics.accuracy_score(testY, predY) \n",
    "    print(\"RBF SVM test accuracy=\", rbf_svm_acc)\n",
    "\n",
    "\n",
    "diff_distri(traindata, trainY, testdata, testY)\n"
   ]
  },
  {
   "attachments": {},
   "cell_type": "markdown",
   "metadata": {},
   "source": [
    "## Then, I use the new word to feature model: word2vec to convert the text to vector."
   ]
  },
  {
   "cell_type": "code",
   "execution_count": 96,
   "metadata": {},
   "outputs": [],
   "source": [
    "def tokenize_word(doc):\n",
    "    # get stopwords list\n",
    "    stop_words = stopwords.words('english')\n",
    "    # tokenize the text each word initially\n",
    "    tokens = nltk.word_tokenize(doc)\n",
    "    # remove the punctuation and stopwords in the text\n",
    "    tokens = [word for word  in tokens if word not in stop_words and word not in punctuation]\n",
    "    return tokens\n",
    "\n",
    "def get_word2vec_model(data):\n",
    "\n",
    "    tmp_traintxt = [tokenize_word(i) for i in data]\n",
    "    from gensim.models import Word2Vec\n",
    "    w2v_model = Word2Vec(tmp_traintxt, vector_size=5000, window=5, min_count=1, workers=4)\n",
    "    return w2v_model\n",
    "\n",
    "def wordtovec(model, data):\n",
    "    data = [tokenize_word(i) for i in data]\n",
    "    avg_data = []\n",
    "    for doc in data:    \n",
    "        count = 0\n",
    "        vec = zeros(5000)\n",
    "        for word in doc:\n",
    "            try:\n",
    "                vec += model.wv[word]\n",
    "                count += 1\n",
    "            except:\n",
    "                pass\n",
    "        avg_data.append(vec/count)  \n",
    "    return avg_data"
   ]
  },
  {
   "cell_type": "code",
   "execution_count": 97,
   "metadata": {},
   "outputs": [
    {
     "name": "stdout",
     "output_type": "stream",
     "text": [
      "RBF SVM test accuracy= 0.456359102244389\n"
     ]
    }
   ],
   "source": [
    "w2v_model = get_word2vec_model(traintxt)\n",
    "\n",
    "def diff_w_w2v(model, trainX, trainY, testX, testY):\n",
    "    train_text_part = [i[0] for i in trainX]\n",
    "    train_review_part = [i[1] for i in trainX]\n",
    "    test_text_part = [i[0] for i in testX]\n",
    "    test_review_part = [i[1] for i in testX]\n",
    "\n",
    "    train_X = wordtovec(model, train_text_part)\n",
    "    test_X = wordtovec(model, test_text_part)\n",
    "\n",
    "    df_train = pd.DataFrame(train_X)\n",
    "    df_test = pd.DataFrame(test_X)\n",
    "\n",
    "    ohe = preprocessing.OneHotEncoder(sparse=False)\n",
    "    train_review_part = pd.DataFrame(data=ohe.fit_transform(array(train_review_part).reshape(-1,1)), columns=['DSc', 'JBe', 'SRe', 'SRh'])\n",
    "    test_review_part = pd.DataFrame(data=ohe.transform(array(test_review_part).reshape(-1,1)), columns=['DSc', 'JBe', 'SRe', 'SRh'])\n",
    "\n",
    "    df_train = pd.concat([df_train, train_review_part], axis=1)\n",
    "    df_test = pd.concat([df_test, test_review_part], axis=1)\n",
    "\n",
    "    df_train.columns = list(range(len(df_train.columns)))\n",
    "    df_test.columns = list(range(len(df_test.columns)))\n",
    "\n",
    "    rbf_svm = svm.SVC(kernel='rbf', C= 3.981071705534969, gamma=0.001 )\n",
    "    rbf_svm.fit(df_train, trainY)\n",
    "    predY = rbf_svm.predict(df_test)\n",
    "    rbf_svm_acc = metrics.accuracy_score(testY, predY)\n",
    "    print(\"RBF SVM test accuracy=\", rbf_svm_acc)\n",
    "\n",
    "diff_w_w2v(w2v_model, traindata, trainY, testdata, testY)\n"
   ]
  },
  {
   "attachments": {},
   "cell_type": "markdown",
   "metadata": {},
   "source": [
    "## Try some other advanced model to improve the performance:"
   ]
  },
  {
   "cell_type": "code",
   "execution_count": null,
   "metadata": {},
   "outputs": [],
   "source": []
  }
 ],
 "metadata": {
  "anaconda-cloud": {},
  "kernelspec": {
   "display_name": "base",
   "language": "python",
   "name": "python3"
  },
  "language_info": {
   "codemirror_mode": {
    "name": "ipython",
    "version": 3
   },
   "file_extension": ".py",
   "mimetype": "text/x-python",
   "name": "python",
   "nbconvert_exporter": "python",
   "pygments_lexer": "ipython3",
   "version": "3.9.12"
  },
  "toc": {
   "base_numbering": 1,
   "nav_menu": {},
   "number_sections": true,
   "sideBar": true,
   "skip_h1_title": false,
   "title_cell": "Table of Contents",
   "title_sidebar": "Contents",
   "toc_cell": false,
   "toc_position": {
    "height": "calc(100% - 180px)",
    "left": "10px",
    "top": "150px",
    "width": "238px"
   },
   "toc_section_display": true,
   "toc_window_display": true
  },
  "vscode": {
   "interpreter": {
    "hash": "65823957a68b0b2da630a6d4fb347087e5d672291b406226e58912072c7d8692"
   }
  }
 },
 "nbformat": 4,
 "nbformat_minor": 1
}
